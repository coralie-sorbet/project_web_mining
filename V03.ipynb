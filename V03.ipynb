{
  "cells": [
    {
      "cell_type": "code",
      "execution_count": 2,
      "metadata": {
        "colab": {
          "base_uri": "https://localhost:8080/"
        },
        "id": "fDDZ_xf7c6AV",
        "outputId": "20abef44-73cb-4c00-87f2-1509537d402f"
      },
      "outputs": [
        {
          "name": "stdout",
          "output_type": "stream",
          "text": [
            "Requirement already satisfied: gensim in /Users/sarahbouchet/anaconda3/lib/python3.11/site-packages (4.3.0)\n",
            "Requirement already satisfied: numpy>=1.18.5 in /Users/sarahbouchet/anaconda3/lib/python3.11/site-packages (from gensim) (1.24.4)\n",
            "Requirement already satisfied: scipy>=1.7.0 in /Users/sarahbouchet/anaconda3/lib/python3.11/site-packages (from gensim) (1.10.1)\n",
            "Requirement already satisfied: smart-open>=1.8.1 in /Users/sarahbouchet/anaconda3/lib/python3.11/site-packages (from gensim) (5.2.1)\n",
            "Requirement already satisfied: FuzzyTM>=0.4.0 in /Users/sarahbouchet/anaconda3/lib/python3.11/site-packages (from gensim) (2.0.9)\n",
            "Requirement already satisfied: pandas in /Users/sarahbouchet/anaconda3/lib/python3.11/site-packages (from FuzzyTM>=0.4.0->gensim) (1.5.3)\n",
            "Requirement already satisfied: pyfume in /Users/sarahbouchet/anaconda3/lib/python3.11/site-packages (from FuzzyTM>=0.4.0->gensim) (0.3.4)\n",
            "Requirement already satisfied: python-dateutil>=2.8.1 in /Users/sarahbouchet/anaconda3/lib/python3.11/site-packages (from pandas->FuzzyTM>=0.4.0->gensim) (2.8.2)\n",
            "Requirement already satisfied: pytz>=2020.1 in /Users/sarahbouchet/anaconda3/lib/python3.11/site-packages (from pandas->FuzzyTM>=0.4.0->gensim) (2022.7)\n",
            "Requirement already satisfied: simpful==2.12.0 in /Users/sarahbouchet/anaconda3/lib/python3.11/site-packages (from pyfume->FuzzyTM>=0.4.0->gensim) (2.12.0)\n",
            "Requirement already satisfied: fst-pso==1.8.1 in /Users/sarahbouchet/anaconda3/lib/python3.11/site-packages (from pyfume->FuzzyTM>=0.4.0->gensim) (1.8.1)\n",
            "Requirement already satisfied: miniful in /Users/sarahbouchet/anaconda3/lib/python3.11/site-packages (from fst-pso==1.8.1->pyfume->FuzzyTM>=0.4.0->gensim) (0.0.6)\n",
            "Requirement already satisfied: six>=1.5 in /Users/sarahbouchet/anaconda3/lib/python3.11/site-packages (from python-dateutil>=2.8.1->pandas->FuzzyTM>=0.4.0->gensim) (1.16.0)\n",
            "Requirement already satisfied: scikit-learn in /Users/sarahbouchet/anaconda3/lib/python3.11/site-packages (1.3.0)\n",
            "Requirement already satisfied: matplotlib in /Users/sarahbouchet/anaconda3/lib/python3.11/site-packages (3.7.1)\n",
            "Requirement already satisfied: numpy>=1.17.3 in /Users/sarahbouchet/anaconda3/lib/python3.11/site-packages (from scikit-learn) (1.24.4)\n",
            "Requirement already satisfied: scipy>=1.5.0 in /Users/sarahbouchet/anaconda3/lib/python3.11/site-packages (from scikit-learn) (1.10.1)\n",
            "Requirement already satisfied: joblib>=1.1.1 in /Users/sarahbouchet/anaconda3/lib/python3.11/site-packages (from scikit-learn) (1.2.0)\n",
            "Requirement already satisfied: threadpoolctl>=2.0.0 in /Users/sarahbouchet/anaconda3/lib/python3.11/site-packages (from scikit-learn) (2.2.0)\n",
            "Requirement already satisfied: contourpy>=1.0.1 in /Users/sarahbouchet/anaconda3/lib/python3.11/site-packages (from matplotlib) (1.0.5)\n",
            "Requirement already satisfied: cycler>=0.10 in /Users/sarahbouchet/anaconda3/lib/python3.11/site-packages (from matplotlib) (0.11.0)\n",
            "Requirement already satisfied: fonttools>=4.22.0 in /Users/sarahbouchet/anaconda3/lib/python3.11/site-packages (from matplotlib) (4.25.0)\n",
            "Requirement already satisfied: kiwisolver>=1.0.1 in /Users/sarahbouchet/anaconda3/lib/python3.11/site-packages (from matplotlib) (1.4.4)\n",
            "Requirement already satisfied: packaging>=20.0 in /Users/sarahbouchet/anaconda3/lib/python3.11/site-packages (from matplotlib) (23.0)\n",
            "Requirement already satisfied: pillow>=6.2.0 in /Users/sarahbouchet/anaconda3/lib/python3.11/site-packages (from matplotlib) (9.4.0)\n",
            "Requirement already satisfied: pyparsing>=2.3.1 in /Users/sarahbouchet/anaconda3/lib/python3.11/site-packages (from matplotlib) (3.0.9)\n",
            "Requirement already satisfied: python-dateutil>=2.7 in /Users/sarahbouchet/anaconda3/lib/python3.11/site-packages (from matplotlib) (2.8.2)\n",
            "Requirement already satisfied: six>=1.5 in /Users/sarahbouchet/anaconda3/lib/python3.11/site-packages (from python-dateutil>=2.7->matplotlib) (1.16.0)\n",
            "Requirement already satisfied: transformers in /Users/sarahbouchet/anaconda3/lib/python3.11/site-packages (2.1.1)\n",
            "Collecting torch\n",
            "  Obtaining dependency information for torch from https://files.pythonhosted.org/packages/3f/14/e105b8ef6d324e789c1589e95cb0ab63f3e07c2216d68b1178b7c21b7d2a/torch-2.2.2-cp311-none-macosx_10_9_x86_64.whl.metadata\n",
            "  Using cached torch-2.2.2-cp311-none-macosx_10_9_x86_64.whl.metadata (25 kB)\n",
            "Requirement already satisfied: numpy in /Users/sarahbouchet/anaconda3/lib/python3.11/site-packages (from transformers) (1.24.4)\n",
            "Requirement already satisfied: boto3 in /Users/sarahbouchet/anaconda3/lib/python3.11/site-packages (from transformers) (1.24.28)\n",
            "Requirement already satisfied: requests in /Users/sarahbouchet/anaconda3/lib/python3.11/site-packages (from transformers) (2.31.0)\n",
            "Requirement already satisfied: tqdm in /Users/sarahbouchet/anaconda3/lib/python3.11/site-packages (from transformers) (4.65.0)\n",
            "Requirement already satisfied: regex in /Users/sarahbouchet/anaconda3/lib/python3.11/site-packages (from transformers) (2022.7.9)\n",
            "Collecting sentencepiece (from transformers)\n",
            "  Obtaining dependency information for sentencepiece from https://files.pythonhosted.org/packages/0f/35/e63ba28062af0a3d688a9f128e407a1a2608544b2f480cb49bf7f4b1cbb9/sentencepiece-0.2.0-cp311-cp311-macosx_10_9_x86_64.whl.metadata\n",
            "  Using cached sentencepiece-0.2.0-cp311-cp311-macosx_10_9_x86_64.whl.metadata (7.7 kB)\n",
            "Requirement already satisfied: sacremoses in /Users/sarahbouchet/anaconda3/lib/python3.11/site-packages (from transformers) (0.0.43)\n",
            "Requirement already satisfied: filelock in /Users/sarahbouchet/anaconda3/lib/python3.11/site-packages (from torch) (3.9.0)\n",
            "Requirement already satisfied: typing-extensions>=4.8.0 in /Users/sarahbouchet/anaconda3/lib/python3.11/site-packages (from torch) (4.12.2)\n",
            "Requirement already satisfied: sympy in /Users/sarahbouchet/anaconda3/lib/python3.11/site-packages (from torch) (1.11.1)\n",
            "Requirement already satisfied: networkx in /Users/sarahbouchet/anaconda3/lib/python3.11/site-packages (from torch) (3.1)\n",
            "Requirement already satisfied: jinja2 in /Users/sarahbouchet/anaconda3/lib/python3.11/site-packages (from torch) (3.1.2)\n",
            "Requirement already satisfied: fsspec in /Users/sarahbouchet/anaconda3/lib/python3.11/site-packages (from torch) (2023.3.0)\n",
            "Requirement already satisfied: botocore<1.28.0,>=1.27.28 in /Users/sarahbouchet/anaconda3/lib/python3.11/site-packages (from boto3->transformers) (1.27.59)\n",
            "Requirement already satisfied: jmespath<2.0.0,>=0.7.1 in /Users/sarahbouchet/anaconda3/lib/python3.11/site-packages (from boto3->transformers) (0.10.0)\n",
            "Requirement already satisfied: s3transfer<0.7.0,>=0.6.0 in /Users/sarahbouchet/anaconda3/lib/python3.11/site-packages (from boto3->transformers) (0.6.0)\n",
            "Requirement already satisfied: MarkupSafe>=2.0 in /Users/sarahbouchet/anaconda3/lib/python3.11/site-packages (from jinja2->torch) (2.1.1)\n",
            "Requirement already satisfied: charset-normalizer<4,>=2 in /Users/sarahbouchet/anaconda3/lib/python3.11/site-packages (from requests->transformers) (2.0.4)\n",
            "Requirement already satisfied: idna<4,>=2.5 in /Users/sarahbouchet/anaconda3/lib/python3.11/site-packages (from requests->transformers) (3.4)\n",
            "Requirement already satisfied: urllib3<3,>=1.21.1 in /Users/sarahbouchet/anaconda3/lib/python3.11/site-packages (from requests->transformers) (1.26.16)\n",
            "Requirement already satisfied: certifi>=2017.4.17 in /Users/sarahbouchet/anaconda3/lib/python3.11/site-packages (from requests->transformers) (2024.2.2)\n",
            "Requirement already satisfied: six in /Users/sarahbouchet/anaconda3/lib/python3.11/site-packages (from sacremoses->transformers) (1.16.0)\n",
            "Requirement already satisfied: click in /Users/sarahbouchet/anaconda3/lib/python3.11/site-packages (from sacremoses->transformers) (8.0.4)\n",
            "Requirement already satisfied: joblib in /Users/sarahbouchet/anaconda3/lib/python3.11/site-packages (from sacremoses->transformers) (1.2.0)\n",
            "Requirement already satisfied: mpmath>=0.19 in /Users/sarahbouchet/anaconda3/lib/python3.11/site-packages (from sympy->torch) (1.3.0)\n",
            "Requirement already satisfied: python-dateutil<3.0.0,>=2.1 in /Users/sarahbouchet/anaconda3/lib/python3.11/site-packages (from botocore<1.28.0,>=1.27.28->boto3->transformers) (2.8.2)\n",
            "Downloading torch-2.2.2-cp311-none-macosx_10_9_x86_64.whl (150.8 MB)\n",
            "\u001b[2K   \u001b[90m━━━━━━━━━━━━━━━━━━━━━━━━━━━━━━━━━━━━━━━\u001b[0m \u001b[32m150.8/150.8 MB\u001b[0m \u001b[31m698.8 kB/s\u001b[0m eta \u001b[36m0:00:00\u001b[0m00:01\u001b[0m00:05\u001b[0m\n",
            "\u001b[?25hDownloading sentencepiece-0.2.0-cp311-cp311-macosx_10_9_x86_64.whl (1.2 MB)\n",
            "\u001b[2K   \u001b[90m━━━━━━━━━━━━━━━━━━━━━━━━━━━━━━━━━━━━━━━━\u001b[0m \u001b[32m1.2/1.2 MB\u001b[0m \u001b[31m609.4 kB/s\u001b[0m eta \u001b[36m0:00:00\u001b[0m00:01\u001b[0m00:01\u001b[0m\n",
            "\u001b[?25hInstalling collected packages: sentencepiece, torch\n",
            "Successfully installed sentencepiece-0.2.0 torch-2.2.2\n",
            "Collecting datasets\n",
            "  Obtaining dependency information for datasets from https://files.pythonhosted.org/packages/4c/37/22ef7675bef4ffe9577b937ddca2e22791534cbbe11c30714972a91532dc/datasets-3.3.2-py3-none-any.whl.metadata\n",
            "  Using cached datasets-3.3.2-py3-none-any.whl.metadata (19 kB)\n",
            "Requirement already satisfied: filelock in /Users/sarahbouchet/anaconda3/lib/python3.11/site-packages (from datasets) (3.9.0)\n",
            "Requirement already satisfied: numpy>=1.17 in /Users/sarahbouchet/anaconda3/lib/python3.11/site-packages (from datasets) (1.24.4)\n",
            "Collecting pyarrow>=15.0.0 (from datasets)\n",
            "  Using cached pyarrow-19.0.1.tar.gz (1.1 MB)\n",
            "  Installing build dependencies ... \u001b[?25ldone\n",
            "\u001b[?25h  Getting requirements to build wheel ... \u001b[?25ldone\n",
            "\u001b[?25h  Preparing metadata (pyproject.toml) ... \u001b[?25ldone\n",
            "\u001b[?25hRequirement already satisfied: dill<0.3.9,>=0.3.0 in /Users/sarahbouchet/anaconda3/lib/python3.11/site-packages (from datasets) (0.3.6)\n",
            "Requirement already satisfied: pandas in /Users/sarahbouchet/anaconda3/lib/python3.11/site-packages (from datasets) (1.5.3)\n",
            "Collecting requests>=2.32.2 (from datasets)\n",
            "  Obtaining dependency information for requests>=2.32.2 from https://files.pythonhosted.org/packages/f9/9b/335f9764261e915ed497fcdeb11df5dfd6f7bf257d4a6a2a686d80da4d54/requests-2.32.3-py3-none-any.whl.metadata\n",
            "  Downloading requests-2.32.3-py3-none-any.whl.metadata (4.6 kB)\n",
            "Collecting tqdm>=4.66.3 (from datasets)\n",
            "  Obtaining dependency information for tqdm>=4.66.3 from https://files.pythonhosted.org/packages/d0/30/dc54f88dd4a2b5dc8a0279bdd7270e735851848b762aeb1c1184ed1f6b14/tqdm-4.67.1-py3-none-any.whl.metadata\n",
            "  Downloading tqdm-4.67.1-py3-none-any.whl.metadata (57 kB)\n",
            "\u001b[2K     \u001b[90m━━━━━━━━━━━━━━━━━━━━━━━━━━━━━━━━━━━━━━━\u001b[0m \u001b[32m57.7/57.7 kB\u001b[0m \u001b[31m792.4 kB/s\u001b[0m eta \u001b[36m0:00:00\u001b[0m \u001b[36m0:00:01\u001b[0m\n",
            "\u001b[?25hCollecting xxhash (from datasets)\n",
            "  Obtaining dependency information for xxhash from https://files.pythonhosted.org/packages/b8/c7/afed0f131fbda960ff15eee7f304fa0eeb2d58770fade99897984852ef23/xxhash-3.5.0-cp311-cp311-macosx_10_9_x86_64.whl.metadata\n",
            "  Downloading xxhash-3.5.0-cp311-cp311-macosx_10_9_x86_64.whl.metadata (12 kB)\n",
            "Collecting multiprocess<0.70.17 (from datasets)\n",
            "  Obtaining dependency information for multiprocess<0.70.17 from https://files.pythonhosted.org/packages/50/15/b56e50e8debaf439f44befec5b2af11db85f6e0f344c3113ae0be0593a91/multiprocess-0.70.16-py311-none-any.whl.metadata\n",
            "  Downloading multiprocess-0.70.16-py311-none-any.whl.metadata (7.2 kB)\n",
            "Requirement already satisfied: fsspec[http]<=2024.12.0,>=2023.1.0 in /Users/sarahbouchet/anaconda3/lib/python3.11/site-packages (from datasets) (2023.3.0)\n",
            "Requirement already satisfied: aiohttp in /Users/sarahbouchet/anaconda3/lib/python3.11/site-packages (from datasets) (3.8.3)\n",
            "Collecting huggingface-hub>=0.24.0 (from datasets)\n",
            "  Obtaining dependency information for huggingface-hub>=0.24.0 from https://files.pythonhosted.org/packages/ae/05/75b90de9093de0aadafc868bb2fa7c57651fd8f45384adf39bd77f63980d/huggingface_hub-0.29.1-py3-none-any.whl.metadata\n",
            "  Using cached huggingface_hub-0.29.1-py3-none-any.whl.metadata (13 kB)\n",
            "Requirement already satisfied: packaging in /Users/sarahbouchet/anaconda3/lib/python3.11/site-packages (from datasets) (23.0)\n",
            "Requirement already satisfied: pyyaml>=5.1 in /Users/sarahbouchet/anaconda3/lib/python3.11/site-packages (from datasets) (6.0)\n",
            "Requirement already satisfied: attrs>=17.3.0 in /Users/sarahbouchet/anaconda3/lib/python3.11/site-packages (from aiohttp->datasets) (22.1.0)\n",
            "Requirement already satisfied: charset-normalizer<3.0,>=2.0 in /Users/sarahbouchet/anaconda3/lib/python3.11/site-packages (from aiohttp->datasets) (2.0.4)\n",
            "Requirement already satisfied: multidict<7.0,>=4.5 in /Users/sarahbouchet/anaconda3/lib/python3.11/site-packages (from aiohttp->datasets) (6.0.2)\n",
            "Requirement already satisfied: async-timeout<5.0,>=4.0.0a3 in /Users/sarahbouchet/anaconda3/lib/python3.11/site-packages (from aiohttp->datasets) (4.0.2)\n",
            "Requirement already satisfied: yarl<2.0,>=1.0 in /Users/sarahbouchet/anaconda3/lib/python3.11/site-packages (from aiohttp->datasets) (1.8.1)\n",
            "Requirement already satisfied: frozenlist>=1.1.1 in /Users/sarahbouchet/anaconda3/lib/python3.11/site-packages (from aiohttp->datasets) (1.3.3)\n",
            "Requirement already satisfied: aiosignal>=1.1.2 in /Users/sarahbouchet/anaconda3/lib/python3.11/site-packages (from aiohttp->datasets) (1.2.0)\n",
            "INFO: pip is looking at multiple versions of huggingface-hub to determine which version is compatible with other requirements. This could take a while.\n",
            "  Obtaining dependency information for huggingface-hub>=0.24.0 from https://files.pythonhosted.org/packages/2a/4d/8092df2cb0cafa9fcaf691db851b2fccfe9cad4048e081436bbbdf56e4e1/huggingface_hub-0.29.0-py3-none-any.whl.metadata\n",
            "  Downloading huggingface_hub-0.29.0-py3-none-any.whl.metadata (13 kB)\n",
            "  Obtaining dependency information for huggingface-hub>=0.24.0 from https://files.pythonhosted.org/packages/ea/da/6c2bea5327b640920267d3bf2c9fc114cfbd0a5de234d81cda80cc9e33c8/huggingface_hub-0.28.1-py3-none-any.whl.metadata\n",
            "  Downloading huggingface_hub-0.28.1-py3-none-any.whl.metadata (13 kB)\n",
            "  Obtaining dependency information for huggingface-hub>=0.24.0 from https://files.pythonhosted.org/packages/cc/ac/07f92291add9f425f40b3fd70a1d0c7117f6e1152599abc2bd7fda5b6abe/huggingface_hub-0.28.0-py3-none-any.whl.metadata\n",
            "  Downloading huggingface_hub-0.28.0-py3-none-any.whl.metadata (13 kB)\n",
            "  Obtaining dependency information for huggingface-hub>=0.24.0 from https://files.pythonhosted.org/packages/6c/3f/50f6b25fafdcfb1c089187a328c95081abf882309afd86f4053951507cd1/huggingface_hub-0.27.1-py3-none-any.whl.metadata\n",
            "  Downloading huggingface_hub-0.27.1-py3-none-any.whl.metadata (13 kB)\n",
            "  Obtaining dependency information for huggingface-hub>=0.24.0 from https://files.pythonhosted.org/packages/61/8c/fbdc0a88a622d9fa54e132d7bf3ee03ec602758658a2db5b339a65be2cfe/huggingface_hub-0.27.0-py3-none-any.whl.metadata\n",
            "  Downloading huggingface_hub-0.27.0-py3-none-any.whl.metadata (13 kB)\n",
            "  Obtaining dependency information for huggingface-hub>=0.24.0 from https://files.pythonhosted.org/packages/44/5a/dc6af87c61f89b23439eb95521e4e99862636cfd538ae12fd36be5483e5f/huggingface_hub-0.26.5-py3-none-any.whl.metadata\n",
            "  Downloading huggingface_hub-0.26.5-py3-none-any.whl.metadata (13 kB)\n",
            "  Obtaining dependency information for huggingface-hub>=0.24.0 from https://files.pythonhosted.org/packages/95/9b/3068fb3ae0b498eb66960ca5f4d92a81c91458cacd4dc17bfa6d40ce90fb/huggingface_hub-0.26.3-py3-none-any.whl.metadata\n",
            "  Downloading huggingface_hub-0.26.3-py3-none-any.whl.metadata (13 kB)\n",
            "INFO: pip is still looking at multiple versions of huggingface-hub to determine which version is compatible with other requirements. This could take a while.\n",
            "  Obtaining dependency information for huggingface-hub>=0.24.0 from https://files.pythonhosted.org/packages/60/bf/cea0b9720c32fa01b0c4ec4b16b9f4ae34ca106b202ebbae9f03ab98cd8f/huggingface_hub-0.26.2-py3-none-any.whl.metadata\n",
            "  Downloading huggingface_hub-0.26.2-py3-none-any.whl.metadata (13 kB)\n",
            "  Obtaining dependency information for huggingface-hub>=0.24.0 from https://files.pythonhosted.org/packages/d7/4d/017d8d7cff5100092da8ea19139bcb1965bbadcbb5ddd0480e2badc299e8/huggingface_hub-0.26.1-py3-none-any.whl.metadata\n",
            "  Downloading huggingface_hub-0.26.1-py3-none-any.whl.metadata (13 kB)\n",
            "  Obtaining dependency information for huggingface-hub>=0.24.0 from https://files.pythonhosted.org/packages/85/1f/21e2fb9564b53122105866c26daeb239911b003d1df3867dd113cf5a7694/huggingface_hub-0.26.0-py3-none-any.whl.metadata\n",
            "  Downloading huggingface_hub-0.26.0-py3-none-any.whl.metadata (13 kB)\n",
            "  Obtaining dependency information for huggingface-hub>=0.24.0 from https://files.pythonhosted.org/packages/64/09/a535946bf2dc88e61341f39dc507530411bb3ea4eac493e5ec833e8f35bd/huggingface_hub-0.25.2-py3-none-any.whl.metadata\n",
            "  Downloading huggingface_hub-0.25.2-py3-none-any.whl.metadata (13 kB)\n",
            "  Obtaining dependency information for huggingface-hub>=0.24.0 from https://files.pythonhosted.org/packages/5f/f1/15dc793cb109a801346f910a6b350530f2a763a6e83b221725a0bcc1e297/huggingface_hub-0.25.1-py3-none-any.whl.metadata\n",
            "  Downloading huggingface_hub-0.25.1-py3-none-any.whl.metadata (13 kB)\n",
            "INFO: This is taking longer than usual. You might need to provide the dependency resolver with stricter constraints to reduce runtime. See https://pip.pypa.io/warnings/backtracking for guidance. If you want to abort this run, press Ctrl + C.\n",
            "  Obtaining dependency information for huggingface-hub>=0.24.0 from https://files.pythonhosted.org/packages/d5/ce/1f8e61cd63175cc2e79233b954b1c4e85363c788fb3a1fa23c87a25c9b81/huggingface_hub-0.25.0-py3-none-any.whl.metadata\n",
            "  Downloading huggingface_hub-0.25.0-py3-none-any.whl.metadata (13 kB)\n",
            "  Obtaining dependency information for huggingface-hub>=0.24.0 from https://files.pythonhosted.org/packages/57/28/a0b0dd3cca63908045edc300360d6cd8758d4d86eee3fd2b08f00c5a41c4/huggingface_hub-0.24.7-py3-none-any.whl.metadata\n",
            "  Downloading huggingface_hub-0.24.7-py3-none-any.whl.metadata (13 kB)\n",
            "  Obtaining dependency information for huggingface-hub>=0.24.0 from https://files.pythonhosted.org/packages/b9/8f/d6718641c14d98a5848c6a24d2376028d292074ffade0702940a4b1dde76/huggingface_hub-0.24.6-py3-none-any.whl.metadata\n",
            "  Downloading huggingface_hub-0.24.6-py3-none-any.whl.metadata (13 kB)\n",
            "  Obtaining dependency information for huggingface-hub>=0.24.0 from https://files.pythonhosted.org/packages/0b/05/31b21998f68c31e7ffcc27ff08531fb9af5506d765ce8d661fb0036e6918/huggingface_hub-0.24.5-py3-none-any.whl.metadata\n",
            "  Downloading huggingface_hub-0.24.5-py3-none-any.whl.metadata (13 kB)\n",
            "  Obtaining dependency information for huggingface-hub>=0.24.0 from https://files.pythonhosted.org/packages/24/e6/25bf55a201ee15aed4e87dc4ff1182436986ea6ffd97a941aeacf8d559ab/huggingface_hub-0.24.4-py3-none-any.whl.metadata\n",
            "  Downloading huggingface_hub-0.24.4-py3-none-any.whl.metadata (13 kB)\n",
            "  Obtaining dependency information for huggingface-hub>=0.24.0 from https://files.pythonhosted.org/packages/0f/36/83c0f0c7a5ec75738241c4c0c066097e4f74729716961db6a2905395015c/huggingface_hub-0.24.3-py3-none-any.whl.metadata\n",
            "  Downloading huggingface_hub-0.24.3-py3-none-any.whl.metadata (13 kB)\n",
            "  Obtaining dependency information for huggingface-hub>=0.24.0 from https://files.pythonhosted.org/packages/93/14/6a82b1c2eab5a828f7d3d675811660eb68424e8b039191f418a94e8d9726/huggingface_hub-0.24.2-py3-none-any.whl.metadata\n",
            "  Downloading huggingface_hub-0.24.2-py3-none-any.whl.metadata (13 kB)\n",
            "  Obtaining dependency information for huggingface-hub>=0.24.0 from https://files.pythonhosted.org/packages/96/e6/a1fd9cccd2c08244243aeef71b61cb9b2ba26575d8fd6f7c41edc95e9de0/huggingface_hub-0.24.1-py3-none-any.whl.metadata\n",
            "  Downloading huggingface_hub-0.24.1-py3-none-any.whl.metadata (13 kB)\n",
            "  Obtaining dependency information for huggingface-hub>=0.24.0 from https://files.pythonhosted.org/packages/57/c0/cf4435f3186655e3bafdca08cd6c794e3866f1f89ed99595504e7240b6a2/huggingface_hub-0.24.0-py3-none-any.whl.metadata\n",
            "  Downloading huggingface_hub-0.24.0-py3-none-any.whl.metadata (13 kB)\n",
            "Collecting fsspec[http]<=2024.12.0,>=2023.1.0 (from datasets)\n",
            "  Obtaining dependency information for fsspec[http]<=2024.12.0,>=2023.1.0 from https://files.pythonhosted.org/packages/de/86/5486b0188d08aa643e127774a99bac51ffa6cf343e3deb0583956dca5b22/fsspec-2024.12.0-py3-none-any.whl.metadata\n",
            "  Downloading fsspec-2024.12.0-py3-none-any.whl.metadata (11 kB)\n",
            "Requirement already satisfied: typing-extensions>=3.7.4.3 in /Users/sarahbouchet/anaconda3/lib/python3.11/site-packages (from huggingface-hub>=0.24.0->datasets) (4.12.2)\n",
            "Collecting dill<0.3.9,>=0.3.0 (from datasets)\n",
            "  Obtaining dependency information for dill<0.3.9,>=0.3.0 from https://files.pythonhosted.org/packages/c9/7a/cef76fd8438a42f96db64ddaa85280485a9c395e7df3db8158cfec1eee34/dill-0.3.8-py3-none-any.whl.metadata\n",
            "  Downloading dill-0.3.8-py3-none-any.whl.metadata (10 kB)\n",
            "Requirement already satisfied: idna<4,>=2.5 in /Users/sarahbouchet/anaconda3/lib/python3.11/site-packages (from requests>=2.32.2->datasets) (3.4)\n",
            "Requirement already satisfied: urllib3<3,>=1.21.1 in /Users/sarahbouchet/anaconda3/lib/python3.11/site-packages (from requests>=2.32.2->datasets) (1.26.16)\n",
            "Requirement already satisfied: certifi>=2017.4.17 in /Users/sarahbouchet/anaconda3/lib/python3.11/site-packages (from requests>=2.32.2->datasets) (2024.2.2)\n",
            "Requirement already satisfied: python-dateutil>=2.8.1 in /Users/sarahbouchet/anaconda3/lib/python3.11/site-packages (from pandas->datasets) (2.8.2)\n",
            "Requirement already satisfied: pytz>=2020.1 in /Users/sarahbouchet/anaconda3/lib/python3.11/site-packages (from pandas->datasets) (2022.7)\n",
            "Requirement already satisfied: six>=1.5 in /Users/sarahbouchet/anaconda3/lib/python3.11/site-packages (from python-dateutil>=2.8.1->pandas->datasets) (1.16.0)\n",
            "Downloading datasets-3.3.2-py3-none-any.whl (485 kB)\n",
            "\u001b[2K   \u001b[90m━━━━━━━━━━━━━━━━━━━━━━━━━━━━━━━━━━━━━━━\u001b[0m \u001b[32m485.4/485.4 kB\u001b[0m \u001b[31m902.6 kB/s\u001b[0m eta \u001b[36m0:00:00\u001b[0m \u001b[36m0:00:01\u001b[0m\n",
            "\u001b[?25hDownloading huggingface_hub-0.29.1-py3-none-any.whl (468 kB)\n",
            "\u001b[2K   \u001b[90m━━━━━━━━━━━━━━━━━━━━━━━━━━━━━━━━━━━━━━━\u001b[0m \u001b[32m468.0/468.0 kB\u001b[0m \u001b[31m690.3 kB/s\u001b[0m eta \u001b[36m0:00:00\u001b[0m00:01\u001b[0m00:01\u001b[0m\n",
            "\u001b[?25hDownloading fsspec-2024.12.0-py3-none-any.whl (183 kB)\n",
            "\u001b[2K   \u001b[90m━━━━━━━━━━━━━━━━━━━━━━━━━━━━━━━━━━━━━━━\u001b[0m \u001b[32m183.9/183.9 kB\u001b[0m \u001b[31m449.9 kB/s\u001b[0m eta \u001b[36m0:00:00\u001b[0ma \u001b[36m0:00:01\u001b[0m\n",
            "\u001b[?25hDownloading multiprocess-0.70.16-py311-none-any.whl (143 kB)\n",
            "\u001b[2K   \u001b[90m━━━━━━━━━━━━━━━━━━━━━━━━━━━━━━━━━━━━━━━━\u001b[0m \u001b[32m143.5/143.5 kB\u001b[0m \u001b[31m1.2 MB/s\u001b[0m eta \u001b[36m0:00:00\u001b[0m00:01\u001b[0m0:01\u001b[0m\n",
            "\u001b[?25hDownloading dill-0.3.8-py3-none-any.whl (116 kB)\n",
            "\u001b[2K   \u001b[90m━━━━━━━━━━━━━━━━━━━━━━━━━━━━━━━━━━━━━━━━\u001b[0m \u001b[32m116.3/116.3 kB\u001b[0m \u001b[31m1.5 MB/s\u001b[0m eta \u001b[36m0:00:00\u001b[0ma \u001b[36m0:00:01\u001b[0m\n",
            "\u001b[?25hDownloading requests-2.32.3-py3-none-any.whl (64 kB)\n",
            "\u001b[2K   \u001b[90m━━━━━━━━━━━━━━━━━━━━━━━━━━━━━━━━━━━━━━━━\u001b[0m \u001b[32m64.9/64.9 kB\u001b[0m \u001b[31m1.1 MB/s\u001b[0m eta \u001b[36m0:00:00\u001b[0ma \u001b[36m0:00:01\u001b[0m\n",
            "\u001b[?25hDownloading tqdm-4.67.1-py3-none-any.whl (78 kB)\n",
            "\u001b[2K   \u001b[90m━━━━━━━━━━━━━━━━━━━━━━━━━━━━━━━━━━━━━━━━\u001b[0m \u001b[32m78.5/78.5 kB\u001b[0m \u001b[31m1.2 MB/s\u001b[0m eta \u001b[36m0:00:00\u001b[0ma \u001b[36m0:00:01\u001b[0m\n",
            "\u001b[?25hDownloading xxhash-3.5.0-cp311-cp311-macosx_10_9_x86_64.whl (31 kB)\n",
            "Building wheels for collected packages: pyarrow\n",
            "  Building wheel for pyarrow (pyproject.toml) ... \u001b[?25lerror\n",
            "  \u001b[1;31merror\u001b[0m: \u001b[1msubprocess-exited-with-error\u001b[0m\n",
            "  \n",
            "  \u001b[31m×\u001b[0m \u001b[32mBuilding wheel for pyarrow \u001b[0m\u001b[1;32m(\u001b[0m\u001b[32mpyproject.toml\u001b[0m\u001b[1;32m)\u001b[0m did not run successfully.\n",
            "  \u001b[31m│\u001b[0m exit code: \u001b[1;36m1\u001b[0m\n",
            "  \u001b[31m╰─>\u001b[0m \u001b[31m[784 lines of output]\u001b[0m\n",
            "  \u001b[31m   \u001b[0m running bdist_wheel\n",
            "  \u001b[31m   \u001b[0m running build\n",
            "  \u001b[31m   \u001b[0m running build_py\n",
            "  \u001b[31m   \u001b[0m creating build/lib.macosx-10.9-x86_64-cpython-311/pyarrow\n",
            "  \u001b[31m   \u001b[0m copying pyarrow/orc.py -> build/lib.macosx-10.9-x86_64-cpython-311/pyarrow\n",
            "  \u001b[31m   \u001b[0m copying pyarrow/conftest.py -> build/lib.macosx-10.9-x86_64-cpython-311/pyarrow\n",
            "  \u001b[31m   \u001b[0m copying pyarrow/_generated_version.py -> build/lib.macosx-10.9-x86_64-cpython-311/pyarrow\n",
            "  \u001b[31m   \u001b[0m copying pyarrow/benchmark.py -> build/lib.macosx-10.9-x86_64-cpython-311/pyarrow\n",
            "  \u001b[31m   \u001b[0m copying pyarrow/_compute_docstrings.py -> build/lib.macosx-10.9-x86_64-cpython-311/pyarrow\n",
            "  \u001b[31m   \u001b[0m copying pyarrow/ipc.py -> build/lib.macosx-10.9-x86_64-cpython-311/pyarrow\n",
            "  \u001b[31m   \u001b[0m copying pyarrow/util.py -> build/lib.macosx-10.9-x86_64-cpython-311/pyarrow\n",
            "  \u001b[31m   \u001b[0m copying pyarrow/flight.py -> build/lib.macosx-10.9-x86_64-cpython-311/pyarrow\n",
            "  \u001b[31m   \u001b[0m copying pyarrow/cffi.py -> build/lib.macosx-10.9-x86_64-cpython-311/pyarrow\n",
            "  \u001b[31m   \u001b[0m copying pyarrow/substrait.py -> build/lib.macosx-10.9-x86_64-cpython-311/pyarrow\n",
            "  \u001b[31m   \u001b[0m copying pyarrow/__init__.py -> build/lib.macosx-10.9-x86_64-cpython-311/pyarrow\n",
            "  \u001b[31m   \u001b[0m copying pyarrow/types.py -> build/lib.macosx-10.9-x86_64-cpython-311/pyarrow\n",
            "  \u001b[31m   \u001b[0m copying pyarrow/dataset.py -> build/lib.macosx-10.9-x86_64-cpython-311/pyarrow\n",
            "  \u001b[31m   \u001b[0m copying pyarrow/cuda.py -> build/lib.macosx-10.9-x86_64-cpython-311/pyarrow\n",
            "  \u001b[31m   \u001b[0m copying pyarrow/feather.py -> build/lib.macosx-10.9-x86_64-cpython-311/pyarrow\n",
            "  \u001b[31m   \u001b[0m copying pyarrow/pandas_compat.py -> build/lib.macosx-10.9-x86_64-cpython-311/pyarrow\n",
            "  \u001b[31m   \u001b[0m copying pyarrow/fs.py -> build/lib.macosx-10.9-x86_64-cpython-311/pyarrow\n",
            "  \u001b[31m   \u001b[0m copying pyarrow/acero.py -> build/lib.macosx-10.9-x86_64-cpython-311/pyarrow\n",
            "  \u001b[31m   \u001b[0m copying pyarrow/csv.py -> build/lib.macosx-10.9-x86_64-cpython-311/pyarrow\n",
            "  \u001b[31m   \u001b[0m copying pyarrow/jvm.py -> build/lib.macosx-10.9-x86_64-cpython-311/pyarrow\n",
            "  \u001b[31m   \u001b[0m copying pyarrow/json.py -> build/lib.macosx-10.9-x86_64-cpython-311/pyarrow\n",
            "  \u001b[31m   \u001b[0m copying pyarrow/compute.py -> build/lib.macosx-10.9-x86_64-cpython-311/pyarrow\n",
            "  \u001b[31m   \u001b[0m running egg_info\n",
            "  \u001b[31m   \u001b[0m writing pyarrow.egg-info/PKG-INFO\n",
            "  \u001b[31m   \u001b[0m writing dependency_links to pyarrow.egg-info/dependency_links.txt\n",
            "  \u001b[31m   \u001b[0m writing requirements to pyarrow.egg-info/requires.txt\n",
            "  \u001b[31m   \u001b[0m writing top-level names to pyarrow.egg-info/top_level.txt\n",
            "  \u001b[31m   \u001b[0m ERROR setuptools_scm._file_finders.git listing git files failed - pretending there aren't any\n",
            "  \u001b[31m   \u001b[0m reading manifest file 'pyarrow.egg-info/SOURCES.txt'\n",
            "  \u001b[31m   \u001b[0m reading manifest template 'MANIFEST.in'\n",
            "  \u001b[31m   \u001b[0m warning: no files found matching '../LICENSE.txt'\n",
            "  \u001b[31m   \u001b[0m warning: no files found matching '../NOTICE.txt'\n",
            "  \u001b[31m   \u001b[0m warning: no previously-included files matching '*.so' found anywhere in distribution\n",
            "  \u001b[31m   \u001b[0m warning: no previously-included files matching '*.pyc' found anywhere in distribution\n",
            "  \u001b[31m   \u001b[0m warning: no previously-included files matching '*~' found anywhere in distribution\n",
            "  \u001b[31m   \u001b[0m warning: no previously-included files matching '#*' found anywhere in distribution\n",
            "  \u001b[31m   \u001b[0m warning: no previously-included files matching '.git*' found anywhere in distribution\n",
            "  \u001b[31m   \u001b[0m warning: no previously-included files matching '.DS_Store' found anywhere in distribution\n",
            "  \u001b[31m   \u001b[0m no previously-included directories found matching '.asv'\n",
            "  \u001b[31m   \u001b[0m writing manifest file 'pyarrow.egg-info/SOURCES.txt'\n",
            "  \u001b[31m   \u001b[0m /private/var/folders/00/6_k5gtjs44j43gmr99ht1d980000gn/T/pip-build-env-q59h5bj_/overlay/lib/python3.11/site-packages/setuptools/command/build_py.py:212: _Warning: Package 'pyarrow.includes' is absent from the `packages` configuration.\n",
            "  \u001b[31m   \u001b[0m !!\n",
            "  \u001b[31m   \u001b[0m \n",
            "  \u001b[31m   \u001b[0m         ********************************************************************************\n",
            "  \u001b[31m   \u001b[0m         ############################\n",
            "  \u001b[31m   \u001b[0m         # Package would be ignored #\n",
            "  \u001b[31m   \u001b[0m         ############################\n",
            "  \u001b[31m   \u001b[0m         Python recognizes 'pyarrow.includes' as an importable package[^1],\n",
            "  \u001b[31m   \u001b[0m         but it is absent from setuptools' `packages` configuration.\n",
            "  \u001b[31m   \u001b[0m \n",
            "  \u001b[31m   \u001b[0m         This leads to an ambiguous overall configuration. If you want to distribute this\n",
            "  \u001b[31m   \u001b[0m         package, please make sure that 'pyarrow.includes' is explicitly added\n",
            "  \u001b[31m   \u001b[0m         to the `packages` configuration field.\n",
            "  \u001b[31m   \u001b[0m \n",
            "  \u001b[31m   \u001b[0m         Alternatively, you can also rely on setuptools' discovery methods\n",
            "  \u001b[31m   \u001b[0m         (for example by using `find_namespace_packages(...)`/`find_namespace:`\n",
            "  \u001b[31m   \u001b[0m         instead of `find_packages(...)`/`find:`).\n",
            "  \u001b[31m   \u001b[0m \n",
            "  \u001b[31m   \u001b[0m         You can read more about \"package discovery\" on setuptools documentation page:\n",
            "  \u001b[31m   \u001b[0m \n",
            "  \u001b[31m   \u001b[0m         - https://setuptools.pypa.io/en/latest/userguide/package_discovery.html\n",
            "  \u001b[31m   \u001b[0m \n",
            "  \u001b[31m   \u001b[0m         If you don't want 'pyarrow.includes' to be distributed and are\n",
            "  \u001b[31m   \u001b[0m         already explicitly excluding 'pyarrow.includes' via\n",
            "  \u001b[31m   \u001b[0m         `find_namespace_packages(...)/find_namespace` or `find_packages(...)/find`,\n",
            "  \u001b[31m   \u001b[0m         you can try to use `exclude_package_data`, or `include-package-data=False` in\n",
            "  \u001b[31m   \u001b[0m         combination with a more fine grained `package-data` configuration.\n",
            "  \u001b[31m   \u001b[0m \n",
            "  \u001b[31m   \u001b[0m         You can read more about \"package data files\" on setuptools documentation page:\n",
            "  \u001b[31m   \u001b[0m \n",
            "  \u001b[31m   \u001b[0m         - https://setuptools.pypa.io/en/latest/userguide/datafiles.html\n",
            "  \u001b[31m   \u001b[0m \n",
            "  \u001b[31m   \u001b[0m \n",
            "  \u001b[31m   \u001b[0m         [^1]: For Python, any directory (with suitable naming) can be imported,\n",
            "  \u001b[31m   \u001b[0m               even if it does not contain any `.py` files.\n",
            "  \u001b[31m   \u001b[0m               On the other hand, currently there is no concept of package data\n",
            "  \u001b[31m   \u001b[0m               directory, all directories are treated like packages.\n",
            "  \u001b[31m   \u001b[0m         ********************************************************************************\n",
            "  \u001b[31m   \u001b[0m \n",
            "  \u001b[31m   \u001b[0m !!\n",
            "  \u001b[31m   \u001b[0m   check.warn(importable)\n",
            "  \u001b[31m   \u001b[0m /private/var/folders/00/6_k5gtjs44j43gmr99ht1d980000gn/T/pip-build-env-q59h5bj_/overlay/lib/python3.11/site-packages/setuptools/command/build_py.py:212: _Warning: Package 'pyarrow.interchange' is absent from the `packages` configuration.\n",
            "  \u001b[31m   \u001b[0m !!\n",
            "  \u001b[31m   \u001b[0m \n",
            "  \u001b[31m   \u001b[0m         ********************************************************************************\n",
            "  \u001b[31m   \u001b[0m         ############################\n",
            "  \u001b[31m   \u001b[0m         # Package would be ignored #\n",
            "  \u001b[31m   \u001b[0m         ############################\n",
            "  \u001b[31m   \u001b[0m         Python recognizes 'pyarrow.interchange' as an importable package[^1],\n",
            "  \u001b[31m   \u001b[0m         but it is absent from setuptools' `packages` configuration.\n",
            "  \u001b[31m   \u001b[0m \n",
            "  \u001b[31m   \u001b[0m         This leads to an ambiguous overall configuration. If you want to distribute this\n",
            "  \u001b[31m   \u001b[0m         package, please make sure that 'pyarrow.interchange' is explicitly added\n",
            "  \u001b[31m   \u001b[0m         to the `packages` configuration field.\n",
            "  \u001b[31m   \u001b[0m \n",
            "  \u001b[31m   \u001b[0m         Alternatively, you can also rely on setuptools' discovery methods\n",
            "  \u001b[31m   \u001b[0m         (for example by using `find_namespace_packages(...)`/`find_namespace:`\n",
            "  \u001b[31m   \u001b[0m         instead of `find_packages(...)`/`find:`).\n",
            "  \u001b[31m   \u001b[0m \n",
            "  \u001b[31m   \u001b[0m         You can read more about \"package discovery\" on setuptools documentation page:\n",
            "  \u001b[31m   \u001b[0m \n",
            "  \u001b[31m   \u001b[0m         - https://setuptools.pypa.io/en/latest/userguide/package_discovery.html\n",
            "  \u001b[31m   \u001b[0m \n",
            "  \u001b[31m   \u001b[0m         If you don't want 'pyarrow.interchange' to be distributed and are\n",
            "  \u001b[31m   \u001b[0m         already explicitly excluding 'pyarrow.interchange' via\n",
            "  \u001b[31m   \u001b[0m         `find_namespace_packages(...)/find_namespace` or `find_packages(...)/find`,\n",
            "  \u001b[31m   \u001b[0m         you can try to use `exclude_package_data`, or `include-package-data=False` in\n",
            "  \u001b[31m   \u001b[0m         combination with a more fine grained `package-data` configuration.\n",
            "  \u001b[31m   \u001b[0m \n",
            "  \u001b[31m   \u001b[0m         You can read more about \"package data files\" on setuptools documentation page:\n",
            "  \u001b[31m   \u001b[0m \n",
            "  \u001b[31m   \u001b[0m         - https://setuptools.pypa.io/en/latest/userguide/datafiles.html\n",
            "  \u001b[31m   \u001b[0m \n",
            "  \u001b[31m   \u001b[0m \n",
            "  \u001b[31m   \u001b[0m         [^1]: For Python, any directory (with suitable naming) can be imported,\n",
            "  \u001b[31m   \u001b[0m               even if it does not contain any `.py` files.\n",
            "  \u001b[31m   \u001b[0m               On the other hand, currently there is no concept of package data\n",
            "  \u001b[31m   \u001b[0m               directory, all directories are treated like packages.\n",
            "  \u001b[31m   \u001b[0m         ********************************************************************************\n",
            "  \u001b[31m   \u001b[0m \n",
            "  \u001b[31m   \u001b[0m !!\n",
            "  \u001b[31m   \u001b[0m   check.warn(importable)\n",
            "  \u001b[31m   \u001b[0m /private/var/folders/00/6_k5gtjs44j43gmr99ht1d980000gn/T/pip-build-env-q59h5bj_/overlay/lib/python3.11/site-packages/setuptools/command/build_py.py:212: _Warning: Package 'pyarrow.parquet' is absent from the `packages` configuration.\n",
            "  \u001b[31m   \u001b[0m !!\n",
            "  \u001b[31m   \u001b[0m \n",
            "  \u001b[31m   \u001b[0m         ********************************************************************************\n",
            "  \u001b[31m   \u001b[0m         ############################\n",
            "  \u001b[31m   \u001b[0m         # Package would be ignored #\n",
            "  \u001b[31m   \u001b[0m         ############################\n",
            "  \u001b[31m   \u001b[0m         Python recognizes 'pyarrow.parquet' as an importable package[^1],\n",
            "  \u001b[31m   \u001b[0m         but it is absent from setuptools' `packages` configuration.\n",
            "  \u001b[31m   \u001b[0m \n",
            "  \u001b[31m   \u001b[0m         This leads to an ambiguous overall configuration. If you want to distribute this\n",
            "  \u001b[31m   \u001b[0m         package, please make sure that 'pyarrow.parquet' is explicitly added\n",
            "  \u001b[31m   \u001b[0m         to the `packages` configuration field.\n",
            "  \u001b[31m   \u001b[0m \n",
            "  \u001b[31m   \u001b[0m         Alternatively, you can also rely on setuptools' discovery methods\n",
            "  \u001b[31m   \u001b[0m         (for example by using `find_namespace_packages(...)`/`find_namespace:`\n",
            "  \u001b[31m   \u001b[0m         instead of `find_packages(...)`/`find:`).\n",
            "  \u001b[31m   \u001b[0m \n",
            "  \u001b[31m   \u001b[0m         You can read more about \"package discovery\" on setuptools documentation page:\n",
            "  \u001b[31m   \u001b[0m \n",
            "  \u001b[31m   \u001b[0m         - https://setuptools.pypa.io/en/latest/userguide/package_discovery.html\n",
            "  \u001b[31m   \u001b[0m \n",
            "  \u001b[31m   \u001b[0m         If you don't want 'pyarrow.parquet' to be distributed and are\n",
            "  \u001b[31m   \u001b[0m         already explicitly excluding 'pyarrow.parquet' via\n",
            "  \u001b[31m   \u001b[0m         `find_namespace_packages(...)/find_namespace` or `find_packages(...)/find`,\n",
            "  \u001b[31m   \u001b[0m         you can try to use `exclude_package_data`, or `include-package-data=False` in\n",
            "  \u001b[31m   \u001b[0m         combination with a more fine grained `package-data` configuration.\n",
            "  \u001b[31m   \u001b[0m \n",
            "  \u001b[31m   \u001b[0m         You can read more about \"package data files\" on setuptools documentation page:\n",
            "  \u001b[31m   \u001b[0m \n",
            "  \u001b[31m   \u001b[0m         - https://setuptools.pypa.io/en/latest/userguide/datafiles.html\n",
            "  \u001b[31m   \u001b[0m \n",
            "  \u001b[31m   \u001b[0m \n",
            "  \u001b[31m   \u001b[0m         [^1]: For Python, any directory (with suitable naming) can be imported,\n",
            "  \u001b[31m   \u001b[0m               even if it does not contain any `.py` files.\n",
            "  \u001b[31m   \u001b[0m               On the other hand, currently there is no concept of package data\n",
            "  \u001b[31m   \u001b[0m               directory, all directories are treated like packages.\n",
            "  \u001b[31m   \u001b[0m         ********************************************************************************\n",
            "  \u001b[31m   \u001b[0m \n",
            "  \u001b[31m   \u001b[0m !!\n",
            "  \u001b[31m   \u001b[0m   check.warn(importable)\n",
            "  \u001b[31m   \u001b[0m /private/var/folders/00/6_k5gtjs44j43gmr99ht1d980000gn/T/pip-build-env-q59h5bj_/overlay/lib/python3.11/site-packages/setuptools/command/build_py.py:212: _Warning: Package 'pyarrow.src.arrow.python' is absent from the `packages` configuration.\n",
            "  \u001b[31m   \u001b[0m !!\n",
            "  \u001b[31m   \u001b[0m \n",
            "  \u001b[31m   \u001b[0m         ********************************************************************************\n",
            "  \u001b[31m   \u001b[0m         ############################\n",
            "  \u001b[31m   \u001b[0m         # Package would be ignored #\n",
            "  \u001b[31m   \u001b[0m         ############################\n",
            "  \u001b[31m   \u001b[0m         Python recognizes 'pyarrow.src.arrow.python' as an importable package[^1],\n",
            "  \u001b[31m   \u001b[0m         but it is absent from setuptools' `packages` configuration.\n",
            "  \u001b[31m   \u001b[0m \n",
            "  \u001b[31m   \u001b[0m         This leads to an ambiguous overall configuration. If you want to distribute this\n",
            "  \u001b[31m   \u001b[0m         package, please make sure that 'pyarrow.src.arrow.python' is explicitly added\n",
            "  \u001b[31m   \u001b[0m         to the `packages` configuration field.\n",
            "  \u001b[31m   \u001b[0m \n",
            "  \u001b[31m   \u001b[0m         Alternatively, you can also rely on setuptools' discovery methods\n",
            "  \u001b[31m   \u001b[0m         (for example by using `find_namespace_packages(...)`/`find_namespace:`\n",
            "  \u001b[31m   \u001b[0m         instead of `find_packages(...)`/`find:`).\n",
            "  \u001b[31m   \u001b[0m \n",
            "  \u001b[31m   \u001b[0m         You can read more about \"package discovery\" on setuptools documentation page:\n",
            "  \u001b[31m   \u001b[0m \n",
            "  \u001b[31m   \u001b[0m         - https://setuptools.pypa.io/en/latest/userguide/package_discovery.html\n",
            "  \u001b[31m   \u001b[0m \n",
            "  \u001b[31m   \u001b[0m         If you don't want 'pyarrow.src.arrow.python' to be distributed and are\n",
            "  \u001b[31m   \u001b[0m         already explicitly excluding 'pyarrow.src.arrow.python' via\n",
            "  \u001b[31m   \u001b[0m         `find_namespace_packages(...)/find_namespace` or `find_packages(...)/find`,\n",
            "  \u001b[31m   \u001b[0m         you can try to use `exclude_package_data`, or `include-package-data=False` in\n",
            "  \u001b[31m   \u001b[0m         combination with a more fine grained `package-data` configuration.\n",
            "  \u001b[31m   \u001b[0m \n",
            "  \u001b[31m   \u001b[0m         You can read more about \"package data files\" on setuptools documentation page:\n",
            "  \u001b[31m   \u001b[0m \n",
            "  \u001b[31m   \u001b[0m         - https://setuptools.pypa.io/en/latest/userguide/datafiles.html\n",
            "  \u001b[31m   \u001b[0m \n",
            "  \u001b[31m   \u001b[0m \n",
            "  \u001b[31m   \u001b[0m         [^1]: For Python, any directory (with suitable naming) can be imported,\n",
            "  \u001b[31m   \u001b[0m               even if it does not contain any `.py` files.\n",
            "  \u001b[31m   \u001b[0m               On the other hand, currently there is no concept of package data\n",
            "  \u001b[31m   \u001b[0m               directory, all directories are treated like packages.\n",
            "  \u001b[31m   \u001b[0m         ********************************************************************************\n",
            "  \u001b[31m   \u001b[0m \n",
            "  \u001b[31m   \u001b[0m !!\n",
            "  \u001b[31m   \u001b[0m   check.warn(importable)\n",
            "  \u001b[31m   \u001b[0m /private/var/folders/00/6_k5gtjs44j43gmr99ht1d980000gn/T/pip-build-env-q59h5bj_/overlay/lib/python3.11/site-packages/setuptools/command/build_py.py:212: _Warning: Package 'pyarrow.src.arrow.python.vendored' is absent from the `packages` configuration.\n",
            "  \u001b[31m   \u001b[0m !!\n",
            "  \u001b[31m   \u001b[0m \n",
            "  \u001b[31m   \u001b[0m         ********************************************************************************\n",
            "  \u001b[31m   \u001b[0m         ############################\n",
            "  \u001b[31m   \u001b[0m         # Package would be ignored #\n",
            "  \u001b[31m   \u001b[0m         ############################\n",
            "  \u001b[31m   \u001b[0m         Python recognizes 'pyarrow.src.arrow.python.vendored' as an importable package[^1],\n",
            "  \u001b[31m   \u001b[0m         but it is absent from setuptools' `packages` configuration.\n",
            "  \u001b[31m   \u001b[0m \n",
            "  \u001b[31m   \u001b[0m         This leads to an ambiguous overall configuration. If you want to distribute this\n",
            "  \u001b[31m   \u001b[0m         package, please make sure that 'pyarrow.src.arrow.python.vendored' is explicitly added\n",
            "  \u001b[31m   \u001b[0m         to the `packages` configuration field.\n",
            "  \u001b[31m   \u001b[0m \n",
            "  \u001b[31m   \u001b[0m         Alternatively, you can also rely on setuptools' discovery methods\n",
            "  \u001b[31m   \u001b[0m         (for example by using `find_namespace_packages(...)`/`find_namespace:`\n",
            "  \u001b[31m   \u001b[0m         instead of `find_packages(...)`/`find:`).\n",
            "  \u001b[31m   \u001b[0m \n",
            "  \u001b[31m   \u001b[0m         You can read more about \"package discovery\" on setuptools documentation page:\n",
            "  \u001b[31m   \u001b[0m \n",
            "  \u001b[31m   \u001b[0m         - https://setuptools.pypa.io/en/latest/userguide/package_discovery.html\n",
            "  \u001b[31m   \u001b[0m \n",
            "  \u001b[31m   \u001b[0m         If you don't want 'pyarrow.src.arrow.python.vendored' to be distributed and are\n",
            "  \u001b[31m   \u001b[0m         already explicitly excluding 'pyarrow.src.arrow.python.vendored' via\n",
            "  \u001b[31m   \u001b[0m         `find_namespace_packages(...)/find_namespace` or `find_packages(...)/find`,\n",
            "  \u001b[31m   \u001b[0m         you can try to use `exclude_package_data`, or `include-package-data=False` in\n",
            "  \u001b[31m   \u001b[0m         combination with a more fine grained `package-data` configuration.\n",
            "  \u001b[31m   \u001b[0m \n",
            "  \u001b[31m   \u001b[0m         You can read more about \"package data files\" on setuptools documentation page:\n",
            "  \u001b[31m   \u001b[0m \n",
            "  \u001b[31m   \u001b[0m         - https://setuptools.pypa.io/en/latest/userguide/datafiles.html\n",
            "  \u001b[31m   \u001b[0m \n",
            "  \u001b[31m   \u001b[0m \n",
            "  \u001b[31m   \u001b[0m         [^1]: For Python, any directory (with suitable naming) can be imported,\n",
            "  \u001b[31m   \u001b[0m               even if it does not contain any `.py` files.\n",
            "  \u001b[31m   \u001b[0m               On the other hand, currently there is no concept of package data\n",
            "  \u001b[31m   \u001b[0m               directory, all directories are treated like packages.\n",
            "  \u001b[31m   \u001b[0m         ********************************************************************************\n",
            "  \u001b[31m   \u001b[0m \n",
            "  \u001b[31m   \u001b[0m !!\n",
            "  \u001b[31m   \u001b[0m   check.warn(importable)\n",
            "  \u001b[31m   \u001b[0m /private/var/folders/00/6_k5gtjs44j43gmr99ht1d980000gn/T/pip-build-env-q59h5bj_/overlay/lib/python3.11/site-packages/setuptools/command/build_py.py:212: _Warning: Package 'pyarrow.tests' is absent from the `packages` configuration.\n",
            "  \u001b[31m   \u001b[0m !!\n",
            "  \u001b[31m   \u001b[0m \n",
            "  \u001b[31m   \u001b[0m         ********************************************************************************\n",
            "  \u001b[31m   \u001b[0m         ############################\n",
            "  \u001b[31m   \u001b[0m         # Package would be ignored #\n",
            "  \u001b[31m   \u001b[0m         ############################\n",
            "  \u001b[31m   \u001b[0m         Python recognizes 'pyarrow.tests' as an importable package[^1],\n",
            "  \u001b[31m   \u001b[0m         but it is absent from setuptools' `packages` configuration.\n",
            "  \u001b[31m   \u001b[0m \n",
            "  \u001b[31m   \u001b[0m         This leads to an ambiguous overall configuration. If you want to distribute this\n",
            "  \u001b[31m   \u001b[0m         package, please make sure that 'pyarrow.tests' is explicitly added\n",
            "  \u001b[31m   \u001b[0m         to the `packages` configuration field.\n",
            "  \u001b[31m   \u001b[0m \n",
            "  \u001b[31m   \u001b[0m         Alternatively, you can also rely on setuptools' discovery methods\n",
            "  \u001b[31m   \u001b[0m         (for example by using `find_namespace_packages(...)`/`find_namespace:`\n",
            "  \u001b[31m   \u001b[0m         instead of `find_packages(...)`/`find:`).\n",
            "  \u001b[31m   \u001b[0m \n",
            "  \u001b[31m   \u001b[0m         You can read more about \"package discovery\" on setuptools documentation page:\n",
            "  \u001b[31m   \u001b[0m \n",
            "  \u001b[31m   \u001b[0m         - https://setuptools.pypa.io/en/latest/userguide/package_discovery.html\n",
            "  \u001b[31m   \u001b[0m \n",
            "  \u001b[31m   \u001b[0m         If you don't want 'pyarrow.tests' to be distributed and are\n",
            "  \u001b[31m   \u001b[0m         already explicitly excluding 'pyarrow.tests' via\n",
            "  \u001b[31m   \u001b[0m         `find_namespace_packages(...)/find_namespace` or `find_packages(...)/find`,\n",
            "  \u001b[31m   \u001b[0m         you can try to use `exclude_package_data`, or `include-package-data=False` in\n",
            "  \u001b[31m   \u001b[0m         combination with a more fine grained `package-data` configuration.\n",
            "  \u001b[31m   \u001b[0m \n",
            "  \u001b[31m   \u001b[0m         You can read more about \"package data files\" on setuptools documentation page:\n",
            "  \u001b[31m   \u001b[0m \n",
            "  \u001b[31m   \u001b[0m         - https://setuptools.pypa.io/en/latest/userguide/datafiles.html\n",
            "  \u001b[31m   \u001b[0m \n",
            "  \u001b[31m   \u001b[0m \n",
            "  \u001b[31m   \u001b[0m         [^1]: For Python, any directory (with suitable naming) can be imported,\n",
            "  \u001b[31m   \u001b[0m               even if it does not contain any `.py` files.\n",
            "  \u001b[31m   \u001b[0m               On the other hand, currently there is no concept of package data\n",
            "  \u001b[31m   \u001b[0m               directory, all directories are treated like packages.\n",
            "  \u001b[31m   \u001b[0m         ********************************************************************************\n",
            "  \u001b[31m   \u001b[0m \n",
            "  \u001b[31m   \u001b[0m !!\n",
            "  \u001b[31m   \u001b[0m   check.warn(importable)\n",
            "  \u001b[31m   \u001b[0m /private/var/folders/00/6_k5gtjs44j43gmr99ht1d980000gn/T/pip-build-env-q59h5bj_/overlay/lib/python3.11/site-packages/setuptools/command/build_py.py:212: _Warning: Package 'pyarrow.tests.data.feather' is absent from the `packages` configuration.\n",
            "  \u001b[31m   \u001b[0m !!\n",
            "  \u001b[31m   \u001b[0m \n",
            "  \u001b[31m   \u001b[0m         ********************************************************************************\n",
            "  \u001b[31m   \u001b[0m         ############################\n",
            "  \u001b[31m   \u001b[0m         # Package would be ignored #\n",
            "  \u001b[31m   \u001b[0m         ############################\n",
            "  \u001b[31m   \u001b[0m         Python recognizes 'pyarrow.tests.data.feather' as an importable package[^1],\n",
            "  \u001b[31m   \u001b[0m         but it is absent from setuptools' `packages` configuration.\n",
            "  \u001b[31m   \u001b[0m \n",
            "  \u001b[31m   \u001b[0m         This leads to an ambiguous overall configuration. If you want to distribute this\n",
            "  \u001b[31m   \u001b[0m         package, please make sure that 'pyarrow.tests.data.feather' is explicitly added\n",
            "  \u001b[31m   \u001b[0m         to the `packages` configuration field.\n",
            "  \u001b[31m   \u001b[0m \n",
            "  \u001b[31m   \u001b[0m         Alternatively, you can also rely on setuptools' discovery methods\n",
            "  \u001b[31m   \u001b[0m         (for example by using `find_namespace_packages(...)`/`find_namespace:`\n",
            "  \u001b[31m   \u001b[0m         instead of `find_packages(...)`/`find:`).\n",
            "  \u001b[31m   \u001b[0m \n",
            "  \u001b[31m   \u001b[0m         You can read more about \"package discovery\" on setuptools documentation page:\n",
            "  \u001b[31m   \u001b[0m \n",
            "  \u001b[31m   \u001b[0m         - https://setuptools.pypa.io/en/latest/userguide/package_discovery.html\n",
            "  \u001b[31m   \u001b[0m \n",
            "  \u001b[31m   \u001b[0m         If you don't want 'pyarrow.tests.data.feather' to be distributed and are\n",
            "  \u001b[31m   \u001b[0m         already explicitly excluding 'pyarrow.tests.data.feather' via\n",
            "  \u001b[31m   \u001b[0m         `find_namespace_packages(...)/find_namespace` or `find_packages(...)/find`,\n",
            "  \u001b[31m   \u001b[0m         you can try to use `exclude_package_data`, or `include-package-data=False` in\n",
            "  \u001b[31m   \u001b[0m         combination with a more fine grained `package-data` configuration.\n",
            "  \u001b[31m   \u001b[0m \n",
            "  \u001b[31m   \u001b[0m         You can read more about \"package data files\" on setuptools documentation page:\n",
            "  \u001b[31m   \u001b[0m \n",
            "  \u001b[31m   \u001b[0m         - https://setuptools.pypa.io/en/latest/userguide/datafiles.html\n",
            "  \u001b[31m   \u001b[0m \n",
            "  \u001b[31m   \u001b[0m \n",
            "  \u001b[31m   \u001b[0m         [^1]: For Python, any directory (with suitable naming) can be imported,\n",
            "  \u001b[31m   \u001b[0m               even if it does not contain any `.py` files.\n",
            "  \u001b[31m   \u001b[0m               On the other hand, currently there is no concept of package data\n",
            "  \u001b[31m   \u001b[0m               directory, all directories are treated like packages.\n",
            "  \u001b[31m   \u001b[0m         ********************************************************************************\n",
            "  \u001b[31m   \u001b[0m \n",
            "  \u001b[31m   \u001b[0m !!\n",
            "  \u001b[31m   \u001b[0m   check.warn(importable)\n",
            "  \u001b[31m   \u001b[0m /private/var/folders/00/6_k5gtjs44j43gmr99ht1d980000gn/T/pip-build-env-q59h5bj_/overlay/lib/python3.11/site-packages/setuptools/command/build_py.py:212: _Warning: Package 'pyarrow.tests.data.orc' is absent from the `packages` configuration.\n",
            "  \u001b[31m   \u001b[0m !!\n",
            "  \u001b[31m   \u001b[0m \n",
            "  \u001b[31m   \u001b[0m         ********************************************************************************\n",
            "  \u001b[31m   \u001b[0m         ############################\n",
            "  \u001b[31m   \u001b[0m         # Package would be ignored #\n",
            "  \u001b[31m   \u001b[0m         ############################\n",
            "  \u001b[31m   \u001b[0m         Python recognizes 'pyarrow.tests.data.orc' as an importable package[^1],\n",
            "  \u001b[31m   \u001b[0m         but it is absent from setuptools' `packages` configuration.\n",
            "  \u001b[31m   \u001b[0m \n",
            "  \u001b[31m   \u001b[0m         This leads to an ambiguous overall configuration. If you want to distribute this\n",
            "  \u001b[31m   \u001b[0m         package, please make sure that 'pyarrow.tests.data.orc' is explicitly added\n",
            "  \u001b[31m   \u001b[0m         to the `packages` configuration field.\n",
            "  \u001b[31m   \u001b[0m \n",
            "  \u001b[31m   \u001b[0m         Alternatively, you can also rely on setuptools' discovery methods\n",
            "  \u001b[31m   \u001b[0m         (for example by using `find_namespace_packages(...)`/`find_namespace:`\n",
            "  \u001b[31m   \u001b[0m         instead of `find_packages(...)`/`find:`).\n",
            "  \u001b[31m   \u001b[0m \n",
            "  \u001b[31m   \u001b[0m         You can read more about \"package discovery\" on setuptools documentation page:\n",
            "  \u001b[31m   \u001b[0m \n",
            "  \u001b[31m   \u001b[0m         - https://setuptools.pypa.io/en/latest/userguide/package_discovery.html\n",
            "  \u001b[31m   \u001b[0m \n",
            "  \u001b[31m   \u001b[0m         If you don't want 'pyarrow.tests.data.orc' to be distributed and are\n",
            "  \u001b[31m   \u001b[0m         already explicitly excluding 'pyarrow.tests.data.orc' via\n",
            "  \u001b[31m   \u001b[0m         `find_namespace_packages(...)/find_namespace` or `find_packages(...)/find`,\n",
            "  \u001b[31m   \u001b[0m         you can try to use `exclude_package_data`, or `include-package-data=False` in\n",
            "  \u001b[31m   \u001b[0m         combination with a more fine grained `package-data` configuration.\n",
            "  \u001b[31m   \u001b[0m \n",
            "  \u001b[31m   \u001b[0m         You can read more about \"package data files\" on setuptools documentation page:\n",
            "  \u001b[31m   \u001b[0m \n",
            "  \u001b[31m   \u001b[0m         - https://setuptools.pypa.io/en/latest/userguide/datafiles.html\n",
            "  \u001b[31m   \u001b[0m \n",
            "  \u001b[31m   \u001b[0m \n",
            "  \u001b[31m   \u001b[0m         [^1]: For Python, any directory (with suitable naming) can be imported,\n",
            "  \u001b[31m   \u001b[0m               even if it does not contain any `.py` files.\n",
            "  \u001b[31m   \u001b[0m               On the other hand, currently there is no concept of package data\n",
            "  \u001b[31m   \u001b[0m               directory, all directories are treated like packages.\n",
            "  \u001b[31m   \u001b[0m         ********************************************************************************\n",
            "  \u001b[31m   \u001b[0m \n",
            "  \u001b[31m   \u001b[0m !!\n",
            "  \u001b[31m   \u001b[0m   check.warn(importable)\n",
            "  \u001b[31m   \u001b[0m /private/var/folders/00/6_k5gtjs44j43gmr99ht1d980000gn/T/pip-build-env-q59h5bj_/overlay/lib/python3.11/site-packages/setuptools/command/build_py.py:212: _Warning: Package 'pyarrow.tests.data.parquet' is absent from the `packages` configuration.\n",
            "  \u001b[31m   \u001b[0m !!\n",
            "  \u001b[31m   \u001b[0m \n",
            "  \u001b[31m   \u001b[0m         ********************************************************************************\n",
            "  \u001b[31m   \u001b[0m         ############################\n",
            "  \u001b[31m   \u001b[0m         # Package would be ignored #\n",
            "  \u001b[31m   \u001b[0m         ############################\n",
            "  \u001b[31m   \u001b[0m         Python recognizes 'pyarrow.tests.data.parquet' as an importable package[^1],\n",
            "  \u001b[31m   \u001b[0m         but it is absent from setuptools' `packages` configuration.\n",
            "  \u001b[31m   \u001b[0m \n",
            "  \u001b[31m   \u001b[0m         This leads to an ambiguous overall configuration. If you want to distribute this\n",
            "  \u001b[31m   \u001b[0m         package, please make sure that 'pyarrow.tests.data.parquet' is explicitly added\n",
            "  \u001b[31m   \u001b[0m         to the `packages` configuration field.\n",
            "  \u001b[31m   \u001b[0m \n",
            "  \u001b[31m   \u001b[0m         Alternatively, you can also rely on setuptools' discovery methods\n",
            "  \u001b[31m   \u001b[0m         (for example by using `find_namespace_packages(...)`/`find_namespace:`\n",
            "  \u001b[31m   \u001b[0m         instead of `find_packages(...)`/`find:`).\n",
            "  \u001b[31m   \u001b[0m \n",
            "  \u001b[31m   \u001b[0m         You can read more about \"package discovery\" on setuptools documentation page:\n",
            "  \u001b[31m   \u001b[0m \n",
            "  \u001b[31m   \u001b[0m         - https://setuptools.pypa.io/en/latest/userguide/package_discovery.html\n",
            "  \u001b[31m   \u001b[0m \n",
            "  \u001b[31m   \u001b[0m         If you don't want 'pyarrow.tests.data.parquet' to be distributed and are\n",
            "  \u001b[31m   \u001b[0m         already explicitly excluding 'pyarrow.tests.data.parquet' via\n",
            "  \u001b[31m   \u001b[0m         `find_namespace_packages(...)/find_namespace` or `find_packages(...)/find`,\n",
            "  \u001b[31m   \u001b[0m         you can try to use `exclude_package_data`, or `include-package-data=False` in\n",
            "  \u001b[31m   \u001b[0m         combination with a more fine grained `package-data` configuration.\n",
            "  \u001b[31m   \u001b[0m \n",
            "  \u001b[31m   \u001b[0m         You can read more about \"package data files\" on setuptools documentation page:\n",
            "  \u001b[31m   \u001b[0m \n",
            "  \u001b[31m   \u001b[0m         - https://setuptools.pypa.io/en/latest/userguide/datafiles.html\n",
            "  \u001b[31m   \u001b[0m \n",
            "  \u001b[31m   \u001b[0m \n",
            "  \u001b[31m   \u001b[0m         [^1]: For Python, any directory (with suitable naming) can be imported,\n",
            "  \u001b[31m   \u001b[0m               even if it does not contain any `.py` files.\n",
            "  \u001b[31m   \u001b[0m               On the other hand, currently there is no concept of package data\n",
            "  \u001b[31m   \u001b[0m               directory, all directories are treated like packages.\n",
            "  \u001b[31m   \u001b[0m         ********************************************************************************\n",
            "  \u001b[31m   \u001b[0m \n",
            "  \u001b[31m   \u001b[0m !!\n",
            "  \u001b[31m   \u001b[0m   check.warn(importable)\n",
            "  \u001b[31m   \u001b[0m /private/var/folders/00/6_k5gtjs44j43gmr99ht1d980000gn/T/pip-build-env-q59h5bj_/overlay/lib/python3.11/site-packages/setuptools/command/build_py.py:212: _Warning: Package 'pyarrow.tests.interchange' is absent from the `packages` configuration.\n",
            "  \u001b[31m   \u001b[0m !!\n",
            "  \u001b[31m   \u001b[0m \n",
            "  \u001b[31m   \u001b[0m         ********************************************************************************\n",
            "  \u001b[31m   \u001b[0m         ############################\n",
            "  \u001b[31m   \u001b[0m         # Package would be ignored #\n",
            "  \u001b[31m   \u001b[0m         ############################\n",
            "  \u001b[31m   \u001b[0m         Python recognizes 'pyarrow.tests.interchange' as an importable package[^1],\n",
            "  \u001b[31m   \u001b[0m         but it is absent from setuptools' `packages` configuration.\n",
            "  \u001b[31m   \u001b[0m \n",
            "  \u001b[31m   \u001b[0m         This leads to an ambiguous overall configuration. If you want to distribute this\n",
            "  \u001b[31m   \u001b[0m         package, please make sure that 'pyarrow.tests.interchange' is explicitly added\n",
            "  \u001b[31m   \u001b[0m         to the `packages` configuration field.\n",
            "  \u001b[31m   \u001b[0m \n",
            "  \u001b[31m   \u001b[0m         Alternatively, you can also rely on setuptools' discovery methods\n",
            "  \u001b[31m   \u001b[0m         (for example by using `find_namespace_packages(...)`/`find_namespace:`\n",
            "  \u001b[31m   \u001b[0m         instead of `find_packages(...)`/`find:`).\n",
            "  \u001b[31m   \u001b[0m \n",
            "  \u001b[31m   \u001b[0m         You can read more about \"package discovery\" on setuptools documentation page:\n",
            "  \u001b[31m   \u001b[0m \n",
            "  \u001b[31m   \u001b[0m         - https://setuptools.pypa.io/en/latest/userguide/package_discovery.html\n",
            "  \u001b[31m   \u001b[0m \n",
            "  \u001b[31m   \u001b[0m         If you don't want 'pyarrow.tests.interchange' to be distributed and are\n",
            "  \u001b[31m   \u001b[0m         already explicitly excluding 'pyarrow.tests.interchange' via\n",
            "  \u001b[31m   \u001b[0m         `find_namespace_packages(...)/find_namespace` or `find_packages(...)/find`,\n",
            "  \u001b[31m   \u001b[0m         you can try to use `exclude_package_data`, or `include-package-data=False` in\n",
            "  \u001b[31m   \u001b[0m         combination with a more fine grained `package-data` configuration.\n",
            "  \u001b[31m   \u001b[0m \n",
            "  \u001b[31m   \u001b[0m         You can read more about \"package data files\" on setuptools documentation page:\n",
            "  \u001b[31m   \u001b[0m \n",
            "  \u001b[31m   \u001b[0m         - https://setuptools.pypa.io/en/latest/userguide/datafiles.html\n",
            "  \u001b[31m   \u001b[0m \n",
            "  \u001b[31m   \u001b[0m \n",
            "  \u001b[31m   \u001b[0m         [^1]: For Python, any directory (with suitable naming) can be imported,\n",
            "  \u001b[31m   \u001b[0m               even if it does not contain any `.py` files.\n",
            "  \u001b[31m   \u001b[0m               On the other hand, currently there is no concept of package data\n",
            "  \u001b[31m   \u001b[0m               directory, all directories are treated like packages.\n",
            "  \u001b[31m   \u001b[0m         ********************************************************************************\n",
            "  \u001b[31m   \u001b[0m \n",
            "  \u001b[31m   \u001b[0m !!\n",
            "  \u001b[31m   \u001b[0m   check.warn(importable)\n",
            "  \u001b[31m   \u001b[0m /private/var/folders/00/6_k5gtjs44j43gmr99ht1d980000gn/T/pip-build-env-q59h5bj_/overlay/lib/python3.11/site-packages/setuptools/command/build_py.py:212: _Warning: Package 'pyarrow.tests.parquet' is absent from the `packages` configuration.\n",
            "  \u001b[31m   \u001b[0m !!\n",
            "  \u001b[31m   \u001b[0m \n",
            "  \u001b[31m   \u001b[0m         ********************************************************************************\n",
            "  \u001b[31m   \u001b[0m         ############################\n",
            "  \u001b[31m   \u001b[0m         # Package would be ignored #\n",
            "  \u001b[31m   \u001b[0m         ############################\n",
            "  \u001b[31m   \u001b[0m         Python recognizes 'pyarrow.tests.parquet' as an importable package[^1],\n",
            "  \u001b[31m   \u001b[0m         but it is absent from setuptools' `packages` configuration.\n",
            "  \u001b[31m   \u001b[0m \n",
            "  \u001b[31m   \u001b[0m         This leads to an ambiguous overall configuration. If you want to distribute this\n",
            "  \u001b[31m   \u001b[0m         package, please make sure that 'pyarrow.tests.parquet' is explicitly added\n",
            "  \u001b[31m   \u001b[0m         to the `packages` configuration field.\n",
            "  \u001b[31m   \u001b[0m \n",
            "  \u001b[31m   \u001b[0m         Alternatively, you can also rely on setuptools' discovery methods\n",
            "  \u001b[31m   \u001b[0m         (for example by using `find_namespace_packages(...)`/`find_namespace:`\n",
            "  \u001b[31m   \u001b[0m         instead of `find_packages(...)`/`find:`).\n",
            "  \u001b[31m   \u001b[0m \n",
            "  \u001b[31m   \u001b[0m         You can read more about \"package discovery\" on setuptools documentation page:\n",
            "  \u001b[31m   \u001b[0m \n",
            "  \u001b[31m   \u001b[0m         - https://setuptools.pypa.io/en/latest/userguide/package_discovery.html\n",
            "  \u001b[31m   \u001b[0m \n",
            "  \u001b[31m   \u001b[0m         If you don't want 'pyarrow.tests.parquet' to be distributed and are\n",
            "  \u001b[31m   \u001b[0m         already explicitly excluding 'pyarrow.tests.parquet' via\n",
            "  \u001b[31m   \u001b[0m         `find_namespace_packages(...)/find_namespace` or `find_packages(...)/find`,\n",
            "  \u001b[31m   \u001b[0m         you can try to use `exclude_package_data`, or `include-package-data=False` in\n",
            "  \u001b[31m   \u001b[0m         combination with a more fine grained `package-data` configuration.\n",
            "  \u001b[31m   \u001b[0m \n",
            "  \u001b[31m   \u001b[0m         You can read more about \"package data files\" on setuptools documentation page:\n",
            "  \u001b[31m   \u001b[0m \n",
            "  \u001b[31m   \u001b[0m         - https://setuptools.pypa.io/en/latest/userguide/datafiles.html\n",
            "  \u001b[31m   \u001b[0m \n",
            "  \u001b[31m   \u001b[0m \n",
            "  \u001b[31m   \u001b[0m         [^1]: For Python, any directory (with suitable naming) can be imported,\n",
            "  \u001b[31m   \u001b[0m               even if it does not contain any `.py` files.\n",
            "  \u001b[31m   \u001b[0m               On the other hand, currently there is no concept of package data\n",
            "  \u001b[31m   \u001b[0m               directory, all directories are treated like packages.\n",
            "  \u001b[31m   \u001b[0m         ********************************************************************************\n",
            "  \u001b[31m   \u001b[0m \n",
            "  \u001b[31m   \u001b[0m !!\n",
            "  \u001b[31m   \u001b[0m   check.warn(importable)\n",
            "  \u001b[31m   \u001b[0m /private/var/folders/00/6_k5gtjs44j43gmr99ht1d980000gn/T/pip-build-env-q59h5bj_/overlay/lib/python3.11/site-packages/setuptools/command/build_py.py:212: _Warning: Package 'pyarrow.vendored' is absent from the `packages` configuration.\n",
            "  \u001b[31m   \u001b[0m !!\n",
            "  \u001b[31m   \u001b[0m \n",
            "  \u001b[31m   \u001b[0m         ********************************************************************************\n",
            "  \u001b[31m   \u001b[0m         ############################\n",
            "  \u001b[31m   \u001b[0m         # Package would be ignored #\n",
            "  \u001b[31m   \u001b[0m         ############################\n",
            "  \u001b[31m   \u001b[0m         Python recognizes 'pyarrow.vendored' as an importable package[^1],\n",
            "  \u001b[31m   \u001b[0m         but it is absent from setuptools' `packages` configuration.\n",
            "  \u001b[31m   \u001b[0m \n",
            "  \u001b[31m   \u001b[0m         This leads to an ambiguous overall configuration. If you want to distribute this\n",
            "  \u001b[31m   \u001b[0m         package, please make sure that 'pyarrow.vendored' is explicitly added\n",
            "  \u001b[31m   \u001b[0m         to the `packages` configuration field.\n",
            "  \u001b[31m   \u001b[0m \n",
            "  \u001b[31m   \u001b[0m         Alternatively, you can also rely on setuptools' discovery methods\n",
            "  \u001b[31m   \u001b[0m         (for example by using `find_namespace_packages(...)`/`find_namespace:`\n",
            "  \u001b[31m   \u001b[0m         instead of `find_packages(...)`/`find:`).\n",
            "  \u001b[31m   \u001b[0m \n",
            "  \u001b[31m   \u001b[0m         You can read more about \"package discovery\" on setuptools documentation page:\n",
            "  \u001b[31m   \u001b[0m \n",
            "  \u001b[31m   \u001b[0m         - https://setuptools.pypa.io/en/latest/userguide/package_discovery.html\n",
            "  \u001b[31m   \u001b[0m \n",
            "  \u001b[31m   \u001b[0m         If you don't want 'pyarrow.vendored' to be distributed and are\n",
            "  \u001b[31m   \u001b[0m         already explicitly excluding 'pyarrow.vendored' via\n",
            "  \u001b[31m   \u001b[0m         `find_namespace_packages(...)/find_namespace` or `find_packages(...)/find`,\n",
            "  \u001b[31m   \u001b[0m         you can try to use `exclude_package_data`, or `include-package-data=False` in\n",
            "  \u001b[31m   \u001b[0m         combination with a more fine grained `package-data` configuration.\n",
            "  \u001b[31m   \u001b[0m \n",
            "  \u001b[31m   \u001b[0m         You can read more about \"package data files\" on setuptools documentation page:\n",
            "  \u001b[31m   \u001b[0m \n",
            "  \u001b[31m   \u001b[0m         - https://setuptools.pypa.io/en/latest/userguide/datafiles.html\n",
            "  \u001b[31m   \u001b[0m \n",
            "  \u001b[31m   \u001b[0m \n",
            "  \u001b[31m   \u001b[0m         [^1]: For Python, any directory (with suitable naming) can be imported,\n",
            "  \u001b[31m   \u001b[0m               even if it does not contain any `.py` files.\n",
            "  \u001b[31m   \u001b[0m               On the other hand, currently there is no concept of package data\n",
            "  \u001b[31m   \u001b[0m               directory, all directories are treated like packages.\n",
            "  \u001b[31m   \u001b[0m         ********************************************************************************\n",
            "  \u001b[31m   \u001b[0m \n",
            "  \u001b[31m   \u001b[0m !!\n",
            "  \u001b[31m   \u001b[0m   check.warn(importable)\n",
            "  \u001b[31m   \u001b[0m copying pyarrow/__init__.pxd -> build/lib.macosx-10.9-x86_64-cpython-311/pyarrow\n",
            "  \u001b[31m   \u001b[0m copying pyarrow/_acero.pxd -> build/lib.macosx-10.9-x86_64-cpython-311/pyarrow\n",
            "  \u001b[31m   \u001b[0m copying pyarrow/_acero.pyx -> build/lib.macosx-10.9-x86_64-cpython-311/pyarrow\n",
            "  \u001b[31m   \u001b[0m copying pyarrow/_azurefs.pyx -> build/lib.macosx-10.9-x86_64-cpython-311/pyarrow\n",
            "  \u001b[31m   \u001b[0m copying pyarrow/_compute.pxd -> build/lib.macosx-10.9-x86_64-cpython-311/pyarrow\n",
            "  \u001b[31m   \u001b[0m copying pyarrow/_compute.pyx -> build/lib.macosx-10.9-x86_64-cpython-311/pyarrow\n",
            "  \u001b[31m   \u001b[0m copying pyarrow/_csv.pxd -> build/lib.macosx-10.9-x86_64-cpython-311/pyarrow\n",
            "  \u001b[31m   \u001b[0m copying pyarrow/_csv.pyx -> build/lib.macosx-10.9-x86_64-cpython-311/pyarrow\n",
            "  \u001b[31m   \u001b[0m copying pyarrow/_cuda.pxd -> build/lib.macosx-10.9-x86_64-cpython-311/pyarrow\n",
            "  \u001b[31m   \u001b[0m copying pyarrow/_cuda.pyx -> build/lib.macosx-10.9-x86_64-cpython-311/pyarrow\n",
            "  \u001b[31m   \u001b[0m copying pyarrow/_dataset.pxd -> build/lib.macosx-10.9-x86_64-cpython-311/pyarrow\n",
            "  \u001b[31m   \u001b[0m copying pyarrow/_dataset.pyx -> build/lib.macosx-10.9-x86_64-cpython-311/pyarrow\n",
            "  \u001b[31m   \u001b[0m copying pyarrow/_dataset_orc.pyx -> build/lib.macosx-10.9-x86_64-cpython-311/pyarrow\n",
            "  \u001b[31m   \u001b[0m copying pyarrow/_dataset_parquet.pxd -> build/lib.macosx-10.9-x86_64-cpython-311/pyarrow\n",
            "  \u001b[31m   \u001b[0m copying pyarrow/_dataset_parquet.pyx -> build/lib.macosx-10.9-x86_64-cpython-311/pyarrow\n",
            "  \u001b[31m   \u001b[0m copying pyarrow/_dataset_parquet_encryption.pyx -> build/lib.macosx-10.9-x86_64-cpython-311/pyarrow\n",
            "  \u001b[31m   \u001b[0m copying pyarrow/_dlpack.pxi -> build/lib.macosx-10.9-x86_64-cpython-311/pyarrow\n",
            "  \u001b[31m   \u001b[0m copying pyarrow/_feather.pyx -> build/lib.macosx-10.9-x86_64-cpython-311/pyarrow\n",
            "  \u001b[31m   \u001b[0m copying pyarrow/_flight.pyx -> build/lib.macosx-10.9-x86_64-cpython-311/pyarrow\n",
            "  \u001b[31m   \u001b[0m copying pyarrow/_fs.pxd -> build/lib.macosx-10.9-x86_64-cpython-311/pyarrow\n",
            "  \u001b[31m   \u001b[0m copying pyarrow/_fs.pyx -> build/lib.macosx-10.9-x86_64-cpython-311/pyarrow\n",
            "  \u001b[31m   \u001b[0m copying pyarrow/_gcsfs.pyx -> build/lib.macosx-10.9-x86_64-cpython-311/pyarrow\n",
            "  \u001b[31m   \u001b[0m copying pyarrow/_hdfs.pyx -> build/lib.macosx-10.9-x86_64-cpython-311/pyarrow\n",
            "  \u001b[31m   \u001b[0m copying pyarrow/_json.pxd -> build/lib.macosx-10.9-x86_64-cpython-311/pyarrow\n",
            "  \u001b[31m   \u001b[0m copying pyarrow/_json.pyx -> build/lib.macosx-10.9-x86_64-cpython-311/pyarrow\n",
            "  \u001b[31m   \u001b[0m copying pyarrow/_orc.pxd -> build/lib.macosx-10.9-x86_64-cpython-311/pyarrow\n",
            "  \u001b[31m   \u001b[0m copying pyarrow/_orc.pyx -> build/lib.macosx-10.9-x86_64-cpython-311/pyarrow\n",
            "  \u001b[31m   \u001b[0m copying pyarrow/_parquet.pxd -> build/lib.macosx-10.9-x86_64-cpython-311/pyarrow\n",
            "  \u001b[31m   \u001b[0m copying pyarrow/_parquet.pyx -> build/lib.macosx-10.9-x86_64-cpython-311/pyarrow\n",
            "  \u001b[31m   \u001b[0m copying pyarrow/_parquet_encryption.pxd -> build/lib.macosx-10.9-x86_64-cpython-311/pyarrow\n",
            "  \u001b[31m   \u001b[0m copying pyarrow/_parquet_encryption.pyx -> build/lib.macosx-10.9-x86_64-cpython-311/pyarrow\n",
            "  \u001b[31m   \u001b[0m copying pyarrow/_pyarrow_cpp_tests.pxd -> build/lib.macosx-10.9-x86_64-cpython-311/pyarrow\n",
            "  \u001b[31m   \u001b[0m copying pyarrow/_pyarrow_cpp_tests.pyx -> build/lib.macosx-10.9-x86_64-cpython-311/pyarrow\n",
            "  \u001b[31m   \u001b[0m copying pyarrow/_s3fs.pyx -> build/lib.macosx-10.9-x86_64-cpython-311/pyarrow\n",
            "  \u001b[31m   \u001b[0m copying pyarrow/_substrait.pyx -> build/lib.macosx-10.9-x86_64-cpython-311/pyarrow\n",
            "  \u001b[31m   \u001b[0m copying pyarrow/array.pxi -> build/lib.macosx-10.9-x86_64-cpython-311/pyarrow\n",
            "  \u001b[31m   \u001b[0m copying pyarrow/benchmark.pxi -> build/lib.macosx-10.9-x86_64-cpython-311/pyarrow\n",
            "  \u001b[31m   \u001b[0m copying pyarrow/builder.pxi -> build/lib.macosx-10.9-x86_64-cpython-311/pyarrow\n",
            "  \u001b[31m   \u001b[0m copying pyarrow/compat.pxi -> build/lib.macosx-10.9-x86_64-cpython-311/pyarrow\n",
            "  \u001b[31m   \u001b[0m copying pyarrow/config.pxi -> build/lib.macosx-10.9-x86_64-cpython-311/pyarrow\n",
            "  \u001b[31m   \u001b[0m copying pyarrow/device.pxi -> build/lib.macosx-10.9-x86_64-cpython-311/pyarrow\n",
            "  \u001b[31m   \u001b[0m copying pyarrow/error.pxi -> build/lib.macosx-10.9-x86_64-cpython-311/pyarrow\n",
            "  \u001b[31m   \u001b[0m copying pyarrow/gandiva.pyx -> build/lib.macosx-10.9-x86_64-cpython-311/pyarrow\n",
            "  \u001b[31m   \u001b[0m copying pyarrow/io.pxi -> build/lib.macosx-10.9-x86_64-cpython-311/pyarrow\n",
            "  \u001b[31m   \u001b[0m copying pyarrow/ipc.pxi -> build/lib.macosx-10.9-x86_64-cpython-311/pyarrow\n",
            "  \u001b[31m   \u001b[0m copying pyarrow/lib.pxd -> build/lib.macosx-10.9-x86_64-cpython-311/pyarrow\n",
            "  \u001b[31m   \u001b[0m copying pyarrow/lib.pyx -> build/lib.macosx-10.9-x86_64-cpython-311/pyarrow\n",
            "  \u001b[31m   \u001b[0m copying pyarrow/memory.pxi -> build/lib.macosx-10.9-x86_64-cpython-311/pyarrow\n",
            "  \u001b[31m   \u001b[0m copying pyarrow/pandas-shim.pxi -> build/lib.macosx-10.9-x86_64-cpython-311/pyarrow\n",
            "  \u001b[31m   \u001b[0m copying pyarrow/public-api.pxi -> build/lib.macosx-10.9-x86_64-cpython-311/pyarrow\n",
            "  \u001b[31m   \u001b[0m copying pyarrow/scalar.pxi -> build/lib.macosx-10.9-x86_64-cpython-311/pyarrow\n",
            "  \u001b[31m   \u001b[0m copying pyarrow/table.pxi -> build/lib.macosx-10.9-x86_64-cpython-311/pyarrow\n",
            "  \u001b[31m   \u001b[0m copying pyarrow/tensor.pxi -> build/lib.macosx-10.9-x86_64-cpython-311/pyarrow\n",
            "  \u001b[31m   \u001b[0m copying pyarrow/types.pxi -> build/lib.macosx-10.9-x86_64-cpython-311/pyarrow\n",
            "  \u001b[31m   \u001b[0m creating build/lib.macosx-10.9-x86_64-cpython-311/pyarrow/includes\n",
            "  \u001b[31m   \u001b[0m copying pyarrow/includes/__init__.pxd -> build/lib.macosx-10.9-x86_64-cpython-311/pyarrow/includes\n",
            "  \u001b[31m   \u001b[0m copying pyarrow/includes/common.pxd -> build/lib.macosx-10.9-x86_64-cpython-311/pyarrow/includes\n",
            "  \u001b[31m   \u001b[0m copying pyarrow/includes/libarrow.pxd -> build/lib.macosx-10.9-x86_64-cpython-311/pyarrow/includes\n",
            "  \u001b[31m   \u001b[0m copying pyarrow/includes/libarrow_acero.pxd -> build/lib.macosx-10.9-x86_64-cpython-311/pyarrow/includes\n",
            "  \u001b[31m   \u001b[0m copying pyarrow/includes/libarrow_cuda.pxd -> build/lib.macosx-10.9-x86_64-cpython-311/pyarrow/includes\n",
            "  \u001b[31m   \u001b[0m copying pyarrow/includes/libarrow_dataset.pxd -> build/lib.macosx-10.9-x86_64-cpython-311/pyarrow/includes\n",
            "  \u001b[31m   \u001b[0m copying pyarrow/includes/libarrow_dataset_parquet.pxd -> build/lib.macosx-10.9-x86_64-cpython-311/pyarrow/includes\n",
            "  \u001b[31m   \u001b[0m copying pyarrow/includes/libarrow_feather.pxd -> build/lib.macosx-10.9-x86_64-cpython-311/pyarrow/includes\n",
            "  \u001b[31m   \u001b[0m copying pyarrow/includes/libarrow_flight.pxd -> build/lib.macosx-10.9-x86_64-cpython-311/pyarrow/includes\n",
            "  \u001b[31m   \u001b[0m copying pyarrow/includes/libarrow_fs.pxd -> build/lib.macosx-10.9-x86_64-cpython-311/pyarrow/includes\n",
            "  \u001b[31m   \u001b[0m copying pyarrow/includes/libarrow_python.pxd -> build/lib.macosx-10.9-x86_64-cpython-311/pyarrow/includes\n",
            "  \u001b[31m   \u001b[0m copying pyarrow/includes/libarrow_substrait.pxd -> build/lib.macosx-10.9-x86_64-cpython-311/pyarrow/includes\n",
            "  \u001b[31m   \u001b[0m copying pyarrow/includes/libgandiva.pxd -> build/lib.macosx-10.9-x86_64-cpython-311/pyarrow/includes\n",
            "  \u001b[31m   \u001b[0m copying pyarrow/includes/libparquet_encryption.pxd -> build/lib.macosx-10.9-x86_64-cpython-311/pyarrow/includes\n",
            "  \u001b[31m   \u001b[0m creating build/lib.macosx-10.9-x86_64-cpython-311/pyarrow/interchange\n",
            "  \u001b[31m   \u001b[0m copying pyarrow/interchange/__init__.py -> build/lib.macosx-10.9-x86_64-cpython-311/pyarrow/interchange\n",
            "  \u001b[31m   \u001b[0m copying pyarrow/interchange/buffer.py -> build/lib.macosx-10.9-x86_64-cpython-311/pyarrow/interchange\n",
            "  \u001b[31m   \u001b[0m copying pyarrow/interchange/column.py -> build/lib.macosx-10.9-x86_64-cpython-311/pyarrow/interchange\n",
            "  \u001b[31m   \u001b[0m copying pyarrow/interchange/dataframe.py -> build/lib.macosx-10.9-x86_64-cpython-311/pyarrow/interchange\n",
            "  \u001b[31m   \u001b[0m copying pyarrow/interchange/from_dataframe.py -> build/lib.macosx-10.9-x86_64-cpython-311/pyarrow/interchange\n",
            "  \u001b[31m   \u001b[0m creating build/lib.macosx-10.9-x86_64-cpython-311/pyarrow/parquet\n",
            "  \u001b[31m   \u001b[0m copying pyarrow/parquet/__init__.py -> build/lib.macosx-10.9-x86_64-cpython-311/pyarrow/parquet\n",
            "  \u001b[31m   \u001b[0m copying pyarrow/parquet/core.py -> build/lib.macosx-10.9-x86_64-cpython-311/pyarrow/parquet\n",
            "  \u001b[31m   \u001b[0m copying pyarrow/parquet/encryption.py -> build/lib.macosx-10.9-x86_64-cpython-311/pyarrow/parquet\n",
            "  \u001b[31m   \u001b[0m creating build/lib.macosx-10.9-x86_64-cpython-311/pyarrow/src/arrow/python\n",
            "  \u001b[31m   \u001b[0m copying pyarrow/src/arrow/python/CMakeLists.txt -> build/lib.macosx-10.9-x86_64-cpython-311/pyarrow/src/arrow/python\n",
            "  \u001b[31m   \u001b[0m copying pyarrow/src/arrow/python/api.h -> build/lib.macosx-10.9-x86_64-cpython-311/pyarrow/src/arrow/python\n",
            "  \u001b[31m   \u001b[0m copying pyarrow/src/arrow/python/arrow_to_pandas.cc -> build/lib.macosx-10.9-x86_64-cpython-311/pyarrow/src/arrow/python\n",
            "  \u001b[31m   \u001b[0m copying pyarrow/src/arrow/python/arrow_to_pandas.h -> build/lib.macosx-10.9-x86_64-cpython-311/pyarrow/src/arrow/python\n",
            "  \u001b[31m   \u001b[0m copying pyarrow/src/arrow/python/arrow_to_python_internal.h -> build/lib.macosx-10.9-x86_64-cpython-311/pyarrow/src/arrow/python\n",
            "  \u001b[31m   \u001b[0m copying pyarrow/src/arrow/python/async.h -> build/lib.macosx-10.9-x86_64-cpython-311/pyarrow/src/arrow/python\n",
            "  \u001b[31m   \u001b[0m copying pyarrow/src/arrow/python/benchmark.cc -> build/lib.macosx-10.9-x86_64-cpython-311/pyarrow/src/arrow/python\n",
            "  \u001b[31m   \u001b[0m copying pyarrow/src/arrow/python/benchmark.h -> build/lib.macosx-10.9-x86_64-cpython-311/pyarrow/src/arrow/python\n",
            "  \u001b[31m   \u001b[0m copying pyarrow/src/arrow/python/common.cc -> build/lib.macosx-10.9-x86_64-cpython-311/pyarrow/src/arrow/python\n",
            "  \u001b[31m   \u001b[0m copying pyarrow/src/arrow/python/common.h -> build/lib.macosx-10.9-x86_64-cpython-311/pyarrow/src/arrow/python\n",
            "  \u001b[31m   \u001b[0m copying pyarrow/src/arrow/python/csv.cc -> build/lib.macosx-10.9-x86_64-cpython-311/pyarrow/src/arrow/python\n",
            "  \u001b[31m   \u001b[0m copying pyarrow/src/arrow/python/csv.h -> build/lib.macosx-10.9-x86_64-cpython-311/pyarrow/src/arrow/python\n",
            "  \u001b[31m   \u001b[0m copying pyarrow/src/arrow/python/datetime.cc -> build/lib.macosx-10.9-x86_64-cpython-311/pyarrow/src/arrow/python\n",
            "  \u001b[31m   \u001b[0m copying pyarrow/src/arrow/python/datetime.h -> build/lib.macosx-10.9-x86_64-cpython-311/pyarrow/src/arrow/python\n",
            "  \u001b[31m   \u001b[0m copying pyarrow/src/arrow/python/decimal.cc -> build/lib.macosx-10.9-x86_64-cpython-311/pyarrow/src/arrow/python\n",
            "  \u001b[31m   \u001b[0m copying pyarrow/src/arrow/python/decimal.h -> build/lib.macosx-10.9-x86_64-cpython-311/pyarrow/src/arrow/python\n",
            "  \u001b[31m   \u001b[0m copying pyarrow/src/arrow/python/deserialize.cc -> build/lib.macosx-10.9-x86_64-cpython-311/pyarrow/src/arrow/python\n",
            "  \u001b[31m   \u001b[0m copying pyarrow/src/arrow/python/deserialize.h -> build/lib.macosx-10.9-x86_64-cpython-311/pyarrow/src/arrow/python\n",
            "  \u001b[31m   \u001b[0m copying pyarrow/src/arrow/python/extension_type.cc -> build/lib.macosx-10.9-x86_64-cpython-311/pyarrow/src/arrow/python\n",
            "  \u001b[31m   \u001b[0m copying pyarrow/src/arrow/python/extension_type.h -> build/lib.macosx-10.9-x86_64-cpython-311/pyarrow/src/arrow/python\n",
            "  \u001b[31m   \u001b[0m copying pyarrow/src/arrow/python/filesystem.cc -> build/lib.macosx-10.9-x86_64-cpython-311/pyarrow/src/arrow/python\n",
            "  \u001b[31m   \u001b[0m copying pyarrow/src/arrow/python/filesystem.h -> build/lib.macosx-10.9-x86_64-cpython-311/pyarrow/src/arrow/python\n",
            "  \u001b[31m   \u001b[0m copying pyarrow/src/arrow/python/flight.cc -> build/lib.macosx-10.9-x86_64-cpython-311/pyarrow/src/arrow/python\n",
            "  \u001b[31m   \u001b[0m copying pyarrow/src/arrow/python/flight.h -> build/lib.macosx-10.9-x86_64-cpython-311/pyarrow/src/arrow/python\n",
            "  \u001b[31m   \u001b[0m copying pyarrow/src/arrow/python/gdb.cc -> build/lib.macosx-10.9-x86_64-cpython-311/pyarrow/src/arrow/python\n",
            "  \u001b[31m   \u001b[0m copying pyarrow/src/arrow/python/gdb.h -> build/lib.macosx-10.9-x86_64-cpython-311/pyarrow/src/arrow/python\n",
            "  \u001b[31m   \u001b[0m copying pyarrow/src/arrow/python/helpers.cc -> build/lib.macosx-10.9-x86_64-cpython-311/pyarrow/src/arrow/python\n",
            "  \u001b[31m   \u001b[0m copying pyarrow/src/arrow/python/helpers.h -> build/lib.macosx-10.9-x86_64-cpython-311/pyarrow/src/arrow/python\n",
            "  \u001b[31m   \u001b[0m copying pyarrow/src/arrow/python/inference.cc -> build/lib.macosx-10.9-x86_64-cpython-311/pyarrow/src/arrow/python\n",
            "  \u001b[31m   \u001b[0m copying pyarrow/src/arrow/python/inference.h -> build/lib.macosx-10.9-x86_64-cpython-311/pyarrow/src/arrow/python\n",
            "  \u001b[31m   \u001b[0m copying pyarrow/src/arrow/python/io.cc -> build/lib.macosx-10.9-x86_64-cpython-311/pyarrow/src/arrow/python\n",
            "  \u001b[31m   \u001b[0m copying pyarrow/src/arrow/python/io.h -> build/lib.macosx-10.9-x86_64-cpython-311/pyarrow/src/arrow/python\n",
            "  \u001b[31m   \u001b[0m copying pyarrow/src/arrow/python/ipc.cc -> build/lib.macosx-10.9-x86_64-cpython-311/pyarrow/src/arrow/python\n",
            "  \u001b[31m   \u001b[0m copying pyarrow/src/arrow/python/ipc.h -> build/lib.macosx-10.9-x86_64-cpython-311/pyarrow/src/arrow/python\n",
            "  \u001b[31m   \u001b[0m copying pyarrow/src/arrow/python/iterators.h -> build/lib.macosx-10.9-x86_64-cpython-311/pyarrow/src/arrow/python\n",
            "  \u001b[31m   \u001b[0m copying pyarrow/src/arrow/python/numpy_convert.cc -> build/lib.macosx-10.9-x86_64-cpython-311/pyarrow/src/arrow/python\n",
            "  \u001b[31m   \u001b[0m copying pyarrow/src/arrow/python/numpy_convert.h -> build/lib.macosx-10.9-x86_64-cpython-311/pyarrow/src/arrow/python\n",
            "  \u001b[31m   \u001b[0m copying pyarrow/src/arrow/python/numpy_init.cc -> build/lib.macosx-10.9-x86_64-cpython-311/pyarrow/src/arrow/python\n",
            "  \u001b[31m   \u001b[0m copying pyarrow/src/arrow/python/numpy_init.h -> build/lib.macosx-10.9-x86_64-cpython-311/pyarrow/src/arrow/python\n",
            "  \u001b[31m   \u001b[0m copying pyarrow/src/arrow/python/numpy_internal.h -> build/lib.macosx-10.9-x86_64-cpython-311/pyarrow/src/arrow/python\n",
            "  \u001b[31m   \u001b[0m copying pyarrow/src/arrow/python/numpy_interop.h -> build/lib.macosx-10.9-x86_64-cpython-311/pyarrow/src/arrow/python\n",
            "  \u001b[31m   \u001b[0m copying pyarrow/src/arrow/python/numpy_to_arrow.cc -> build/lib.macosx-10.9-x86_64-cpython-311/pyarrow/src/arrow/python\n",
            "  \u001b[31m   \u001b[0m copying pyarrow/src/arrow/python/numpy_to_arrow.h -> build/lib.macosx-10.9-x86_64-cpython-311/pyarrow/src/arrow/python\n",
            "  \u001b[31m   \u001b[0m copying pyarrow/src/arrow/python/parquet_encryption.cc -> build/lib.macosx-10.9-x86_64-cpython-311/pyarrow/src/arrow/python\n",
            "  \u001b[31m   \u001b[0m copying pyarrow/src/arrow/python/parquet_encryption.h -> build/lib.macosx-10.9-x86_64-cpython-311/pyarrow/src/arrow/python\n",
            "  \u001b[31m   \u001b[0m copying pyarrow/src/arrow/python/pch.h -> build/lib.macosx-10.9-x86_64-cpython-311/pyarrow/src/arrow/python\n",
            "  \u001b[31m   \u001b[0m copying pyarrow/src/arrow/python/platform.h -> build/lib.macosx-10.9-x86_64-cpython-311/pyarrow/src/arrow/python\n",
            "  \u001b[31m   \u001b[0m copying pyarrow/src/arrow/python/pyarrow.cc -> build/lib.macosx-10.9-x86_64-cpython-311/pyarrow/src/arrow/python\n",
            "  \u001b[31m   \u001b[0m copying pyarrow/src/arrow/python/pyarrow.h -> build/lib.macosx-10.9-x86_64-cpython-311/pyarrow/src/arrow/python\n",
            "  \u001b[31m   \u001b[0m copying pyarrow/src/arrow/python/pyarrow_api.h -> build/lib.macosx-10.9-x86_64-cpython-311/pyarrow/src/arrow/python\n",
            "  \u001b[31m   \u001b[0m copying pyarrow/src/arrow/python/pyarrow_lib.h -> build/lib.macosx-10.9-x86_64-cpython-311/pyarrow/src/arrow/python\n",
            "  \u001b[31m   \u001b[0m copying pyarrow/src/arrow/python/python_test.cc -> build/lib.macosx-10.9-x86_64-cpython-311/pyarrow/src/arrow/python\n",
            "  \u001b[31m   \u001b[0m copying pyarrow/src/arrow/python/python_test.h -> build/lib.macosx-10.9-x86_64-cpython-311/pyarrow/src/arrow/python\n",
            "  \u001b[31m   \u001b[0m copying pyarrow/src/arrow/python/python_to_arrow.cc -> build/lib.macosx-10.9-x86_64-cpython-311/pyarrow/src/arrow/python\n",
            "  \u001b[31m   \u001b[0m copying pyarrow/src/arrow/python/python_to_arrow.h -> build/lib.macosx-10.9-x86_64-cpython-311/pyarrow/src/arrow/python\n",
            "  \u001b[31m   \u001b[0m copying pyarrow/src/arrow/python/serialize.cc -> build/lib.macosx-10.9-x86_64-cpython-311/pyarrow/src/arrow/python\n",
            "  \u001b[31m   \u001b[0m copying pyarrow/src/arrow/python/serialize.h -> build/lib.macosx-10.9-x86_64-cpython-311/pyarrow/src/arrow/python\n",
            "  \u001b[31m   \u001b[0m copying pyarrow/src/arrow/python/type_traits.h -> build/lib.macosx-10.9-x86_64-cpython-311/pyarrow/src/arrow/python\n",
            "  \u001b[31m   \u001b[0m copying pyarrow/src/arrow/python/udf.cc -> build/lib.macosx-10.9-x86_64-cpython-311/pyarrow/src/arrow/python\n",
            "  \u001b[31m   \u001b[0m copying pyarrow/src/arrow/python/udf.h -> build/lib.macosx-10.9-x86_64-cpython-311/pyarrow/src/arrow/python\n",
            "  \u001b[31m   \u001b[0m copying pyarrow/src/arrow/python/visibility.h -> build/lib.macosx-10.9-x86_64-cpython-311/pyarrow/src/arrow/python\n",
            "  \u001b[31m   \u001b[0m creating build/lib.macosx-10.9-x86_64-cpython-311/pyarrow/src/arrow/python/vendored\n",
            "  \u001b[31m   \u001b[0m copying pyarrow/src/arrow/python/vendored/CMakeLists.txt -> build/lib.macosx-10.9-x86_64-cpython-311/pyarrow/src/arrow/python/vendored\n",
            "  \u001b[31m   \u001b[0m copying pyarrow/src/arrow/python/vendored/pythoncapi_compat.h -> build/lib.macosx-10.9-x86_64-cpython-311/pyarrow/src/arrow/python/vendored\n",
            "  \u001b[31m   \u001b[0m creating build/lib.macosx-10.9-x86_64-cpython-311/pyarrow/tests\n",
            "  \u001b[31m   \u001b[0m copying pyarrow/tests/__init__.py -> build/lib.macosx-10.9-x86_64-cpython-311/pyarrow/tests\n",
            "  \u001b[31m   \u001b[0m copying pyarrow/tests/arrow_16597.py -> build/lib.macosx-10.9-x86_64-cpython-311/pyarrow/tests\n",
            "  \u001b[31m   \u001b[0m copying pyarrow/tests/arrow_39313.py -> build/lib.macosx-10.9-x86_64-cpython-311/pyarrow/tests\n",
            "  \u001b[31m   \u001b[0m copying pyarrow/tests/arrow_7980.py -> build/lib.macosx-10.9-x86_64-cpython-311/pyarrow/tests\n",
            "  \u001b[31m   \u001b[0m copying pyarrow/tests/bound_function_visit_strings.pyx -> build/lib.macosx-10.9-x86_64-cpython-311/pyarrow/tests\n",
            "  \u001b[31m   \u001b[0m copying pyarrow/tests/conftest.py -> build/lib.macosx-10.9-x86_64-cpython-311/pyarrow/tests\n",
            "  \u001b[31m   \u001b[0m copying pyarrow/tests/extensions.pyx -> build/lib.macosx-10.9-x86_64-cpython-311/pyarrow/tests\n",
            "  \u001b[31m   \u001b[0m copying pyarrow/tests/pandas_examples.py -> build/lib.macosx-10.9-x86_64-cpython-311/pyarrow/tests\n",
            "  \u001b[31m   \u001b[0m copying pyarrow/tests/pandas_threaded_import.py -> build/lib.macosx-10.9-x86_64-cpython-311/pyarrow/tests\n",
            "  \u001b[31m   \u001b[0m copying pyarrow/tests/pyarrow_cython_example.pyx -> build/lib.macosx-10.9-x86_64-cpython-311/pyarrow/tests\n",
            "  \u001b[31m   \u001b[0m copying pyarrow/tests/read_record_batch.py -> build/lib.macosx-10.9-x86_64-cpython-311/pyarrow/tests\n",
            "  \u001b[31m   \u001b[0m copying pyarrow/tests/strategies.py -> build/lib.macosx-10.9-x86_64-cpython-311/pyarrow/tests\n",
            "  \u001b[31m   \u001b[0m copying pyarrow/tests/test_acero.py -> build/lib.macosx-10.9-x86_64-cpython-311/pyarrow/tests\n",
            "  \u001b[31m   \u001b[0m copying pyarrow/tests/test_adhoc_memory_leak.py -> build/lib.macosx-10.9-x86_64-cpython-311/pyarrow/tests\n",
            "  \u001b[31m   \u001b[0m copying pyarrow/tests/test_array.py -> build/lib.macosx-10.9-x86_64-cpython-311/pyarrow/tests\n",
            "  \u001b[31m   \u001b[0m copying pyarrow/tests/test_builder.py -> build/lib.macosx-10.9-x86_64-cpython-311/pyarrow/tests\n",
            "  \u001b[31m   \u001b[0m copying pyarrow/tests/test_cffi.py -> build/lib.macosx-10.9-x86_64-cpython-311/pyarrow/tests\n",
            "  \u001b[31m   \u001b[0m copying pyarrow/tests/test_compute.py -> build/lib.macosx-10.9-x86_64-cpython-311/pyarrow/tests\n",
            "  \u001b[31m   \u001b[0m copying pyarrow/tests/test_convert_builtin.py -> build/lib.macosx-10.9-x86_64-cpython-311/pyarrow/tests\n",
            "  \u001b[31m   \u001b[0m copying pyarrow/tests/test_cpp_internals.py -> build/lib.macosx-10.9-x86_64-cpython-311/pyarrow/tests\n",
            "  \u001b[31m   \u001b[0m copying pyarrow/tests/test_csv.py -> build/lib.macosx-10.9-x86_64-cpython-311/pyarrow/tests\n",
            "  \u001b[31m   \u001b[0m copying pyarrow/tests/test_cuda.py -> build/lib.macosx-10.9-x86_64-cpython-311/pyarrow/tests\n",
            "  \u001b[31m   \u001b[0m copying pyarrow/tests/test_cuda_numba_interop.py -> build/lib.macosx-10.9-x86_64-cpython-311/pyarrow/tests\n",
            "  \u001b[31m   \u001b[0m copying pyarrow/tests/test_cython.py -> build/lib.macosx-10.9-x86_64-cpython-311/pyarrow/tests\n",
            "  \u001b[31m   \u001b[0m copying pyarrow/tests/test_dataset.py -> build/lib.macosx-10.9-x86_64-cpython-311/pyarrow/tests\n",
            "  \u001b[31m   \u001b[0m copying pyarrow/tests/test_dataset_encryption.py -> build/lib.macosx-10.9-x86_64-cpython-311/pyarrow/tests\n",
            "  \u001b[31m   \u001b[0m copying pyarrow/tests/test_deprecations.py -> build/lib.macosx-10.9-x86_64-cpython-311/pyarrow/tests\n",
            "  \u001b[31m   \u001b[0m copying pyarrow/tests/test_device.py -> build/lib.macosx-10.9-x86_64-cpython-311/pyarrow/tests\n",
            "  \u001b[31m   \u001b[0m copying pyarrow/tests/test_dlpack.py -> build/lib.macosx-10.9-x86_64-cpython-311/pyarrow/tests\n",
            "  \u001b[31m   \u001b[0m copying pyarrow/tests/test_exec_plan.py -> build/lib.macosx-10.9-x86_64-cpython-311/pyarrow/tests\n",
            "  \u001b[31m   \u001b[0m copying pyarrow/tests/test_extension_type.py -> build/lib.macosx-10.9-x86_64-cpython-311/pyarrow/tests\n",
            "  \u001b[31m   \u001b[0m copying pyarrow/tests/test_feather.py -> build/lib.macosx-10.9-x86_64-cpython-311/pyarrow/tests\n",
            "  \u001b[31m   \u001b[0m copying pyarrow/tests/test_flight.py -> build/lib.macosx-10.9-x86_64-cpython-311/pyarrow/tests\n",
            "  \u001b[31m   \u001b[0m copying pyarrow/tests/test_flight_async.py -> build/lib.macosx-10.9-x86_64-cpython-311/pyarrow/tests\n",
            "  \u001b[31m   \u001b[0m copying pyarrow/tests/test_fs.py -> build/lib.macosx-10.9-x86_64-cpython-311/pyarrow/tests\n",
            "  \u001b[31m   \u001b[0m copying pyarrow/tests/test_gandiva.py -> build/lib.macosx-10.9-x86_64-cpython-311/pyarrow/tests\n",
            "  \u001b[31m   \u001b[0m copying pyarrow/tests/test_gdb.py -> build/lib.macosx-10.9-x86_64-cpython-311/pyarrow/tests\n",
            "  \u001b[31m   \u001b[0m copying pyarrow/tests/test_io.py -> build/lib.macosx-10.9-x86_64-cpython-311/pyarrow/tests\n",
            "  \u001b[31m   \u001b[0m copying pyarrow/tests/test_ipc.py -> build/lib.macosx-10.9-x86_64-cpython-311/pyarrow/tests\n",
            "  \u001b[31m   \u001b[0m copying pyarrow/tests/test_json.py -> build/lib.macosx-10.9-x86_64-cpython-311/pyarrow/tests\n",
            "  \u001b[31m   \u001b[0m copying pyarrow/tests/test_jvm.py -> build/lib.macosx-10.9-x86_64-cpython-311/pyarrow/tests\n",
            "  \u001b[31m   \u001b[0m copying pyarrow/tests/test_memory.py -> build/lib.macosx-10.9-x86_64-cpython-311/pyarrow/tests\n",
            "  \u001b[31m   \u001b[0m copying pyarrow/tests/test_misc.py -> build/lib.macosx-10.9-x86_64-cpython-311/pyarrow/tests\n",
            "  \u001b[31m   \u001b[0m copying pyarrow/tests/test_orc.py -> build/lib.macosx-10.9-x86_64-cpython-311/pyarrow/tests\n",
            "  \u001b[31m   \u001b[0m copying pyarrow/tests/test_pandas.py -> build/lib.macosx-10.9-x86_64-cpython-311/pyarrow/tests\n",
            "  \u001b[31m   \u001b[0m copying pyarrow/tests/test_scalars.py -> build/lib.macosx-10.9-x86_64-cpython-311/pyarrow/tests\n",
            "  \u001b[31m   \u001b[0m copying pyarrow/tests/test_schema.py -> build/lib.macosx-10.9-x86_64-cpython-311/pyarrow/tests\n",
            "  \u001b[31m   \u001b[0m copying pyarrow/tests/test_sparse_tensor.py -> build/lib.macosx-10.9-x86_64-cpython-311/pyarrow/tests\n",
            "  \u001b[31m   \u001b[0m copying pyarrow/tests/test_strategies.py -> build/lib.macosx-10.9-x86_64-cpython-311/pyarrow/tests\n",
            "  \u001b[31m   \u001b[0m copying pyarrow/tests/test_substrait.py -> build/lib.macosx-10.9-x86_64-cpython-311/pyarrow/tests\n",
            "  \u001b[31m   \u001b[0m copying pyarrow/tests/test_table.py -> build/lib.macosx-10.9-x86_64-cpython-311/pyarrow/tests\n",
            "  \u001b[31m   \u001b[0m copying pyarrow/tests/test_tensor.py -> build/lib.macosx-10.9-x86_64-cpython-311/pyarrow/tests\n",
            "  \u001b[31m   \u001b[0m copying pyarrow/tests/test_types.py -> build/lib.macosx-10.9-x86_64-cpython-311/pyarrow/tests\n",
            "  \u001b[31m   \u001b[0m copying pyarrow/tests/test_udf.py -> build/lib.macosx-10.9-x86_64-cpython-311/pyarrow/tests\n",
            "  \u001b[31m   \u001b[0m copying pyarrow/tests/test_util.py -> build/lib.macosx-10.9-x86_64-cpython-311/pyarrow/tests\n",
            "  \u001b[31m   \u001b[0m copying pyarrow/tests/test_without_numpy.py -> build/lib.macosx-10.9-x86_64-cpython-311/pyarrow/tests\n",
            "  \u001b[31m   \u001b[0m copying pyarrow/tests/util.py -> build/lib.macosx-10.9-x86_64-cpython-311/pyarrow/tests\n",
            "  \u001b[31m   \u001b[0m copying pyarrow/tests/wsgi_examples.py -> build/lib.macosx-10.9-x86_64-cpython-311/pyarrow/tests\n",
            "  \u001b[31m   \u001b[0m creating build/lib.macosx-10.9-x86_64-cpython-311/pyarrow/tests/data/feather\n",
            "  \u001b[31m   \u001b[0m copying pyarrow/tests/data/feather/v0.17.0.version.2-compression.lz4.feather -> build/lib.macosx-10.9-x86_64-cpython-311/pyarrow/tests/data/feather\n",
            "  \u001b[31m   \u001b[0m creating build/lib.macosx-10.9-x86_64-cpython-311/pyarrow/tests/data/orc\n",
            "  \u001b[31m   \u001b[0m copying pyarrow/tests/data/orc/README.md -> build/lib.macosx-10.9-x86_64-cpython-311/pyarrow/tests/data/orc\n",
            "  \u001b[31m   \u001b[0m copying pyarrow/tests/data/orc/TestOrcFile.emptyFile.jsn.gz -> build/lib.macosx-10.9-x86_64-cpython-311/pyarrow/tests/data/orc\n",
            "  \u001b[31m   \u001b[0m copying pyarrow/tests/data/orc/TestOrcFile.emptyFile.orc -> build/lib.macosx-10.9-x86_64-cpython-311/pyarrow/tests/data/orc\n",
            "  \u001b[31m   \u001b[0m copying pyarrow/tests/data/orc/TestOrcFile.test1.jsn.gz -> build/lib.macosx-10.9-x86_64-cpython-311/pyarrow/tests/data/orc\n",
            "  \u001b[31m   \u001b[0m copying pyarrow/tests/data/orc/TestOrcFile.test1.orc -> build/lib.macosx-10.9-x86_64-cpython-311/pyarrow/tests/data/orc\n",
            "  \u001b[31m   \u001b[0m copying pyarrow/tests/data/orc/TestOrcFile.testDate1900.jsn.gz -> build/lib.macosx-10.9-x86_64-cpython-311/pyarrow/tests/data/orc\n",
            "  \u001b[31m   \u001b[0m copying pyarrow/tests/data/orc/TestOrcFile.testDate1900.orc -> build/lib.macosx-10.9-x86_64-cpython-311/pyarrow/tests/data/orc\n",
            "  \u001b[31m   \u001b[0m copying pyarrow/tests/data/orc/decimal.jsn.gz -> build/lib.macosx-10.9-x86_64-cpython-311/pyarrow/tests/data/orc\n",
            "  \u001b[31m   \u001b[0m copying pyarrow/tests/data/orc/decimal.orc -> build/lib.macosx-10.9-x86_64-cpython-311/pyarrow/tests/data/orc\n",
            "  \u001b[31m   \u001b[0m creating build/lib.macosx-10.9-x86_64-cpython-311/pyarrow/tests/data/parquet\n",
            "  \u001b[31m   \u001b[0m copying pyarrow/tests/data/parquet/v0.7.1.all-named-index.parquet -> build/lib.macosx-10.9-x86_64-cpython-311/pyarrow/tests/data/parquet\n",
            "  \u001b[31m   \u001b[0m copying pyarrow/tests/data/parquet/v0.7.1.column-metadata-handling.parquet -> build/lib.macosx-10.9-x86_64-cpython-311/pyarrow/tests/data/parquet\n",
            "  \u001b[31m   \u001b[0m copying pyarrow/tests/data/parquet/v0.7.1.parquet -> build/lib.macosx-10.9-x86_64-cpython-311/pyarrow/tests/data/parquet\n",
            "  \u001b[31m   \u001b[0m copying pyarrow/tests/data/parquet/v0.7.1.some-named-index.parquet -> build/lib.macosx-10.9-x86_64-cpython-311/pyarrow/tests/data/parquet\n",
            "  \u001b[31m   \u001b[0m creating build/lib.macosx-10.9-x86_64-cpython-311/pyarrow/tests/interchange\n",
            "  \u001b[31m   \u001b[0m copying pyarrow/tests/interchange/__init__.py -> build/lib.macosx-10.9-x86_64-cpython-311/pyarrow/tests/interchange\n",
            "  \u001b[31m   \u001b[0m copying pyarrow/tests/interchange/test_conversion.py -> build/lib.macosx-10.9-x86_64-cpython-311/pyarrow/tests/interchange\n",
            "  \u001b[31m   \u001b[0m copying pyarrow/tests/interchange/test_interchange_spec.py -> build/lib.macosx-10.9-x86_64-cpython-311/pyarrow/tests/interchange\n",
            "  \u001b[31m   \u001b[0m creating build/lib.macosx-10.9-x86_64-cpython-311/pyarrow/tests/parquet\n",
            "  \u001b[31m   \u001b[0m copying pyarrow/tests/parquet/__init__.py -> build/lib.macosx-10.9-x86_64-cpython-311/pyarrow/tests/parquet\n",
            "  \u001b[31m   \u001b[0m copying pyarrow/tests/parquet/common.py -> build/lib.macosx-10.9-x86_64-cpython-311/pyarrow/tests/parquet\n",
            "  \u001b[31m   \u001b[0m copying pyarrow/tests/parquet/conftest.py -> build/lib.macosx-10.9-x86_64-cpython-311/pyarrow/tests/parquet\n",
            "  \u001b[31m   \u001b[0m copying pyarrow/tests/parquet/encryption.py -> build/lib.macosx-10.9-x86_64-cpython-311/pyarrow/tests/parquet\n",
            "  \u001b[31m   \u001b[0m copying pyarrow/tests/parquet/test_basic.py -> build/lib.macosx-10.9-x86_64-cpython-311/pyarrow/tests/parquet\n",
            "  \u001b[31m   \u001b[0m copying pyarrow/tests/parquet/test_compliant_nested_type.py -> build/lib.macosx-10.9-x86_64-cpython-311/pyarrow/tests/parquet\n",
            "  \u001b[31m   \u001b[0m copying pyarrow/tests/parquet/test_data_types.py -> build/lib.macosx-10.9-x86_64-cpython-311/pyarrow/tests/parquet\n",
            "  \u001b[31m   \u001b[0m copying pyarrow/tests/parquet/test_dataset.py -> build/lib.macosx-10.9-x86_64-cpython-311/pyarrow/tests/parquet\n",
            "  \u001b[31m   \u001b[0m copying pyarrow/tests/parquet/test_datetime.py -> build/lib.macosx-10.9-x86_64-cpython-311/pyarrow/tests/parquet\n",
            "  \u001b[31m   \u001b[0m copying pyarrow/tests/parquet/test_encryption.py -> build/lib.macosx-10.9-x86_64-cpython-311/pyarrow/tests/parquet\n",
            "  \u001b[31m   \u001b[0m copying pyarrow/tests/parquet/test_metadata.py -> build/lib.macosx-10.9-x86_64-cpython-311/pyarrow/tests/parquet\n",
            "  \u001b[31m   \u001b[0m copying pyarrow/tests/parquet/test_pandas.py -> build/lib.macosx-10.9-x86_64-cpython-311/pyarrow/tests/parquet\n",
            "  \u001b[31m   \u001b[0m copying pyarrow/tests/parquet/test_parquet_file.py -> build/lib.macosx-10.9-x86_64-cpython-311/pyarrow/tests/parquet\n",
            "  \u001b[31m   \u001b[0m copying pyarrow/tests/parquet/test_parquet_writer.py -> build/lib.macosx-10.9-x86_64-cpython-311/pyarrow/tests/parquet\n",
            "  \u001b[31m   \u001b[0m creating build/lib.macosx-10.9-x86_64-cpython-311/pyarrow/vendored\n",
            "  \u001b[31m   \u001b[0m copying pyarrow/vendored/__init__.py -> build/lib.macosx-10.9-x86_64-cpython-311/pyarrow/vendored\n",
            "  \u001b[31m   \u001b[0m copying pyarrow/vendored/docscrape.py -> build/lib.macosx-10.9-x86_64-cpython-311/pyarrow/vendored\n",
            "  \u001b[31m   \u001b[0m copying pyarrow/vendored/version.py -> build/lib.macosx-10.9-x86_64-cpython-311/pyarrow/vendored\n",
            "  \u001b[31m   \u001b[0m running build_ext\n",
            "  \u001b[31m   \u001b[0m creating /private/var/folders/00/6_k5gtjs44j43gmr99ht1d980000gn/T/pip-install-w71ywfo9/pyarrow_5464a34ba0af47008cd696656d363fff/build/temp.macosx-10.9-x86_64-cpython-311\n",
            "  \u001b[31m   \u001b[0m -- Running cmake for PyArrow\n",
            "  \u001b[31m   \u001b[0m cmake -DCMAKE_INSTALL_PREFIX=/private/var/folders/00/6_k5gtjs44j43gmr99ht1d980000gn/T/pip-install-w71ywfo9/pyarrow_5464a34ba0af47008cd696656d363fff/build/lib.macosx-10.9-x86_64-cpython-311/pyarrow -DPYTHON_EXECUTABLE=/Users/sarahbouchet/anaconda3/bin/python -DPython3_EXECUTABLE=/Users/sarahbouchet/anaconda3/bin/python -DPYARROW_CXXFLAGS= -DPYARROW_BUNDLE_ARROW_CPP=off -DPYARROW_BUNDLE_CYTHON_CPP=off -DPYARROW_GENERATE_COVERAGE=off -DCMAKE_BUILD_TYPE=release /private/var/folders/00/6_k5gtjs44j43gmr99ht1d980000gn/T/pip-install-w71ywfo9/pyarrow_5464a34ba0af47008cd696656d363fff\n",
            "  \u001b[31m   \u001b[0m error: command 'cmake' failed: No such file or directory\n",
            "  \u001b[31m   \u001b[0m \u001b[31m[end of output]\u001b[0m\n",
            "  \n",
            "  \u001b[1;35mnote\u001b[0m: This error originates from a subprocess, and is likely not a problem with pip.\n",
            "\u001b[?25h\u001b[31m  ERROR: Failed building wheel for pyarrow\u001b[0m\u001b[31m\n",
            "\u001b[0mFailed to build pyarrow\n",
            "\u001b[31mERROR: Could not build wheels for pyarrow, which is required to install pyproject.toml-based projects\u001b[0m\u001b[31m\n",
            "\u001b[0mCollecting sentence-transformers\n",
            "  Obtaining dependency information for sentence-transformers from https://files.pythonhosted.org/packages/05/89/7eb147a37b7f31d3c815543df539d8b8d0425e93296c875cc87719d65232/sentence_transformers-3.4.1-py3-none-any.whl.metadata\n",
            "  Using cached sentence_transformers-3.4.1-py3-none-any.whl.metadata (10 kB)\n",
            "Collecting transformers<5.0.0,>=4.41.0 (from sentence-transformers)\n",
            "  Obtaining dependency information for transformers<5.0.0,>=4.41.0 from https://files.pythonhosted.org/packages/20/37/1f29af63e9c30156a3ed6ebc2754077016577c094f31de7b2631e5d379eb/transformers-4.49.0-py3-none-any.whl.metadata\n",
            "  Using cached transformers-4.49.0-py3-none-any.whl.metadata (44 kB)\n",
            "Requirement already satisfied: tqdm in /Users/sarahbouchet/anaconda3/lib/python3.11/site-packages (from sentence-transformers) (4.65.0)\n",
            "Requirement already satisfied: torch>=1.11.0 in /Users/sarahbouchet/anaconda3/lib/python3.11/site-packages (from sentence-transformers) (2.2.2)\n",
            "Requirement already satisfied: scikit-learn in /Users/sarahbouchet/anaconda3/lib/python3.11/site-packages (from sentence-transformers) (1.3.0)\n",
            "Requirement already satisfied: scipy in /Users/sarahbouchet/anaconda3/lib/python3.11/site-packages (from sentence-transformers) (1.10.1)\n",
            "Collecting huggingface-hub>=0.20.0 (from sentence-transformers)\n",
            "  Obtaining dependency information for huggingface-hub>=0.20.0 from https://files.pythonhosted.org/packages/ae/05/75b90de9093de0aadafc868bb2fa7c57651fd8f45384adf39bd77f63980d/huggingface_hub-0.29.1-py3-none-any.whl.metadata\n",
            "  Using cached huggingface_hub-0.29.1-py3-none-any.whl.metadata (13 kB)\n",
            "Requirement already satisfied: Pillow in /Users/sarahbouchet/anaconda3/lib/python3.11/site-packages (from sentence-transformers) (9.4.0)\n",
            "Requirement already satisfied: filelock in /Users/sarahbouchet/anaconda3/lib/python3.11/site-packages (from huggingface-hub>=0.20.0->sentence-transformers) (3.9.0)\n",
            "Collecting fsspec>=2023.5.0 (from huggingface-hub>=0.20.0->sentence-transformers)\n",
            "  Obtaining dependency information for fsspec>=2023.5.0 from https://files.pythonhosted.org/packages/e2/94/758680531a00d06e471ef649e4ec2ed6bf185356a7f9fbfbb7368a40bd49/fsspec-2025.2.0-py3-none-any.whl.metadata\n",
            "  Using cached fsspec-2025.2.0-py3-none-any.whl.metadata (11 kB)\n",
            "Requirement already satisfied: packaging>=20.9 in /Users/sarahbouchet/anaconda3/lib/python3.11/site-packages (from huggingface-hub>=0.20.0->sentence-transformers) (23.0)\n",
            "Requirement already satisfied: pyyaml>=5.1 in /Users/sarahbouchet/anaconda3/lib/python3.11/site-packages (from huggingface-hub>=0.20.0->sentence-transformers) (6.0)\n",
            "Requirement already satisfied: requests in /Users/sarahbouchet/anaconda3/lib/python3.11/site-packages (from huggingface-hub>=0.20.0->sentence-transformers) (2.31.0)\n",
            "Requirement already satisfied: typing-extensions>=3.7.4.3 in /Users/sarahbouchet/anaconda3/lib/python3.11/site-packages (from huggingface-hub>=0.20.0->sentence-transformers) (4.12.2)\n",
            "Requirement already satisfied: sympy in /Users/sarahbouchet/anaconda3/lib/python3.11/site-packages (from torch>=1.11.0->sentence-transformers) (1.11.1)\n",
            "Requirement already satisfied: networkx in /Users/sarahbouchet/anaconda3/lib/python3.11/site-packages (from torch>=1.11.0->sentence-transformers) (3.1)\n",
            "Requirement already satisfied: jinja2 in /Users/sarahbouchet/anaconda3/lib/python3.11/site-packages (from torch>=1.11.0->sentence-transformers) (3.1.2)\n",
            "Requirement already satisfied: numpy>=1.17 in /Users/sarahbouchet/anaconda3/lib/python3.11/site-packages (from transformers<5.0.0,>=4.41.0->sentence-transformers) (1.24.4)\n",
            "Requirement already satisfied: regex!=2019.12.17 in /Users/sarahbouchet/anaconda3/lib/python3.11/site-packages (from transformers<5.0.0,>=4.41.0->sentence-transformers) (2022.7.9)\n",
            "Collecting tokenizers<0.22,>=0.21 (from transformers<5.0.0,>=4.41.0->sentence-transformers)\n",
            "  Obtaining dependency information for tokenizers<0.22,>=0.21 from https://files.pythonhosted.org/packages/b0/5c/8b09607b37e996dc47e70d6a7b6f4bdd4e4d5ab22fe49d7374565c7fefaf/tokenizers-0.21.0-cp39-abi3-macosx_10_12_x86_64.whl.metadata\n",
            "  Using cached tokenizers-0.21.0-cp39-abi3-macosx_10_12_x86_64.whl.metadata (6.7 kB)\n",
            "Collecting safetensors>=0.4.1 (from transformers<5.0.0,>=4.41.0->sentence-transformers)\n",
            "  Obtaining dependency information for safetensors>=0.4.1 from https://files.pythonhosted.org/packages/18/ae/88f6c49dbd0cc4da0e08610019a3c78a7d390879a919411a410a1876d03a/safetensors-0.5.3-cp38-abi3-macosx_10_12_x86_64.whl.metadata\n",
            "  Using cached safetensors-0.5.3-cp38-abi3-macosx_10_12_x86_64.whl.metadata (3.8 kB)\n",
            "Requirement already satisfied: joblib>=1.1.1 in /Users/sarahbouchet/anaconda3/lib/python3.11/site-packages (from scikit-learn->sentence-transformers) (1.2.0)\n",
            "Requirement already satisfied: threadpoolctl>=2.0.0 in /Users/sarahbouchet/anaconda3/lib/python3.11/site-packages (from scikit-learn->sentence-transformers) (2.2.0)\n",
            "Requirement already satisfied: MarkupSafe>=2.0 in /Users/sarahbouchet/anaconda3/lib/python3.11/site-packages (from jinja2->torch>=1.11.0->sentence-transformers) (2.1.1)\n",
            "Requirement already satisfied: charset-normalizer<4,>=2 in /Users/sarahbouchet/anaconda3/lib/python3.11/site-packages (from requests->huggingface-hub>=0.20.0->sentence-transformers) (2.0.4)\n",
            "Requirement already satisfied: idna<4,>=2.5 in /Users/sarahbouchet/anaconda3/lib/python3.11/site-packages (from requests->huggingface-hub>=0.20.0->sentence-transformers) (3.4)\n",
            "Requirement already satisfied: urllib3<3,>=1.21.1 in /Users/sarahbouchet/anaconda3/lib/python3.11/site-packages (from requests->huggingface-hub>=0.20.0->sentence-transformers) (1.26.16)\n",
            "Requirement already satisfied: certifi>=2017.4.17 in /Users/sarahbouchet/anaconda3/lib/python3.11/site-packages (from requests->huggingface-hub>=0.20.0->sentence-transformers) (2024.2.2)\n",
            "Requirement already satisfied: mpmath>=0.19 in /Users/sarahbouchet/anaconda3/lib/python3.11/site-packages (from sympy->torch>=1.11.0->sentence-transformers) (1.3.0)\n",
            "Using cached sentence_transformers-3.4.1-py3-none-any.whl (275 kB)\n",
            "Using cached huggingface_hub-0.29.1-py3-none-any.whl (468 kB)\n",
            "Downloading transformers-4.49.0-py3-none-any.whl (10.0 MB)\n",
            "\u001b[2K   \u001b[90m━━━━━━━━━━━━━━━━━━━━━━━━━━━━━━━━━━━━━━━━\u001b[0m \u001b[32m10.0/10.0 MB\u001b[0m \u001b[31m780.8 kB/s\u001b[0m eta \u001b[36m0:00:00\u001b[0m00:01\u001b[0m0:01\u001b[0m\n",
            "\u001b[?25hDownloading fsspec-2025.2.0-py3-none-any.whl (184 kB)\n",
            "\u001b[2K   \u001b[90m━━━━━━━━━━━━━━━━━━━━━━━━━━━━━━━━━━━━━━━━\u001b[0m \u001b[32m184.5/184.5 kB\u001b[0m \u001b[31m1.0 MB/s\u001b[0m eta \u001b[36m0:00:00\u001b[0m00:01\u001b[0m00:01\u001b[0m\n",
            "\u001b[?25hDownloading safetensors-0.5.3-cp38-abi3-macosx_10_12_x86_64.whl (436 kB)\n",
            "\u001b[2K   \u001b[90m━━━━━━━━━━━━━━━━━━━━━━━━━━━━━━━━━━━━━━━\u001b[0m \u001b[32m436.9/436.9 kB\u001b[0m \u001b[31m479.5 kB/s\u001b[0m eta \u001b[36m0:00:00\u001b[0ma \u001b[36m0:00:01\u001b[0m\n",
            "\u001b[?25hDownloading tokenizers-0.21.0-cp39-abi3-macosx_10_12_x86_64.whl (2.6 MB)\n",
            "\u001b[2K   \u001b[90m━━━━━━━━━━━━━━━━━━━━━━━━━━━━━━━━━━━━━━━━\u001b[0m \u001b[32m2.6/2.6 MB\u001b[0m \u001b[31m745.2 kB/s\u001b[0m eta \u001b[36m0:00:00\u001b[0m00:01\u001b[0m00:01\u001b[0m\n",
            "\u001b[?25hInstalling collected packages: safetensors, fsspec, huggingface-hub, tokenizers, transformers, sentence-transformers\n",
            "  Attempting uninstall: fsspec\n",
            "    Found existing installation: fsspec 2023.3.0\n",
            "    Uninstalling fsspec-2023.3.0:\n",
            "      Successfully uninstalled fsspec-2023.3.0\n",
            "  Attempting uninstall: transformers\n",
            "    Found existing installation: transformers 2.1.1\n",
            "    Uninstalling transformers-2.1.1:\n",
            "      Successfully uninstalled transformers-2.1.1\n",
            "\u001b[31mERROR: pip's dependency resolver does not currently take into account all the packages that are installed. This behaviour is the source of the following dependency conflicts.\n",
            "s3fs 2023.3.0 requires fsspec==2023.3.0, but you have fsspec 2025.2.0 which is incompatible.\u001b[0m\u001b[31m\n",
            "\u001b[0mSuccessfully installed fsspec-2025.2.0 huggingface-hub-0.29.1 safetensors-0.5.3 sentence-transformers-3.4.1 tokenizers-0.21.0 transformers-4.49.0\n",
            "Collecting accelerate\n",
            "  Obtaining dependency information for accelerate from https://files.pythonhosted.org/packages/0a/f6/791b9d7eb371a2f385da3b7f1769ced72ead7bf09744637ea2985c83d7ee/accelerate-1.4.0-py3-none-any.whl.metadata\n",
            "  Downloading accelerate-1.4.0-py3-none-any.whl.metadata (19 kB)\n",
            "Requirement already satisfied: numpy<3.0.0,>=1.17 in /Users/sarahbouchet/anaconda3/lib/python3.11/site-packages (from accelerate) (1.24.4)\n",
            "Requirement already satisfied: packaging>=20.0 in /Users/sarahbouchet/anaconda3/lib/python3.11/site-packages (from accelerate) (23.0)\n",
            "Requirement already satisfied: psutil in /Users/sarahbouchet/anaconda3/lib/python3.11/site-packages (from accelerate) (5.9.0)\n",
            "Requirement already satisfied: pyyaml in /Users/sarahbouchet/anaconda3/lib/python3.11/site-packages (from accelerate) (6.0)\n",
            "Requirement already satisfied: torch>=2.0.0 in /Users/sarahbouchet/anaconda3/lib/python3.11/site-packages (from accelerate) (2.2.2)\n",
            "Requirement already satisfied: huggingface-hub>=0.21.0 in /Users/sarahbouchet/anaconda3/lib/python3.11/site-packages (from accelerate) (0.29.1)\n",
            "Requirement already satisfied: safetensors>=0.4.3 in /Users/sarahbouchet/anaconda3/lib/python3.11/site-packages (from accelerate) (0.5.3)\n",
            "Requirement already satisfied: filelock in /Users/sarahbouchet/anaconda3/lib/python3.11/site-packages (from huggingface-hub>=0.21.0->accelerate) (3.9.0)\n",
            "Requirement already satisfied: fsspec>=2023.5.0 in /Users/sarahbouchet/anaconda3/lib/python3.11/site-packages (from huggingface-hub>=0.21.0->accelerate) (2025.2.0)\n",
            "Requirement already satisfied: requests in /Users/sarahbouchet/anaconda3/lib/python3.11/site-packages (from huggingface-hub>=0.21.0->accelerate) (2.31.0)\n",
            "Requirement already satisfied: tqdm>=4.42.1 in /Users/sarahbouchet/anaconda3/lib/python3.11/site-packages (from huggingface-hub>=0.21.0->accelerate) (4.65.0)\n",
            "Requirement already satisfied: typing-extensions>=3.7.4.3 in /Users/sarahbouchet/anaconda3/lib/python3.11/site-packages (from huggingface-hub>=0.21.0->accelerate) (4.12.2)\n",
            "Requirement already satisfied: sympy in /Users/sarahbouchet/anaconda3/lib/python3.11/site-packages (from torch>=2.0.0->accelerate) (1.11.1)\n",
            "Requirement already satisfied: networkx in /Users/sarahbouchet/anaconda3/lib/python3.11/site-packages (from torch>=2.0.0->accelerate) (3.1)\n",
            "Requirement already satisfied: jinja2 in /Users/sarahbouchet/anaconda3/lib/python3.11/site-packages (from torch>=2.0.0->accelerate) (3.1.2)\n",
            "Requirement already satisfied: MarkupSafe>=2.0 in /Users/sarahbouchet/anaconda3/lib/python3.11/site-packages (from jinja2->torch>=2.0.0->accelerate) (2.1.1)\n",
            "Requirement already satisfied: charset-normalizer<4,>=2 in /Users/sarahbouchet/anaconda3/lib/python3.11/site-packages (from requests->huggingface-hub>=0.21.0->accelerate) (2.0.4)\n",
            "Requirement already satisfied: idna<4,>=2.5 in /Users/sarahbouchet/anaconda3/lib/python3.11/site-packages (from requests->huggingface-hub>=0.21.0->accelerate) (3.4)\n",
            "Requirement already satisfied: urllib3<3,>=1.21.1 in /Users/sarahbouchet/anaconda3/lib/python3.11/site-packages (from requests->huggingface-hub>=0.21.0->accelerate) (1.26.16)\n",
            "Requirement already satisfied: certifi>=2017.4.17 in /Users/sarahbouchet/anaconda3/lib/python3.11/site-packages (from requests->huggingface-hub>=0.21.0->accelerate) (2024.2.2)\n",
            "Requirement already satisfied: mpmath>=0.19 in /Users/sarahbouchet/anaconda3/lib/python3.11/site-packages (from sympy->torch>=2.0.0->accelerate) (1.3.0)\n",
            "Downloading accelerate-1.4.0-py3-none-any.whl (342 kB)\n",
            "\u001b[2K   \u001b[90m━━━━━━━━━━━━━━━━━━━━━━━━━━━━━━━━━━━━━━━\u001b[0m \u001b[32m342.1/342.1 kB\u001b[0m \u001b[31m766.4 kB/s\u001b[0m eta \u001b[36m0:00:00\u001b[0m \u001b[36m0:00:01\u001b[0mm\n",
            "\u001b[?25hInstalling collected packages: accelerate\n",
            "Successfully installed accelerate-1.4.0\n",
            "Requirement already satisfied: plotly in /Users/sarahbouchet/anaconda3/lib/python3.11/site-packages (5.9.0)\n",
            "Requirement already satisfied: tenacity>=6.2.0 in /Users/sarahbouchet/anaconda3/lib/python3.11/site-packages (from plotly) (8.2.2)\n"
          ]
        }
      ],
      "source": [
        "# Some libraries to use later\n",
        "!pip install gensim\n",
        "!pip install scikit-learn matplotlib\n",
        "!pip install transformers torch\n",
        "!pip install datasets\n",
        "!pip install -U sentence-transformers\n",
        "!pip install -U accelerate\n",
        "!pip install plotly"
      ]
    },
    {
      "cell_type": "code",
      "execution_count": 4,
      "metadata": {
        "id": "iwld_Y1DlmVq"
      },
      "outputs": [
        {
          "ename": "ImportError",
          "evalue": "dlopen(/Users/sarahbouchet/anaconda3/lib/python3.11/site-packages/scipy/sparse/linalg/_isolve/_iterative.cpython-311-darwin.so, 0x0002): Library not loaded: @rpath/libopenblas.0.dylib\n  Referenced from: <68B373BB-0E19-38F4-8A21-488037FB5BFB> /Users/sarahbouchet/anaconda3/lib/python3.11/site-packages/scipy/sparse/linalg/_isolve/_iterative.cpython-311-darwin.so\n  Reason: tried: '/Users/sarahbouchet/anaconda3/lib/python3.11/site-packages/scipy/sparse/linalg/_isolve/../../../../../../libopenblas.0.dylib' (no such file), '/Users/sarahbouchet/anaconda3/lib/python3.11/site-packages/scipy/sparse/linalg/_isolve/../../../../../../libopenblas.0.dylib' (no such file), '/Users/sarahbouchet/anaconda3/bin/../lib/libopenblas.0.dylib' (no such file), '/Users/sarahbouchet/anaconda3/bin/../lib/libopenblas.0.dylib' (no such file), '/usr/local/lib/libopenblas.0.dylib' (no such file), '/usr/lib/libopenblas.0.dylib' (no such file, not in dyld cache)",
          "output_type": "error",
          "traceback": [
            "\u001b[0;31m---------------------------------------------------------------------------\u001b[0m",
            "\u001b[0;31mImportError\u001b[0m                               Traceback (most recent call last)",
            "Cell \u001b[0;32mIn[4], line 7\u001b[0m\n\u001b[1;32m      5\u001b[0m \u001b[38;5;28;01mimport\u001b[39;00m \u001b[38;5;21;01mpandas\u001b[39;00m \u001b[38;5;28;01mas\u001b[39;00m \u001b[38;5;21;01mpd\u001b[39;00m\n\u001b[1;32m      6\u001b[0m \u001b[38;5;28;01mimport\u001b[39;00m \u001b[38;5;21;01mseaborn\u001b[39;00m \u001b[38;5;28;01mas\u001b[39;00m \u001b[38;5;21;01msns\u001b[39;00m\n\u001b[0;32m----> 7\u001b[0m \u001b[38;5;28;01mfrom\u001b[39;00m \u001b[38;5;21;01mscipy\u001b[39;00m \u001b[38;5;28;01mimport\u001b[39;00m stats\n\u001b[1;32m      8\u001b[0m \u001b[38;5;28;01mimport\u001b[39;00m \u001b[38;5;21;01mmatplotlib\u001b[39;00m\u001b[38;5;21;01m.\u001b[39;00m\u001b[38;5;21;01mpyplot\u001b[39;00m \u001b[38;5;28;01mas\u001b[39;00m \u001b[38;5;21;01mplt\u001b[39;00m\n",
            "File \u001b[0;32m~/anaconda3/lib/python3.11/site-packages/scipy/__init__.py:200\u001b[0m, in \u001b[0;36m__getattr__\u001b[0;34m(name)\u001b[0m\n\u001b[1;32m    198\u001b[0m \u001b[38;5;28;01mdef\u001b[39;00m \u001b[38;5;21m__getattr__\u001b[39m(name):\n\u001b[1;32m    199\u001b[0m     \u001b[38;5;28;01mif\u001b[39;00m name \u001b[38;5;129;01min\u001b[39;00m submodules:\n\u001b[0;32m--> 200\u001b[0m         \u001b[38;5;28;01mreturn\u001b[39;00m _importlib\u001b[38;5;241m.\u001b[39mimport_module(\u001b[38;5;124mf\u001b[39m\u001b[38;5;124m'\u001b[39m\u001b[38;5;124mscipy.\u001b[39m\u001b[38;5;132;01m{\u001b[39;00mname\u001b[38;5;132;01m}\u001b[39;00m\u001b[38;5;124m'\u001b[39m)\n\u001b[1;32m    201\u001b[0m     \u001b[38;5;28;01melse\u001b[39;00m:\n\u001b[1;32m    202\u001b[0m         \u001b[38;5;28;01mtry\u001b[39;00m:\n",
            "File \u001b[0;32m~/anaconda3/lib/python3.11/importlib/__init__.py:126\u001b[0m, in \u001b[0;36mimport_module\u001b[0;34m(name, package)\u001b[0m\n\u001b[1;32m    124\u001b[0m             \u001b[38;5;28;01mbreak\u001b[39;00m\n\u001b[1;32m    125\u001b[0m         level \u001b[38;5;241m+\u001b[39m\u001b[38;5;241m=\u001b[39m \u001b[38;5;241m1\u001b[39m\n\u001b[0;32m--> 126\u001b[0m \u001b[38;5;28;01mreturn\u001b[39;00m _bootstrap\u001b[38;5;241m.\u001b[39m_gcd_import(name[level:], package, level)\n",
            "File \u001b[0;32m~/anaconda3/lib/python3.11/site-packages/scipy/stats/__init__.py:485\u001b[0m\n\u001b[1;32m      1\u001b[0m \u001b[38;5;124;03m\"\"\"\u001b[39;00m\n\u001b[1;32m      2\u001b[0m \u001b[38;5;124;03m.. _statsrefmanual:\u001b[39;00m\n\u001b[1;32m      3\u001b[0m \n\u001b[0;32m   (...)\u001b[0m\n\u001b[1;32m    480\u001b[0m \n\u001b[1;32m    481\u001b[0m \u001b[38;5;124;03m\"\"\"\u001b[39;00m\n\u001b[1;32m    483\u001b[0m \u001b[38;5;28;01mfrom\u001b[39;00m \u001b[38;5;21;01m.\u001b[39;00m\u001b[38;5;21;01m_warnings_errors\u001b[39;00m \u001b[38;5;28;01mimport\u001b[39;00m (ConstantInputWarning, NearConstantInputWarning,\n\u001b[1;32m    484\u001b[0m                                DegenerateDataWarning, FitError)\n\u001b[0;32m--> 485\u001b[0m \u001b[38;5;28;01mfrom\u001b[39;00m \u001b[38;5;21;01m.\u001b[39;00m\u001b[38;5;21;01m_stats_py\u001b[39;00m \u001b[38;5;28;01mimport\u001b[39;00m \u001b[38;5;241m*\u001b[39m\n\u001b[1;32m    486\u001b[0m \u001b[38;5;28;01mfrom\u001b[39;00m \u001b[38;5;21;01m.\u001b[39;00m\u001b[38;5;21;01m_variation\u001b[39;00m \u001b[38;5;28;01mimport\u001b[39;00m variation\n\u001b[1;32m    487\u001b[0m \u001b[38;5;28;01mfrom\u001b[39;00m \u001b[38;5;21;01m.\u001b[39;00m\u001b[38;5;21;01mdistributions\u001b[39;00m \u001b[38;5;28;01mimport\u001b[39;00m \u001b[38;5;241m*\u001b[39m\n",
            "File \u001b[0;32m~/anaconda3/lib/python3.11/site-packages/scipy/stats/_stats_py.py:39\u001b[0m\n\u001b[1;32m     36\u001b[0m \u001b[38;5;28;01mfrom\u001b[39;00m \u001b[38;5;21;01mnumpy\u001b[39;00m\u001b[38;5;21;01m.\u001b[39;00m\u001b[38;5;21;01mlib\u001b[39;00m \u001b[38;5;28;01mimport\u001b[39;00m NumpyVersion\n\u001b[1;32m     37\u001b[0m \u001b[38;5;28;01mfrom\u001b[39;00m \u001b[38;5;21;01mnumpy\u001b[39;00m\u001b[38;5;21;01m.\u001b[39;00m\u001b[38;5;21;01mtesting\u001b[39;00m \u001b[38;5;28;01mimport\u001b[39;00m suppress_warnings\n\u001b[0;32m---> 39\u001b[0m \u001b[38;5;28;01mfrom\u001b[39;00m \u001b[38;5;21;01mscipy\u001b[39;00m\u001b[38;5;21;01m.\u001b[39;00m\u001b[38;5;21;01mspatial\u001b[39;00m\u001b[38;5;21;01m.\u001b[39;00m\u001b[38;5;21;01mdistance\u001b[39;00m \u001b[38;5;28;01mimport\u001b[39;00m cdist\n\u001b[1;32m     40\u001b[0m \u001b[38;5;28;01mfrom\u001b[39;00m \u001b[38;5;21;01mscipy\u001b[39;00m\u001b[38;5;21;01m.\u001b[39;00m\u001b[38;5;21;01mndimage\u001b[39;00m \u001b[38;5;28;01mimport\u001b[39;00m _measurements\n\u001b[1;32m     41\u001b[0m \u001b[38;5;28;01mfrom\u001b[39;00m \u001b[38;5;21;01mscipy\u001b[39;00m\u001b[38;5;21;01m.\u001b[39;00m\u001b[38;5;21;01m_lib\u001b[39;00m\u001b[38;5;21;01m.\u001b[39;00m\u001b[38;5;21;01m_util\u001b[39;00m \u001b[38;5;28;01mimport\u001b[39;00m (check_random_state, MapWrapper,\n\u001b[1;32m     42\u001b[0m                               rng_integers, _rename_parameter, _contains_nan)\n",
            "File \u001b[0;32m~/anaconda3/lib/python3.11/site-packages/scipy/spatial/__init__.py:105\u001b[0m\n\u001b[1;32m      1\u001b[0m \u001b[38;5;124;03m\"\"\"\u001b[39;00m\n\u001b[1;32m      2\u001b[0m \u001b[38;5;124;03m=============================================================\u001b[39;00m\n\u001b[1;32m      3\u001b[0m \u001b[38;5;124;03mSpatial algorithms and data structures (:mod:`scipy.spatial`)\u001b[39;00m\n\u001b[0;32m   (...)\u001b[0m\n\u001b[1;32m    102\u001b[0m \u001b[38;5;124;03m   QhullError\u001b[39;00m\n\u001b[1;32m    103\u001b[0m \u001b[38;5;124;03m\"\"\"\u001b[39;00m\n\u001b[0;32m--> 105\u001b[0m \u001b[38;5;28;01mfrom\u001b[39;00m \u001b[38;5;21;01m.\u001b[39;00m\u001b[38;5;21;01m_kdtree\u001b[39;00m \u001b[38;5;28;01mimport\u001b[39;00m \u001b[38;5;241m*\u001b[39m\n\u001b[1;32m    106\u001b[0m \u001b[38;5;28;01mfrom\u001b[39;00m \u001b[38;5;21;01m.\u001b[39;00m\u001b[38;5;21;01m_ckdtree\u001b[39;00m \u001b[38;5;28;01mimport\u001b[39;00m \u001b[38;5;241m*\u001b[39m\n\u001b[1;32m    107\u001b[0m \u001b[38;5;28;01mfrom\u001b[39;00m \u001b[38;5;21;01m.\u001b[39;00m\u001b[38;5;21;01m_qhull\u001b[39;00m \u001b[38;5;28;01mimport\u001b[39;00m \u001b[38;5;241m*\u001b[39m\n",
            "File \u001b[0;32m~/anaconda3/lib/python3.11/site-packages/scipy/spatial/_kdtree.py:4\u001b[0m\n\u001b[1;32m      1\u001b[0m \u001b[38;5;66;03m# Copyright Anne M. Archibald 2008\u001b[39;00m\n\u001b[1;32m      2\u001b[0m \u001b[38;5;66;03m# Released under the scipy license\u001b[39;00m\n\u001b[1;32m      3\u001b[0m \u001b[38;5;28;01mimport\u001b[39;00m \u001b[38;5;21;01mnumpy\u001b[39;00m \u001b[38;5;28;01mas\u001b[39;00m \u001b[38;5;21;01mnp\u001b[39;00m\n\u001b[0;32m----> 4\u001b[0m \u001b[38;5;28;01mfrom\u001b[39;00m \u001b[38;5;21;01m.\u001b[39;00m\u001b[38;5;21;01m_ckdtree\u001b[39;00m \u001b[38;5;28;01mimport\u001b[39;00m cKDTree, cKDTreeNode\n\u001b[1;32m      6\u001b[0m __all__ \u001b[38;5;241m=\u001b[39m [\u001b[38;5;124m'\u001b[39m\u001b[38;5;124mminkowski_distance_p\u001b[39m\u001b[38;5;124m'\u001b[39m, \u001b[38;5;124m'\u001b[39m\u001b[38;5;124mminkowski_distance\u001b[39m\u001b[38;5;124m'\u001b[39m,\n\u001b[1;32m      7\u001b[0m            \u001b[38;5;124m'\u001b[39m\u001b[38;5;124mdistance_matrix\u001b[39m\u001b[38;5;124m'\u001b[39m,\n\u001b[1;32m      8\u001b[0m            \u001b[38;5;124m'\u001b[39m\u001b[38;5;124mRectangle\u001b[39m\u001b[38;5;124m'\u001b[39m, \u001b[38;5;124m'\u001b[39m\u001b[38;5;124mKDTree\u001b[39m\u001b[38;5;124m'\u001b[39m]\n\u001b[1;32m     11\u001b[0m \u001b[38;5;28;01mdef\u001b[39;00m \u001b[38;5;21mminkowski_distance_p\u001b[39m(x, y, p\u001b[38;5;241m=\u001b[39m\u001b[38;5;241m2\u001b[39m):\n",
            "File \u001b[0;32m_ckdtree.pyx:10\u001b[0m, in \u001b[0;36minit scipy.spatial._ckdtree\u001b[0;34m()\u001b[0m\n",
            "File \u001b[0;32m~/anaconda3/lib/python3.11/site-packages/scipy/sparse/__init__.py:283\u001b[0m\n\u001b[1;32m    278\u001b[0m \u001b[38;5;28;01mfrom\u001b[39;00m \u001b[38;5;21;01m.\u001b[39;00m\u001b[38;5;21;01m_arrays\u001b[39;00m \u001b[38;5;28;01mimport\u001b[39;00m (\n\u001b[1;32m    279\u001b[0m     csr_array, csc_array, lil_array, dok_array, coo_array, dia_array, bsr_array\n\u001b[1;32m    280\u001b[0m )\n\u001b[1;32m    282\u001b[0m \u001b[38;5;66;03m# For backward compatibility with v0.19.\u001b[39;00m\n\u001b[0;32m--> 283\u001b[0m \u001b[38;5;28;01mfrom\u001b[39;00m \u001b[38;5;21;01m.\u001b[39;00m \u001b[38;5;28;01mimport\u001b[39;00m csgraph\n\u001b[1;32m    285\u001b[0m \u001b[38;5;66;03m# Deprecated namespaces, to be removed in v2.0.0\u001b[39;00m\n\u001b[1;32m    286\u001b[0m \u001b[38;5;28;01mfrom\u001b[39;00m \u001b[38;5;21;01m.\u001b[39;00m \u001b[38;5;28;01mimport\u001b[39;00m (\n\u001b[1;32m    287\u001b[0m     base, bsr, compressed, construct, coo, csc, csr, data, dia, dok, extract,\n\u001b[1;32m    288\u001b[0m     lil, sparsetools, sputils\n\u001b[1;32m    289\u001b[0m )\n",
            "File \u001b[0;32m~/anaconda3/lib/python3.11/site-packages/scipy/sparse/csgraph/__init__.py:185\u001b[0m\n\u001b[1;32m    157\u001b[0m __docformat__ \u001b[38;5;241m=\u001b[39m \u001b[38;5;124m\"\u001b[39m\u001b[38;5;124mrestructuredtext en\u001b[39m\u001b[38;5;124m\"\u001b[39m\n\u001b[1;32m    159\u001b[0m __all__ \u001b[38;5;241m=\u001b[39m [\u001b[38;5;124m'\u001b[39m\u001b[38;5;124mconnected_components\u001b[39m\u001b[38;5;124m'\u001b[39m,\n\u001b[1;32m    160\u001b[0m            \u001b[38;5;124m'\u001b[39m\u001b[38;5;124mlaplacian\u001b[39m\u001b[38;5;124m'\u001b[39m,\n\u001b[1;32m    161\u001b[0m            \u001b[38;5;124m'\u001b[39m\u001b[38;5;124mshortest_path\u001b[39m\u001b[38;5;124m'\u001b[39m,\n\u001b[0;32m   (...)\u001b[0m\n\u001b[1;32m    182\u001b[0m            \u001b[38;5;124m'\u001b[39m\u001b[38;5;124mcsgraph_to_masked\u001b[39m\u001b[38;5;124m'\u001b[39m,\n\u001b[1;32m    183\u001b[0m            \u001b[38;5;124m'\u001b[39m\u001b[38;5;124mNegativeCycleError\u001b[39m\u001b[38;5;124m'\u001b[39m]\n\u001b[0;32m--> 185\u001b[0m \u001b[38;5;28;01mfrom\u001b[39;00m \u001b[38;5;21;01m.\u001b[39;00m\u001b[38;5;21;01m_laplacian\u001b[39;00m \u001b[38;5;28;01mimport\u001b[39;00m laplacian\n\u001b[1;32m    186\u001b[0m \u001b[38;5;28;01mfrom\u001b[39;00m \u001b[38;5;21;01m.\u001b[39;00m\u001b[38;5;21;01m_shortest_path\u001b[39;00m \u001b[38;5;28;01mimport\u001b[39;00m (\n\u001b[1;32m    187\u001b[0m     shortest_path, floyd_warshall, dijkstra, bellman_ford, johnson,\n\u001b[1;32m    188\u001b[0m     NegativeCycleError\n\u001b[1;32m    189\u001b[0m )\n\u001b[1;32m    190\u001b[0m \u001b[38;5;28;01mfrom\u001b[39;00m \u001b[38;5;21;01m.\u001b[39;00m\u001b[38;5;21;01m_traversal\u001b[39;00m \u001b[38;5;28;01mimport\u001b[39;00m (\n\u001b[1;32m    191\u001b[0m     breadth_first_order, depth_first_order, breadth_first_tree,\n\u001b[1;32m    192\u001b[0m     depth_first_tree, connected_components\n\u001b[1;32m    193\u001b[0m )\n",
            "File \u001b[0;32m~/anaconda3/lib/python3.11/site-packages/scipy/sparse/csgraph/_laplacian.py:7\u001b[0m\n\u001b[1;32m      5\u001b[0m \u001b[38;5;28;01mimport\u001b[39;00m \u001b[38;5;21;01mnumpy\u001b[39;00m \u001b[38;5;28;01mas\u001b[39;00m \u001b[38;5;21;01mnp\u001b[39;00m\n\u001b[1;32m      6\u001b[0m \u001b[38;5;28;01mfrom\u001b[39;00m \u001b[38;5;21;01mscipy\u001b[39;00m\u001b[38;5;21;01m.\u001b[39;00m\u001b[38;5;21;01msparse\u001b[39;00m \u001b[38;5;28;01mimport\u001b[39;00m isspmatrix\n\u001b[0;32m----> 7\u001b[0m \u001b[38;5;28;01mfrom\u001b[39;00m \u001b[38;5;21;01mscipy\u001b[39;00m\u001b[38;5;21;01m.\u001b[39;00m\u001b[38;5;21;01msparse\u001b[39;00m\u001b[38;5;21;01m.\u001b[39;00m\u001b[38;5;21;01mlinalg\u001b[39;00m \u001b[38;5;28;01mimport\u001b[39;00m LinearOperator\n\u001b[1;32m     10\u001b[0m \u001b[38;5;66;03m###############################################################################\u001b[39;00m\n\u001b[1;32m     11\u001b[0m \u001b[38;5;66;03m# Graph laplacian\u001b[39;00m\n\u001b[1;32m     12\u001b[0m \u001b[38;5;28;01mdef\u001b[39;00m \u001b[38;5;21mlaplacian\u001b[39m(\n\u001b[1;32m     13\u001b[0m     csgraph,\n\u001b[1;32m     14\u001b[0m     normed\u001b[38;5;241m=\u001b[39m\u001b[38;5;28;01mFalse\u001b[39;00m,\n\u001b[0;32m   (...)\u001b[0m\n\u001b[1;32m     21\u001b[0m     symmetrized\u001b[38;5;241m=\u001b[39m\u001b[38;5;28;01mFalse\u001b[39;00m,\n\u001b[1;32m     22\u001b[0m ):\n",
            "File \u001b[0;32m~/anaconda3/lib/python3.11/site-packages/scipy/sparse/linalg/__init__.py:120\u001b[0m\n\u001b[1;32m      1\u001b[0m \u001b[38;5;124;03m\"\"\"\u001b[39;00m\n\u001b[1;32m      2\u001b[0m \u001b[38;5;124;03mSparse linear algebra (:mod:`scipy.sparse.linalg`)\u001b[39;00m\n\u001b[1;32m      3\u001b[0m \u001b[38;5;124;03m==================================================\u001b[39;00m\n\u001b[0;32m   (...)\u001b[0m\n\u001b[1;32m    117\u001b[0m \n\u001b[1;32m    118\u001b[0m \u001b[38;5;124;03m\"\"\"\u001b[39;00m\n\u001b[0;32m--> 120\u001b[0m \u001b[38;5;28;01mfrom\u001b[39;00m \u001b[38;5;21;01m.\u001b[39;00m\u001b[38;5;21;01m_isolve\u001b[39;00m \u001b[38;5;28;01mimport\u001b[39;00m \u001b[38;5;241m*\u001b[39m\n\u001b[1;32m    121\u001b[0m \u001b[38;5;28;01mfrom\u001b[39;00m \u001b[38;5;21;01m.\u001b[39;00m\u001b[38;5;21;01m_dsolve\u001b[39;00m \u001b[38;5;28;01mimport\u001b[39;00m \u001b[38;5;241m*\u001b[39m\n\u001b[1;32m    122\u001b[0m \u001b[38;5;28;01mfrom\u001b[39;00m \u001b[38;5;21;01m.\u001b[39;00m\u001b[38;5;21;01m_interface\u001b[39;00m \u001b[38;5;28;01mimport\u001b[39;00m \u001b[38;5;241m*\u001b[39m\n",
            "File \u001b[0;32m~/anaconda3/lib/python3.11/site-packages/scipy/sparse/linalg/_isolve/__init__.py:4\u001b[0m\n\u001b[1;32m      1\u001b[0m \u001b[38;5;124m\"\u001b[39m\u001b[38;5;124mIterative Solvers for Sparse Linear Systems\u001b[39m\u001b[38;5;124m\"\u001b[39m\n\u001b[1;32m      3\u001b[0m \u001b[38;5;66;03m#from info import __doc__\u001b[39;00m\n\u001b[0;32m----> 4\u001b[0m \u001b[38;5;28;01mfrom\u001b[39;00m \u001b[38;5;21;01m.\u001b[39;00m\u001b[38;5;21;01miterative\u001b[39;00m \u001b[38;5;28;01mimport\u001b[39;00m \u001b[38;5;241m*\u001b[39m\n\u001b[1;32m      5\u001b[0m \u001b[38;5;28;01mfrom\u001b[39;00m \u001b[38;5;21;01m.\u001b[39;00m\u001b[38;5;21;01mminres\u001b[39;00m \u001b[38;5;28;01mimport\u001b[39;00m minres\n\u001b[1;32m      6\u001b[0m \u001b[38;5;28;01mfrom\u001b[39;00m \u001b[38;5;21;01m.\u001b[39;00m\u001b[38;5;21;01mlgmres\u001b[39;00m \u001b[38;5;28;01mimport\u001b[39;00m lgmres\n",
            "File \u001b[0;32m~/anaconda3/lib/python3.11/site-packages/scipy/sparse/linalg/_isolve/iterative.py:9\u001b[0m\n\u001b[1;32m      6\u001b[0m \u001b[38;5;28;01mfrom\u001b[39;00m \u001b[38;5;21;01mtextwrap\u001b[39;00m \u001b[38;5;28;01mimport\u001b[39;00m dedent\n\u001b[1;32m      7\u001b[0m \u001b[38;5;28;01mimport\u001b[39;00m \u001b[38;5;21;01mnumpy\u001b[39;00m \u001b[38;5;28;01mas\u001b[39;00m \u001b[38;5;21;01mnp\u001b[39;00m\n\u001b[0;32m----> 9\u001b[0m \u001b[38;5;28;01mfrom\u001b[39;00m \u001b[38;5;21;01m.\u001b[39;00m \u001b[38;5;28;01mimport\u001b[39;00m _iterative\n\u001b[1;32m     11\u001b[0m \u001b[38;5;28;01mfrom\u001b[39;00m \u001b[38;5;21;01mscipy\u001b[39;00m\u001b[38;5;21;01m.\u001b[39;00m\u001b[38;5;21;01msparse\u001b[39;00m\u001b[38;5;21;01m.\u001b[39;00m\u001b[38;5;21;01mlinalg\u001b[39;00m\u001b[38;5;21;01m.\u001b[39;00m\u001b[38;5;21;01m_interface\u001b[39;00m \u001b[38;5;28;01mimport\u001b[39;00m LinearOperator\n\u001b[1;32m     12\u001b[0m \u001b[38;5;28;01mfrom\u001b[39;00m \u001b[38;5;21;01m.\u001b[39;00m\u001b[38;5;21;01mutils\u001b[39;00m \u001b[38;5;28;01mimport\u001b[39;00m make_system\n",
            "\u001b[0;31mImportError\u001b[0m: dlopen(/Users/sarahbouchet/anaconda3/lib/python3.11/site-packages/scipy/sparse/linalg/_isolve/_iterative.cpython-311-darwin.so, 0x0002): Library not loaded: @rpath/libopenblas.0.dylib\n  Referenced from: <68B373BB-0E19-38F4-8A21-488037FB5BFB> /Users/sarahbouchet/anaconda3/lib/python3.11/site-packages/scipy/sparse/linalg/_isolve/_iterative.cpython-311-darwin.so\n  Reason: tried: '/Users/sarahbouchet/anaconda3/lib/python3.11/site-packages/scipy/sparse/linalg/_isolve/../../../../../../libopenblas.0.dylib' (no such file), '/Users/sarahbouchet/anaconda3/lib/python3.11/site-packages/scipy/sparse/linalg/_isolve/../../../../../../libopenblas.0.dylib' (no such file), '/Users/sarahbouchet/anaconda3/bin/../lib/libopenblas.0.dylib' (no such file), '/Users/sarahbouchet/anaconda3/bin/../lib/libopenblas.0.dylib' (no such file), '/usr/local/lib/libopenblas.0.dylib' (no such file), '/usr/lib/libopenblas.0.dylib' (no such file, not in dyld cache)"
          ]
        }
      ],
      "source": [
        "%matplotlib inline\n",
        "\n",
        "import networkx as nx\n",
        "from networkx.algorithms import community\n",
        "import pandas as pd\n",
        "import seaborn as sns\n",
        "from scipy import stats\n",
        "import matplotlib.pyplot as plt"
      ]
    },
    {
      "cell_type": "markdown",
      "metadata": {
        "id": "S9A5Xb9FTwSa"
      },
      "source": [
        "Import of the dataset for the graph :"
      ]
    },
    {
      "cell_type": "code",
      "execution_count": 5,
      "metadata": {
        "id": "Cmkkdwj_dn_8"
      },
      "outputs": [],
      "source": [
        "path_data = '/Users/sarahbouchet/Desktop/M2_TSE/S2/Web_mining/Project_documents/database_formated_for_NetworkX.graphml'\n",
        "\n",
        "graph = nx.read_graphml(path_data)"
      ]
    },
    {
      "cell_type": "markdown",
      "metadata": {
        "id": "WKQYTrcOK8kj"
      },
      "source": [
        "# 1.1 Dataset exploration"
      ]
    },
    {
      "cell_type": "markdown",
      "metadata": {
        "id": "pgqU5_5-LGNb"
      },
      "source": [
        "Looking at the format of our graph, we have different attributes for each nodes, depending on the type of the node. We are strating by looking at how many unique values we have for the \"labels\" attributes. Indeed, the \"labels\" inform us about the type of the node as summarize in the pdf description of the data.\n"
      ]
    },
    {
      "cell_type": "code",
      "execution_count": 6,
      "metadata": {
        "colab": {
          "base_uri": "https://localhost:8080/"
        },
        "id": "5xS_YkbvK5ud",
        "outputId": "f90bf9ef-3de3-4309-9617-f4a80373e26b"
      },
      "outputs": [
        {
          "name": "stdout",
          "output_type": "stream",
          "text": [
            "Distincts types of nodes using 'labels' attribut: {':Event', ':PostCategory', ':Hashtag', ':Tweet', ':User'}\n"
          ]
        }
      ],
      "source": [
        "\n",
        "unique_labels = set(data.get(\"labels\") for _, data in graph.nodes(data=True))\n",
        "\n",
        "print(\"Distincts types of nodes using 'labels' attribut:\", unique_labels)"
      ]
    },
    {
      "cell_type": "markdown",
      "metadata": {
        "id": "gOuodQJrMic_"
      },
      "source": [
        "We are finding the 5 types of information we were expected."
      ]
    },
    {
      "cell_type": "code",
      "execution_count": 4,
      "metadata": {
        "colab": {
          "base_uri": "https://localhost:8080/"
        },
        "id": "4lm3th52Mz34",
        "outputId": "9faa7114-920b-412d-fecb-bb3d18256907"
      },
      "outputs": [
        {
          "name": "stdout",
          "output_type": "stream",
          "text": [
            "Number of nodes by type:\n",
            ":Tweet: 55986\n",
            ":User: 43141\n",
            ":Hashtag: 10441\n",
            ":Event: 34\n",
            ":PostCategory: 25\n"
          ]
        }
      ],
      "source": [
        "from collections import Counter\n",
        "\n",
        "# Compter les occurrences de chaque type de nœud\n",
        "label_counts = Counter(data.get(\"labels\") for _, data in graph.nodes(data=True))\n",
        "\n",
        "# Trier par ordre décroissant (du plus fréquent au moins fréquent)\n",
        "sorted_labels = sorted(label_counts.items(), key=lambda x: x[1], reverse=True)\n",
        "\n",
        "# Afficher tous les types de nœuds\n",
        "print(\"Number of nodes by type:\")\n",
        "for label, count in sorted_labels:\n",
        "    print(f\"{label}: {count}\")"
      ]
    },
    {
      "cell_type": "markdown",
      "metadata": {
        "id": "9WN6QEl0MykC"
      },
      "source": [
        "As expected, the biggest number of nodes concerns the tweet, followed by the user and the Hashtag. Our dataset contains 55 986 tweets."
      ]
    },
    {
      "cell_type": "markdown",
      "metadata": {
        "id": "KoXPVi8dNt5n"
      },
      "source": [
        "Now, we will focus on the information we have about the Event. We know the event's nodes have 3 attributes that are : \"EventType\", \"id\", and \"trecisid\".\n",
        "\n",
        "The first thing will be to study how many type of event we have in our dataset.\n"
      ]
    },
    {
      "cell_type": "code",
      "execution_count": 5,
      "metadata": {
        "colab": {
          "base_uri": "https://localhost:8080/"
        },
        "id": "Urc-kaCeOMkJ",
        "outputId": "05c4a2be-4208-494a-96c2-5b737ddf1f2a"
      },
      "outputs": [
        {
          "name": "stdout",
          "output_type": "stream",
          "text": [
            "Number of unique values for 'eventType': 6\n",
            "Unique values of 'eventType': {'typhoon', 'flood', 'earthquake', 'bombing', 'shooting', 'wildfire'}\n"
          ]
        }
      ],
      "source": [
        "# Extraire les valeurs uniques de \"eventType\" pour les nœuds de type \"Event\"\n",
        "event_types = set(data.get(\"eventType\") for _, data in graph.nodes(data=True) if data.get(\"labels\") == \":Event\")\n",
        "\n",
        "# Afficher le nombre de valeurs uniques et les valeurs elles-mêmes\n",
        "print(f\"Number of unique values for 'eventType': {len(event_types)}\")\n",
        "print(f\"Unique values of 'eventType': {event_types}\")"
      ]
    },
    {
      "cell_type": "markdown",
      "metadata": {
        "id": "JpJ-T0AuOXyu"
      },
      "source": [
        "We thus have 6 unique types of general event that users are talking about in our dataset.\n",
        "\n",
        "What is then relevant to know is the importance of each event in the tweets. To answer that, we can use the information given by the attributes \"topic\" from the \"tweet\"'s node."
      ]
    },
    {
      "cell_type": "code",
      "execution_count": 6,
      "metadata": {
        "colab": {
          "base_uri": "https://localhost:8080/"
        },
        "id": "iWZ-k4j6R3Le",
        "outputId": "b32aabeb-4128-4e8e-f251-e05613a24bcd"
      },
      "outputs": [
        {
          "name": "stdout",
          "output_type": "stream",
          "text": [
            "Topics les plus fréquents dans les tweets :\n",
            "TRECIS-CTIT-H-019: 8437\n",
            "TRECIS-CTIT-H-018: 6692\n",
            "TRECIS-CTIT-H-028: 2773\n",
            "TRECIS-CTIT-H-027: 2709\n",
            "TRECIS-CTIT-H-026: 2696\n",
            "TRECIS-CTIT-H-029: 2636\n",
            "TRECIS-CTIT-H-030: 2633\n",
            "TRECIS-CTIT-H-031: 2567\n",
            "TRECIS-CTIT-H-033: 2537\n",
            "TRECIS-CTIT-H-021: 2456\n",
            "TRECIS-CTIT-H-032: 2051\n",
            "TRECIS-CTIT-H-034: 1993\n",
            "TRECIS-CTIT-H-020: 1405\n",
            "TRECIS-CTIT-H-010: 1129\n",
            "TRECIS-CTIT-H-003: 1063\n",
            "TRECIS-CTIT-H-011: 1025\n",
            "TRECIS-CTIT-H-001: 1002\n",
            "TRECIS-CTIT-H-014: 997\n",
            "TRECIS-CTIT-H-005: 975\n",
            "TRECIS-CTIT-H-015: 942\n",
            "TRECIS-CTIT-H-006: 907\n",
            "TRECIS-CTIT-H-004: 893\n",
            "TRECIS-CTIT-H-025: 840\n",
            "TRECIS-CTIT-H-012: 823\n",
            "TRECIS-CTIT-H-022: 733\n",
            "TRECIS-CTIT-H-009: 688\n",
            "TRECIS-CTIT-H-013: 661\n",
            "TRECIS-CTIT-H-023: 390\n",
            "TRECIS-CTIT-H-002: 360\n",
            "TRECIS-CTIT-H-017: 311\n",
            "TRECIS-CTIT-H-007: 247\n",
            "TRECIS-CTIT-H-008: 154\n",
            "TRECIS-CTIT-H-024: 138\n",
            "TRECIS-CTIT-H-016: 123\n"
          ]
        }
      ],
      "source": [
        "from collections import Counter\n",
        "\n",
        "# Créer une liste pour stocker les topics des tweets\n",
        "tweet_topics = []\n",
        "\n",
        "# Parcourir tous les nœuds de type \"Tweet\"\n",
        "for tweet_node, tweet_data in graph.nodes(data=True):\n",
        "    if tweet_data.get(\"labels\") == \":Tweet\":\n",
        "        # Si un attribut \"topic\" existe dans le tweet, l'ajouter à la liste\n",
        "        topic = tweet_data.get(\"topic\")  # Remplacer \"topic\" par l'attribut réel\n",
        "        if topic:  # Vérifie si un topic est présent\n",
        "            tweet_topics.append(topic)\n",
        "\n",
        "# Compter les occurrences de chaque topic\n",
        "topic_counts = Counter(tweet_topics)\n",
        "\n",
        "# Trier les topics par fréquence décroissante\n",
        "sorted_topics = sorted(topic_counts.items(), key=lambda x: x[1], reverse=True)\n",
        "\n",
        "# Afficher les topics triés\n",
        "print(\"Topics les plus fréquents dans les tweets :\")\n",
        "for topic, count in sorted_topics:\n",
        "    print(f\"{topic}: {count}\")"
      ]
    },
    {
      "cell_type": "code",
      "execution_count": 7,
      "metadata": {
        "colab": {
          "base_uri": "https://localhost:8080/"
        },
        "id": "RLZU0pbVSroG",
        "outputId": "e1a85521-143d-46fc-e8d0-c04c17029998"
      },
      "outputs": [
        {
          "name": "stdout",
          "output_type": "stream",
          "text": [
            "Correspondance des topics uniques avec les jours ('inter') de l'événement :\n",
            "Topic: TRECIS-CTIT-H-008, id of the event : italyEarthquakes2012\n",
            "Topic: TRECIS-CTIT-H-016, id of the event : joplinTornado2011\n",
            "Topic: TRECIS-CTIT-H-021, id of the event : parisAttacks2015\n",
            "Topic: TRECIS-CTIT-H-030, id of the event : cycloneKenneth2019\n",
            "Topic: TRECIS-CTIT-H-019, id of the event : nepalEarthquake2015\n",
            "Topic: TRECIS-CTIT-H-004, id of the event : typhoonPablo2012\n",
            "Topic: TRECIS-CTIT-H-006, id of the event : westTexasExplosion2013\n",
            "Topic: TRECIS-CTIT-H-020, id of the event : flSchoolShooting2018\n",
            "Topic: TRECIS-CTIT-H-018, id of the event : typhoonHagupit2014\n",
            "Topic: TRECIS-CTIT-H-027, id of the event : shootingDallas2017\n",
            "Topic: TRECIS-CTIT-H-007, id of the event : guatemalaEarthquake2012\n",
            "Topic: TRECIS-CTIT-H-023, id of the event : fireAndover2019\n",
            "Topic: TRECIS-CTIT-H-032, id of the event : coloradoStemShooting2019\n",
            "Topic: TRECIS-CTIT-H-029, id of the event : albertaWildfires2019\n",
            "Topic: TRECIS-CTIT-H-012, id of the event : bostonBombings2013\n",
            "Topic: TRECIS-CTIT-H-002, id of the event : costaRicaEarthquake2012\n",
            "Topic: TRECIS-CTIT-H-031, id of the event : philippinesEarthquake2019\n",
            "Topic: TRECIS-CTIT-H-003, id of the event : floodColorado2013\n",
            "Topic: TRECIS-CTIT-H-033, id of the event : southAfricaFloods2019\n",
            "Topic: TRECIS-CTIT-H-001, id of the event : fireColorado2012\n",
            "Topic: TRECIS-CTIT-H-014, id of the event : queenslandFloods2013\n",
            "Topic: TRECIS-CTIT-H-034, id of the event : sandiegoSynagogueShooting2019\n",
            "Topic: TRECIS-CTIT-H-009, id of the event : philipinnesFloods2012\n",
            "Topic: TRECIS-CTIT-H-026, id of the event : hurricaneFlorence2018\n",
            "Topic: TRECIS-CTIT-H-010, id of the event : albertaFloods2013\n",
            "Topic: TRECIS-CTIT-H-028, id of the event : fireYMM2016\n",
            "Topic: TRECIS-CTIT-H-015, id of the event : typhoonYolanda2013\n",
            "Topic: TRECIS-CTIT-H-013, id of the event : manilaFloods2013\n",
            "Topic: TRECIS-CTIT-H-011, id of the event : australiaBushfire2013\n",
            "Topic: TRECIS-CTIT-H-025, id of the event : earthquakeBohol2013\n",
            "Topic: TRECIS-CTIT-H-017, id of the event : chileEarthquake2014\n",
            "Topic: TRECIS-CTIT-H-024, id of the event : earthquakeCalifornia2014\n",
            "Topic: TRECIS-CTIT-H-022, id of the event : floodChoco2019\n",
            "Topic: TRECIS-CTIT-H-005, id of the event : laAirportShooting2013\n"
          ]
        }
      ],
      "source": [
        "# Créer un dictionnaire pour stocker la correspondance entre \"topic\" et \"inter\" du nœud \"Event\"\n",
        "topic_to_inter = {}\n",
        "\n",
        "# Créer un ensemble pour les topics uniques\n",
        "unique_topics = set()\n",
        "\n",
        "# Parcourir tous les nœuds de type \"Tweet\" pour extraire les topics uniques\n",
        "for tweet_node, tweet_data in graph.nodes(data=True):\n",
        "    if tweet_data.get(\"labels\") == \":Tweet\":\n",
        "        # Extraire le topic du tweet\n",
        "        topic = tweet_data.get(\"topic\")  # Remplacer \"topic\" par l'attribut réel\n",
        "        if topic:  # Vérifie si un topic est présent\n",
        "            unique_topics.add(topic)\n",
        "\n",
        "# Pour chaque topic unique, associer l'événement et son attribut \"inter\"\n",
        "for topic in unique_topics:\n",
        "    # Parcourir les nœuds de type \"Event\" pour associer le topic à l'événement correspondant\n",
        "    for event_node, event_data in graph.nodes(data=True):\n",
        "        if event_data.get(\"labels\") == \":Event\" and topic in event_data.get(\"trecisid\", \"\"):\n",
        "            # Extraire l'attribut \"inter\" du nœud \"Event\"\n",
        "            id = event_data.get(\"id\")\n",
        "            # Ajouter la correspondance dans le dictionnaire\n",
        "            topic_to_inter[topic] = id\n",
        "\n",
        "# Afficher les résultats\n",
        "print(\"Correspondance des topics uniques avec les jours ('inter') de l'événement :\")\n",
        "for topic, id in topic_to_inter.items():\n",
        "    print(f\"Topic: {topic}, id of the event : {id}\")"
      ]
    },
    {
      "cell_type": "markdown",
      "metadata": {
        "id": "74pA-AH6PwfA"
      },
      "source": [
        "As we can see, the attribute \"topic\" is encoded in a way we can not clearly and explicitly understand. To translate in a more meaningful way, we can use the \"trecisid\" from the Event's nodes to create a connection between the information given by the data of Tweet and Event."
      ]
    },
    {
      "cell_type": "code",
      "execution_count": 8,
      "metadata": {
        "colab": {
          "base_uri": "https://localhost:8080/"
        },
        "id": "blJ9D75YPHqs",
        "outputId": "ed9ae383-cfb2-4dba-ca94-8880fa1497b7"
      },
      "outputs": [
        {
          "name": "stdout",
          "output_type": "stream",
          "text": [
            "Number of unique values for 'event_types_intweets': 34\n",
            "Unique values of 'event_types_intweets': {'TRECIS-CTIT-H-008', 'TRECIS-CTIT-H-016', 'TRECIS-CTIT-H-021', 'TRECIS-CTIT-H-030', 'TRECIS-CTIT-H-019', 'TRECIS-CTIT-H-004', 'TRECIS-CTIT-H-006', 'TRECIS-CTIT-H-020', 'TRECIS-CTIT-H-018', 'TRECIS-CTIT-H-027', 'TRECIS-CTIT-H-007', 'TRECIS-CTIT-H-023', 'TRECIS-CTIT-H-032', 'TRECIS-CTIT-H-029', 'TRECIS-CTIT-H-012', 'TRECIS-CTIT-H-002', 'TRECIS-CTIT-H-031', 'TRECIS-CTIT-H-003', 'TRECIS-CTIT-H-033', 'TRECIS-CTIT-H-001', 'TRECIS-CTIT-H-014', 'TRECIS-CTIT-H-034', 'TRECIS-CTIT-H-009', 'TRECIS-CTIT-H-026', 'TRECIS-CTIT-H-010', 'TRECIS-CTIT-H-028', 'TRECIS-CTIT-H-015', 'TRECIS-CTIT-H-013', 'TRECIS-CTIT-H-011', 'TRECIS-CTIT-H-025', 'TRECIS-CTIT-H-017', 'TRECIS-CTIT-H-024', 'TRECIS-CTIT-H-022', 'TRECIS-CTIT-H-005'}\n"
          ]
        }
      ],
      "source": [
        "# Extraire les valeurs uniques de \"eventType\" pour les nœuds de type \"Event\"\n",
        "event_types_intweets = set(data.get(\"topic\") for _, data in graph.nodes(data=True) if data.get(\"labels\") == \":Tweet\")\n",
        "\n",
        "# Afficher le nombre de valeurs uniques et les valeurs elles-mêmes\n",
        "print(f\"Number of unique values for 'event_types_intweets': {len(event_types_intweets)}\")\n",
        "print(f\"Unique values of 'event_types_intweets': {event_types_intweets}\")"
      ]
    },
    {
      "cell_type": "code",
      "execution_count": 9,
      "metadata": {
        "colab": {
          "base_uri": "https://localhost:8080/"
        },
        "id": "wTOpzDIvPc3T",
        "outputId": "764bf9c9-e0ff-469a-ace4-3ff750147245"
      },
      "outputs": [
        {
          "name": "stdout",
          "output_type": "stream",
          "text": [
            "Number of unique values for 'event_types_intweets': 34\n",
            "Unique values of 'event_types_intweets': {'TRECIS-CTIT-H-008', 'TRECIS-CTIT-H-016', 'TRECIS-CTIT-H-021', 'TRECIS-CTIT-H-030', 'TRECIS-CTIT-H-019', 'TRECIS-CTIT-H-004', 'TRECIS-CTIT-H-006', 'TRECIS-CTIT-H-020', 'TRECIS-CTIT-H-018', 'TRECIS-CTIT-H-027', 'TRECIS-CTIT-H-007', 'TRECIS-CTIT-H-023', 'TRECIS-CTIT-H-032', 'TRECIS-CTIT-H-029', 'TRECIS-CTIT-H-012', 'TRECIS-CTIT-H-002', 'TRECIS-CTIT-H-031', 'TRECIS-CTIT-H-003', 'TRECIS-CTIT-H-033', 'TRECIS-CTIT-H-001', 'TRECIS-CTIT-H-014', 'TRECIS-CTIT-H-034', 'TRECIS-CTIT-H-009', 'TRECIS-CTIT-H-026', 'TRECIS-CTIT-H-010', 'TRECIS-CTIT-H-028', 'TRECIS-CTIT-H-015', 'TRECIS-CTIT-H-013', 'TRECIS-CTIT-H-011', 'TRECIS-CTIT-H-025', 'TRECIS-CTIT-H-017', 'TRECIS-CTIT-H-024', 'TRECIS-CTIT-H-022', 'TRECIS-CTIT-H-005'}\n"
          ]
        }
      ],
      "source": [
        "# Extraire les valeurs uniques de \"eventType\" pour les nœuds de type \"Event\"\n",
        "event_types_intweets = set(data.get(\"trecisid\") for _, data in graph.nodes(data=True) if data.get(\"labels\") == \":Event\")\n",
        "\n",
        "# Afficher le nombre de valeurs uniques et les valeurs elles-mêmes\n",
        "print(f\"Number of unique values for 'event_types_intweets': {len(event_types_intweets)}\")\n",
        "print(f\"Unique values of 'event_types_intweets': {event_types_intweets}\")"
      ]
    },
    {
      "cell_type": "markdown",
      "metadata": {
        "id": "R0sRyvfoR01e"
      },
      "source": [
        "## 1.1.2 Work on tweets and users relations.\n",
        "\n",
        "\n",
        "\n",
        "\n",
        "\n",
        "\n",
        "\n",
        "\n",
        "\n",
        "\n",
        "\n",
        "\n"
      ]
    },
    {
      "cell_type": "code",
      "execution_count": 10,
      "metadata": {
        "colab": {
          "base_uri": "https://localhost:8080/"
        },
        "id": "Rs7jcHCwKc4v",
        "outputId": "4caec5cc-8233-403e-fd35-875fbe8fc1f1"
      },
      "outputs": [
        {
          "name": "stdout",
          "output_type": "stream",
          "text": [
            "Les 5 premiers Tweets et leurs Users :\n",
            "Tweet: 211281973870727170 -> User: 54549327\n",
            "Tweet: 211557401231495171 -> User: 78649756\n",
            "Tweet: 215869691003011072 -> User: 78649756\n",
            "Tweet: 211565974422425600 -> User: 210791628\n",
            "Tweet: 211607187653533697 -> User: 274295451\n"
          ]
        }
      ],
      "source": [
        "# Créer un dictionnaire pour stocker la correspondance entre Tweet et User\n",
        "tweet_to_user = {}\n",
        "\n",
        "# Parcourir tous les edges pour trouver ceux de type \"POSTED\"\n",
        "for u, v, edge_data in graph.edges(data=True):\n",
        "    if edge_data.get(\"label\") == \"POSTED\":\n",
        "        # Trouver le User (u) et le Tweet (v)\n",
        "        user_id = graph.nodes[u].get(\"id\")  # id du User\n",
        "        tweet_id = graph.nodes[v].get(\"id\")  # id du Tweet\n",
        "\n",
        "        # Associer le Tweet à son User\n",
        "        tweet_to_user[tweet_id] = user_id\n",
        "\n",
        "# Afficher les 5 premiers résultats\n",
        "print(\"Les 5 premiers Tweets et leurs Users :\")\n",
        "for i, (tweet, user) in enumerate(tweet_to_user.items()):\n",
        "    if i == 5:\n",
        "        break\n",
        "    print(f\"Tweet: {tweet} -> User: {user}\")"
      ]
    },
    {
      "cell_type": "markdown",
      "metadata": {
        "id": "M4YJ35oyWGDS"
      },
      "source": [
        "To know which user has posted the higher number of tweets :"
      ]
    },
    {
      "cell_type": "code",
      "execution_count": 11,
      "metadata": {
        "colab": {
          "base_uri": "https://localhost:8080/"
        },
        "id": "9e_mMNo_WBcn",
        "outputId": "085e45c9-cdf1-4c3b-b11a-e62e9dbde11b"
      },
      "outputs": [
        {
          "name": "stdout",
          "output_type": "stream",
          "text": [
            "L'utilisateur ayant posté le plus de tweets est : 44728980 avec 95 tweets.\n"
          ]
        }
      ],
      "source": [
        "# Créer un dictionnaire pour compter les tweets par utilisateur\n",
        "user_tweet_count = {}\n",
        "\n",
        "# Parcourir tous les edges pour trouver ceux de type \"POSTED\"\n",
        "for u, v, edge_data in graph.edges(data=True):\n",
        "    if edge_data.get(\"label\") == \"POSTED\":\n",
        "        # Trouver le User (u) et le Tweet (v)\n",
        "        user_id = graph.nodes[u].get(\"id\")  # id du User\n",
        "        tweet_id = graph.nodes[v].get(\"id\")  # id du Tweet\n",
        "\n",
        "        # Incrémenter le compteur de tweets pour cet utilisateur\n",
        "        if user_id in user_tweet_count:\n",
        "            user_tweet_count[user_id] += 1\n",
        "        else:\n",
        "            user_tweet_count[user_id] = 1\n",
        "\n",
        "# Trouver l'utilisateur avec le plus grand nombre de tweets\n",
        "max_user = max(user_tweet_count, key=user_tweet_count.get)\n",
        "max_count = user_tweet_count[max_user]\n",
        "\n",
        "# Afficher l'utilisateur ayant posté le plus de tweets\n",
        "print(f\"L'utilisateur ayant posté le plus de tweets est : {max_user} avec {max_count} tweets.\")"
      ]
    },
    {
      "cell_type": "markdown",
      "metadata": {
        "id": "q0ZOMhQkWTjr"
      },
      "source": [
        "We are now searching for the most tweeted event, using the relation \"Talks_about\" that link an user to an event."
      ]
    },
    {
      "cell_type": "code",
      "execution_count": 12,
      "metadata": {
        "colab": {
          "base_uri": "https://localhost:8080/"
        },
        "id": "4CcmtmUKWtY8",
        "outputId": "34cc8887-a060-41c0-bbf4-2901d837ef97"
      },
      "outputs": [
        {
          "name": "stdout",
          "output_type": "stream",
          "text": [
            "L'événement le plus abordé est : nepalEarthquake2015 avec 5411 utilisateurs qui en ont parlé.\n",
            "L'événement le plus abordé est : earthquake avec 8523 utilisateurs qui en ont parlé.\n"
          ]
        }
      ],
      "source": [
        "# Créer un dictionnaire pour compter combien de fois chaque événement a été abordé\n",
        "event_talk_count = {}\n",
        "eventid_talk_count = {}\n",
        "\n",
        "# Parcourir tous les edges pour trouver ceux de type \"TALKS_ABOUT\"\n",
        "for u, v, edge_data in graph.edges(data=True):\n",
        "    if edge_data.get(\"label\") == \"TALKS_ABOUT\":\n",
        "        # Trouver le User (u) et l'Event (v)\n",
        "        user_id = graph.nodes[u].get(\"id\")  # id du User\n",
        "        event_type = graph.nodes[v].get(\"eventType\")  # id de l'Event\n",
        "        event_id = graph.nodes[v].get(\"id\")  # id de l'Event\n",
        "\n",
        "        # Incrémenter le compteur de l'événement\n",
        "        if event_id in event_talk_count:\n",
        "            event_talk_count[event_id] += 1\n",
        "        else:\n",
        "            event_talk_count[event_id] = 1\n",
        "\n",
        "\n",
        "        if event_type in eventid_talk_count:\n",
        "            eventid_talk_count[event_type] += 1\n",
        "        else:\n",
        "            eventid_talk_count[event_type] = 1\n",
        "\n",
        "# Trouver l'événement le plus abordé\n",
        "max_event = max(event_talk_count, key=event_talk_count.get)\n",
        "max_count = event_talk_count[max_event]\n",
        "\n",
        "max_event_id = max(eventid_talk_count, key=eventid_talk_count.get)\n",
        "max_count_id = eventid_talk_count[max_event_id]\n",
        "\n",
        "# Afficher l'événement le plus abordé et le nombre d'utilisateurs qui en ont parlé\n",
        "print(f\"L'événement le plus abordé est : {max_event} avec {max_count} utilisateurs qui en ont parlé.\")\n",
        "print(f\"L'événement le plus abordé est : {max_event_id} avec {max_count_id} utilisateurs qui en ont parlé.\")"
      ]
    },
    {
      "cell_type": "markdown",
      "metadata": {
        "id": "zIBxCVrxX-ii"
      },
      "source": [
        "# 1.2 Dataset analysis at the event's scale"
      ]
    },
    {
      "cell_type": "markdown",
      "metadata": {
        "id": "Lj3612k14tCh"
      },
      "source": [
        "## 1.2.1 Creation of the database"
      ]
    },
    {
      "cell_type": "markdown",
      "metadata": {
        "id": "Vl9mWoWPYEQK"
      },
      "source": [
        "The goal is now to start creating the dashboard, that should gives us various information at the event scale. As previously shown, we have 6 types of events and thus our analysis will be made at the scale of those 6 types."
      ]
    },
    {
      "cell_type": "markdown",
      "metadata": {
        "id": "EoAuvWYbpOvA"
      },
      "source": [
        "To start with, we are linking each tweet to a particular global event in order to study the distribution of tweets related to each event from a general point of view.\n",
        "For example, if a tweet is about the event \"TRECIS-CTIT-H-012\", we should link the tweet to the relevant general event \"Bombing\" because the translation of this id is \"bostonBombings2013\".\n",
        "As a reminder, we have 6 different types of events."
      ]
    },
    {
      "cell_type": "code",
      "execution_count": 13,
      "metadata": {
        "colab": {
          "base_uri": "https://localhost:8080/"
        },
        "id": "PlpQ7gRammw3",
        "outputId": "0e0fd317-b19d-475e-df83-ba64dcf31df4"
      },
      "outputs": [
        {
          "name": "stdout",
          "output_type": "stream",
          "text": [
            "Tweet ID: n582\n",
            "Topic: TRECIS-CTIT-H-001\n",
            "Event Type: wildfire\n",
            "--------------------------------------------------\n",
            "Tweet ID: n583\n",
            "Topic: TRECIS-CTIT-H-001\n",
            "Event Type: wildfire\n",
            "--------------------------------------------------\n",
            "Tweet ID: n584\n",
            "Topic: TRECIS-CTIT-H-001\n",
            "Event Type: wildfire\n",
            "--------------------------------------------------\n",
            "Tweet ID: n585\n",
            "Topic: TRECIS-CTIT-H-001\n",
            "Event Type: wildfire\n",
            "--------------------------------------------------\n",
            "Tweet ID: n586\n",
            "Topic: TRECIS-CTIT-H-001\n",
            "Event Type: wildfire\n",
            "--------------------------------------------------\n"
          ]
        }
      ],
      "source": [
        "# Dictionnaire pour associer les topics des tweets à leur EventType\n",
        "topic_to_event_type = {}\n",
        "\n",
        "# Parcourir tous les nœuds de type 'Event' pour construire la correspondance topic -> EventType\n",
        "for event_node, event_data in graph.nodes(data=True):\n",
        "    if event_data.get(\"labels\") == \":Event\":  # On vérifie que c'est un nœud de type Event\n",
        "        event_id = event_data.get(\"trecisid\")  # Le 'id' de l'événement (correspond au 'topic' dans le tweet)\n",
        "        event_type = event_data.get(\"eventType\")  # L'EventType explicite de l'événement\n",
        "        if event_id and event_type:\n",
        "            topic_to_event_type[event_id] = event_type  # Associer le 'topic' (id de l'événement) à 'eventType'\n",
        "\n",
        "# Pour chaque tweet, associer son EventType en fonction du topic\n",
        "for tweet_node, tweet_data in graph.nodes(data=True):\n",
        "    if tweet_data.get(\"labels\") == \":Tweet\":  # Vérifier que c'est un nœud de type Tweet\n",
        "        tweet_topic = tweet_data.get(\"topic\")  # Le topic du tweet, à relier à un événement\n",
        "        if tweet_topic and tweet_topic in topic_to_event_type:\n",
        "            event_type_for_tweet = topic_to_event_type[tweet_topic]  # Récupérer l'EventType associé au topic\n",
        "            tweet_data['eventType'] = event_type_for_tweet  # Ajouter l'EventType au tweet\n",
        "\n",
        "# Affichage des 5 premiers tweets avec leur EventType associé\n",
        "counter = 0\n",
        "for tweet_node, tweet_data in graph.nodes(data=True):\n",
        "    if tweet_data.get(\"labels\") == \":Tweet\" and 'eventType' in tweet_data:\n",
        "        print(f\"Tweet ID: {tweet_node}\")\n",
        "        print(f\"Topic: {tweet_data.get('topic')}\")\n",
        "        print(f\"Event Type: {tweet_data['eventType']}\")\n",
        "        print(\"-\" * 50)\n",
        "\n",
        "        counter += 1\n",
        "        if counter == 5:\n",
        "            break  # Afficher seulement les 5 premiers tweets pour vérification"
      ]
    },
    {
      "cell_type": "markdown",
      "metadata": {
        "id": "gEjJvUEo_lug"
      },
      "source": [
        "Now that the link has been created, we can count the number of tweets that concern each general event."
      ]
    },
    {
      "cell_type": "code",
      "execution_count": 14,
      "metadata": {
        "colab": {
          "base_uri": "https://localhost:8080/"
        },
        "id": "4lKcqe8Eqe64",
        "outputId": "6c863751-1331-492f-e318-4353f23be5a6"
      },
      "outputs": [
        {
          "name": "stdout",
          "output_type": "stream",
          "text": [
            "Effectif des tweets par type d'événement :\n",
            "wildfire: 7826 tweets\n",
            "earthquake: 13054 tweets\n",
            "flood: 7808 tweets\n",
            "typhoon: 13979 tweets\n",
            "shooting: 9133 tweets\n",
            "bombing: 4186 tweets\n"
          ]
        }
      ],
      "source": [
        "# Dictionnaire pour compter les tweets par type d'événement\n",
        "event_type_count = {}\n",
        "\n",
        "# Parcourir tous les nœuds de type 'Tweet' pour compter l'effectif par type d'événement\n",
        "for tweet_node, tweet_data in graph.nodes(data=True):\n",
        "    if tweet_data.get(\"labels\") == \":Tweet\" and 'eventType' in tweet_data:\n",
        "        event_type = tweet_data['eventType']  # Le type d'événement associé au tweet\n",
        "\n",
        "        # Compter le nombre de tweets pour chaque type d'événement\n",
        "        if event_type:\n",
        "            if event_type not in event_type_count:\n",
        "                event_type_count[event_type] = 0\n",
        "            event_type_count[event_type] += 1\n",
        "\n",
        "# Affichage des résultats\n",
        "print(\"Effectif des tweets par type d'événement :\")\n",
        "for event_type, count in event_type_count.items():\n",
        "    print(f\"{event_type}: {count} tweets\")"
      ]
    },
    {
      "cell_type": "code",
      "execution_count": 15,
      "metadata": {
        "colab": {
          "base_uri": "https://localhost:8080/",
          "height": 542
        },
        "id": "3DPe5GWF43mL",
        "outputId": "49799a07-25fe-4879-f95b-d3eada064dd8"
      },
      "outputs": [
        {
          "data": {
            "application/vnd.plotly.v1+json": {
              "config": {
                "plotlyServerURL": "https://plot.ly"
              },
              "data": [
                {
                  "line": {
                    "color": "royalblue",
                    "width": 2
                  },
                  "marker": {
                    "color": "royalblue",
                    "opacity": 0.8,
                    "size": 8
                  },
                  "mode": "lines+markers",
                  "name": "Nombre de tweets - typhoon",
                  "type": "scatter",
                  "x": [
                    "2011-05-23",
                    "2011-05-24",
                    "2011-05-25",
                    "2011-05-26",
                    "2011-05-27",
                    "2011-05-28",
                    "2011-05-29",
                    "2011-05-30",
                    "2011-05-31",
                    "2011-06-01",
                    "2011-06-02",
                    "2011-06-03",
                    "2011-06-04",
                    "2011-06-05",
                    "2011-06-06",
                    "2011-06-07",
                    "2011-06-08",
                    "2011-06-09",
                    "2011-06-12",
                    "2011-06-14",
                    "2012-11-30",
                    "2012-12-01",
                    "2012-12-02",
                    "2012-12-03",
                    "2012-12-04",
                    "2012-12-05",
                    "2012-12-06",
                    "2012-12-07",
                    "2012-12-08",
                    "2012-12-09",
                    "2012-12-10",
                    "2012-12-11",
                    "2012-12-12",
                    "2012-12-13",
                    "2012-12-14",
                    "2013-11-06",
                    "2013-11-07",
                    "2013-11-08",
                    "2013-11-09",
                    "2013-11-10",
                    "2013-11-11",
                    "2013-11-12",
                    "2013-11-13",
                    "2013-11-14",
                    "2013-11-15",
                    "2013-11-16",
                    "2013-11-17",
                    "2013-11-18",
                    "2013-11-19",
                    "2013-11-20",
                    "2013-11-21",
                    "2013-11-22",
                    "2013-11-23",
                    "2013-11-24",
                    "2013-11-25",
                    "2013-11-26",
                    "2013-11-27",
                    "2013-11-28",
                    "2013-11-29",
                    "2013-11-30",
                    "2013-12-01",
                    "2013-12-02",
                    "2013-12-03",
                    "2013-12-04",
                    "2013-12-05",
                    "2013-12-07",
                    "2013-12-08",
                    "2013-12-09",
                    "2013-12-10",
                    "2013-12-11",
                    "2013-12-12",
                    "2013-12-14",
                    "2013-12-15",
                    "2013-12-16",
                    "2013-12-17",
                    "2013-12-18",
                    "2013-12-20",
                    "2013-12-24",
                    "2013-12-25",
                    "2013-12-27",
                    "2013-12-28",
                    "2013-12-29",
                    "2014-12-06",
                    "2014-12-07",
                    "2014-12-08",
                    "2014-12-09",
                    "2017-04-06",
                    "2018-04-28",
                    "2018-09-04",
                    "2018-09-09",
                    "2018-09-10",
                    "2018-09-11",
                    "2018-09-12",
                    "2018-09-13",
                    "2018-09-14",
                    "2018-09-15",
                    "2018-09-16",
                    "2018-09-17",
                    "2018-09-18",
                    "2018-09-19",
                    "2019-04-20",
                    "2019-04-21",
                    "2019-04-22",
                    "2019-04-23",
                    "2019-04-24",
                    "2019-04-25",
                    "2019-04-26",
                    "2019-04-27",
                    "2019-04-28",
                    "2019-04-29"
                  ],
                  "y": [
                    10,
                    12,
                    27,
                    9,
                    8,
                    3,
                    10,
                    7,
                    9,
                    5,
                    6,
                    3,
                    2,
                    1,
                    1,
                    2,
                    5,
                    1,
                    1,
                    1,
                    4,
                    6,
                    89,
                    137,
                    219,
                    115,
                    81,
                    60,
                    47,
                    26,
                    20,
                    29,
                    20,
                    26,
                    14,
                    7,
                    33,
                    84,
                    64,
                    84,
                    105,
                    116,
                    78,
                    47,
                    29,
                    32,
                    16,
                    24,
                    25,
                    23,
                    13,
                    4,
                    4,
                    3,
                    13,
                    13,
                    10,
                    6,
                    4,
                    5,
                    6,
                    3,
                    8,
                    6,
                    5,
                    12,
                    1,
                    3,
                    19,
                    15,
                    1,
                    1,
                    3,
                    1,
                    1,
                    7,
                    1,
                    1,
                    1,
                    2,
                    1,
                    2,
                    751,
                    2996,
                    1995,
                    950,
                    1,
                    1,
                    1,
                    1,
                    6,
                    3,
                    322,
                    520,
                    668,
                    419,
                    301,
                    256,
                    147,
                    51,
                    25,
                    58,
                    78,
                    140,
                    279,
                    696,
                    559,
                    244,
                    271,
                    282
                  ]
                }
              ],
              "layout": {
                "autosize": true,
                "hovermode": "closest",
                "paper_bgcolor": "rgba(0,0,0,0)",
                "plot_bgcolor": "white",
                "showlegend": true,
                "template": {
                  "data": {
                    "bar": [
                      {
                        "error_x": {
                          "color": "#2a3f5f"
                        },
                        "error_y": {
                          "color": "#2a3f5f"
                        },
                        "marker": {
                          "line": {
                            "color": "#E5ECF6",
                            "width": 0.5
                          },
                          "pattern": {
                            "fillmode": "overlay",
                            "size": 10,
                            "solidity": 0.2
                          }
                        },
                        "type": "bar"
                      }
                    ],
                    "barpolar": [
                      {
                        "marker": {
                          "line": {
                            "color": "#E5ECF6",
                            "width": 0.5
                          },
                          "pattern": {
                            "fillmode": "overlay",
                            "size": 10,
                            "solidity": 0.2
                          }
                        },
                        "type": "barpolar"
                      }
                    ],
                    "carpet": [
                      {
                        "aaxis": {
                          "endlinecolor": "#2a3f5f",
                          "gridcolor": "white",
                          "linecolor": "white",
                          "minorgridcolor": "white",
                          "startlinecolor": "#2a3f5f"
                        },
                        "baxis": {
                          "endlinecolor": "#2a3f5f",
                          "gridcolor": "white",
                          "linecolor": "white",
                          "minorgridcolor": "white",
                          "startlinecolor": "#2a3f5f"
                        },
                        "type": "carpet"
                      }
                    ],
                    "choropleth": [
                      {
                        "colorbar": {
                          "outlinewidth": 0,
                          "ticks": ""
                        },
                        "type": "choropleth"
                      }
                    ],
                    "contour": [
                      {
                        "colorbar": {
                          "outlinewidth": 0,
                          "ticks": ""
                        },
                        "colorscale": [
                          [
                            0,
                            "#0d0887"
                          ],
                          [
                            0.1111111111111111,
                            "#46039f"
                          ],
                          [
                            0.2222222222222222,
                            "#7201a8"
                          ],
                          [
                            0.3333333333333333,
                            "#9c179e"
                          ],
                          [
                            0.4444444444444444,
                            "#bd3786"
                          ],
                          [
                            0.5555555555555556,
                            "#d8576b"
                          ],
                          [
                            0.6666666666666666,
                            "#ed7953"
                          ],
                          [
                            0.7777777777777778,
                            "#fb9f3a"
                          ],
                          [
                            0.8888888888888888,
                            "#fdca26"
                          ],
                          [
                            1,
                            "#f0f921"
                          ]
                        ],
                        "type": "contour"
                      }
                    ],
                    "contourcarpet": [
                      {
                        "colorbar": {
                          "outlinewidth": 0,
                          "ticks": ""
                        },
                        "type": "contourcarpet"
                      }
                    ],
                    "heatmap": [
                      {
                        "colorbar": {
                          "outlinewidth": 0,
                          "ticks": ""
                        },
                        "colorscale": [
                          [
                            0,
                            "#0d0887"
                          ],
                          [
                            0.1111111111111111,
                            "#46039f"
                          ],
                          [
                            0.2222222222222222,
                            "#7201a8"
                          ],
                          [
                            0.3333333333333333,
                            "#9c179e"
                          ],
                          [
                            0.4444444444444444,
                            "#bd3786"
                          ],
                          [
                            0.5555555555555556,
                            "#d8576b"
                          ],
                          [
                            0.6666666666666666,
                            "#ed7953"
                          ],
                          [
                            0.7777777777777778,
                            "#fb9f3a"
                          ],
                          [
                            0.8888888888888888,
                            "#fdca26"
                          ],
                          [
                            1,
                            "#f0f921"
                          ]
                        ],
                        "type": "heatmap"
                      }
                    ],
                    "heatmapgl": [
                      {
                        "colorbar": {
                          "outlinewidth": 0,
                          "ticks": ""
                        },
                        "colorscale": [
                          [
                            0,
                            "#0d0887"
                          ],
                          [
                            0.1111111111111111,
                            "#46039f"
                          ],
                          [
                            0.2222222222222222,
                            "#7201a8"
                          ],
                          [
                            0.3333333333333333,
                            "#9c179e"
                          ],
                          [
                            0.4444444444444444,
                            "#bd3786"
                          ],
                          [
                            0.5555555555555556,
                            "#d8576b"
                          ],
                          [
                            0.6666666666666666,
                            "#ed7953"
                          ],
                          [
                            0.7777777777777778,
                            "#fb9f3a"
                          ],
                          [
                            0.8888888888888888,
                            "#fdca26"
                          ],
                          [
                            1,
                            "#f0f921"
                          ]
                        ],
                        "type": "heatmapgl"
                      }
                    ],
                    "histogram": [
                      {
                        "marker": {
                          "pattern": {
                            "fillmode": "overlay",
                            "size": 10,
                            "solidity": 0.2
                          }
                        },
                        "type": "histogram"
                      }
                    ],
                    "histogram2d": [
                      {
                        "colorbar": {
                          "outlinewidth": 0,
                          "ticks": ""
                        },
                        "colorscale": [
                          [
                            0,
                            "#0d0887"
                          ],
                          [
                            0.1111111111111111,
                            "#46039f"
                          ],
                          [
                            0.2222222222222222,
                            "#7201a8"
                          ],
                          [
                            0.3333333333333333,
                            "#9c179e"
                          ],
                          [
                            0.4444444444444444,
                            "#bd3786"
                          ],
                          [
                            0.5555555555555556,
                            "#d8576b"
                          ],
                          [
                            0.6666666666666666,
                            "#ed7953"
                          ],
                          [
                            0.7777777777777778,
                            "#fb9f3a"
                          ],
                          [
                            0.8888888888888888,
                            "#fdca26"
                          ],
                          [
                            1,
                            "#f0f921"
                          ]
                        ],
                        "type": "histogram2d"
                      }
                    ],
                    "histogram2dcontour": [
                      {
                        "colorbar": {
                          "outlinewidth": 0,
                          "ticks": ""
                        },
                        "colorscale": [
                          [
                            0,
                            "#0d0887"
                          ],
                          [
                            0.1111111111111111,
                            "#46039f"
                          ],
                          [
                            0.2222222222222222,
                            "#7201a8"
                          ],
                          [
                            0.3333333333333333,
                            "#9c179e"
                          ],
                          [
                            0.4444444444444444,
                            "#bd3786"
                          ],
                          [
                            0.5555555555555556,
                            "#d8576b"
                          ],
                          [
                            0.6666666666666666,
                            "#ed7953"
                          ],
                          [
                            0.7777777777777778,
                            "#fb9f3a"
                          ],
                          [
                            0.8888888888888888,
                            "#fdca26"
                          ],
                          [
                            1,
                            "#f0f921"
                          ]
                        ],
                        "type": "histogram2dcontour"
                      }
                    ],
                    "mesh3d": [
                      {
                        "colorbar": {
                          "outlinewidth": 0,
                          "ticks": ""
                        },
                        "type": "mesh3d"
                      }
                    ],
                    "parcoords": [
                      {
                        "line": {
                          "colorbar": {
                            "outlinewidth": 0,
                            "ticks": ""
                          }
                        },
                        "type": "parcoords"
                      }
                    ],
                    "pie": [
                      {
                        "automargin": true,
                        "type": "pie"
                      }
                    ],
                    "scatter": [
                      {
                        "fillpattern": {
                          "fillmode": "overlay",
                          "size": 10,
                          "solidity": 0.2
                        },
                        "type": "scatter"
                      }
                    ],
                    "scatter3d": [
                      {
                        "line": {
                          "colorbar": {
                            "outlinewidth": 0,
                            "ticks": ""
                          }
                        },
                        "marker": {
                          "colorbar": {
                            "outlinewidth": 0,
                            "ticks": ""
                          }
                        },
                        "type": "scatter3d"
                      }
                    ],
                    "scattercarpet": [
                      {
                        "marker": {
                          "colorbar": {
                            "outlinewidth": 0,
                            "ticks": ""
                          }
                        },
                        "type": "scattercarpet"
                      }
                    ],
                    "scattergeo": [
                      {
                        "marker": {
                          "colorbar": {
                            "outlinewidth": 0,
                            "ticks": ""
                          }
                        },
                        "type": "scattergeo"
                      }
                    ],
                    "scattergl": [
                      {
                        "marker": {
                          "colorbar": {
                            "outlinewidth": 0,
                            "ticks": ""
                          }
                        },
                        "type": "scattergl"
                      }
                    ],
                    "scattermapbox": [
                      {
                        "marker": {
                          "colorbar": {
                            "outlinewidth": 0,
                            "ticks": ""
                          }
                        },
                        "type": "scattermapbox"
                      }
                    ],
                    "scatterpolar": [
                      {
                        "marker": {
                          "colorbar": {
                            "outlinewidth": 0,
                            "ticks": ""
                          }
                        },
                        "type": "scatterpolar"
                      }
                    ],
                    "scatterpolargl": [
                      {
                        "marker": {
                          "colorbar": {
                            "outlinewidth": 0,
                            "ticks": ""
                          }
                        },
                        "type": "scatterpolargl"
                      }
                    ],
                    "scatterternary": [
                      {
                        "marker": {
                          "colorbar": {
                            "outlinewidth": 0,
                            "ticks": ""
                          }
                        },
                        "type": "scatterternary"
                      }
                    ],
                    "surface": [
                      {
                        "colorbar": {
                          "outlinewidth": 0,
                          "ticks": ""
                        },
                        "colorscale": [
                          [
                            0,
                            "#0d0887"
                          ],
                          [
                            0.1111111111111111,
                            "#46039f"
                          ],
                          [
                            0.2222222222222222,
                            "#7201a8"
                          ],
                          [
                            0.3333333333333333,
                            "#9c179e"
                          ],
                          [
                            0.4444444444444444,
                            "#bd3786"
                          ],
                          [
                            0.5555555555555556,
                            "#d8576b"
                          ],
                          [
                            0.6666666666666666,
                            "#ed7953"
                          ],
                          [
                            0.7777777777777778,
                            "#fb9f3a"
                          ],
                          [
                            0.8888888888888888,
                            "#fdca26"
                          ],
                          [
                            1,
                            "#f0f921"
                          ]
                        ],
                        "type": "surface"
                      }
                    ],
                    "table": [
                      {
                        "cells": {
                          "fill": {
                            "color": "#EBF0F8"
                          },
                          "line": {
                            "color": "white"
                          }
                        },
                        "header": {
                          "fill": {
                            "color": "#C8D4E3"
                          },
                          "line": {
                            "color": "white"
                          }
                        },
                        "type": "table"
                      }
                    ]
                  },
                  "layout": {
                    "annotationdefaults": {
                      "arrowcolor": "#2a3f5f",
                      "arrowhead": 0,
                      "arrowwidth": 1
                    },
                    "autotypenumbers": "strict",
                    "coloraxis": {
                      "colorbar": {
                        "outlinewidth": 0,
                        "ticks": ""
                      }
                    },
                    "colorscale": {
                      "diverging": [
                        [
                          0,
                          "#8e0152"
                        ],
                        [
                          0.1,
                          "#c51b7d"
                        ],
                        [
                          0.2,
                          "#de77ae"
                        ],
                        [
                          0.3,
                          "#f1b6da"
                        ],
                        [
                          0.4,
                          "#fde0ef"
                        ],
                        [
                          0.5,
                          "#f7f7f7"
                        ],
                        [
                          0.6,
                          "#e6f5d0"
                        ],
                        [
                          0.7,
                          "#b8e186"
                        ],
                        [
                          0.8,
                          "#7fbc41"
                        ],
                        [
                          0.9,
                          "#4d9221"
                        ],
                        [
                          1,
                          "#276419"
                        ]
                      ],
                      "sequential": [
                        [
                          0,
                          "#0d0887"
                        ],
                        [
                          0.1111111111111111,
                          "#46039f"
                        ],
                        [
                          0.2222222222222222,
                          "#7201a8"
                        ],
                        [
                          0.3333333333333333,
                          "#9c179e"
                        ],
                        [
                          0.4444444444444444,
                          "#bd3786"
                        ],
                        [
                          0.5555555555555556,
                          "#d8576b"
                        ],
                        [
                          0.6666666666666666,
                          "#ed7953"
                        ],
                        [
                          0.7777777777777778,
                          "#fb9f3a"
                        ],
                        [
                          0.8888888888888888,
                          "#fdca26"
                        ],
                        [
                          1,
                          "#f0f921"
                        ]
                      ],
                      "sequentialminus": [
                        [
                          0,
                          "#0d0887"
                        ],
                        [
                          0.1111111111111111,
                          "#46039f"
                        ],
                        [
                          0.2222222222222222,
                          "#7201a8"
                        ],
                        [
                          0.3333333333333333,
                          "#9c179e"
                        ],
                        [
                          0.4444444444444444,
                          "#bd3786"
                        ],
                        [
                          0.5555555555555556,
                          "#d8576b"
                        ],
                        [
                          0.6666666666666666,
                          "#ed7953"
                        ],
                        [
                          0.7777777777777778,
                          "#fb9f3a"
                        ],
                        [
                          0.8888888888888888,
                          "#fdca26"
                        ],
                        [
                          1,
                          "#f0f921"
                        ]
                      ]
                    },
                    "colorway": [
                      "#636efa",
                      "#EF553B",
                      "#00cc96",
                      "#ab63fa",
                      "#FFA15A",
                      "#19d3f3",
                      "#FF6692",
                      "#B6E880",
                      "#FF97FF",
                      "#FECB52"
                    ],
                    "font": {
                      "color": "#2a3f5f"
                    },
                    "geo": {
                      "bgcolor": "white",
                      "lakecolor": "white",
                      "landcolor": "#E5ECF6",
                      "showlakes": true,
                      "showland": true,
                      "subunitcolor": "white"
                    },
                    "hoverlabel": {
                      "align": "left"
                    },
                    "hovermode": "closest",
                    "mapbox": {
                      "style": "light"
                    },
                    "paper_bgcolor": "white",
                    "plot_bgcolor": "#E5ECF6",
                    "polar": {
                      "angularaxis": {
                        "gridcolor": "white",
                        "linecolor": "white",
                        "ticks": ""
                      },
                      "bgcolor": "#E5ECF6",
                      "radialaxis": {
                        "gridcolor": "white",
                        "linecolor": "white",
                        "ticks": ""
                      }
                    },
                    "scene": {
                      "xaxis": {
                        "backgroundcolor": "#E5ECF6",
                        "gridcolor": "white",
                        "gridwidth": 2,
                        "linecolor": "white",
                        "showbackground": true,
                        "ticks": "",
                        "zerolinecolor": "white"
                      },
                      "yaxis": {
                        "backgroundcolor": "#E5ECF6",
                        "gridcolor": "white",
                        "gridwidth": 2,
                        "linecolor": "white",
                        "showbackground": true,
                        "ticks": "",
                        "zerolinecolor": "white"
                      },
                      "zaxis": {
                        "backgroundcolor": "#E5ECF6",
                        "gridcolor": "white",
                        "gridwidth": 2,
                        "linecolor": "white",
                        "showbackground": true,
                        "ticks": "",
                        "zerolinecolor": "white"
                      }
                    },
                    "shapedefaults": {
                      "line": {
                        "color": "#2a3f5f"
                      }
                    },
                    "ternary": {
                      "aaxis": {
                        "gridcolor": "white",
                        "linecolor": "white",
                        "ticks": ""
                      },
                      "baxis": {
                        "gridcolor": "white",
                        "linecolor": "white",
                        "ticks": ""
                      },
                      "bgcolor": "#E5ECF6",
                      "caxis": {
                        "gridcolor": "white",
                        "linecolor": "white",
                        "ticks": ""
                      }
                    },
                    "title": {
                      "x": 0.05
                    },
                    "xaxis": {
                      "automargin": true,
                      "gridcolor": "white",
                      "linecolor": "white",
                      "ticks": "",
                      "title": {
                        "standoff": 15
                      },
                      "zerolinecolor": "white",
                      "zerolinewidth": 2
                    },
                    "yaxis": {
                      "automargin": true,
                      "gridcolor": "white",
                      "linecolor": "white",
                      "ticks": "",
                      "title": {
                        "standoff": 15
                      },
                      "zerolinecolor": "white",
                      "zerolinewidth": 2
                    }
                  }
                },
                "title": {
                  "font": {
                    "family": "Arial, sans-serif",
                    "size": 18
                  },
                  "text": "Évolution du nombre de tweets pour l'événement 'typhoon'"
                },
                "xaxis": {
                  "rangeslider": {
                    "visible": false
                  },
                  "showgrid": true,
                  "tickangle": 45,
                  "tickfont": {
                    "family": "Arial, sans-serif",
                    "size": 12
                  },
                  "ticks": "inside",
                  "title": {
                    "font": {
                      "family": "Arial, sans-serif",
                      "size": 14
                    },
                    "text": "Date"
                  }
                },
                "yaxis": {
                  "showgrid": true,
                  "tickfont": {
                    "family": "Arial, sans-serif",
                    "size": 12
                  },
                  "title": {
                    "font": {
                      "family": "Arial, sans-serif",
                      "size": 14
                    },
                    "text": "Nombre de tweets"
                  }
                }
              }
            }
          },
          "metadata": {},
          "output_type": "display_data"
        }
      ],
      "source": [
        "import plotly.graph_objs as go\n",
        "import pandas as pd\n",
        "import matplotlib.pyplot as plt\n",
        "\n",
        "# Exemple d'événement à analyser\n",
        "event_type_to_analyze = 'typhoon'  # Remplace par l'événement que tu souhaites analyser\n",
        "\n",
        "# Dictionnaire pour compter les tweets par date pour l'événement spécifié\n",
        "tweet_dates = []\n",
        "\n",
        "# Parcourir les nœuds de type 'Tweet' et associer les tweets à l'événement spécifié\n",
        "for tweet_node, tweet_data in graph.nodes(data=True):\n",
        "    if tweet_data.get(\"labels\") == \":Tweet\" and tweet_data.get(\"eventType\") == event_type_to_analyze:\n",
        "        if 'created_at' in tweet_data:\n",
        "            tweet_time = tweet_data['created_at']  # Récupérer l'heure du tweet\n",
        "            tweet_dates.append(tweet_time)  # Ajouter la date du tweet à la liste\n",
        "\n",
        "# Convertir les dates en format datetime\n",
        "tweet_dates = pd.to_datetime(tweet_dates, errors='coerce')\n",
        "\n",
        "# Retirer les valeurs invalides (NaT) générées par des erreurs de conversion\n",
        "tweet_dates = tweet_dates.dropna()\n",
        "\n",
        "# Créer une Series avec les dates des tweets\n",
        "tweet_dates_series = pd.Series(tweet_dates)\n",
        "\n",
        "# Compter le nombre de tweets par jour\n",
        "tweet_counts = tweet_dates_series.groupby(tweet_dates_series.dt.date).size()\n",
        "\n",
        "# Filtrer pour ne garder que les jours où il y a des tweets\n",
        "tweet_counts = tweet_counts[tweet_counts > 0]\n",
        "\n",
        "# Si le nombre de tweets est supérieur à 0, créer le graphique interactif\n",
        "if tweet_counts.sum() > 0:\n",
        "    # Créer une trace de type 'line' avec Plotly\n",
        "    trace = go.Scatter(\n",
        "        x=tweet_counts.index,\n",
        "        y=tweet_counts.values,\n",
        "        mode='lines+markers',  # Afficher à la fois les lignes et les marqueurs\n",
        "        name=f\"Nombre de tweets - {event_type_to_analyze}\",\n",
        "        line=dict(color='royalblue', width=2),\n",
        "        marker=dict(size=8, color='royalblue', opacity=0.8)\n",
        "    )\n",
        "\n",
        "    # Mettre à jour la mise en page du graphique\n",
        "    layout = go.Layout(\n",
        "        title=f\"Évolution du nombre de tweets pour l'événement '{event_type_to_analyze}'\",\n",
        "        title_font=dict(size=18, family='Arial, sans-serif'),\n",
        "        xaxis=dict(\n",
        "            title=\"Date\",\n",
        "            title_font=dict(size=14, family='Arial, sans-serif'),\n",
        "            showgrid=True,\n",
        "            tickangle=45,\n",
        "            ticks=\"inside\",\n",
        "            tickfont=dict(size=12, family='Arial, sans-serif')\n",
        "        ),\n",
        "        yaxis=dict(\n",
        "            title=\"Nombre de tweets\",\n",
        "            title_font=dict(size=14, family='Arial, sans-serif'),\n",
        "            showgrid=True,\n",
        "            tickfont=dict(size=12, family='Arial, sans-serif')\n",
        "        ),\n",
        "        hovermode='closest',  # Afficher des informations au survol de la souris\n",
        "        plot_bgcolor='white',  # Fond blanc pour le graphique\n",
        "        paper_bgcolor='rgba(0,0,0,0)',  # Fond transparent pour la page\n",
        "        showlegend=True,\n",
        "        xaxis_rangeslider_visible=False,  # Désactiver la barre de zoom (range slider)\n",
        "        autosize=True\n",
        "    )\n",
        "\n",
        "    # Créer la figure avec les données et la mise en page\n",
        "    fig = go.Figure(data=[trace], layout=layout)\n",
        "\n",
        "    # Afficher le graphique\n",
        "    fig.show()\n",
        "else:\n",
        "    print(f\"Aucun tweet pour l'événement '{event_type_to_analyze}'\")"
      ]
    },
    {
      "cell_type": "markdown",
      "metadata": {
        "id": "iivetocJ5fDW"
      },
      "source": [
        "## 1.2.3. Graph visualisation"
      ]
    },
    {
      "cell_type": "markdown",
      "metadata": {
        "id": "igA5gL1Atxsp"
      },
      "source": [
        "We are creating a summary graph, where all the general event's temporal distribution are represented, in order to compare the temporality, the importance and the evolution of each of them."
      ]
    },
    {
      "cell_type": "code",
      "execution_count": 16,
      "metadata": {},
      "outputs": [],
      "source": [
        "# Extraction des labels uniques\n",
        "unique_labels = set(data.get(\"labels\") for _, data in graph.nodes(data=True))\n",
        "\n",
        "# Créer un dictionnaire pour stocker la correspondance entre \"topic\" et \"inter\" du nœud \"Event\"\n",
        "topic_to_inter = {}\n",
        "\n",
        "# Créer un ensemble pour les topics uniques\n",
        "unique_topics = set()\n",
        "\n",
        "# Parcourir tous les nœuds de type \"Tweet\" pour extraire les topics uniques\n",
        "for tweet_node, tweet_data in graph.nodes(data=True):\n",
        "    if tweet_data.get(\"labels\") == \":Tweet\":\n",
        "        # Extraire le topic du tweet\n",
        "        topic = tweet_data.get(\"topic\")  # Remplacer \"topic\" par l'attribut réel\n",
        "        if topic:  # Vérifie si un topic est présent\n",
        "            unique_topics.add(topic)\n",
        "\n",
        "# Pour chaque topic unique, associer l'événement et son attribut \"inter\"\n",
        "for topic in unique_topics:\n",
        "    # Parcourir les nœuds de type \"Event\" pour associer le topic à l'événement correspondant\n",
        "    for event_node, event_data in graph.nodes(data=True):\n",
        "        if event_data.get(\"labels\") == \":Event\" and topic in event_data.get(\"trecisid\", \"\"):\n",
        "            # Extraire l'attribut \"inter\" du nœud \"Event\"\n",
        "            id = event_data.get(\"id\")\n",
        "            # Ajouter la correspondance dans le dictionnaire\n",
        "            topic_to_inter[topic] = id\n",
        "\n",
        "# Créer un dictionnaire pour stocker la correspondance entre Tweet et User\n",
        "tweet_to_user = {}\n",
        "\n",
        "# Parcourir tous les edges pour trouver ceux de type \"POSTED\"\n",
        "for u, v, edge_data in graph.edges(data=True):\n",
        "    if edge_data.get(\"label\") == \"POSTED\":\n",
        "        # Trouver le User (u) et le Tweet (v)\n",
        "        user_id = graph.nodes[u].get(\"id\")  # id du User\n",
        "        tweet_id = graph.nodes[v].get(\"id\")  # id du Tweet\n",
        "\n",
        "        # Associer le Tweet à son User\n",
        "        tweet_to_user[tweet_id] = user_id\n",
        "\n",
        "# Dictionnaire pour associer les topics des tweets à leur EventType\n",
        "topic_to_event_type = {}\n",
        "\n",
        "# Parcourir tous les nœuds de type 'Event' pour construire la correspondance topic -> EventType\n",
        "for event_node, event_data in graph.nodes(data=True):\n",
        "    if event_data.get(\"labels\") == \":Event\":  # On vérifie que c'est un nœud de type Event\n",
        "        event_id = event_data.get(\"trecisid\")  # Le 'id' de l'événement (correspond au 'topic' dans le tweet)\n",
        "        event_type = event_data.get(\"eventType\")  # L'EventType explicite de l'événement\n",
        "        if event_id and event_type:\n",
        "            topic_to_event_type[event_id] = event_type  # Associer le 'topic' (id de l'événement) à 'eventType'\n",
        "\n",
        "# Pour chaque tweet, associer son EventType en fonction du topic\n",
        "for tweet_node, tweet_data in graph.nodes(data=True):\n",
        "    if tweet_data.get(\"labels\") == \":Tweet\":  # Vérifier que c'est un nœud de type Tweet\n",
        "        tweet_topic = tweet_data.get(\"topic\")  # Le topic du tweet, à relier à un événement\n",
        "        if tweet_topic and tweet_topic in topic_to_event_type:\n",
        "            event_type_for_tweet = topic_to_event_type[tweet_topic]  # Récupérer l'EventType associé au topic\n",
        "            tweet_data['eventType'] = event_type_for_tweet  # Ajouter l'EventType au tweet\n",
        "\n",
        "# Dictionnaire pour compter les tweets par type d'événement\n",
        "event_type_count = {}\n",
        "\n",
        "# Parcourir tous les nœuds de type 'Tweet' pour compter l'effectif par type d'événement\n",
        "for tweet_node, tweet_data in graph.nodes(data=True):\n",
        "    if tweet_data.get(\"labels\") == \":Tweet\" and 'eventType' in tweet_data:\n",
        "        event_type = tweet_data['eventType']  # Le type d'événement associé au tweet\n",
        "\n",
        "        # Compter le nombre de tweets pour chaque type d'événement\n",
        "        if event_type:\n",
        "            if event_type not in event_type_count:\n",
        "                event_type_count[event_type] = 0\n",
        "            event_type_count[event_type] += 1\n",
        "\n"
      ]
    },
    {
      "cell_type": "code",
      "execution_count": 18,
      "metadata": {
        "colab": {
          "base_uri": "https://localhost:8080/",
          "height": 542
        },
        "id": "IDUeGe0J6U-f",
        "outputId": "f160e59c-2fe2-49ac-9484-f269f55c88af"
      },
      "outputs": [
        {
          "data": {
            "application/vnd.plotly.v1+json": {
              "config": {
                "plotlyServerURL": "https://plot.ly"
              },
              "data": [
                {
                  "line": {
                    "color": "royalblue",
                    "width": 2
                  },
                  "marker": {
                    "color": "royalblue",
                    "opacity": 0.5,
                    "size": 8
                  },
                  "mode": "lines+markers",
                  "name": "Nombre de tweets - typhoon",
                  "type": "scatter",
                  "x": [
                    "2011-05-23",
                    "2011-05-24",
                    "2011-05-25",
                    "2011-05-26",
                    "2011-05-27",
                    "2011-05-28",
                    "2011-05-29",
                    "2011-05-30",
                    "2011-05-31",
                    "2011-06-01",
                    "2011-06-02",
                    "2011-06-03",
                    "2011-06-04",
                    "2011-06-05",
                    "2011-06-06",
                    "2011-06-07",
                    "2011-06-08",
                    "2011-06-09",
                    "2011-06-12",
                    "2011-06-14",
                    "2012-11-30",
                    "2012-12-01",
                    "2012-12-02",
                    "2012-12-03",
                    "2012-12-04",
                    "2012-12-05",
                    "2012-12-06",
                    "2012-12-07",
                    "2012-12-08",
                    "2012-12-09",
                    "2012-12-10",
                    "2012-12-11",
                    "2012-12-12",
                    "2012-12-13",
                    "2012-12-14",
                    "2013-11-06",
                    "2013-11-07",
                    "2013-11-08",
                    "2013-11-09",
                    "2013-11-10",
                    "2013-11-11",
                    "2013-11-12",
                    "2013-11-13",
                    "2013-11-14",
                    "2013-11-15",
                    "2013-11-16",
                    "2013-11-17",
                    "2013-11-18",
                    "2013-11-19",
                    "2013-11-20",
                    "2013-11-21",
                    "2013-11-22",
                    "2013-11-23",
                    "2013-11-24",
                    "2013-11-25",
                    "2013-11-26",
                    "2013-11-27",
                    "2013-11-28",
                    "2013-11-29",
                    "2013-11-30",
                    "2013-12-01",
                    "2013-12-02",
                    "2013-12-03",
                    "2013-12-04",
                    "2013-12-05",
                    "2013-12-07",
                    "2013-12-08",
                    "2013-12-09",
                    "2013-12-10",
                    "2013-12-11",
                    "2013-12-12",
                    "2013-12-14",
                    "2013-12-15",
                    "2013-12-16",
                    "2013-12-17",
                    "2013-12-18",
                    "2013-12-20",
                    "2013-12-24",
                    "2013-12-25",
                    "2013-12-27",
                    "2013-12-28",
                    "2013-12-29",
                    "2014-12-06",
                    "2014-12-07",
                    "2014-12-08",
                    "2014-12-09",
                    "2017-04-06",
                    "2018-04-28",
                    "2018-09-04",
                    "2018-09-09",
                    "2018-09-10",
                    "2018-09-11",
                    "2018-09-12",
                    "2018-09-13",
                    "2018-09-14",
                    "2018-09-15",
                    "2018-09-16",
                    "2018-09-17",
                    "2018-09-18",
                    "2018-09-19",
                    "2019-04-20",
                    "2019-04-21",
                    "2019-04-22",
                    "2019-04-23",
                    "2019-04-24",
                    "2019-04-25",
                    "2019-04-26",
                    "2019-04-27",
                    "2019-04-28",
                    "2019-04-29"
                  ],
                  "y": [
                    10,
                    12,
                    27,
                    9,
                    8,
                    3,
                    10,
                    7,
                    9,
                    5,
                    6,
                    3,
                    2,
                    1,
                    1,
                    2,
                    5,
                    1,
                    1,
                    1,
                    4,
                    6,
                    89,
                    137,
                    219,
                    115,
                    81,
                    60,
                    47,
                    26,
                    20,
                    29,
                    20,
                    26,
                    14,
                    7,
                    33,
                    84,
                    64,
                    84,
                    105,
                    116,
                    78,
                    47,
                    29,
                    32,
                    16,
                    24,
                    25,
                    23,
                    13,
                    4,
                    4,
                    3,
                    13,
                    13,
                    10,
                    6,
                    4,
                    5,
                    6,
                    3,
                    8,
                    6,
                    5,
                    12,
                    1,
                    3,
                    19,
                    15,
                    1,
                    1,
                    3,
                    1,
                    1,
                    7,
                    1,
                    1,
                    1,
                    2,
                    1,
                    2,
                    751,
                    2996,
                    1995,
                    950,
                    1,
                    1,
                    1,
                    1,
                    6,
                    3,
                    322,
                    520,
                    668,
                    419,
                    301,
                    256,
                    147,
                    51,
                    25,
                    58,
                    78,
                    140,
                    279,
                    696,
                    559,
                    244,
                    271,
                    282
                  ]
                },
                {
                  "line": {
                    "color": "darkorange",
                    "width": 2
                  },
                  "marker": {
                    "color": "darkorange",
                    "opacity": 0.5,
                    "size": 8
                  },
                  "mode": "lines+markers",
                  "name": "Nombre de tweets - shooting",
                  "type": "scatter",
                  "x": [
                    "2013-11-01",
                    "2013-11-02",
                    "2013-11-03",
                    "2013-11-04",
                    "2013-11-05",
                    "2013-11-06",
                    "2013-11-07",
                    "2013-11-08",
                    "2013-11-09",
                    "2013-11-10",
                    "2013-11-11",
                    "2013-11-12",
                    "2016-02-17",
                    "2016-06-10",
                    "2016-06-12",
                    "2016-06-13",
                    "2016-06-15",
                    "2016-06-25",
                    "2016-07-05",
                    "2016-07-06",
                    "2016-07-07",
                    "2016-07-08",
                    "2018-01-11",
                    "2018-01-19",
                    "2018-01-23",
                    "2018-02-13",
                    "2018-02-14",
                    "2018-02-15",
                    "2018-02-16",
                    "2018-02-17",
                    "2018-02-18",
                    "2018-02-19",
                    "2018-02-20",
                    "2018-02-21",
                    "2018-02-22",
                    "2018-02-23",
                    "2018-02-24",
                    "2018-02-25",
                    "2019-04-26",
                    "2019-04-27",
                    "2019-04-30",
                    "2019-05-05",
                    "2019-05-06",
                    "2019-05-07",
                    "2019-05-08"
                  ],
                  "y": [
                    668,
                    138,
                    67,
                    57,
                    20,
                    10,
                    7,
                    3,
                    1,
                    2,
                    1,
                    1,
                    1,
                    2,
                    1,
                    1,
                    1,
                    1,
                    14,
                    23,
                    83,
                    2582,
                    1,
                    1,
                    1,
                    2,
                    149,
                    396,
                    237,
                    123,
                    102,
                    96,
                    101,
                    118,
                    57,
                    9,
                    11,
                    1,
                    1,
                    1992,
                    1,
                    1,
                    34,
                    826,
                    1189
                  ]
                },
                {
                  "line": {
                    "color": "green",
                    "width": 2
                  },
                  "marker": {
                    "color": "green",
                    "opacity": 0.5,
                    "size": 8
                  },
                  "mode": "lines+markers",
                  "name": "Nombre de tweets - wildfire",
                  "type": "scatter",
                  "x": [
                    "2012-06-09",
                    "2012-06-10",
                    "2012-06-11",
                    "2012-06-12",
                    "2012-06-13",
                    "2012-06-14",
                    "2012-06-15",
                    "2012-06-16",
                    "2012-06-17",
                    "2012-06-18",
                    "2012-06-19",
                    "2012-06-20",
                    "2012-06-21",
                    "2012-06-22",
                    "2012-06-23",
                    "2012-06-24",
                    "2012-06-25",
                    "2012-06-26",
                    "2012-06-27",
                    "2012-06-28",
                    "2012-06-29",
                    "2012-06-30",
                    "2012-07-01",
                    "2012-07-02",
                    "2012-07-03",
                    "2012-07-04",
                    "2012-07-05",
                    "2012-07-06",
                    "2012-07-07",
                    "2012-07-08",
                    "2013-09-12",
                    "2013-10-12",
                    "2013-10-13",
                    "2013-10-14",
                    "2013-10-15",
                    "2013-10-16",
                    "2013-10-17",
                    "2013-10-18",
                    "2013-10-19",
                    "2013-10-20",
                    "2013-10-21",
                    "2013-10-22",
                    "2013-10-23",
                    "2013-10-24",
                    "2013-10-25",
                    "2013-10-26",
                    "2013-10-27",
                    "2013-10-28",
                    "2013-10-29",
                    "2013-10-30",
                    "2013-10-31",
                    "2013-11-01",
                    "2016-05-02",
                    "2016-05-03",
                    "2018-08-16",
                    "2019-01-26",
                    "2019-02-01",
                    "2019-02-05",
                    "2019-02-06",
                    "2019-02-07",
                    "2019-02-08",
                    "2019-02-09",
                    "2019-02-17",
                    "2019-02-23",
                    "2019-02-24",
                    "2019-02-25",
                    "2019-02-26",
                    "2019-02-27",
                    "2019-02-28",
                    "2019-03-01",
                    "2019-03-02",
                    "2019-03-03",
                    "2019-03-04",
                    "2019-05-12",
                    "2019-05-13",
                    "2019-05-14",
                    "2019-05-15",
                    "2019-05-16",
                    "2019-05-17",
                    "2019-05-18",
                    "2019-05-19",
                    "2019-05-20",
                    "2019-05-21",
                    "2019-05-22",
                    "2019-05-23",
                    "2019-05-24",
                    "2019-05-25",
                    "2019-05-26",
                    "2019-05-27",
                    "2019-05-28",
                    "2019-05-29",
                    "2019-05-30",
                    "2019-05-31",
                    "2019-06-01",
                    "2019-06-02",
                    "2019-06-03"
                  ],
                  "y": [
                    5,
                    28,
                    49,
                    45,
                    16,
                    28,
                    19,
                    7,
                    17,
                    17,
                    16,
                    12,
                    7,
                    7,
                    16,
                    29,
                    20,
                    62,
                    288,
                    121,
                    79,
                    8,
                    16,
                    17,
                    21,
                    28,
                    8,
                    5,
                    4,
                    7,
                    1,
                    6,
                    23,
                    4,
                    2,
                    11,
                    251,
                    100,
                    44,
                    96,
                    120,
                    111,
                    121,
                    72,
                    23,
                    7,
                    14,
                    7,
                    5,
                    2,
                    3,
                    2,
                    256,
                    2517,
                    1,
                    1,
                    1,
                    1,
                    1,
                    2,
                    1,
                    1,
                    1,
                    18,
                    20,
                    29,
                    30,
                    78,
                    23,
                    63,
                    43,
                    46,
                    31,
                    1,
                    6,
                    12,
                    5,
                    13,
                    15,
                    9,
                    40,
                    131,
                    294,
                    247,
                    152,
                    125,
                    71,
                    97,
                    97,
                    79,
                    101,
                    418,
                    442,
                    176,
                    74,
                    30
                  ]
                },
                {
                  "line": {
                    "color": "red",
                    "width": 2
                  },
                  "marker": {
                    "color": "red",
                    "opacity": 0.5,
                    "size": 8
                  },
                  "mode": "lines+markers",
                  "name": "Nombre de tweets - bombing",
                  "type": "scatter",
                  "x": [
                    "2013-04-15",
                    "2013-04-16",
                    "2013-04-17",
                    "2013-04-18",
                    "2013-04-19",
                    "2013-04-20",
                    "2013-04-21",
                    "2013-04-22",
                    "2013-04-23",
                    "2013-04-24",
                    "2013-04-25",
                    "2013-04-26",
                    "2013-04-27",
                    "2013-04-28",
                    "2013-04-29",
                    "2013-04-30",
                    "2013-05-01",
                    "2013-05-02",
                    "2013-05-03",
                    "2013-05-04",
                    "2013-05-05",
                    "2013-05-07",
                    "2013-05-08",
                    "2013-05-09",
                    "2013-05-10",
                    "2013-05-11",
                    "2013-05-13",
                    "2013-05-14",
                    "2013-05-15",
                    "2013-05-18",
                    "2013-05-22",
                    "2013-05-23",
                    "2013-05-24",
                    "2013-05-27",
                    "2013-05-29",
                    "2013-05-30",
                    "2013-05-31",
                    "2013-06-01",
                    "2015-11-10",
                    "2015-11-13",
                    "2015-11-14"
                  ],
                  "y": [
                    354,
                    115,
                    43,
                    726,
                    167,
                    107,
                    26,
                    34,
                    21,
                    20,
                    16,
                    14,
                    5,
                    7,
                    1,
                    10,
                    14,
                    4,
                    2,
                    6,
                    1,
                    1,
                    2,
                    1,
                    5,
                    8,
                    4,
                    2,
                    1,
                    1,
                    1,
                    2,
                    3,
                    1,
                    1,
                    2,
                    1,
                    1,
                    1,
                    523,
                    1932
                  ]
                },
                {
                  "line": {
                    "color": "purple",
                    "width": 2
                  },
                  "marker": {
                    "color": "purple",
                    "opacity": 0.5,
                    "size": 8
                  },
                  "mode": "lines+markers",
                  "name": "Nombre de tweets - earthquake",
                  "type": "scatter",
                  "x": [
                    "2012-05-20",
                    "2012-05-21",
                    "2012-05-22",
                    "2012-05-23",
                    "2012-05-26",
                    "2012-05-28",
                    "2012-05-29",
                    "2012-05-30",
                    "2012-05-31",
                    "2012-06-03",
                    "2012-06-04",
                    "2012-06-06",
                    "2012-09-04",
                    "2012-09-05",
                    "2012-09-06",
                    "2012-09-07",
                    "2012-09-08",
                    "2012-09-10",
                    "2012-09-12",
                    "2012-09-13",
                    "2012-09-14",
                    "2012-09-16",
                    "2012-09-18",
                    "2012-11-07",
                    "2012-11-08",
                    "2012-11-09",
                    "2012-11-10",
                    "2012-11-11",
                    "2012-11-12",
                    "2012-11-13",
                    "2012-11-14",
                    "2012-11-16",
                    "2012-11-17",
                    "2012-11-21",
                    "2013-10-15",
                    "2013-10-16",
                    "2013-10-17",
                    "2013-10-18",
                    "2013-10-19",
                    "2013-10-20",
                    "2013-10-21",
                    "2013-10-22",
                    "2013-10-23",
                    "2013-10-24",
                    "2013-10-25",
                    "2014-04-02",
                    "2014-04-03",
                    "2014-04-04",
                    "2014-04-05",
                    "2014-04-06",
                    "2014-04-15",
                    "2014-04-16",
                    "2014-04-17",
                    "2014-08-24",
                    "2014-08-25",
                    "2014-08-26",
                    "2015-02-08",
                    "2015-04-02",
                    "2015-04-06",
                    "2015-04-16",
                    "2015-04-24",
                    "2015-04-25",
                    "2015-04-26",
                    "2015-04-27",
                    "2015-04-28",
                    "2015-04-29",
                    "2015-05-12",
                    "2018-03-16",
                    "2019-04-14",
                    "2019-04-15",
                    "2019-04-16",
                    "2019-04-17",
                    "2019-04-18",
                    "2019-04-19",
                    "2019-04-20",
                    "2019-04-21",
                    "2019-04-22",
                    "2019-04-23",
                    "2019-04-24",
                    "2019-04-25",
                    "2019-04-26",
                    "2019-04-27",
                    "2019-04-28",
                    "2019-04-29"
                  ],
                  "y": [
                    55,
                    8,
                    13,
                    6,
                    2,
                    2,
                    48,
                    11,
                    1,
                    1,
                    5,
                    2,
                    2,
                    273,
                    23,
                    26,
                    11,
                    4,
                    11,
                    2,
                    3,
                    3,
                    2,
                    109,
                    72,
                    16,
                    3,
                    21,
                    20,
                    1,
                    1,
                    1,
                    2,
                    1,
                    571,
                    106,
                    43,
                    29,
                    26,
                    23,
                    19,
                    12,
                    4,
                    3,
                    4,
                    125,
                    126,
                    24,
                    19,
                    6,
                    2,
                    1,
                    8,
                    1,
                    102,
                    35,
                    1,
                    1,
                    1,
                    1,
                    1,
                    1325,
                    703,
                    4008,
                    2132,
                    263,
                    1,
                    1,
                    2,
                    10,
                    8,
                    9,
                    2,
                    5,
                    4,
                    6,
                    1235,
                    879,
                    218,
                    58,
                    66,
                    26,
                    17,
                    21
                  ]
                },
                {
                  "line": {
                    "color": "cyan",
                    "width": 2
                  },
                  "marker": {
                    "color": "cyan",
                    "opacity": 0.5,
                    "size": 8
                  },
                  "mode": "lines+markers",
                  "name": "Nombre de tweets - flood",
                  "type": "scatter",
                  "x": [
                    "2011-02-02",
                    "2012-08-01",
                    "2012-08-02",
                    "2012-08-05",
                    "2012-08-06",
                    "2012-08-07",
                    "2012-08-08",
                    "2012-08-09",
                    "2012-08-10",
                    "2012-08-11",
                    "2012-08-12",
                    "2012-08-13",
                    "2012-08-14",
                    "2012-08-15",
                    "2013-01-20",
                    "2013-01-21",
                    "2013-01-22",
                    "2013-01-23",
                    "2013-01-24",
                    "2013-01-25",
                    "2013-01-26",
                    "2013-01-27",
                    "2013-01-28",
                    "2013-01-29",
                    "2013-01-30",
                    "2013-01-31",
                    "2013-02-01",
                    "2013-02-02",
                    "2013-02-03",
                    "2013-02-04",
                    "2013-02-05",
                    "2013-06-20",
                    "2013-06-21",
                    "2013-06-22",
                    "2013-06-23",
                    "2013-06-24",
                    "2013-06-25",
                    "2013-06-26",
                    "2013-06-27",
                    "2013-06-28",
                    "2013-07-01",
                    "2013-07-02",
                    "2013-07-03",
                    "2013-07-04",
                    "2013-07-05",
                    "2013-07-06",
                    "2013-07-07",
                    "2013-07-08",
                    "2013-07-09",
                    "2013-07-10",
                    "2013-07-11",
                    "2013-07-12",
                    "2013-07-13",
                    "2013-07-14",
                    "2013-07-15",
                    "2013-07-16",
                    "2013-08-17",
                    "2013-08-18",
                    "2013-08-19",
                    "2013-08-20",
                    "2013-08-21",
                    "2013-08-22",
                    "2013-08-23",
                    "2013-08-24",
                    "2013-08-25",
                    "2013-08-26",
                    "2013-08-27",
                    "2013-09-12",
                    "2013-09-13",
                    "2013-09-14",
                    "2013-09-15",
                    "2013-09-16",
                    "2013-09-17",
                    "2013-09-18",
                    "2013-09-19",
                    "2013-09-20",
                    "2013-09-21",
                    "2013-09-22",
                    "2013-09-23",
                    "2013-09-24",
                    "2013-09-25",
                    "2013-09-26",
                    "2013-09-27",
                    "2013-09-28",
                    "2013-09-29",
                    "2013-09-30",
                    "2013-10-01",
                    "2016-01-15",
                    "2018-01-12",
                    "2018-07-17",
                    "2019-02-11",
                    "2019-02-16",
                    "2019-02-21",
                    "2019-02-23",
                    "2019-02-24",
                    "2019-02-25",
                    "2019-02-26",
                    "2019-02-27",
                    "2019-02-28",
                    "2019-03-01",
                    "2019-03-02",
                    "2019-03-03",
                    "2019-03-04",
                    "2019-03-05",
                    "2019-03-06",
                    "2019-04-12",
                    "2019-04-20",
                    "2019-04-23",
                    "2019-04-24"
                  ],
                  "y": [
                    1,
                    1,
                    1,
                    8,
                    16,
                    367,
                    187,
                    63,
                    17,
                    6,
                    11,
                    4,
                    5,
                    2,
                    1,
                    7,
                    2,
                    12,
                    13,
                    34,
                    70,
                    231,
                    299,
                    181,
                    65,
                    35,
                    22,
                    7,
                    6,
                    7,
                    4,
                    32,
                    392,
                    170,
                    114,
                    79,
                    64,
                    80,
                    38,
                    39,
                    5,
                    10,
                    10,
                    17,
                    14,
                    10,
                    3,
                    11,
                    15,
                    5,
                    6,
                    4,
                    1,
                    5,
                    2,
                    3,
                    2,
                    43,
                    132,
                    316,
                    102,
                    40,
                    10,
                    3,
                    7,
                    5,
                    1,
                    170,
                    2,
                    4,
                    161,
                    143,
                    108,
                    105,
                    86,
                    56,
                    59,
                    26,
                    37,
                    33,
                    13,
                    24,
                    19,
                    6,
                    3,
                    6,
                    2,
                    1,
                    1,
                    1,
                    1,
                    1,
                    1,
                    7,
                    31,
                    39,
                    50,
                    82,
                    98,
                    93,
                    94,
                    79,
                    84,
                    48,
                    22,
                    1,
                    1,
                    397,
                    2138
                  ]
                }
              ],
              "layout": {
                "autosize": true,
                "hovermode": "closest",
                "paper_bgcolor": "rgba(0,0,0,0)",
                "plot_bgcolor": "white",
                "showlegend": true,
                "template": {
                  "data": {
                    "bar": [
                      {
                        "error_x": {
                          "color": "#2a3f5f"
                        },
                        "error_y": {
                          "color": "#2a3f5f"
                        },
                        "marker": {
                          "line": {
                            "color": "#E5ECF6",
                            "width": 0.5
                          },
                          "pattern": {
                            "fillmode": "overlay",
                            "size": 10,
                            "solidity": 0.2
                          }
                        },
                        "type": "bar"
                      }
                    ],
                    "barpolar": [
                      {
                        "marker": {
                          "line": {
                            "color": "#E5ECF6",
                            "width": 0.5
                          },
                          "pattern": {
                            "fillmode": "overlay",
                            "size": 10,
                            "solidity": 0.2
                          }
                        },
                        "type": "barpolar"
                      }
                    ],
                    "carpet": [
                      {
                        "aaxis": {
                          "endlinecolor": "#2a3f5f",
                          "gridcolor": "white",
                          "linecolor": "white",
                          "minorgridcolor": "white",
                          "startlinecolor": "#2a3f5f"
                        },
                        "baxis": {
                          "endlinecolor": "#2a3f5f",
                          "gridcolor": "white",
                          "linecolor": "white",
                          "minorgridcolor": "white",
                          "startlinecolor": "#2a3f5f"
                        },
                        "type": "carpet"
                      }
                    ],
                    "choropleth": [
                      {
                        "colorbar": {
                          "outlinewidth": 0,
                          "ticks": ""
                        },
                        "type": "choropleth"
                      }
                    ],
                    "contour": [
                      {
                        "colorbar": {
                          "outlinewidth": 0,
                          "ticks": ""
                        },
                        "colorscale": [
                          [
                            0,
                            "#0d0887"
                          ],
                          [
                            0.1111111111111111,
                            "#46039f"
                          ],
                          [
                            0.2222222222222222,
                            "#7201a8"
                          ],
                          [
                            0.3333333333333333,
                            "#9c179e"
                          ],
                          [
                            0.4444444444444444,
                            "#bd3786"
                          ],
                          [
                            0.5555555555555556,
                            "#d8576b"
                          ],
                          [
                            0.6666666666666666,
                            "#ed7953"
                          ],
                          [
                            0.7777777777777778,
                            "#fb9f3a"
                          ],
                          [
                            0.8888888888888888,
                            "#fdca26"
                          ],
                          [
                            1,
                            "#f0f921"
                          ]
                        ],
                        "type": "contour"
                      }
                    ],
                    "contourcarpet": [
                      {
                        "colorbar": {
                          "outlinewidth": 0,
                          "ticks": ""
                        },
                        "type": "contourcarpet"
                      }
                    ],
                    "heatmap": [
                      {
                        "colorbar": {
                          "outlinewidth": 0,
                          "ticks": ""
                        },
                        "colorscale": [
                          [
                            0,
                            "#0d0887"
                          ],
                          [
                            0.1111111111111111,
                            "#46039f"
                          ],
                          [
                            0.2222222222222222,
                            "#7201a8"
                          ],
                          [
                            0.3333333333333333,
                            "#9c179e"
                          ],
                          [
                            0.4444444444444444,
                            "#bd3786"
                          ],
                          [
                            0.5555555555555556,
                            "#d8576b"
                          ],
                          [
                            0.6666666666666666,
                            "#ed7953"
                          ],
                          [
                            0.7777777777777778,
                            "#fb9f3a"
                          ],
                          [
                            0.8888888888888888,
                            "#fdca26"
                          ],
                          [
                            1,
                            "#f0f921"
                          ]
                        ],
                        "type": "heatmap"
                      }
                    ],
                    "heatmapgl": [
                      {
                        "colorbar": {
                          "outlinewidth": 0,
                          "ticks": ""
                        },
                        "colorscale": [
                          [
                            0,
                            "#0d0887"
                          ],
                          [
                            0.1111111111111111,
                            "#46039f"
                          ],
                          [
                            0.2222222222222222,
                            "#7201a8"
                          ],
                          [
                            0.3333333333333333,
                            "#9c179e"
                          ],
                          [
                            0.4444444444444444,
                            "#bd3786"
                          ],
                          [
                            0.5555555555555556,
                            "#d8576b"
                          ],
                          [
                            0.6666666666666666,
                            "#ed7953"
                          ],
                          [
                            0.7777777777777778,
                            "#fb9f3a"
                          ],
                          [
                            0.8888888888888888,
                            "#fdca26"
                          ],
                          [
                            1,
                            "#f0f921"
                          ]
                        ],
                        "type": "heatmapgl"
                      }
                    ],
                    "histogram": [
                      {
                        "marker": {
                          "pattern": {
                            "fillmode": "overlay",
                            "size": 10,
                            "solidity": 0.2
                          }
                        },
                        "type": "histogram"
                      }
                    ],
                    "histogram2d": [
                      {
                        "colorbar": {
                          "outlinewidth": 0,
                          "ticks": ""
                        },
                        "colorscale": [
                          [
                            0,
                            "#0d0887"
                          ],
                          [
                            0.1111111111111111,
                            "#46039f"
                          ],
                          [
                            0.2222222222222222,
                            "#7201a8"
                          ],
                          [
                            0.3333333333333333,
                            "#9c179e"
                          ],
                          [
                            0.4444444444444444,
                            "#bd3786"
                          ],
                          [
                            0.5555555555555556,
                            "#d8576b"
                          ],
                          [
                            0.6666666666666666,
                            "#ed7953"
                          ],
                          [
                            0.7777777777777778,
                            "#fb9f3a"
                          ],
                          [
                            0.8888888888888888,
                            "#fdca26"
                          ],
                          [
                            1,
                            "#f0f921"
                          ]
                        ],
                        "type": "histogram2d"
                      }
                    ],
                    "histogram2dcontour": [
                      {
                        "colorbar": {
                          "outlinewidth": 0,
                          "ticks": ""
                        },
                        "colorscale": [
                          [
                            0,
                            "#0d0887"
                          ],
                          [
                            0.1111111111111111,
                            "#46039f"
                          ],
                          [
                            0.2222222222222222,
                            "#7201a8"
                          ],
                          [
                            0.3333333333333333,
                            "#9c179e"
                          ],
                          [
                            0.4444444444444444,
                            "#bd3786"
                          ],
                          [
                            0.5555555555555556,
                            "#d8576b"
                          ],
                          [
                            0.6666666666666666,
                            "#ed7953"
                          ],
                          [
                            0.7777777777777778,
                            "#fb9f3a"
                          ],
                          [
                            0.8888888888888888,
                            "#fdca26"
                          ],
                          [
                            1,
                            "#f0f921"
                          ]
                        ],
                        "type": "histogram2dcontour"
                      }
                    ],
                    "mesh3d": [
                      {
                        "colorbar": {
                          "outlinewidth": 0,
                          "ticks": ""
                        },
                        "type": "mesh3d"
                      }
                    ],
                    "parcoords": [
                      {
                        "line": {
                          "colorbar": {
                            "outlinewidth": 0,
                            "ticks": ""
                          }
                        },
                        "type": "parcoords"
                      }
                    ],
                    "pie": [
                      {
                        "automargin": true,
                        "type": "pie"
                      }
                    ],
                    "scatter": [
                      {
                        "fillpattern": {
                          "fillmode": "overlay",
                          "size": 10,
                          "solidity": 0.2
                        },
                        "type": "scatter"
                      }
                    ],
                    "scatter3d": [
                      {
                        "line": {
                          "colorbar": {
                            "outlinewidth": 0,
                            "ticks": ""
                          }
                        },
                        "marker": {
                          "colorbar": {
                            "outlinewidth": 0,
                            "ticks": ""
                          }
                        },
                        "type": "scatter3d"
                      }
                    ],
                    "scattercarpet": [
                      {
                        "marker": {
                          "colorbar": {
                            "outlinewidth": 0,
                            "ticks": ""
                          }
                        },
                        "type": "scattercarpet"
                      }
                    ],
                    "scattergeo": [
                      {
                        "marker": {
                          "colorbar": {
                            "outlinewidth": 0,
                            "ticks": ""
                          }
                        },
                        "type": "scattergeo"
                      }
                    ],
                    "scattergl": [
                      {
                        "marker": {
                          "colorbar": {
                            "outlinewidth": 0,
                            "ticks": ""
                          }
                        },
                        "type": "scattergl"
                      }
                    ],
                    "scattermapbox": [
                      {
                        "marker": {
                          "colorbar": {
                            "outlinewidth": 0,
                            "ticks": ""
                          }
                        },
                        "type": "scattermapbox"
                      }
                    ],
                    "scatterpolar": [
                      {
                        "marker": {
                          "colorbar": {
                            "outlinewidth": 0,
                            "ticks": ""
                          }
                        },
                        "type": "scatterpolar"
                      }
                    ],
                    "scatterpolargl": [
                      {
                        "marker": {
                          "colorbar": {
                            "outlinewidth": 0,
                            "ticks": ""
                          }
                        },
                        "type": "scatterpolargl"
                      }
                    ],
                    "scatterternary": [
                      {
                        "marker": {
                          "colorbar": {
                            "outlinewidth": 0,
                            "ticks": ""
                          }
                        },
                        "type": "scatterternary"
                      }
                    ],
                    "surface": [
                      {
                        "colorbar": {
                          "outlinewidth": 0,
                          "ticks": ""
                        },
                        "colorscale": [
                          [
                            0,
                            "#0d0887"
                          ],
                          [
                            0.1111111111111111,
                            "#46039f"
                          ],
                          [
                            0.2222222222222222,
                            "#7201a8"
                          ],
                          [
                            0.3333333333333333,
                            "#9c179e"
                          ],
                          [
                            0.4444444444444444,
                            "#bd3786"
                          ],
                          [
                            0.5555555555555556,
                            "#d8576b"
                          ],
                          [
                            0.6666666666666666,
                            "#ed7953"
                          ],
                          [
                            0.7777777777777778,
                            "#fb9f3a"
                          ],
                          [
                            0.8888888888888888,
                            "#fdca26"
                          ],
                          [
                            1,
                            "#f0f921"
                          ]
                        ],
                        "type": "surface"
                      }
                    ],
                    "table": [
                      {
                        "cells": {
                          "fill": {
                            "color": "#EBF0F8"
                          },
                          "line": {
                            "color": "white"
                          }
                        },
                        "header": {
                          "fill": {
                            "color": "#C8D4E3"
                          },
                          "line": {
                            "color": "white"
                          }
                        },
                        "type": "table"
                      }
                    ]
                  },
                  "layout": {
                    "annotationdefaults": {
                      "arrowcolor": "#2a3f5f",
                      "arrowhead": 0,
                      "arrowwidth": 1
                    },
                    "autotypenumbers": "strict",
                    "coloraxis": {
                      "colorbar": {
                        "outlinewidth": 0,
                        "ticks": ""
                      }
                    },
                    "colorscale": {
                      "diverging": [
                        [
                          0,
                          "#8e0152"
                        ],
                        [
                          0.1,
                          "#c51b7d"
                        ],
                        [
                          0.2,
                          "#de77ae"
                        ],
                        [
                          0.3,
                          "#f1b6da"
                        ],
                        [
                          0.4,
                          "#fde0ef"
                        ],
                        [
                          0.5,
                          "#f7f7f7"
                        ],
                        [
                          0.6,
                          "#e6f5d0"
                        ],
                        [
                          0.7,
                          "#b8e186"
                        ],
                        [
                          0.8,
                          "#7fbc41"
                        ],
                        [
                          0.9,
                          "#4d9221"
                        ],
                        [
                          1,
                          "#276419"
                        ]
                      ],
                      "sequential": [
                        [
                          0,
                          "#0d0887"
                        ],
                        [
                          0.1111111111111111,
                          "#46039f"
                        ],
                        [
                          0.2222222222222222,
                          "#7201a8"
                        ],
                        [
                          0.3333333333333333,
                          "#9c179e"
                        ],
                        [
                          0.4444444444444444,
                          "#bd3786"
                        ],
                        [
                          0.5555555555555556,
                          "#d8576b"
                        ],
                        [
                          0.6666666666666666,
                          "#ed7953"
                        ],
                        [
                          0.7777777777777778,
                          "#fb9f3a"
                        ],
                        [
                          0.8888888888888888,
                          "#fdca26"
                        ],
                        [
                          1,
                          "#f0f921"
                        ]
                      ],
                      "sequentialminus": [
                        [
                          0,
                          "#0d0887"
                        ],
                        [
                          0.1111111111111111,
                          "#46039f"
                        ],
                        [
                          0.2222222222222222,
                          "#7201a8"
                        ],
                        [
                          0.3333333333333333,
                          "#9c179e"
                        ],
                        [
                          0.4444444444444444,
                          "#bd3786"
                        ],
                        [
                          0.5555555555555556,
                          "#d8576b"
                        ],
                        [
                          0.6666666666666666,
                          "#ed7953"
                        ],
                        [
                          0.7777777777777778,
                          "#fb9f3a"
                        ],
                        [
                          0.8888888888888888,
                          "#fdca26"
                        ],
                        [
                          1,
                          "#f0f921"
                        ]
                      ]
                    },
                    "colorway": [
                      "#636efa",
                      "#EF553B",
                      "#00cc96",
                      "#ab63fa",
                      "#FFA15A",
                      "#19d3f3",
                      "#FF6692",
                      "#B6E880",
                      "#FF97FF",
                      "#FECB52"
                    ],
                    "font": {
                      "color": "#2a3f5f"
                    },
                    "geo": {
                      "bgcolor": "white",
                      "lakecolor": "white",
                      "landcolor": "#E5ECF6",
                      "showlakes": true,
                      "showland": true,
                      "subunitcolor": "white"
                    },
                    "hoverlabel": {
                      "align": "left"
                    },
                    "hovermode": "closest",
                    "mapbox": {
                      "style": "light"
                    },
                    "paper_bgcolor": "white",
                    "plot_bgcolor": "#E5ECF6",
                    "polar": {
                      "angularaxis": {
                        "gridcolor": "white",
                        "linecolor": "white",
                        "ticks": ""
                      },
                      "bgcolor": "#E5ECF6",
                      "radialaxis": {
                        "gridcolor": "white",
                        "linecolor": "white",
                        "ticks": ""
                      }
                    },
                    "scene": {
                      "xaxis": {
                        "backgroundcolor": "#E5ECF6",
                        "gridcolor": "white",
                        "gridwidth": 2,
                        "linecolor": "white",
                        "showbackground": true,
                        "ticks": "",
                        "zerolinecolor": "white"
                      },
                      "yaxis": {
                        "backgroundcolor": "#E5ECF6",
                        "gridcolor": "white",
                        "gridwidth": 2,
                        "linecolor": "white",
                        "showbackground": true,
                        "ticks": "",
                        "zerolinecolor": "white"
                      },
                      "zaxis": {
                        "backgroundcolor": "#E5ECF6",
                        "gridcolor": "white",
                        "gridwidth": 2,
                        "linecolor": "white",
                        "showbackground": true,
                        "ticks": "",
                        "zerolinecolor": "white"
                      }
                    },
                    "shapedefaults": {
                      "line": {
                        "color": "#2a3f5f"
                      }
                    },
                    "ternary": {
                      "aaxis": {
                        "gridcolor": "white",
                        "linecolor": "white",
                        "ticks": ""
                      },
                      "baxis": {
                        "gridcolor": "white",
                        "linecolor": "white",
                        "ticks": ""
                      },
                      "bgcolor": "#E5ECF6",
                      "caxis": {
                        "gridcolor": "white",
                        "linecolor": "white",
                        "ticks": ""
                      }
                    },
                    "title": {
                      "x": 0.05
                    },
                    "xaxis": {
                      "automargin": true,
                      "gridcolor": "white",
                      "linecolor": "white",
                      "ticks": "",
                      "title": {
                        "standoff": 15
                      },
                      "zerolinecolor": "white",
                      "zerolinewidth": 2
                    },
                    "yaxis": {
                      "automargin": true,
                      "gridcolor": "white",
                      "linecolor": "white",
                      "ticks": "",
                      "title": {
                        "standoff": 15
                      },
                      "zerolinecolor": "white",
                      "zerolinewidth": 2
                    }
                  }
                },
                "title": {
                  "font": {
                    "family": "Arial, sans-serif",
                    "size": 18
                  },
                  "text": "Évolution du nombre de tweets par type d'événement"
                },
                "xaxis": {
                  "rangeslider": {
                    "visible": false
                  },
                  "showgrid": true,
                  "tickangle": 45,
                  "tickfont": {
                    "family": "Arial, sans-serif",
                    "size": 12
                  },
                  "ticks": "inside",
                  "title": {
                    "font": {
                      "family": "Arial, sans-serif",
                      "size": 14
                    },
                    "text": "Date"
                  }
                },
                "yaxis": {
                  "showgrid": true,
                  "tickfont": {
                    "family": "Arial, sans-serif",
                    "size": 12
                  },
                  "title": {
                    "font": {
                      "family": "Arial, sans-serif",
                      "size": 14
                    },
                    "text": "Nombre de tweets"
                  }
                }
              }
            }
          },
          "metadata": {},
          "output_type": "display_data"
        }
      ],
      "source": [
        "import plotly.graph_objs as go\n",
        "import pandas as pd\n",
        "import matplotlib.pyplot as plt\n",
        "\n",
        "# Liste des types d'événements\n",
        "event_types = ['typhoon', 'shooting', 'wildfire', 'bombing', 'earthquake', 'flood']\n",
        "event_colors = {\n",
        "    'typhoon': 'royalblue',\n",
        "    'shooting': 'darkorange',\n",
        "    'wildfire': 'green',\n",
        "    'bombing': 'red',\n",
        "    'earthquake': 'purple',\n",
        "    'flood': 'cyan'\n",
        "}\n",
        "\n",
        "# Créer une liste pour stocker les traces\n",
        "traces = []\n",
        "\n",
        "# Parcourir tous les types d'événements\n",
        "for event_type in event_types:\n",
        "    tweet_dates = []\n",
        "\n",
        "    # Parcourir les nœuds de type 'Tweet' et associer les tweets à l'événement spécifié\n",
        "    for tweet_node, tweet_data in graph.nodes(data=True):\n",
        "        if tweet_data.get(\"labels\") == \":Tweet\" and tweet_data.get(\"eventType\") == event_type:\n",
        "            if 'created_at' in tweet_data:\n",
        "                tweet_time = tweet_data['created_at']  # Récupérer l'heure du tweet\n",
        "                tweet_dates.append(tweet_time)  # Ajouter la date du tweet à la liste\n",
        "\n",
        "    # Convertir les dates en format datetime\n",
        "    tweet_dates = pd.to_datetime(tweet_dates, errors='coerce')\n",
        "\n",
        "    # Retirer les valeurs invalides (NaT) générées par des erreurs de conversion\n",
        "    tweet_dates = tweet_dates.dropna()\n",
        "\n",
        "    # Créer une Series avec les dates des tweets\n",
        "    tweet_dates_series = pd.Series(tweet_dates)\n",
        "\n",
        "    # Compter le nombre de tweets par jour\n",
        "    tweet_counts = tweet_dates_series.groupby(tweet_dates_series.dt.date).size()\n",
        "\n",
        "    # Créer une série de toutes les dates possibles entre la première et la dernière date\n",
        "    #all_dates = pd.date_range(start=tweet_counts.index.min(), end=tweet_counts.index.max(), freq='D')\n",
        "\n",
        "    # Réindexer tweet_counts pour inclure toutes les dates, en mettant les dates manquantes à zéro\n",
        "    #tweet_counts_full = tweet_counts.reindex(all_dates, fill_value=0)\n",
        "    tweet_counts_full = tweet_counts\n",
        "\n",
        "    # Si le nombre de tweets est supérieur à 0, ajouter la trace\n",
        "    if tweet_counts_full.sum() > 0:\n",
        "        trace = go.Scatter(\n",
        "            x=tweet_counts_full.index,\n",
        "            y=tweet_counts_full.values,\n",
        "            mode='lines+markers',  # Afficher à la fois les lignes et les marqueurs\n",
        "            name=f\"Nombre de tweets - {event_type}\",\n",
        "            line=dict(color=event_colors[event_type], width=2),\n",
        "            marker=dict(size=8, color=event_colors[event_type], opacity=0.5)\n",
        "        )\n",
        "        traces.append(trace)\n",
        "\n",
        "# Mettre à jour la mise en page du graphique\n",
        "layout = go.Layout(\n",
        "    title=\"Évolution du nombre de tweets par type d'événement\",\n",
        "    title_font=dict(size=18, family='Arial, sans-serif'),\n",
        "    xaxis=dict(\n",
        "        title=\"Date\",\n",
        "        title_font=dict(size=14, family='Arial, sans-serif'),\n",
        "        showgrid=True,\n",
        "        tickangle=45,\n",
        "        ticks=\"inside\",\n",
        "        tickfont=dict(size=12, family='Arial, sans-serif')\n",
        "    ),\n",
        "    yaxis=dict(\n",
        "        title=\"Nombre de tweets\",\n",
        "        title_font=dict(size=14, family='Arial, sans-serif'),\n",
        "        showgrid=True,\n",
        "        tickfont=dict(size=12, family='Arial, sans-serif')\n",
        "    ),\n",
        "    hovermode='closest',  # Afficher des informations au survol de la souris\n",
        "    plot_bgcolor='white',  # Fond blanc pour le graphique\n",
        "    paper_bgcolor='rgba(0,0,0,0)',  # Fond transparent pour la page\n",
        "    showlegend=True,  # Afficher la légende\n",
        "    xaxis_rangeslider_visible=False,  # Désactiver la barre de zoom (range slider)\n",
        "    autosize=True\n",
        ")\n",
        "\n",
        "# Créer la figure avec les données et la mise en page\n",
        "fig = go.Figure(data=traces, layout=layout)\n",
        "\n",
        "# Afficher le graphique\n",
        "fig.show()"
      ]
    },
    {
      "cell_type": "markdown",
      "metadata": {
        "id": "cVWDeADY5kgm"
      },
      "source": [
        "## 1.2.4. Creation of the dashboard"
      ]
    },
    {
      "cell_type": "markdown",
      "metadata": {
        "id": "8dndsXwbGw1U"
      },
      "source": [
        "We are creating a table where all the necessary informations are presented for the creation of the graph :"
      ]
    },
    {
      "cell_type": "code",
      "execution_count": 19,
      "metadata": {},
      "outputs": [
        {
          "data": {
            "text/html": [
              "<div>\n",
              "<style scoped>\n",
              "    .dataframe tbody tr th:only-of-type {\n",
              "        vertical-align: middle;\n",
              "    }\n",
              "\n",
              "    .dataframe tbody tr th {\n",
              "        vertical-align: top;\n",
              "    }\n",
              "\n",
              "    .dataframe thead th {\n",
              "        text-align: right;\n",
              "    }\n",
              "</style>\n",
              "<table border=\"1\" class=\"dataframe\">\n",
              "  <thead>\n",
              "    <tr style=\"text-align: right;\">\n",
              "      <th></th>\n",
              "      <th>date</th>\n",
              "      <th>Event_Type</th>\n",
              "      <th>num_tweets_perday</th>\n",
              "    </tr>\n",
              "  </thead>\n",
              "  <tbody>\n",
              "    <tr>\n",
              "      <th>0</th>\n",
              "      <td>2011-05-23</td>\n",
              "      <td>typhoon</td>\n",
              "      <td>10</td>\n",
              "    </tr>\n",
              "    <tr>\n",
              "      <th>1</th>\n",
              "      <td>2011-05-24</td>\n",
              "      <td>typhoon</td>\n",
              "      <td>12</td>\n",
              "    </tr>\n",
              "    <tr>\n",
              "      <th>2</th>\n",
              "      <td>2011-05-25</td>\n",
              "      <td>typhoon</td>\n",
              "      <td>27</td>\n",
              "    </tr>\n",
              "    <tr>\n",
              "      <th>3</th>\n",
              "      <td>2011-05-26</td>\n",
              "      <td>typhoon</td>\n",
              "      <td>9</td>\n",
              "    </tr>\n",
              "    <tr>\n",
              "      <th>4</th>\n",
              "      <td>2011-05-27</td>\n",
              "      <td>typhoon</td>\n",
              "      <td>8</td>\n",
              "    </tr>\n",
              "  </tbody>\n",
              "</table>\n",
              "</div>"
            ],
            "text/plain": [
              "         date Event_Type  num_tweets_perday\n",
              "0  2011-05-23    typhoon                 10\n",
              "1  2011-05-24    typhoon                 12\n",
              "2  2011-05-25    typhoon                 27\n",
              "3  2011-05-26    typhoon                  9\n",
              "4  2011-05-27    typhoon                  8"
            ]
          },
          "execution_count": 19,
          "metadata": {},
          "output_type": "execute_result"
        }
      ],
      "source": [
        "# Liste des types d'événements\n",
        "event_types = ['typhoon', 'shooting', 'wildfire', 'bombing', 'earthquake', 'flood']\n",
        "\n",
        "# Stocker les données\n",
        "data = []\n",
        "\n",
        "# Parcourir tous les types d'événements\n",
        "for event_type in event_types:\n",
        "    tweet_dates = []\n",
        "\n",
        "    # Parcourir les nœuds de type 'Tweet' et associer les tweets à l'événement spécifié\n",
        "    for tweet_node, tweet_data in graph.nodes(data=True):\n",
        "        if tweet_data.get(\"labels\") == \":Tweet\" and tweet_data.get(\"eventType\") == event_type:\n",
        "            if 'created_at' in tweet_data:\n",
        "                tweet_time = tweet_data['created_at']\n",
        "                tweet_dates.append(tweet_time)  # Ajouter la date du tweet\n",
        "\n",
        "    # Convertir les dates en format datetime\n",
        "    tweet_dates = pd.to_datetime(tweet_dates, errors='coerce')\n",
        "    tweet_dates = tweet_dates.dropna()  # Supprimer les valeurs NaT\n",
        "\n",
        "    # Compter le nombre de tweets par date\n",
        "    # Convert tweet_dates to a Series before using groupby and size\n",
        "    tweet_dates_series = pd.Series(tweet_dates)\n",
        "    tweet_counts = tweet_dates_series.groupby(tweet_dates_series.dt.date).size()\n",
        "\n",
        "    # Ajouter les données à la table\n",
        "    for date, count in tweet_counts.items():\n",
        "        data.append({'date': date, 'Event_Type': event_type, 'num_tweets_perday': count})\n",
        "\n",
        "# Création du DataFrame\n",
        "df_tweets_time_series = pd.DataFrame(data)\n",
        "\n",
        "# Vérification des premières lignes\n",
        "(df_tweets_time_series.head())"
      ]
    },
    {
      "cell_type": "code",
      "execution_count": 20,
      "metadata": {
        "colab": {
          "base_uri": "https://localhost:8080/",
          "height": 377
        },
        "id": "NQdqV6cO_E_7",
        "outputId": "16c19f50-8ab7-4b13-e90c-a121ab2bc94c"
      },
      "outputs": [
        {
          "data": {
            "text/html": [
              "<div>\n",
              "<style scoped>\n",
              "    .dataframe tbody tr th:only-of-type {\n",
              "        vertical-align: middle;\n",
              "    }\n",
              "\n",
              "    .dataframe tbody tr th {\n",
              "        vertical-align: top;\n",
              "    }\n",
              "\n",
              "    .dataframe thead th {\n",
              "        text-align: right;\n",
              "    }\n",
              "</style>\n",
              "<table border=\"1\" class=\"dataframe\">\n",
              "  <thead>\n",
              "    <tr style=\"text-align: right;\">\n",
              "      <th></th>\n",
              "      <th>Event_Type</th>\n",
              "      <th>Number_of_Tweets_perEvent</th>\n",
              "      <th>Number_of_Users_perEvent</th>\n",
              "      <th>Nb_of_sub_event</th>\n",
              "      <th>First_Tweet_Date</th>\n",
              "      <th>Last_Tweet_Date</th>\n",
              "      <th>Avg_Tweet_Frequency</th>\n",
              "    </tr>\n",
              "  </thead>\n",
              "  <tbody>\n",
              "    <tr>\n",
              "      <th>0</th>\n",
              "      <td>typhoon</td>\n",
              "      <td>13979</td>\n",
              "      <td>8913</td>\n",
              "      <td>6</td>\n",
              "      <td>2011-05-23 00:00:00+00:00</td>\n",
              "      <td>2019-04-29 00:00:00+00:00</td>\n",
              "      <td>0.207311</td>\n",
              "    </tr>\n",
              "    <tr>\n",
              "      <th>1</th>\n",
              "      <td>shooting</td>\n",
              "      <td>9133</td>\n",
              "      <td>5559</td>\n",
              "      <td>5</td>\n",
              "      <td>2013-11-01 00:00:00+00:00</td>\n",
              "      <td>2019-05-08 00:00:00+00:00</td>\n",
              "      <td>0.220519</td>\n",
              "    </tr>\n",
              "    <tr>\n",
              "      <th>2</th>\n",
              "      <td>wildfire</td>\n",
              "      <td>7826</td>\n",
              "      <td>5778</td>\n",
              "      <td>4</td>\n",
              "      <td>2012-06-09 00:00:00+00:00</td>\n",
              "      <td>2019-06-03 00:00:00+00:00</td>\n",
              "      <td>0.325837</td>\n",
              "    </tr>\n",
              "    <tr>\n",
              "      <th>3</th>\n",
              "      <td>bombing</td>\n",
              "      <td>4186</td>\n",
              "      <td>2783</td>\n",
              "      <td>3</td>\n",
              "      <td>2013-04-15 00:00:00+00:00</td>\n",
              "      <td>2015-11-14 00:00:00+00:00</td>\n",
              "      <td>0.225275</td>\n",
              "    </tr>\n",
              "    <tr>\n",
              "      <th>4</th>\n",
              "      <td>earthquake</td>\n",
              "      <td>13054</td>\n",
              "      <td>9380</td>\n",
              "      <td>8</td>\n",
              "      <td>2012-05-20 00:00:00+00:00</td>\n",
              "      <td>2019-04-29 00:00:00+00:00</td>\n",
              "      <td>0.194193</td>\n",
              "    </tr>\n",
              "    <tr>\n",
              "      <th>5</th>\n",
              "      <td>flood</td>\n",
              "      <td>7808</td>\n",
              "      <td>4255</td>\n",
              "      <td>7</td>\n",
              "      <td>2011-02-02 00:00:00+00:00</td>\n",
              "      <td>2019-04-24 00:00:00+00:00</td>\n",
              "      <td>0.384606</td>\n",
              "    </tr>\n",
              "  </tbody>\n",
              "</table>\n",
              "</div>"
            ],
            "text/plain": [
              "   Event_Type  Number_of_Tweets_perEvent  Number_of_Users_perEvent  \\\n",
              "0     typhoon                      13979                      8913   \n",
              "1    shooting                       9133                      5559   \n",
              "2    wildfire                       7826                      5778   \n",
              "3     bombing                       4186                      2783   \n",
              "4  earthquake                      13054                      9380   \n",
              "5       flood                       7808                      4255   \n",
              "\n",
              "   Nb_of_sub_event          First_Tweet_Date           Last_Tweet_Date  \\\n",
              "0                6 2011-05-23 00:00:00+00:00 2019-04-29 00:00:00+00:00   \n",
              "1                5 2013-11-01 00:00:00+00:00 2019-05-08 00:00:00+00:00   \n",
              "2                4 2012-06-09 00:00:00+00:00 2019-06-03 00:00:00+00:00   \n",
              "3                3 2013-04-15 00:00:00+00:00 2015-11-14 00:00:00+00:00   \n",
              "4                8 2012-05-20 00:00:00+00:00 2019-04-29 00:00:00+00:00   \n",
              "5                7 2011-02-02 00:00:00+00:00 2019-04-24 00:00:00+00:00   \n",
              "\n",
              "   Avg_Tweet_Frequency  \n",
              "0             0.207311  \n",
              "1             0.220519  \n",
              "2             0.325837  \n",
              "3             0.225275  \n",
              "4             0.194193  \n",
              "5             0.384606  "
            ]
          },
          "execution_count": 20,
          "metadata": {},
          "output_type": "execute_result"
        }
      ],
      "source": [
        "import pandas as pd\n",
        "\n",
        "# Liste des types d'événements et leurs couleurs\n",
        "event_types = ['typhoon', 'shooting', 'wildfire', 'bombing', 'earthquake', 'flood']\n",
        "event_colors = {\n",
        "    'typhoon': 'royalblue',\n",
        "    'shooting': 'darkorange',\n",
        "    'wildfire': 'green',\n",
        "    'bombing': 'red',\n",
        "    'earthquake': 'purple',\n",
        "    'flood': 'cyan'\n",
        "}\n",
        "\n",
        "# Liste pour stocker les statistiques pour chaque type d'événement\n",
        "event_stats = []\n",
        "\n",
        "# Liste pour stocker les données des relations IS_ABOUT\n",
        "data_is_about = []\n",
        "\n",
        "# Parcourir les relations IS_ABOUT (user - event)\n",
        "for u, v, edge_data in graph.edges(data=True):\n",
        "    if edge_data.get(\"label\") == \"IS_ABOUT\":  # Vérifier le bon label\n",
        "        data_is_about.append({\"user\": u, \"event\": v, \"label\": \"IS_ABOUT\"})\n",
        "\n",
        "# Créer un DataFrame des relations IS_ABOUT\n",
        "df_is_about = pd.DataFrame(data_is_about)\n",
        "\n",
        "# Liste pour stocker les données des événements\n",
        "event_data = []\n",
        "\n",
        "# Parcourir les nœuds pour trouver ceux de type \"Event\"\n",
        "for node, data in graph.nodes(data=True):\n",
        "    if data.get(\"labels\") == \":Event\":  # Vérifie si c'est un Event\n",
        "        event_data.append({\"event\": node, \"event_id\": data.get(\"id\"), \"eventType\": data.get(\"eventType\")})\n",
        "\n",
        "# Créer le DataFrame des événements\n",
        "df_events = pd.DataFrame(event_data)\n",
        "\n",
        "# Joindre les DataFrames sur la colonne \"event\"\n",
        "df_combined = pd.merge(df_is_about, df_events, on='event', how='left')\n",
        "\n",
        "# Regrouper par \"eventType\" et compter le nombre unique d'utilisateurs\n",
        "user_counts_by_event = df_combined.groupby('eventType')['user'].nunique().reset_index()\n",
        "sous_event_id_counts = df_combined.groupby(['eventType'])['event_id'].nunique().reset_index(name='unique_event_id_count')\n",
        "\n",
        "# Renommer la colonne pour correspondre à l'output attendu\n",
        "user_counts_by_event = user_counts_by_event.rename(columns={\"user\": \"Number of Users\"})\n",
        "sous_event_id_counts = sous_event_id_counts.rename(columns={\"user\": \"Number of unique event in the category\"})\n",
        "\n",
        "# Afficher les résultats\n",
        "\n",
        "\n",
        "# Calcul des statistiques pour chaque type d'événement\n",
        "for event_type in event_types:\n",
        "    tweet_dates = []\n",
        "    user_ids = []\n",
        "\n",
        "    # Sélectionner les utilisateurs et tweets associés à cet événement\n",
        "    event_df = df_combined[df_combined['eventType'] == event_type]\n",
        "\n",
        "    # Parcourir les nœuds de type 'Tweet' et associer les tweets avec l'événement\n",
        "    for tweet_node, tweet_data in graph.nodes(data=True):\n",
        "        if tweet_data.get(\"labels\") == \":Tweet\" and tweet_data.get(\"eventType\") == event_type:\n",
        "            if 'created_at' in tweet_data:\n",
        "                tweet_time = tweet_data['created_at']  # Récupérer le timestamp du tweet\n",
        "                user_id = tweet_data['id']  # ID de l'utilisateur\n",
        "                tweet_dates.append(tweet_time)  # Ajouter la date du tweet à la liste\n",
        "                user_ids.append(user_id)  # Ajouter l'ID de l'utilisateur à la liste\n",
        "\n",
        "    # Convertir les dates des tweets en datetime\n",
        "    tweet_dates = pd.to_datetime(tweet_dates, errors='coerce')\n",
        "\n",
        "    # Supprimer les valeurs invalides (NaT)\n",
        "    tweet_dates = tweet_dates.dropna()\n",
        "\n",
        "    # Créer une série des dates des tweets\n",
        "    tweet_dates_series = pd.Series(tweet_dates)\n",
        "\n",
        "    # Compter le nombre de tweets par jour\n",
        "    tweet_counts = tweet_dates_series.groupby(tweet_dates_series.dt.date).size()\n",
        "\n",
        "    # Calcul des statistiques pour l'événement\n",
        "    num_tweets = tweet_counts.sum()  # Nombre total de tweets pour cet événement\n",
        "    num_users = user_counts_by_event[user_counts_by_event['eventType'] == event_type]['Number of Users'].values[0]  # Nombre d'utilisateurs uniques\n",
        "    num_subevent = sous_event_id_counts[sous_event_id_counts['eventType'] == event_type]['unique_event_id_count'].values[0]\n",
        "    first_tweet_date = tweet_dates.min()  # Date du premier tweet\n",
        "    last_tweet_date = tweet_dates.max()  # Date du dernier tweet\n",
        "    avg_tweet_freq = (last_tweet_date - first_tweet_date).days / num_tweets if num_tweets > 0 else 0  # Fréquence moyenne des tweets en jours\n",
        "\n",
        "\n",
        "\n",
        "    # Ajouter les statistiques à la liste\n",
        "    event_stats.append({\n",
        "        'Event_Type': event_type,\n",
        "        'Number_of_Tweets_perEvent': num_tweets,\n",
        "        'Number_of_Users_perEvent': num_users,\n",
        "        'Nb_of_sub_event': num_subevent,\n",
        "        'First_Tweet_Date': first_tweet_date,\n",
        "        'Last_Tweet_Date': last_tweet_date,\n",
        "        'Avg_Tweet_Frequency': avg_tweet_freq\n",
        "    })\n",
        "\n",
        "# Créer un DataFrame à partir des statistiques\n",
        "event_stats_df = pd.DataFrame(event_stats)\n",
        "\n",
        "# Afficher le DataFrame des statistiques\n",
        "(event_stats_df)\n",
        "\n",
        "\n"
      ]
    },
    {
      "cell_type": "code",
      "execution_count": 21,
      "metadata": {
        "colab": {
          "base_uri": "https://localhost:8080/",
          "height": 416
        },
        "id": "9ipQqREQHCVJ",
        "outputId": "30a3113c-fde2-4944-d67c-3a0a6bb54040"
      },
      "outputs": [
        {
          "data": {
            "text/html": [
              "<div>\n",
              "<style scoped>\n",
              "    .dataframe tbody tr th:only-of-type {\n",
              "        vertical-align: middle;\n",
              "    }\n",
              "\n",
              "    .dataframe tbody tr th {\n",
              "        vertical-align: top;\n",
              "    }\n",
              "\n",
              "    .dataframe thead th {\n",
              "        text-align: right;\n",
              "    }\n",
              "</style>\n",
              "<table border=\"1\" class=\"dataframe\">\n",
              "  <thead>\n",
              "    <tr style=\"text-align: right;\">\n",
              "      <th></th>\n",
              "      <th>date</th>\n",
              "      <th>Event_Type</th>\n",
              "      <th>num_tweets_perday</th>\n",
              "      <th>Number_of_Tweets_perEvent</th>\n",
              "      <th>Number_of_Users_perEvent</th>\n",
              "      <th>Nb_of_sub_event</th>\n",
              "      <th>First_Tweet_Date</th>\n",
              "      <th>Last_Tweet_Date</th>\n",
              "      <th>Avg_Tweet_Frequency</th>\n",
              "    </tr>\n",
              "  </thead>\n",
              "  <tbody>\n",
              "    <tr>\n",
              "      <th>0</th>\n",
              "      <td>2011-05-23</td>\n",
              "      <td>typhoon</td>\n",
              "      <td>10</td>\n",
              "      <td>13979</td>\n",
              "      <td>8913</td>\n",
              "      <td>6</td>\n",
              "      <td>2011-05-23 00:00:00+00:00</td>\n",
              "      <td>2019-04-29 00:00:00+00:00</td>\n",
              "      <td>0.207311</td>\n",
              "    </tr>\n",
              "    <tr>\n",
              "      <th>1</th>\n",
              "      <td>2011-05-24</td>\n",
              "      <td>typhoon</td>\n",
              "      <td>12</td>\n",
              "      <td>13979</td>\n",
              "      <td>8913</td>\n",
              "      <td>6</td>\n",
              "      <td>2011-05-23 00:00:00+00:00</td>\n",
              "      <td>2019-04-29 00:00:00+00:00</td>\n",
              "      <td>0.207311</td>\n",
              "    </tr>\n",
              "    <tr>\n",
              "      <th>2</th>\n",
              "      <td>2011-05-25</td>\n",
              "      <td>typhoon</td>\n",
              "      <td>27</td>\n",
              "      <td>13979</td>\n",
              "      <td>8913</td>\n",
              "      <td>6</td>\n",
              "      <td>2011-05-23 00:00:00+00:00</td>\n",
              "      <td>2019-04-29 00:00:00+00:00</td>\n",
              "      <td>0.207311</td>\n",
              "    </tr>\n",
              "    <tr>\n",
              "      <th>3</th>\n",
              "      <td>2011-05-26</td>\n",
              "      <td>typhoon</td>\n",
              "      <td>9</td>\n",
              "      <td>13979</td>\n",
              "      <td>8913</td>\n",
              "      <td>6</td>\n",
              "      <td>2011-05-23 00:00:00+00:00</td>\n",
              "      <td>2019-04-29 00:00:00+00:00</td>\n",
              "      <td>0.207311</td>\n",
              "    </tr>\n",
              "    <tr>\n",
              "      <th>4</th>\n",
              "      <td>2011-05-27</td>\n",
              "      <td>typhoon</td>\n",
              "      <td>8</td>\n",
              "      <td>13979</td>\n",
              "      <td>8913</td>\n",
              "      <td>6</td>\n",
              "      <td>2011-05-23 00:00:00+00:00</td>\n",
              "      <td>2019-04-29 00:00:00+00:00</td>\n",
              "      <td>0.207311</td>\n",
              "    </tr>\n",
              "  </tbody>\n",
              "</table>\n",
              "</div>"
            ],
            "text/plain": [
              "         date Event_Type  num_tweets_perday  Number_of_Tweets_perEvent  \\\n",
              "0  2011-05-23    typhoon                 10                      13979   \n",
              "1  2011-05-24    typhoon                 12                      13979   \n",
              "2  2011-05-25    typhoon                 27                      13979   \n",
              "3  2011-05-26    typhoon                  9                      13979   \n",
              "4  2011-05-27    typhoon                  8                      13979   \n",
              "\n",
              "   Number_of_Users_perEvent  Nb_of_sub_event          First_Tweet_Date  \\\n",
              "0                      8913                6 2011-05-23 00:00:00+00:00   \n",
              "1                      8913                6 2011-05-23 00:00:00+00:00   \n",
              "2                      8913                6 2011-05-23 00:00:00+00:00   \n",
              "3                      8913                6 2011-05-23 00:00:00+00:00   \n",
              "4                      8913                6 2011-05-23 00:00:00+00:00   \n",
              "\n",
              "            Last_Tweet_Date  Avg_Tweet_Frequency  \n",
              "0 2019-04-29 00:00:00+00:00             0.207311  \n",
              "1 2019-04-29 00:00:00+00:00             0.207311  \n",
              "2 2019-04-29 00:00:00+00:00             0.207311  \n",
              "3 2019-04-29 00:00:00+00:00             0.207311  \n",
              "4 2019-04-29 00:00:00+00:00             0.207311  "
            ]
          },
          "execution_count": 21,
          "metadata": {},
          "output_type": "execute_result"
        }
      ],
      "source": [
        "df_complete = df_tweets_time_series.merge(event_stats_df, on=['Event_Type'], how='left')\n",
        "df_complete.head()"
      ]
    },
    {
      "cell_type": "code",
      "execution_count": 22,
      "metadata": {
        "colab": {
          "base_uri": "https://localhost:8080/",
          "height": 1000
        },
        "id": "Va4ZM2IzBPcc",
        "outputId": "e6714fa7-4755-43f7-cfcf-0d3a33deb981"
      },
      "outputs": [
        {
          "data": {
            "application/javascript": "(function(root) {\n  function now() {\n    return new Date();\n  }\n\n  var force = true;\n  var py_version = '3.2.1'.replace('rc', '-rc.').replace('.dev', '-dev.');\n  var is_dev = py_version.indexOf(\"+\") !== -1 || py_version.indexOf(\"-\") !== -1;\n  var reloading = false;\n  var Bokeh = root.Bokeh;\n  var bokeh_loaded = Bokeh != null && (Bokeh.version === py_version || (Bokeh.versions !== undefined && Bokeh.versions.has(py_version)));\n\n  if (typeof (root._bokeh_timeout) === \"undefined\" || force) {\n    root._bokeh_timeout = Date.now() + 5000;\n    root._bokeh_failed_load = false;\n  }\n\n  function run_callbacks() {\n    try {\n      root._bokeh_onload_callbacks.forEach(function(callback) {\n        if (callback != null)\n          callback();\n      });\n    } finally {\n      delete root._bokeh_onload_callbacks;\n    }\n    console.debug(\"Bokeh: all callbacks have finished\");\n  }\n\n  function load_libs(css_urls, js_urls, js_modules, js_exports, callback) {\n    if (css_urls == null) css_urls = [];\n    if (js_urls == null) js_urls = [];\n    if (js_modules == null) js_modules = [];\n    if (js_exports == null) js_exports = {};\n\n    root._bokeh_onload_callbacks.push(callback);\n\n    if (root._bokeh_is_loading > 0) {\n      console.debug(\"Bokeh: BokehJS is being loaded, scheduling callback at\", now());\n      return null;\n    }\n    if (js_urls.length === 0 && js_modules.length === 0 && Object.keys(js_exports).length === 0) {\n      run_callbacks();\n      return null;\n    }\n    if (!reloading) {\n      console.debug(\"Bokeh: BokehJS not loaded, scheduling load and callback at\", now());\n    }\n\n    function on_load() {\n      root._bokeh_is_loading--;\n      if (root._bokeh_is_loading === 0) {\n        console.debug(\"Bokeh: all BokehJS libraries/stylesheets loaded\");\n        run_callbacks()\n      }\n    }\n    window._bokeh_on_load = on_load\n\n    function on_error() {\n      console.error(\"failed to load \" + url);\n    }\n\n    var skip = [];\n    if (window.requirejs) {\n      window.requirejs.config({'packages': {}, 'paths': {'tabulator': 'https://cdn.jsdelivr.net/npm/tabulator-tables@5.5.0/dist/js/tabulator', 'moment': 'https://cdn.jsdelivr.net/npm/luxon/build/global/luxon.min', 'jspanel': 'https://cdn.jsdelivr.net/npm/jspanel4@4.12.0/dist/jspanel', 'jspanel-modal': 'https://cdn.jsdelivr.net/npm/jspanel4@4.12.0/dist/extensions/modal/jspanel.modal', 'jspanel-tooltip': 'https://cdn.jsdelivr.net/npm/jspanel4@4.12.0/dist/extensions/tooltip/jspanel.tooltip', 'jspanel-hint': 'https://cdn.jsdelivr.net/npm/jspanel4@4.12.0/dist/extensions/hint/jspanel.hint', 'jspanel-layout': 'https://cdn.jsdelivr.net/npm/jspanel4@4.12.0/dist/extensions/layout/jspanel.layout', 'jspanel-contextmenu': 'https://cdn.jsdelivr.net/npm/jspanel4@4.12.0/dist/extensions/contextmenu/jspanel.contextmenu', 'jspanel-dock': 'https://cdn.jsdelivr.net/npm/jspanel4@4.12.0/dist/extensions/dock/jspanel.dock', 'gridstack': 'https://cdn.jsdelivr.net/npm/gridstack@7.2.3/dist/gridstack-all', 'notyf': 'https://cdn.jsdelivr.net/npm/notyf@3/notyf.min'}, 'shim': {'jspanel': {'exports': 'jsPanel'}, 'gridstack': {'exports': 'GridStack'}}});\n      require([\"tabulator\"], function(Tabulator) {\n\twindow.Tabulator = Tabulator\n\ton_load()\n      })\n      require([\"moment\"], function(moment) {\n\twindow.moment = moment\n\ton_load()\n      })\n      require([\"jspanel\"], function(jsPanel) {\n\twindow.jsPanel = jsPanel\n\ton_load()\n      })\n      require([\"jspanel-modal\"], function() {\n\ton_load()\n      })\n      require([\"jspanel-tooltip\"], function() {\n\ton_load()\n      })\n      require([\"jspanel-hint\"], function() {\n\ton_load()\n      })\n      require([\"jspanel-layout\"], function() {\n\ton_load()\n      })\n      require([\"jspanel-contextmenu\"], function() {\n\ton_load()\n      })\n      require([\"jspanel-dock\"], function() {\n\ton_load()\n      })\n      require([\"gridstack\"], function(GridStack) {\n\twindow.GridStack = GridStack\n\ton_load()\n      })\n      require([\"notyf\"], function() {\n\ton_load()\n      })\n      root._bokeh_is_loading = css_urls.length + 11;\n    } else {\n      root._bokeh_is_loading = css_urls.length + js_urls.length + js_modules.length + Object.keys(js_exports).length;\n    }\n\n    var existing_stylesheets = []\n    var links = document.getElementsByTagName('link')\n    for (var i = 0; i < links.length; i++) {\n      var link = links[i]\n      if (link.href != null) {\n\texisting_stylesheets.push(link.href)\n      }\n    }\n    for (var i = 0; i < css_urls.length; i++) {\n      var url = css_urls[i];\n      if (existing_stylesheets.indexOf(url) !== -1) {\n\ton_load()\n\tcontinue;\n      }\n      const element = document.createElement(\"link\");\n      element.onload = on_load;\n      element.onerror = on_error;\n      element.rel = \"stylesheet\";\n      element.type = \"text/css\";\n      element.href = url;\n      console.debug(\"Bokeh: injecting link tag for BokehJS stylesheet: \", url);\n      document.body.appendChild(element);\n    }    if (((window['Tabulator'] !== undefined) && (!(window['Tabulator'] instanceof HTMLElement))) || window.requirejs) {\n      var urls = ['https://cdn.holoviz.org/panel/1.2.1/dist/bundled/datatabulator/tabulator-tables@5.5.0/dist/js/tabulator.js'];\n      for (var i = 0; i < urls.length; i++) {\n        skip.push(urls[i])\n      }\n    }    if (((window['moment'] !== undefined) && (!(window['moment'] instanceof HTMLElement))) || window.requirejs) {\n      var urls = ['https://cdn.holoviz.org/panel/1.2.1/dist/bundled/datatabulator/luxon/build/global/luxon.min.js'];\n      for (var i = 0; i < urls.length; i++) {\n        skip.push(urls[i])\n      }\n    }    if (((window['jsPanel'] !== undefined) && (!(window['jsPanel'] instanceof HTMLElement))) || window.requirejs) {\n      var urls = ['https://cdn.holoviz.org/panel/1.2.1/dist/bundled/floatpanel/jspanel4@4.12.0/dist/jspanel.js', 'https://cdn.holoviz.org/panel/1.2.1/dist/bundled/floatpanel/jspanel4@4.12.0/dist/extensions/modal/jspanel.modal.js', 'https://cdn.holoviz.org/panel/1.2.1/dist/bundled/floatpanel/jspanel4@4.12.0/dist/extensions/tooltip/jspanel.tooltip.js', 'https://cdn.holoviz.org/panel/1.2.1/dist/bundled/floatpanel/jspanel4@4.12.0/dist/extensions/hint/jspanel.hint.js', 'https://cdn.holoviz.org/panel/1.2.1/dist/bundled/floatpanel/jspanel4@4.12.0/dist/extensions/layout/jspanel.layout.js', 'https://cdn.holoviz.org/panel/1.2.1/dist/bundled/floatpanel/jspanel4@4.12.0/dist/extensions/contextmenu/jspanel.contextmenu.js', 'https://cdn.holoviz.org/panel/1.2.1/dist/bundled/floatpanel/jspanel4@4.12.0/dist/extensions/dock/jspanel.dock.js'];\n      for (var i = 0; i < urls.length; i++) {\n        skip.push(urls[i])\n      }\n    }    if (((window['GridStack'] !== undefined) && (!(window['GridStack'] instanceof HTMLElement))) || window.requirejs) {\n      var urls = ['https://cdn.holoviz.org/panel/1.2.1/dist/bundled/gridstack/gridstack@7.2.3/dist/gridstack-all.js'];\n      for (var i = 0; i < urls.length; i++) {\n        skip.push(urls[i])\n      }\n    }    if (((window['Notyf'] !== undefined) && (!(window['Notyf'] instanceof HTMLElement))) || window.requirejs) {\n      var urls = ['https://cdn.holoviz.org/panel/1.2.1/dist/bundled/notificationarea/notyf@3/notyf.min.js'];\n      for (var i = 0; i < urls.length; i++) {\n        skip.push(urls[i])\n      }\n    }    var existing_scripts = []\n    var scripts = document.getElementsByTagName('script')\n    for (var i = 0; i < scripts.length; i++) {\n      var script = scripts[i]\n      if (script.src != null) {\n\texisting_scripts.push(script.src)\n      }\n    }\n    for (var i = 0; i < js_urls.length; i++) {\n      var url = js_urls[i];\n      if (skip.indexOf(url) !== -1 || existing_scripts.indexOf(url) !== -1) {\n\tif (!window.requirejs) {\n\t  on_load();\n\t}\n\tcontinue;\n      }\n      var element = document.createElement('script');\n      element.onload = on_load;\n      element.onerror = on_error;\n      element.async = false;\n      element.src = url;\n      console.debug(\"Bokeh: injecting script tag for BokehJS library: \", url);\n      document.head.appendChild(element);\n    }\n    for (var i = 0; i < js_modules.length; i++) {\n      var url = js_modules[i];\n      if (skip.indexOf(url) !== -1 || existing_scripts.indexOf(url) !== -1) {\n\tif (!window.requirejs) {\n\t  on_load();\n\t}\n\tcontinue;\n      }\n      var element = document.createElement('script');\n      element.onload = on_load;\n      element.onerror = on_error;\n      element.async = false;\n      element.src = url;\n      element.type = \"module\";\n      console.debug(\"Bokeh: injecting script tag for BokehJS library: \", url);\n      document.head.appendChild(element);\n    }\n    for (const name in js_exports) {\n      var url = js_exports[name];\n      if (skip.indexOf(url) >= 0 || root[name] != null) {\n\tif (!window.requirejs) {\n\t  on_load();\n\t}\n\tcontinue;\n      }\n      var element = document.createElement('script');\n      element.onerror = on_error;\n      element.async = false;\n      element.type = \"module\";\n      console.debug(\"Bokeh: injecting script tag for BokehJS library: \", url);\n      element.textContent = `\n      import ${name} from \"${url}\"\n      window.${name} = ${name}\n      window._bokeh_on_load()\n      `\n      document.head.appendChild(element);\n    }\n    if (!js_urls.length && !js_modules.length) {\n      on_load()\n    }\n  };\n\n  function inject_raw_css(css) {\n    const element = document.createElement(\"style\");\n    element.appendChild(document.createTextNode(css));\n    document.body.appendChild(element);\n  }\n\n  var js_urls = [\"https://cdn.holoviz.org/panel/1.2.1/dist/bundled/datatabulator/tabulator-tables@5.5.0/dist/js/tabulator.js\", \"https://cdn.holoviz.org/panel/1.2.1/dist/bundled/datatabulator/luxon/build/global/luxon.min.js\", \"https://cdn.bokeh.org/bokeh/release/bokeh-3.2.1.min.js\", \"https://cdn.bokeh.org/bokeh/release/bokeh-gl-3.2.1.min.js\", \"https://cdn.bokeh.org/bokeh/release/bokeh-widgets-3.2.1.min.js\", \"https://cdn.bokeh.org/bokeh/release/bokeh-tables-3.2.1.min.js\", \"https://cdn.holoviz.org/panel/1.2.1/dist/panel.min.js\"];\n  var js_modules = [];\n  var js_exports = {};\n  var css_urls = [\"https://cdn.holoviz.org/panel/1.2.1/dist/bundled/datatabulator/tabulator-tables@5.5.0/dist/css/tabulator_simple.min.css\"];\n  var inline_js = [    function(Bokeh) {\n      inject_raw_css(\".tabulator{position:relative;border:1px solid #999;font-size:14px;text-align:left;overflow:hidden;-webkit-transform:translateZ(0);-moz-transform:translateZ(0);-ms-transform:translateZ(0);-o-transform:translateZ(0);transform:translateZ(0)}.tabulator[tabulator-layout=fitDataFill] .tabulator-tableholder .tabulator-table{min-width:100%}.tabulator[tabulator-layout=fitDataTable]{display:inline-block}.tabulator.tabulator-block-select{user-select:none}.tabulator .tabulator-header{position:relative;box-sizing:border-box;width:100%;border-bottom:1px solid #999;background-color:#fff;color:#555;font-weight:700;white-space:nowrap;overflow:hidden;-moz-user-select:none;-khtml-user-select:none;-webkit-user-select:none;-o-user-select:none}.tabulator .tabulator-header.tabulator-header-hidden{display:none}.tabulator .tabulator-header .tabulator-header-contents{position:relative;overflow:hidden}.tabulator .tabulator-header .tabulator-header-contents .tabulator-headers{display:inline-block}.tabulator .tabulator-header .tabulator-col{display:inline-flex;position:relative;box-sizing:border-box;flex-direction:column;justify-content:flex-start;border-right:1px solid #ddd;background:#fff;text-align:left;vertical-align:bottom;overflow:hidden}.tabulator .tabulator-header .tabulator-col.tabulator-moving{position:absolute;border:1px solid #999;background:#e6e6e6;pointer-events:none}.tabulator .tabulator-header .tabulator-col .tabulator-col-content{box-sizing:border-box;position:relative;padding:4px}.tabulator .tabulator-header .tabulator-col .tabulator-col-content .tabulator-header-popup-button{padding:0 8px}.tabulator .tabulator-header .tabulator-col .tabulator-col-content .tabulator-header-popup-button:hover{cursor:pointer;opacity:.6}.tabulator .tabulator-header .tabulator-col .tabulator-col-content .tabulator-col-title-holder{position:relative}.tabulator .tabulator-header .tabulator-col .tabulator-col-content .tabulator-col-title{box-sizing:border-box;width:100%;white-space:nowrap;overflow:hidden;text-overflow:ellipsis;vertical-align:bottom}.tabulator .tabulator-header .tabulator-col .tabulator-col-content .tabulator-col-title.tabulator-col-title-wrap{white-space:normal;text-overflow:clip}.tabulator .tabulator-header .tabulator-col .tabulator-col-content .tabulator-col-title .tabulator-title-editor{box-sizing:border-box;width:100%;border:1px solid #999;padding:1px;background:#fff}.tabulator .tabulator-header .tabulator-col .tabulator-col-content .tabulator-col-title .tabulator-header-popup-button+.tabulator-title-editor{width:calc(100% - 22px)}.tabulator .tabulator-header .tabulator-col .tabulator-col-content .tabulator-col-sorter{display:flex;align-items:center;position:absolute;top:0;bottom:0;right:4px}.tabulator .tabulator-header .tabulator-col .tabulator-col-content .tabulator-col-sorter .tabulator-arrow{width:0;height:0;border-left:6px solid transparent;border-right:6px solid transparent;border-bottom:6px solid #bbb}.tabulator .tabulator-header .tabulator-col.tabulator-col-group .tabulator-col-group-cols{position:relative;display:flex;border-top:1px solid #ddd;overflow:hidden;margin-right:-1px}.tabulator .tabulator-header .tabulator-col .tabulator-header-filter{position:relative;box-sizing:border-box;margin-top:2px;width:100%;text-align:center}.tabulator .tabulator-header .tabulator-col .tabulator-header-filter textarea{height:auto!important}.tabulator .tabulator-header .tabulator-col .tabulator-header-filter svg{margin-top:3px}.tabulator .tabulator-header .tabulator-col .tabulator-header-filter input::-ms-clear{width:0;height:0}.tabulator .tabulator-header .tabulator-col.tabulator-sortable .tabulator-col-title{padding-right:25px}@media (hover:hover) and (pointer:fine){.tabulator .tabulator-header .tabulator-col.tabulator-sortable.tabulator-col-sorter-element:hover{cursor:pointer;background-color:#e6e6e6}}.tabulator .tabulator-header .tabulator-col.tabulator-sortable[aria-sort=none] .tabulator-col-content .tabulator-col-sorter{color:#bbb}@media (hover:hover) and (pointer:fine){.tabulator .tabulator-header .tabulator-col.tabulator-sortable[aria-sort=none] .tabulator-col-content .tabulator-col-sorter.tabulator-col-sorter-element .tabulator-arrow:hover{cursor:pointer;border-bottom:6px solid #555}}.tabulator .tabulator-header .tabulator-col.tabulator-sortable[aria-sort=none] .tabulator-col-content .tabulator-col-sorter .tabulator-arrow{border-top:none;border-bottom:6px solid #bbb}.tabulator .tabulator-header .tabulator-col.tabulator-sortable[aria-sort=ascending] .tabulator-col-content .tabulator-col-sorter{color:#666}@media (hover:hover) and (pointer:fine){.tabulator .tabulator-header .tabulator-col.tabulator-sortable[aria-sort=ascending] .tabulator-col-content .tabulator-col-sorter.tabulator-col-sorter-element .tabulator-arrow:hover{cursor:pointer;border-bottom:6px solid #555}}.tabulator .tabulator-header .tabulator-col.tabulator-sortable[aria-sort=ascending] .tabulator-col-content .tabulator-col-sorter .tabulator-arrow{border-top:none;border-bottom:6px solid #666}.tabulator .tabulator-header .tabulator-col.tabulator-sortable[aria-sort=descending] .tabulator-col-content .tabulator-col-sorter{color:#666}@media (hover:hover) and (pointer:fine){.tabulator .tabulator-header .tabulator-col.tabulator-sortable[aria-sort=descending] .tabulator-col-content .tabulator-col-sorter.tabulator-col-sorter-element .tabulator-arrow:hover{cursor:pointer;border-top:6px solid #555}}.tabulator .tabulator-header .tabulator-col.tabulator-sortable[aria-sort=descending] .tabulator-col-content .tabulator-col-sorter .tabulator-arrow{border-bottom:none;border-top:6px solid #666;color:#666}.tabulator .tabulator-header .tabulator-col.tabulator-col-vertical .tabulator-col-content .tabulator-col-title{writing-mode:vertical-rl;text-orientation:mixed;display:flex;align-items:center;justify-content:center}.tabulator .tabulator-header .tabulator-col.tabulator-col-vertical.tabulator-col-vertical-flip .tabulator-col-title{transform:rotate(180deg)}.tabulator .tabulator-header .tabulator-col.tabulator-col-vertical.tabulator-sortable .tabulator-col-title{padding-right:0;padding-top:20px}.tabulator .tabulator-header .tabulator-col.tabulator-col-vertical.tabulator-sortable.tabulator-col-vertical-flip .tabulator-col-title{padding-right:0;padding-bottom:20px}.tabulator .tabulator-header .tabulator-col.tabulator-col-vertical.tabulator-sortable .tabulator-col-sorter{justify-content:center;left:0;right:0;top:4px;bottom:auto}.tabulator .tabulator-header .tabulator-frozen{position:sticky;left:0;z-index:10}.tabulator .tabulator-header .tabulator-frozen.tabulator-frozen-left{border-right:2px solid #ddd}.tabulator .tabulator-header .tabulator-frozen.tabulator-frozen-right{border-left:2px solid #ddd}.tabulator .tabulator-header .tabulator-calcs-holder{box-sizing:border-box;background:#fff!important;border-top:1px solid #ddd;border-bottom:1px solid #ddd}.tabulator .tabulator-header .tabulator-calcs-holder .tabulator-row{background:#fff!important}.tabulator .tabulator-header .tabulator-calcs-holder .tabulator-row .tabulator-col-resize-handle,.tabulator .tabulator-header .tabulator-frozen-rows-holder:empty{display:none}.tabulator .tabulator-tableholder{position:relative;width:100%;white-space:nowrap;overflow:auto;-webkit-overflow-scrolling:touch}.tabulator .tabulator-tableholder:focus{outline:none}.tabulator .tabulator-tableholder .tabulator-placeholder{box-sizing:border-box;display:flex;align-items:center;justify-content:center;width:100%}.tabulator .tabulator-tableholder .tabulator-placeholder[tabulator-render-mode=virtual]{min-height:100%;min-width:100%}.tabulator .tabulator-tableholder .tabulator-placeholder .tabulator-placeholder-contents{display:inline-block;text-align:center;padding:10px;color:#ccc;font-weight:700;font-size:20px;white-space:normal}.tabulator .tabulator-tableholder .tabulator-table{position:relative;display:inline-block;background-color:#fff;white-space:nowrap;overflow:visible;color:#333}.tabulator .tabulator-tableholder .tabulator-table .tabulator-row.tabulator-calcs{font-weight:700;background:#f2f2f2!important}.tabulator .tabulator-tableholder .tabulator-table .tabulator-row.tabulator-calcs.tabulator-calcs-top{border-bottom:2px solid #ddd}.tabulator .tabulator-tableholder .tabulator-table .tabulator-row.tabulator-calcs.tabulator-calcs-bottom{border-top:2px solid #ddd}.tabulator .tabulator-footer{border-top:1px solid #999;background-color:#fff;color:#555;font-weight:700;white-space:nowrap;user-select:none;-moz-user-select:none;-khtml-user-select:none;-webkit-user-select:none;-o-user-select:none}.tabulator .tabulator-footer .tabulator-footer-contents{display:flex;flex-direction:row;align-items:center;justify-content:space-between;padding:5px 10px}.tabulator .tabulator-footer .tabulator-footer-contents:empty{display:none}.tabulator .tabulator-footer .tabulator-calcs-holder{box-sizing:border-box;width:100%;text-align:left;background:#fff!important;border-bottom:1px solid #ddd;border-top:1px solid #ddd;overflow:hidden}.tabulator .tabulator-footer .tabulator-calcs-holder .tabulator-row{display:inline-block;background:#fff!important}.tabulator .tabulator-footer .tabulator-calcs-holder .tabulator-row .tabulator-col-resize-handle{display:none}.tabulator .tabulator-footer .tabulator-calcs-holder:only-child{margin-bottom:-5px;border-bottom:none}.tabulator .tabulator-footer>*+.tabulator-page-counter{margin-left:10px}.tabulator .tabulator-footer .tabulator-page-counter{font-weight:400}.tabulator .tabulator-footer .tabulator-paginator{flex:1;text-align:right;color:#555;font-family:inherit;font-weight:inherit;font-size:inherit}.tabulator .tabulator-footer .tabulator-page-size{display:inline-block;margin:0 5px;padding:2px 5px;border:1px solid #aaa;border-radius:3px}.tabulator .tabulator-footer .tabulator-pages{margin:0 7px}.tabulator .tabulator-footer .tabulator-page{display:inline-block;margin:0 2px;padding:2px 5px;border:1px solid #aaa;border-radius:3px;background:hsla(0,0%,100%,.2)}.tabulator .tabulator-footer .tabulator-page.active{color:#d00}.tabulator .tabulator-footer .tabulator-page:disabled{opacity:.5}@media (hover:hover) and (pointer:fine){.tabulator .tabulator-footer .tabulator-page:not(.disabled):hover{cursor:pointer;background:rgba(0,0,0,.2);color:#fff}}.tabulator .tabulator-col-resize-handle{position:relative;display:inline-block;width:6px;margin-left:-3px;margin-right:-3px;z-index:10;vertical-align:middle}@media (hover:hover) and (pointer:fine){.tabulator .tabulator-col-resize-handle:hover{cursor:ew-resize}}.tabulator .tabulator-col-resize-handle:last-of-type{width:3px;margin-right:0}.tabulator .tabulator-alert{position:absolute;display:flex;align-items:center;top:0;left:0;z-index:100;height:100%;width:100%;background:rgba(0,0,0,.4);text-align:center}.tabulator .tabulator-alert .tabulator-alert-msg{display:inline-block;margin:0 auto;padding:10px 20px;border-radius:10px;background:#fff;font-weight:700;font-size:16px}.tabulator .tabulator-alert .tabulator-alert-msg.tabulator-alert-state-msg{border:4px solid #333;color:#000}.tabulator .tabulator-alert .tabulator-alert-msg.tabulator-alert-state-error{border:4px solid #d00;color:#590000}.tabulator-row{position:relative;box-sizing:border-box;min-height:22px}.tabulator-row,.tabulator-row.tabulator-row-even{background-color:#fff}@media (hover:hover) and (pointer:fine){.tabulator-row.tabulator-selectable:hover{background-color:#bbb;cursor:pointer}}.tabulator-row.tabulator-selected{background-color:#9abcea}@media (hover:hover) and (pointer:fine){.tabulator-row.tabulator-selected:hover{background-color:#769bcc;cursor:pointer}}.tabulator-row.tabulator-row-moving{border:1px solid #000;background:#fff}.tabulator-row.tabulator-moving{position:absolute;border-top:1px solid #ddd;border-bottom:1px solid #ddd;pointer-events:none;z-index:15}.tabulator-row .tabulator-row-resize-handle{position:absolute;right:0;bottom:0;left:0;height:5px}.tabulator-row .tabulator-row-resize-handle.prev{top:0;bottom:auto}@media (hover:hover) and (pointer:fine){.tabulator-row .tabulator-row-resize-handle:hover{cursor:ns-resize}}.tabulator-row .tabulator-responsive-collapse{box-sizing:border-box;padding:5px;border-top:1px solid #ddd;border-bottom:1px solid #ddd}.tabulator-row .tabulator-responsive-collapse:empty{display:none}.tabulator-row .tabulator-responsive-collapse table{font-size:14px}.tabulator-row .tabulator-responsive-collapse table tr td{position:relative}.tabulator-row .tabulator-responsive-collapse table tr td:first-of-type{padding-right:10px}.tabulator-row .tabulator-cell{display:inline-block;position:relative;box-sizing:border-box;padding:4px;border-right:1px solid #ddd;vertical-align:middle;white-space:nowrap;overflow:hidden;text-overflow:ellipsis}.tabulator-row .tabulator-cell.tabulator-frozen{display:inline-block;position:sticky;left:0;background-color:inherit;z-index:10}.tabulator-row .tabulator-cell.tabulator-frozen.tabulator-frozen-left{border-right:2px solid #ddd}.tabulator-row .tabulator-cell.tabulator-frozen.tabulator-frozen-right{border-left:2px solid #ddd}.tabulator-row .tabulator-cell.tabulator-editing{border:1px solid #1d68cd;outline:none;padding:0}.tabulator-row .tabulator-cell.tabulator-editing input,.tabulator-row .tabulator-cell.tabulator-editing select{border:1px;background:transparent;outline:none}.tabulator-row .tabulator-cell.tabulator-validation-fail{border:1px solid #d00}.tabulator-row .tabulator-cell.tabulator-validation-fail input,.tabulator-row .tabulator-cell.tabulator-validation-fail select{border:1px;background:transparent;color:#d00}.tabulator-row .tabulator-cell.tabulator-row-handle{display:inline-flex;align-items:center;justify-content:center;-moz-user-select:none;-khtml-user-select:none;-webkit-user-select:none;-o-user-select:none}.tabulator-row .tabulator-cell.tabulator-row-handle .tabulator-row-handle-box{width:80%}.tabulator-row .tabulator-cell.tabulator-row-handle .tabulator-row-handle-box .tabulator-row-handle-bar{width:100%;height:3px;margin-top:2px;background:#666}.tabulator-row .tabulator-cell .tabulator-data-tree-branch{display:inline-block;vertical-align:middle;height:9px;width:7px;margin-top:-9px;margin-right:5px;border-bottom-left-radius:1px;border-left:2px solid #ddd;border-bottom:2px solid #ddd}.tabulator-row .tabulator-cell .tabulator-data-tree-control{display:inline-flex;justify-content:center;align-items:center;vertical-align:middle;height:11px;width:11px;margin-right:5px;border:1px solid #333;border-radius:2px;background:rgba(0,0,0,.1);overflow:hidden}@media (hover:hover) and (pointer:fine){.tabulator-row .tabulator-cell .tabulator-data-tree-control:hover{cursor:pointer;background:rgba(0,0,0,.2)}}.tabulator-row .tabulator-cell .tabulator-data-tree-control .tabulator-data-tree-control-collapse{display:inline-block;position:relative;height:7px;width:1px;background:transparent}.tabulator-row .tabulator-cell .tabulator-data-tree-control .tabulator-data-tree-control-collapse:after{position:absolute;content:\\\"\\\";left:-3px;top:3px;height:1px;width:7px;background:#333}.tabulator-row .tabulator-cell .tabulator-data-tree-control .tabulator-data-tree-control-expand{display:inline-block;position:relative;height:7px;width:1px;background:#333}.tabulator-row .tabulator-cell .tabulator-data-tree-control .tabulator-data-tree-control-expand:after{position:absolute;content:\\\"\\\";left:-3px;top:3px;height:1px;width:7px;background:#333}.tabulator-row .tabulator-cell .tabulator-responsive-collapse-toggle{display:inline-flex;align-items:center;justify-content:center;-moz-user-select:none;-khtml-user-select:none;-webkit-user-select:none;-o-user-select:none;height:15px;width:15px;border-radius:20px;background:#666;color:#fff;font-weight:700;font-size:1.1em}@media (hover:hover) and (pointer:fine){.tabulator-row .tabulator-cell .tabulator-responsive-collapse-toggle:hover{opacity:.7;cursor:pointer}}.tabulator-row .tabulator-cell .tabulator-responsive-collapse-toggle.open .tabulator-responsive-collapse-toggle-close{display:initial}.tabulator-row .tabulator-cell .tabulator-responsive-collapse-toggle.open .tabulator-responsive-collapse-toggle-open{display:none}.tabulator-row .tabulator-cell .tabulator-responsive-collapse-toggle svg{stroke:#fff}.tabulator-row .tabulator-cell .tabulator-responsive-collapse-toggle .tabulator-responsive-collapse-toggle-close{display:none}.tabulator-row .tabulator-cell .tabulator-traffic-light{display:inline-block;height:14px;width:14px;border-radius:14px}.tabulator-row.tabulator-group{box-sizing:border-box;border-bottom:1px solid #999;border-right:1px solid #ddd;border-top:1px solid #999;padding:5px 5px 5px 10px;background:#ccc;font-weight:700;min-width:100%}@media (hover:hover) and (pointer:fine){.tabulator-row.tabulator-group:hover{cursor:pointer;background-color:rgba(0,0,0,.1)}}.tabulator-row.tabulator-group.tabulator-group-visible .tabulator-arrow{margin-right:10px;border-left:6px solid transparent;border-right:6px solid transparent;border-top:6px solid #666;border-bottom:0}.tabulator-row.tabulator-group.tabulator-group-level-1{padding-left:30px}.tabulator-row.tabulator-group.tabulator-group-level-2{padding-left:50px}.tabulator-row.tabulator-group.tabulator-group-level-3{padding-left:70px}.tabulator-row.tabulator-group.tabulator-group-level-4{padding-left:90px}.tabulator-row.tabulator-group.tabulator-group-level-5{padding-left:110px}.tabulator-row.tabulator-group .tabulator-group-toggle{display:inline-block}.tabulator-row.tabulator-group .tabulator-arrow{display:inline-block;width:0;height:0;margin-right:16px;border-top:6px solid transparent;border-bottom:6px solid transparent;border-right:0;border-left:6px solid #666;vertical-align:middle}.tabulator-row.tabulator-group span{margin-left:10px;color:#d00}.tabulator-popup-container{position:absolute;display:inline-block;box-sizing:border-box;background:#fff;border:1px solid #ddd;box-shadow:0 0 5px 0 rgba(0,0,0,.2);font-size:14px;overflow-y:auto;-webkit-overflow-scrolling:touch;z-index:10000}.tabulator-popup{padding:5px;border-radius:3px}.tabulator-tooltip{max-width:Min(500px,100%);padding:3px 5px;border-radius:2px;box-shadow:none;font-size:12px;pointer-events:none}.tabulator-menu .tabulator-menu-item{position:relative;box-sizing:border-box;padding:5px 10px;user-select:none}.tabulator-menu .tabulator-menu-item.tabulator-menu-item-disabled{opacity:.5}@media (hover:hover) and (pointer:fine){.tabulator-menu .tabulator-menu-item:not(.tabulator-menu-item-disabled):hover{cursor:pointer;background:#fff}}.tabulator-menu .tabulator-menu-item.tabulator-menu-item-submenu{padding-right:25px}.tabulator-menu .tabulator-menu-item.tabulator-menu-item-submenu:after{display:inline-block;position:absolute;top:calc(5px + .4em);right:10px;height:7px;width:7px;content:\\\"\\\";border-color:#ddd;border-style:solid;border-width:1px 1px 0 0;vertical-align:top;transform:rotate(45deg)}.tabulator-menu .tabulator-menu-separator{border-top:1px solid #ddd}.tabulator-edit-list{max-height:200px;font-size:14px;overflow-y:auto;-webkit-overflow-scrolling:touch}.tabulator-edit-list .tabulator-edit-list-item{padding:4px;color:#333;outline:none}.tabulator-edit-list .tabulator-edit-list-item.active{color:#fff;background:#1d68cd}.tabulator-edit-list .tabulator-edit-list-item.active.focused{outline:1px solid hsla(0,0%,100%,.5)}.tabulator-edit-list .tabulator-edit-list-item.focused{outline:1px solid #1d68cd}@media (hover:hover) and (pointer:fine){.tabulator-edit-list .tabulator-edit-list-item:hover{cursor:pointer;color:#fff;background:#1d68cd}}.tabulator-edit-list .tabulator-edit-list-placeholder{padding:4px;color:#333;text-align:center}.tabulator-edit-list .tabulator-edit-list-group{border-bottom:1px solid #ddd;padding:6px 4px 4px;color:#333;font-weight:700}.tabulator-edit-list .tabulator-edit-list-group.tabulator-edit-list-group-level-2,.tabulator-edit-list .tabulator-edit-list-item.tabulator-edit-list-group-level-2{padding-left:12px}.tabulator-edit-list .tabulator-edit-list-group.tabulator-edit-list-group-level-3,.tabulator-edit-list .tabulator-edit-list-item.tabulator-edit-list-group-level-3{padding-left:20px}.tabulator-edit-list .tabulator-edit-list-group.tabulator-edit-list-group-level-4,.tabulator-edit-list .tabulator-edit-list-item.tabulator-edit-list-group-level-4{padding-left:28px}.tabulator-edit-list .tabulator-edit-list-group.tabulator-edit-list-group-level-5,.tabulator-edit-list .tabulator-edit-list-item.tabulator-edit-list-group-level-5{padding-left:36px}.tabulator.tabulator-ltr{direction:ltr}.tabulator.tabulator-rtl{text-align:initial;direction:rtl}.tabulator.tabulator-rtl .tabulator-header .tabulator-col{text-align:initial;border-left:1px solid #ddd;border-right:initial}.tabulator.tabulator-rtl .tabulator-header .tabulator-col.tabulator-col-group .tabulator-col-group-cols{margin-right:0;margin-left:-1px}.tabulator.tabulator-rtl .tabulator-header .tabulator-col.tabulator-sortable .tabulator-col-title{padding-right:0;padding-left:25px}.tabulator.tabulator-rtl .tabulator-header .tabulator-col .tabulator-col-content .tabulator-col-sorter{left:8px;right:auto}.tabulator.tabulator-rtl .tabulator-row .tabulator-cell{border-right:initial;border-left:1px solid #ddd}.tabulator.tabulator-rtl .tabulator-row .tabulator-cell .tabulator-data-tree-branch{margin-right:0;margin-left:5px;border-bottom-left-radius:0;border-bottom-right-radius:1px;border-left:initial;border-right:2px solid #ddd}.tabulator.tabulator-rtl .tabulator-row .tabulator-cell .tabulator-data-tree-control{margin-right:0;margin-left:5px}.tabulator.tabulator-rtl .tabulator-row .tabulator-cell.tabulator-frozen.tabulator-frozen-left{border-left:2px solid #ddd}.tabulator.tabulator-rtl .tabulator-row .tabulator-cell.tabulator-frozen.tabulator-frozen-right{border-right:2px solid #ddd}.tabulator.tabulator-rtl .tabulator-row .tabulator-col-resize-handle:last-of-type{width:3px;margin-left:0;margin-right:-3px}.tabulator.tabulator-rtl .tabulator-footer .tabulator-calcs-holder{text-align:initial}.tabulator-print-fullscreen{position:absolute;top:0;bottom:0;left:0;right:0;z-index:10000}body.tabulator-print-fullscreen-hide>:not(.tabulator-print-fullscreen){display:none!important}.tabulator-print-table{border-collapse:collapse}.tabulator-print-table .tabulator-data-tree-branch{display:inline-block;vertical-align:middle;height:9px;width:7px;margin-top:-9px;margin-right:5px;border-bottom-left-radius:1px;border-left:2px solid #ddd;border-bottom:2px solid #ddd}.tabulator-print-table .tabulator-print-table-group{box-sizing:border-box;border-bottom:1px solid #999;border-right:1px solid #ddd;border-top:1px solid #999;padding:5px 5px 5px 10px;background:#ccc;font-weight:700;min-width:100%}@media (hover:hover) and (pointer:fine){.tabulator-print-table .tabulator-print-table-group:hover{cursor:pointer;background-color:rgba(0,0,0,.1)}}.tabulator-print-table .tabulator-print-table-group.tabulator-group-visible .tabulator-arrow{margin-right:10px;border-left:6px solid transparent;border-right:6px solid transparent;border-top:6px solid #666;border-bottom:0}.tabulator-print-table .tabulator-print-table-group.tabulator-group-level-1 td{padding-left:30px!important}.tabulator-print-table .tabulator-print-table-group.tabulator-group-level-2 td{padding-left:50px!important}.tabulator-print-table .tabulator-print-table-group.tabulator-group-level-3 td{padding-left:70px!important}.tabulator-print-table .tabulator-print-table-group.tabulator-group-level-4 td{padding-left:90px!important}.tabulator-print-table .tabulator-print-table-group.tabulator-group-level-5 td{padding-left:110px!important}.tabulator-print-table .tabulator-print-table-group .tabulator-group-toggle{display:inline-block}.tabulator-print-table .tabulator-print-table-group .tabulator-arrow{display:inline-block;width:0;height:0;margin-right:16px;border-top:6px solid transparent;border-bottom:6px solid transparent;border-right:0;border-left:6px solid #666;vertical-align:middle}.tabulator-print-table .tabulator-print-table-group span{color:#d00}.tabulator-print-table .tabulator-data-tree-control{display:inline-flex;justify-content:center;align-items:center;vertical-align:middle;height:11px;width:11px;margin-right:5px;border:1px solid #333;border-radius:2px;background:rgba(0,0,0,.1);overflow:hidden}@media (hover:hover) and (pointer:fine){.tabulator-print-table .tabulator-data-tree-control:hover{cursor:pointer;background:rgba(0,0,0,.2)}}.tabulator-print-table .tabulator-data-tree-control .tabulator-data-tree-control-collapse{display:inline-block;position:relative;height:7px;width:1px;background:transparent}.tabulator-print-table .tabulator-data-tree-control .tabulator-data-tree-control-collapse:after{position:absolute;content:\\\"\\\";left:-3px;top:3px;height:1px;width:7px;background:#333}.tabulator-print-table .tabulator-data-tree-control .tabulator-data-tree-control-expand{display:inline-block;position:relative;height:7px;width:1px;background:#333}.tabulator-print-table .tabulator-data-tree-control .tabulator-data-tree-control-expand:after{position:absolute;content:\\\"\\\";left:-3px;top:3px;height:1px;width:7px;background:#333}.tabulator{border:none;background-color:#fff}.tabulator .tabulator-header .tabulator-calcs-holder{background:#f2f2f2!important;border-bottom:1px solid #999}.tabulator .tabulator-header .tabulator-calcs-holder .tabulator-row{background:#f2f2f2!important}.tabulator .tabulator-tableholder .tabulator-placeholder span{color:#000}.tabulator .tabulator-footer .tabulator-calcs-holder{background:#f2f2f2!important;border-bottom:1px solid #fff}.tabulator .tabulator-footer .tabulator-calcs-holder .tabulator-row{background:#f2f2f2!important}.tabulator-row{border-bottom:1px solid #ddd}.tabulator-row .tabulator-cell:last-of-type{border-right:none}.tabulator-row.tabulator-group span{color:#666}.tabulator-print-table .tabulator-print-table-group span{margin-left:10px;color:#666}\\n/*# sourceMappingURL=tabulator_simple.min.css.map */\");\n    },    function(Bokeh) {\n      Bokeh.set_log_level(\"info\");\n    },\nfunction(Bokeh) {} // ensure no trailing comma for IE\n  ];\n\n  function run_inline_js() {\n    if ((root.Bokeh !== undefined) || (force === true)) {\n      for (var i = 0; i < inline_js.length; i++) {\n        inline_js[i].call(root, root.Bokeh);\n      }\n      // Cache old bokeh versions\n      if (Bokeh != undefined && !reloading) {\n\tvar NewBokeh = root.Bokeh;\n\tif (Bokeh.versions === undefined) {\n\t  Bokeh.versions = new Map();\n\t}\n\tif (NewBokeh.version !== Bokeh.version) {\n\t  Bokeh.versions.set(NewBokeh.version, NewBokeh)\n\t}\n\troot.Bokeh = Bokeh;\n      }} else if (Date.now() < root._bokeh_timeout) {\n      setTimeout(run_inline_js, 100);\n    } else if (!root._bokeh_failed_load) {\n      console.log(\"Bokeh: BokehJS failed to load within specified timeout.\");\n      root._bokeh_failed_load = true;\n    }\n    root._bokeh_is_initializing = false\n  }\n\n  function load_or_wait() {\n    // Implement a backoff loop that tries to ensure we do not load multiple\n    // versions of Bokeh and its dependencies at the same time.\n    // In recent versions we use the root._bokeh_is_initializing flag\n    // to determine whether there is an ongoing attempt to initialize\n    // bokeh, however for backward compatibility we also try to ensure\n    // that we do not start loading a newer (Panel>=1.0 and Bokeh>3) version\n    // before older versions are fully initialized.\n    if (root._bokeh_is_initializing && Date.now() > root._bokeh_timeout) {\n      root._bokeh_is_initializing = false;\n      root._bokeh_onload_callbacks = undefined;\n      console.log(\"Bokeh: BokehJS was loaded multiple times but one version failed to initialize.\");\n      load_or_wait();\n    } else if (root._bokeh_is_initializing || (typeof root._bokeh_is_initializing === \"undefined\" && root._bokeh_onload_callbacks !== undefined)) {\n      setTimeout(load_or_wait, 100);\n    } else {\n      Bokeh = root.Bokeh;\n      bokeh_loaded = Bokeh != null && (Bokeh.version === py_version || (Bokeh.versions !== undefined && Bokeh.versions.has(py_version)));\n      root._bokeh_is_initializing = true\n      root._bokeh_onload_callbacks = []\n      if (!reloading && (!bokeh_loaded || is_dev)) {\n\troot.Bokeh = undefined;\n      }\n      load_libs(css_urls, js_urls, js_modules, js_exports, function() {\n\tconsole.debug(\"Bokeh: BokehJS plotting callback run at\", now());\n\trun_inline_js();\n      });\n    }\n  }\n  // Give older versions of the autoload script a head-start to ensure\n  // they initialize before we start loading newer version.\n  setTimeout(load_or_wait, 100)\n}(window));",
            "application/vnd.holoviews_load.v0+json": ""
          },
          "metadata": {},
          "output_type": "display_data"
        },
        {
          "data": {
            "application/javascript": "\nif ((window.PyViz === undefined) || (window.PyViz instanceof HTMLElement)) {\n  window.PyViz = {comms: {}, comm_status:{}, kernels:{}, receivers: {}, plot_index: []}\n}\n\n\n    function JupyterCommManager() {\n    }\n\n    JupyterCommManager.prototype.register_target = function(plot_id, comm_id, msg_handler) {\n      if (window.comm_manager || ((window.Jupyter !== undefined) && (Jupyter.notebook.kernel != null))) {\n        var comm_manager = window.comm_manager || Jupyter.notebook.kernel.comm_manager;\n        comm_manager.register_target(comm_id, function(comm) {\n          comm.on_msg(msg_handler);\n        });\n      } else if ((plot_id in window.PyViz.kernels) && (window.PyViz.kernels[plot_id])) {\n        window.PyViz.kernels[plot_id].registerCommTarget(comm_id, function(comm) {\n          comm.onMsg = msg_handler;\n        });\n      } else if (typeof google != 'undefined' && google.colab.kernel != null) {\n        google.colab.kernel.comms.registerTarget(comm_id, (comm) => {\n          var messages = comm.messages[Symbol.asyncIterator]();\n          function processIteratorResult(result) {\n            var message = result.value;\n            console.log(message)\n            var content = {data: message.data, comm_id};\n            var buffers = []\n            for (var buffer of message.buffers || []) {\n              buffers.push(new DataView(buffer))\n            }\n            var metadata = message.metadata || {};\n            var msg = {content, buffers, metadata}\n            msg_handler(msg);\n            return messages.next().then(processIteratorResult);\n          }\n          return messages.next().then(processIteratorResult);\n        })\n      }\n    }\n\n    JupyterCommManager.prototype.get_client_comm = function(plot_id, comm_id, msg_handler) {\n      if (comm_id in window.PyViz.comms) {\n        return window.PyViz.comms[comm_id];\n      } else if (window.comm_manager || ((window.Jupyter !== undefined) && (Jupyter.notebook.kernel != null))) {\n        var comm_manager = window.comm_manager || Jupyter.notebook.kernel.comm_manager;\n        var comm = comm_manager.new_comm(comm_id, {}, {}, {}, comm_id);\n        if (msg_handler) {\n          comm.on_msg(msg_handler);\n        }\n      } else if ((plot_id in window.PyViz.kernels) && (window.PyViz.kernels[plot_id])) {\n        var comm = window.PyViz.kernels[plot_id].connectToComm(comm_id);\n        comm.open();\n        if (msg_handler) {\n          comm.onMsg = msg_handler;\n        }\n      } else if (typeof google != 'undefined' && google.colab.kernel != null) {\n        var comm_promise = google.colab.kernel.comms.open(comm_id)\n        comm_promise.then((comm) => {\n          window.PyViz.comms[comm_id] = comm;\n          if (msg_handler) {\n            var messages = comm.messages[Symbol.asyncIterator]();\n            function processIteratorResult(result) {\n              var message = result.value;\n              var content = {data: message.data};\n              var metadata = message.metadata || {comm_id};\n              var msg = {content, metadata}\n              msg_handler(msg);\n              return messages.next().then(processIteratorResult);\n            }\n            return messages.next().then(processIteratorResult);\n          }\n        }) \n        var sendClosure = (data, metadata, buffers, disposeOnDone) => {\n          return comm_promise.then((comm) => {\n            comm.send(data, metadata, buffers, disposeOnDone);\n          });\n        };\n        var comm = {\n          send: sendClosure\n        };\n      }\n      window.PyViz.comms[comm_id] = comm;\n      return comm;\n    }\n    window.PyViz.comm_manager = new JupyterCommManager();\n    \n\n\nvar JS_MIME_TYPE = 'application/javascript';\nvar HTML_MIME_TYPE = 'text/html';\nvar EXEC_MIME_TYPE = 'application/vnd.holoviews_exec.v0+json';\nvar CLASS_NAME = 'output';\n\n/**\n * Render data to the DOM node\n */\nfunction render(props, node) {\n  var div = document.createElement(\"div\");\n  var script = document.createElement(\"script\");\n  node.appendChild(div);\n  node.appendChild(script);\n}\n\n/**\n * Handle when a new output is added\n */\nfunction handle_add_output(event, handle) {\n  var output_area = handle.output_area;\n  var output = handle.output;\n  if ((output.data == undefined) || (!output.data.hasOwnProperty(EXEC_MIME_TYPE))) {\n    return\n  }\n  var id = output.metadata[EXEC_MIME_TYPE][\"id\"];\n  var toinsert = output_area.element.find(\".\" + CLASS_NAME.split(' ')[0]);\n  if (id !== undefined) {\n    var nchildren = toinsert.length;\n    var html_node = toinsert[nchildren-1].children[0];\n    html_node.innerHTML = output.data[HTML_MIME_TYPE];\n    var scripts = [];\n    var nodelist = html_node.querySelectorAll(\"script\");\n    for (var i in nodelist) {\n      if (nodelist.hasOwnProperty(i)) {\n        scripts.push(nodelist[i])\n      }\n    }\n\n    scripts.forEach( function (oldScript) {\n      var newScript = document.createElement(\"script\");\n      var attrs = [];\n      var nodemap = oldScript.attributes;\n      for (var j in nodemap) {\n        if (nodemap.hasOwnProperty(j)) {\n          attrs.push(nodemap[j])\n        }\n      }\n      attrs.forEach(function(attr) { newScript.setAttribute(attr.name, attr.value) });\n      newScript.appendChild(document.createTextNode(oldScript.innerHTML));\n      oldScript.parentNode.replaceChild(newScript, oldScript);\n    });\n    if (JS_MIME_TYPE in output.data) {\n      toinsert[nchildren-1].children[1].textContent = output.data[JS_MIME_TYPE];\n    }\n    output_area._hv_plot_id = id;\n    if ((window.Bokeh !== undefined) && (id in Bokeh.index)) {\n      window.PyViz.plot_index[id] = Bokeh.index[id];\n    } else {\n      window.PyViz.plot_index[id] = null;\n    }\n  } else if (output.metadata[EXEC_MIME_TYPE][\"server_id\"] !== undefined) {\n    var bk_div = document.createElement(\"div\");\n    bk_div.innerHTML = output.data[HTML_MIME_TYPE];\n    var script_attrs = bk_div.children[0].attributes;\n    for (var i = 0; i < script_attrs.length; i++) {\n      toinsert[toinsert.length - 1].childNodes[1].setAttribute(script_attrs[i].name, script_attrs[i].value);\n    }\n    // store reference to server id on output_area\n    output_area._bokeh_server_id = output.metadata[EXEC_MIME_TYPE][\"server_id\"];\n  }\n}\n\n/**\n * Handle when an output is cleared or removed\n */\nfunction handle_clear_output(event, handle) {\n  var id = handle.cell.output_area._hv_plot_id;\n  var server_id = handle.cell.output_area._bokeh_server_id;\n  if (((id === undefined) || !(id in PyViz.plot_index)) && (server_id !== undefined)) { return; }\n  var comm = window.PyViz.comm_manager.get_client_comm(\"hv-extension-comm\", \"hv-extension-comm\", function () {});\n  if (server_id !== null) {\n    comm.send({event_type: 'server_delete', 'id': server_id});\n    return;\n  } else if (comm !== null) {\n    comm.send({event_type: 'delete', 'id': id});\n  }\n  delete PyViz.plot_index[id];\n  if ((window.Bokeh !== undefined) & (id in window.Bokeh.index)) {\n    var doc = window.Bokeh.index[id].model.document\n    doc.clear();\n    const i = window.Bokeh.documents.indexOf(doc);\n    if (i > -1) {\n      window.Bokeh.documents.splice(i, 1);\n    }\n  }\n}\n\n/**\n * Handle kernel restart event\n */\nfunction handle_kernel_cleanup(event, handle) {\n  delete PyViz.comms[\"hv-extension-comm\"];\n  window.PyViz.plot_index = {}\n}\n\n/**\n * Handle update_display_data messages\n */\nfunction handle_update_output(event, handle) {\n  handle_clear_output(event, {cell: {output_area: handle.output_area}})\n  handle_add_output(event, handle)\n}\n\nfunction register_renderer(events, OutputArea) {\n  function append_mime(data, metadata, element) {\n    // create a DOM node to render to\n    var toinsert = this.create_output_subarea(\n    metadata,\n    CLASS_NAME,\n    EXEC_MIME_TYPE\n    );\n    this.keyboard_manager.register_events(toinsert);\n    // Render to node\n    var props = {data: data, metadata: metadata[EXEC_MIME_TYPE]};\n    render(props, toinsert[0]);\n    element.append(toinsert);\n    return toinsert\n  }\n\n  events.on('output_added.OutputArea', handle_add_output);\n  events.on('output_updated.OutputArea', handle_update_output);\n  events.on('clear_output.CodeCell', handle_clear_output);\n  events.on('delete.Cell', handle_clear_output);\n  events.on('kernel_ready.Kernel', handle_kernel_cleanup);\n\n  OutputArea.prototype.register_mime_type(EXEC_MIME_TYPE, append_mime, {\n    safe: true,\n    index: 0\n  });\n}\n\nif (window.Jupyter !== undefined) {\n  try {\n    var events = require('base/js/events');\n    var OutputArea = require('notebook/js/outputarea').OutputArea;\n    if (OutputArea.prototype.mime_types().indexOf(EXEC_MIME_TYPE) == -1) {\n      register_renderer(events, OutputArea);\n    }\n  } catch(err) {\n  }\n}\n",
            "application/vnd.holoviews_load.v0+json": ""
          },
          "metadata": {},
          "output_type": "display_data"
        },
        {
          "data": {
            "text/html": [
              "<style>*[data-root-id],\n",
              "*[data-root-id] > * {\n",
              "  box-sizing: border-box;\n",
              "  font-family: var(--jp-ui-font-family);\n",
              "  font-size: var(--jp-ui-font-size1);\n",
              "  color: var(--vscode-editor-foreground, var(--jp-ui-font-color1));\n",
              "}\n",
              "\n",
              "/* Override VSCode background color */\n",
              ".cell-output-ipywidget-background:has(\n",
              "    > .cell-output-ipywidget-background > .lm-Widget > *[data-root-id]\n",
              "  ),\n",
              ".cell-output-ipywidget-background:has(> .lm-Widget > *[data-root-id]) {\n",
              "  background-color: transparent !important;\n",
              "}\n",
              "</style>"
            ]
          },
          "metadata": {},
          "output_type": "display_data"
        },
        {
          "data": {
            "application/vnd.holoviews_exec.v0+json": "",
            "text/html": [
              "<div id='86f71288-74e0-4f96-825e-3dcd9543c190'>\n",
              "  <div id=\"ae7ab63d-758f-4d1d-a95c-5b1da5e41892\" data-root-id=\"86f71288-74e0-4f96-825e-3dcd9543c190\" style=\"display: contents;\"></div>\n",
              "</div>\n",
              "<script type=\"application/javascript\">(function(root) {\n",
              "  var docs_json = {\"4e02a48c-9309-41ca-9257-f90120d4a733\":{\"version\":\"3.2.1\",\"title\":\"Bokeh Application\",\"roots\":[{\"type\":\"object\",\"name\":\"panel.models.browser.BrowserInfo\",\"id\":\"86f71288-74e0-4f96-825e-3dcd9543c190\"},{\"type\":\"object\",\"name\":\"panel.models.comm_manager.CommManager\",\"id\":\"ca5ab297-cba4-4d42-be1e-bd0d04b2a72a\",\"attributes\":{\"plot_id\":\"86f71288-74e0-4f96-825e-3dcd9543c190\",\"comm_id\":\"1dfd414de78f426ebafa728f8b4361a1\",\"client_comm_id\":\"5a1990d34bfb4cea81fbf92ccb86c3a0\"}}],\"defs\":[{\"type\":\"model\",\"name\":\"ReactiveHTML1\"},{\"type\":\"model\",\"name\":\"FlexBox1\",\"properties\":[{\"name\":\"align_content\",\"kind\":\"Any\",\"default\":\"flex-start\"},{\"name\":\"align_items\",\"kind\":\"Any\",\"default\":\"flex-start\"},{\"name\":\"flex_direction\",\"kind\":\"Any\",\"default\":\"row\"},{\"name\":\"flex_wrap\",\"kind\":\"Any\",\"default\":\"wrap\"},{\"name\":\"justify_content\",\"kind\":\"Any\",\"default\":\"flex-start\"}]},{\"type\":\"model\",\"name\":\"FloatPanel1\",\"properties\":[{\"name\":\"config\",\"kind\":\"Any\",\"default\":{\"type\":\"map\"}},{\"name\":\"contained\",\"kind\":\"Any\",\"default\":true},{\"name\":\"position\",\"kind\":\"Any\",\"default\":\"right-top\"},{\"name\":\"offsetx\",\"kind\":\"Any\",\"default\":null},{\"name\":\"offsety\",\"kind\":\"Any\",\"default\":null},{\"name\":\"theme\",\"kind\":\"Any\",\"default\":\"primary\"},{\"name\":\"status\",\"kind\":\"Any\",\"default\":\"normalized\"}]},{\"type\":\"model\",\"name\":\"GridStack1\",\"properties\":[{\"name\":\"mode\",\"kind\":\"Any\",\"default\":\"warn\"},{\"name\":\"ncols\",\"kind\":\"Any\",\"default\":null},{\"name\":\"nrows\",\"kind\":\"Any\",\"default\":null},{\"name\":\"allow_resize\",\"kind\":\"Any\",\"default\":true},{\"name\":\"allow_drag\",\"kind\":\"Any\",\"default\":true},{\"name\":\"state\",\"kind\":\"Any\",\"default\":[]}]},{\"type\":\"model\",\"name\":\"drag1\",\"properties\":[{\"name\":\"slider_width\",\"kind\":\"Any\",\"default\":5},{\"name\":\"slider_color\",\"kind\":\"Any\",\"default\":\"black\"},{\"name\":\"value\",\"kind\":\"Any\",\"default\":50}]},{\"type\":\"model\",\"name\":\"click1\",\"properties\":[{\"name\":\"terminal_output\",\"kind\":\"Any\",\"default\":\"\"},{\"name\":\"debug_name\",\"kind\":\"Any\",\"default\":\"\"},{\"name\":\"clears\",\"kind\":\"Any\",\"default\":0}]},{\"type\":\"model\",\"name\":\"FastWrapper1\",\"properties\":[{\"name\":\"object\",\"kind\":\"Any\",\"default\":null},{\"name\":\"style\",\"kind\":\"Any\",\"default\":null}]},{\"type\":\"model\",\"name\":\"NotificationAreaBase1\",\"properties\":[{\"name\":\"js_events\",\"kind\":\"Any\",\"default\":{\"type\":\"map\"}},{\"name\":\"position\",\"kind\":\"Any\",\"default\":\"bottom-right\"},{\"name\":\"_clear\",\"kind\":\"Any\",\"default\":0}]},{\"type\":\"model\",\"name\":\"NotificationArea1\",\"properties\":[{\"name\":\"js_events\",\"kind\":\"Any\",\"default\":{\"type\":\"map\"}},{\"name\":\"notifications\",\"kind\":\"Any\",\"default\":[]},{\"name\":\"position\",\"kind\":\"Any\",\"default\":\"bottom-right\"},{\"name\":\"_clear\",\"kind\":\"Any\",\"default\":0},{\"name\":\"types\",\"kind\":\"Any\",\"default\":[{\"type\":\"map\",\"entries\":[[\"type\",\"warning\"],[\"background\",\"#ffc107\"],[\"icon\",{\"type\":\"map\",\"entries\":[[\"className\",\"fas fa-exclamation-triangle\"],[\"tagName\",\"i\"],[\"color\",\"white\"]]}]]},{\"type\":\"map\",\"entries\":[[\"type\",\"info\"],[\"background\",\"#007bff\"],[\"icon\",{\"type\":\"map\",\"entries\":[[\"className\",\"fas fa-info-circle\"],[\"tagName\",\"i\"],[\"color\",\"white\"]]}]]}]}]},{\"type\":\"model\",\"name\":\"Notification\",\"properties\":[{\"name\":\"background\",\"kind\":\"Any\",\"default\":null},{\"name\":\"duration\",\"kind\":\"Any\",\"default\":3000},{\"name\":\"icon\",\"kind\":\"Any\",\"default\":null},{\"name\":\"message\",\"kind\":\"Any\",\"default\":\"\"},{\"name\":\"notification_type\",\"kind\":\"Any\",\"default\":null},{\"name\":\"_destroyed\",\"kind\":\"Any\",\"default\":false}]},{\"type\":\"model\",\"name\":\"TemplateActions1\",\"properties\":[{\"name\":\"open_modal\",\"kind\":\"Any\",\"default\":0},{\"name\":\"close_modal\",\"kind\":\"Any\",\"default\":0}]},{\"type\":\"model\",\"name\":\"BootstrapTemplateActions1\",\"properties\":[{\"name\":\"open_modal\",\"kind\":\"Any\",\"default\":0},{\"name\":\"close_modal\",\"kind\":\"Any\",\"default\":0}]},{\"type\":\"model\",\"name\":\"MaterialTemplateActions1\",\"properties\":[{\"name\":\"open_modal\",\"kind\":\"Any\",\"default\":0},{\"name\":\"close_modal\",\"kind\":\"Any\",\"default\":0}]}]}};\n",
              "  var render_items = [{\"docid\":\"4e02a48c-9309-41ca-9257-f90120d4a733\",\"roots\":{\"86f71288-74e0-4f96-825e-3dcd9543c190\":\"ae7ab63d-758f-4d1d-a95c-5b1da5e41892\"},\"root_ids\":[\"86f71288-74e0-4f96-825e-3dcd9543c190\"]}];\n",
              "  var docs = Object.values(docs_json)\n",
              "  if (!docs) {\n",
              "    return\n",
              "  }\n",
              "  const py_version = docs[0].version.replace('rc', '-rc.').replace('.dev', '-dev.')\n",
              "  const is_dev = py_version.indexOf(\"+\") !== -1 || py_version.indexOf(\"-\") !== -1\n",
              "  function embed_document(root) {\n",
              "    var Bokeh = get_bokeh(root)\n",
              "    Bokeh.embed.embed_items_notebook(docs_json, render_items);\n",
              "    for (const render_item of render_items) {\n",
              "      for (const root_id of render_item.root_ids) {\n",
              "\tconst id_el = document.getElementById(root_id)\n",
              "\tif (id_el.children.length && (id_el.children[0].className === 'bk-root')) {\n",
              "\t  const root_el = id_el.children[0]\n",
              "\t  root_el.id = root_el.id + '-rendered'\n",
              "\t}\n",
              "      }\n",
              "    }\n",
              "  }\n",
              "  function get_bokeh(root) {\n",
              "    if (root.Bokeh === undefined) {\n",
              "      return null\n",
              "    } else if (root.Bokeh.version !== py_version && !is_dev) {\n",
              "      if (root.Bokeh.versions === undefined || !root.Bokeh.versions.has(py_version)) {\n",
              "\treturn null\n",
              "      }\n",
              "      return root.Bokeh.versions.get(py_version);\n",
              "    } else if (root.Bokeh.version === py_version) {\n",
              "      return root.Bokeh\n",
              "    }\n",
              "    return null\n",
              "  }\n",
              "  function is_loaded(root) {\n",
              "    var Bokeh = get_bokeh(root)\n",
              "    return (Bokeh != null && Bokeh.Panel !== undefined && ( root['Tabulator'] !== undefined) && ( root['Tabulator'] !== undefined))\n",
              "  }\n",
              "  if (is_loaded(root)) {\n",
              "    embed_document(root);\n",
              "  } else {\n",
              "    var attempts = 0;\n",
              "    var timer = setInterval(function(root) {\n",
              "      if (is_loaded(root)) {\n",
              "        clearInterval(timer);\n",
              "        embed_document(root);\n",
              "      } else if (document.readyState == \"complete\") {\n",
              "        attempts++;\n",
              "        if (attempts > 200) {\n",
              "          clearInterval(timer);\n",
              "\t  var Bokeh = get_bokeh(root)\n",
              "\t  if (Bokeh == null || Bokeh.Panel == null) {\n",
              "            console.warn(\"Panel: ERROR: Unable to run Panel code because Bokeh or Panel library is missing\");\n",
              "\t  } else {\n",
              "\t    console.warn(\"Panel: WARNING: Attempting to render but not all required libraries could be resolved.\")\n",
              "\t    embed_document(root)\n",
              "\t  }\n",
              "        }\n",
              "      }\n",
              "    }, 25, root)\n",
              "  }\n",
              "})(window);</script>"
            ]
          },
          "metadata": {
            "application/vnd.holoviews_exec.v0+json": {
              "id": "86f71288-74e0-4f96-825e-3dcd9543c190"
            }
          },
          "output_type": "display_data"
        },
        {
          "data": {
            "application/javascript": "(function(root) {\n  function now() {\n    return new Date();\n  }\n\n  var force = true;\n  var py_version = '3.2.1'.replace('rc', '-rc.').replace('.dev', '-dev.');\n  var is_dev = py_version.indexOf(\"+\") !== -1 || py_version.indexOf(\"-\") !== -1;\n  var reloading = true;\n  var Bokeh = root.Bokeh;\n  var bokeh_loaded = Bokeh != null && (Bokeh.version === py_version || (Bokeh.versions !== undefined && Bokeh.versions.has(py_version)));\n\n  if (typeof (root._bokeh_timeout) === \"undefined\" || force) {\n    root._bokeh_timeout = Date.now() + 5000;\n    root._bokeh_failed_load = false;\n  }\n\n  function run_callbacks() {\n    try {\n      root._bokeh_onload_callbacks.forEach(function(callback) {\n        if (callback != null)\n          callback();\n      });\n    } finally {\n      delete root._bokeh_onload_callbacks;\n    }\n    console.debug(\"Bokeh: all callbacks have finished\");\n  }\n\n  function load_libs(css_urls, js_urls, js_modules, js_exports, callback) {\n    if (css_urls == null) css_urls = [];\n    if (js_urls == null) js_urls = [];\n    if (js_modules == null) js_modules = [];\n    if (js_exports == null) js_exports = {};\n\n    root._bokeh_onload_callbacks.push(callback);\n\n    if (root._bokeh_is_loading > 0) {\n      console.debug(\"Bokeh: BokehJS is being loaded, scheduling callback at\", now());\n      return null;\n    }\n    if (js_urls.length === 0 && js_modules.length === 0 && Object.keys(js_exports).length === 0) {\n      run_callbacks();\n      return null;\n    }\n    if (!reloading) {\n      console.debug(\"Bokeh: BokehJS not loaded, scheduling load and callback at\", now());\n    }\n\n    function on_load() {\n      root._bokeh_is_loading--;\n      if (root._bokeh_is_loading === 0) {\n        console.debug(\"Bokeh: all BokehJS libraries/stylesheets loaded\");\n        run_callbacks()\n      }\n    }\n    window._bokeh_on_load = on_load\n\n    function on_error() {\n      console.error(\"failed to load \" + url);\n    }\n\n    var skip = [];\n    if (window.requirejs) {\n      window.requirejs.config({'packages': {}, 'paths': {'tabulator': 'https://cdn.jsdelivr.net/npm/tabulator-tables@5.5.0/dist/js/tabulator', 'moment': 'https://cdn.jsdelivr.net/npm/luxon/build/global/luxon.min', 'jspanel': 'https://cdn.jsdelivr.net/npm/jspanel4@4.12.0/dist/jspanel', 'jspanel-modal': 'https://cdn.jsdelivr.net/npm/jspanel4@4.12.0/dist/extensions/modal/jspanel.modal', 'jspanel-tooltip': 'https://cdn.jsdelivr.net/npm/jspanel4@4.12.0/dist/extensions/tooltip/jspanel.tooltip', 'jspanel-hint': 'https://cdn.jsdelivr.net/npm/jspanel4@4.12.0/dist/extensions/hint/jspanel.hint', 'jspanel-layout': 'https://cdn.jsdelivr.net/npm/jspanel4@4.12.0/dist/extensions/layout/jspanel.layout', 'jspanel-contextmenu': 'https://cdn.jsdelivr.net/npm/jspanel4@4.12.0/dist/extensions/contextmenu/jspanel.contextmenu', 'jspanel-dock': 'https://cdn.jsdelivr.net/npm/jspanel4@4.12.0/dist/extensions/dock/jspanel.dock', 'gridstack': 'https://cdn.jsdelivr.net/npm/gridstack@7.2.3/dist/gridstack-all', 'notyf': 'https://cdn.jsdelivr.net/npm/notyf@3/notyf.min'}, 'shim': {'jspanel': {'exports': 'jsPanel'}, 'gridstack': {'exports': 'GridStack'}}});\n      require([\"tabulator\"], function(Tabulator) {\n\twindow.Tabulator = Tabulator\n\ton_load()\n      })\n      require([\"moment\"], function(moment) {\n\twindow.moment = moment\n\ton_load()\n      })\n      require([\"jspanel\"], function(jsPanel) {\n\twindow.jsPanel = jsPanel\n\ton_load()\n      })\n      require([\"jspanel-modal\"], function() {\n\ton_load()\n      })\n      require([\"jspanel-tooltip\"], function() {\n\ton_load()\n      })\n      require([\"jspanel-hint\"], function() {\n\ton_load()\n      })\n      require([\"jspanel-layout\"], function() {\n\ton_load()\n      })\n      require([\"jspanel-contextmenu\"], function() {\n\ton_load()\n      })\n      require([\"jspanel-dock\"], function() {\n\ton_load()\n      })\n      require([\"gridstack\"], function(GridStack) {\n\twindow.GridStack = GridStack\n\ton_load()\n      })\n      require([\"notyf\"], function() {\n\ton_load()\n      })\n      root._bokeh_is_loading = css_urls.length + 11;\n    } else {\n      root._bokeh_is_loading = css_urls.length + js_urls.length + js_modules.length + Object.keys(js_exports).length;\n    }\n\n    var existing_stylesheets = []\n    var links = document.getElementsByTagName('link')\n    for (var i = 0; i < links.length; i++) {\n      var link = links[i]\n      if (link.href != null) {\n\texisting_stylesheets.push(link.href)\n      }\n    }\n    for (var i = 0; i < css_urls.length; i++) {\n      var url = css_urls[i];\n      if (existing_stylesheets.indexOf(url) !== -1) {\n\ton_load()\n\tcontinue;\n      }\n      const element = document.createElement(\"link\");\n      element.onload = on_load;\n      element.onerror = on_error;\n      element.rel = \"stylesheet\";\n      element.type = \"text/css\";\n      element.href = url;\n      console.debug(\"Bokeh: injecting link tag for BokehJS stylesheet: \", url);\n      document.body.appendChild(element);\n    }    if (((window['Tabulator'] !== undefined) && (!(window['Tabulator'] instanceof HTMLElement))) || window.requirejs) {\n      var urls = ['https://cdn.holoviz.org/panel/1.2.1/dist/bundled/datatabulator/tabulator-tables@5.5.0/dist/js/tabulator.js'];\n      for (var i = 0; i < urls.length; i++) {\n        skip.push(urls[i])\n      }\n    }    if (((window['moment'] !== undefined) && (!(window['moment'] instanceof HTMLElement))) || window.requirejs) {\n      var urls = ['https://cdn.holoviz.org/panel/1.2.1/dist/bundled/datatabulator/luxon/build/global/luxon.min.js'];\n      for (var i = 0; i < urls.length; i++) {\n        skip.push(urls[i])\n      }\n    }    if (((window['jsPanel'] !== undefined) && (!(window['jsPanel'] instanceof HTMLElement))) || window.requirejs) {\n      var urls = ['https://cdn.holoviz.org/panel/1.2.1/dist/bundled/floatpanel/jspanel4@4.12.0/dist/jspanel.js', 'https://cdn.holoviz.org/panel/1.2.1/dist/bundled/floatpanel/jspanel4@4.12.0/dist/extensions/modal/jspanel.modal.js', 'https://cdn.holoviz.org/panel/1.2.1/dist/bundled/floatpanel/jspanel4@4.12.0/dist/extensions/tooltip/jspanel.tooltip.js', 'https://cdn.holoviz.org/panel/1.2.1/dist/bundled/floatpanel/jspanel4@4.12.0/dist/extensions/hint/jspanel.hint.js', 'https://cdn.holoviz.org/panel/1.2.1/dist/bundled/floatpanel/jspanel4@4.12.0/dist/extensions/layout/jspanel.layout.js', 'https://cdn.holoviz.org/panel/1.2.1/dist/bundled/floatpanel/jspanel4@4.12.0/dist/extensions/contextmenu/jspanel.contextmenu.js', 'https://cdn.holoviz.org/panel/1.2.1/dist/bundled/floatpanel/jspanel4@4.12.0/dist/extensions/dock/jspanel.dock.js'];\n      for (var i = 0; i < urls.length; i++) {\n        skip.push(urls[i])\n      }\n    }    if (((window['GridStack'] !== undefined) && (!(window['GridStack'] instanceof HTMLElement))) || window.requirejs) {\n      var urls = ['https://cdn.holoviz.org/panel/1.2.1/dist/bundled/gridstack/gridstack@7.2.3/dist/gridstack-all.js'];\n      for (var i = 0; i < urls.length; i++) {\n        skip.push(urls[i])\n      }\n    }    if (((window['Notyf'] !== undefined) && (!(window['Notyf'] instanceof HTMLElement))) || window.requirejs) {\n      var urls = ['https://cdn.holoviz.org/panel/1.2.1/dist/bundled/notificationarea/notyf@3/notyf.min.js'];\n      for (var i = 0; i < urls.length; i++) {\n        skip.push(urls[i])\n      }\n    }    var existing_scripts = []\n    var scripts = document.getElementsByTagName('script')\n    for (var i = 0; i < scripts.length; i++) {\n      var script = scripts[i]\n      if (script.src != null) {\n\texisting_scripts.push(script.src)\n      }\n    }\n    for (var i = 0; i < js_urls.length; i++) {\n      var url = js_urls[i];\n      if (skip.indexOf(url) !== -1 || existing_scripts.indexOf(url) !== -1) {\n\tif (!window.requirejs) {\n\t  on_load();\n\t}\n\tcontinue;\n      }\n      var element = document.createElement('script');\n      element.onload = on_load;\n      element.onerror = on_error;\n      element.async = false;\n      element.src = url;\n      console.debug(\"Bokeh: injecting script tag for BokehJS library: \", url);\n      document.head.appendChild(element);\n    }\n    for (var i = 0; i < js_modules.length; i++) {\n      var url = js_modules[i];\n      if (skip.indexOf(url) !== -1 || existing_scripts.indexOf(url) !== -1) {\n\tif (!window.requirejs) {\n\t  on_load();\n\t}\n\tcontinue;\n      }\n      var element = document.createElement('script');\n      element.onload = on_load;\n      element.onerror = on_error;\n      element.async = false;\n      element.src = url;\n      element.type = \"module\";\n      console.debug(\"Bokeh: injecting script tag for BokehJS library: \", url);\n      document.head.appendChild(element);\n    }\n    for (const name in js_exports) {\n      var url = js_exports[name];\n      if (skip.indexOf(url) >= 0 || root[name] != null) {\n\tif (!window.requirejs) {\n\t  on_load();\n\t}\n\tcontinue;\n      }\n      var element = document.createElement('script');\n      element.onerror = on_error;\n      element.async = false;\n      element.type = \"module\";\n      console.debug(\"Bokeh: injecting script tag for BokehJS library: \", url);\n      element.textContent = `\n      import ${name} from \"${url}\"\n      window.${name} = ${name}\n      window._bokeh_on_load()\n      `\n      document.head.appendChild(element);\n    }\n    if (!js_urls.length && !js_modules.length) {\n      on_load()\n    }\n  };\n\n  function inject_raw_css(css) {\n    const element = document.createElement(\"style\");\n    element.appendChild(document.createTextNode(css));\n    document.body.appendChild(element);\n  }\n\n  var js_urls = [\"https://cdn.holoviz.org/panel/1.2.1/dist/bundled/datatabulator/tabulator-tables@5.5.0/dist/js/tabulator.js\", \"https://cdn.holoviz.org/panel/1.2.1/dist/bundled/datatabulator/luxon/build/global/luxon.min.js\"];\n  var js_modules = [];\n  var js_exports = {};\n  var css_urls = [\"https://cdn.holoviz.org/panel/1.2.1/dist/bundled/datatabulator/tabulator-tables@5.5.0/dist/css/tabulator_simple.min.css\"];\n  var inline_js = [    function(Bokeh) {\n      inject_raw_css(\".tabulator{position:relative;border:1px solid #999;font-size:14px;text-align:left;overflow:hidden;-webkit-transform:translateZ(0);-moz-transform:translateZ(0);-ms-transform:translateZ(0);-o-transform:translateZ(0);transform:translateZ(0)}.tabulator[tabulator-layout=fitDataFill] .tabulator-tableholder .tabulator-table{min-width:100%}.tabulator[tabulator-layout=fitDataTable]{display:inline-block}.tabulator.tabulator-block-select{user-select:none}.tabulator .tabulator-header{position:relative;box-sizing:border-box;width:100%;border-bottom:1px solid #999;background-color:#fff;color:#555;font-weight:700;white-space:nowrap;overflow:hidden;-moz-user-select:none;-khtml-user-select:none;-webkit-user-select:none;-o-user-select:none}.tabulator .tabulator-header.tabulator-header-hidden{display:none}.tabulator .tabulator-header .tabulator-header-contents{position:relative;overflow:hidden}.tabulator .tabulator-header .tabulator-header-contents .tabulator-headers{display:inline-block}.tabulator .tabulator-header .tabulator-col{display:inline-flex;position:relative;box-sizing:border-box;flex-direction:column;justify-content:flex-start;border-right:1px solid #ddd;background:#fff;text-align:left;vertical-align:bottom;overflow:hidden}.tabulator .tabulator-header .tabulator-col.tabulator-moving{position:absolute;border:1px solid #999;background:#e6e6e6;pointer-events:none}.tabulator .tabulator-header .tabulator-col .tabulator-col-content{box-sizing:border-box;position:relative;padding:4px}.tabulator .tabulator-header .tabulator-col .tabulator-col-content .tabulator-header-popup-button{padding:0 8px}.tabulator .tabulator-header .tabulator-col .tabulator-col-content .tabulator-header-popup-button:hover{cursor:pointer;opacity:.6}.tabulator .tabulator-header .tabulator-col .tabulator-col-content .tabulator-col-title-holder{position:relative}.tabulator .tabulator-header .tabulator-col .tabulator-col-content .tabulator-col-title{box-sizing:border-box;width:100%;white-space:nowrap;overflow:hidden;text-overflow:ellipsis;vertical-align:bottom}.tabulator .tabulator-header .tabulator-col .tabulator-col-content .tabulator-col-title.tabulator-col-title-wrap{white-space:normal;text-overflow:clip}.tabulator .tabulator-header .tabulator-col .tabulator-col-content .tabulator-col-title .tabulator-title-editor{box-sizing:border-box;width:100%;border:1px solid #999;padding:1px;background:#fff}.tabulator .tabulator-header .tabulator-col .tabulator-col-content .tabulator-col-title .tabulator-header-popup-button+.tabulator-title-editor{width:calc(100% - 22px)}.tabulator .tabulator-header .tabulator-col .tabulator-col-content .tabulator-col-sorter{display:flex;align-items:center;position:absolute;top:0;bottom:0;right:4px}.tabulator .tabulator-header .tabulator-col .tabulator-col-content .tabulator-col-sorter .tabulator-arrow{width:0;height:0;border-left:6px solid transparent;border-right:6px solid transparent;border-bottom:6px solid #bbb}.tabulator .tabulator-header .tabulator-col.tabulator-col-group .tabulator-col-group-cols{position:relative;display:flex;border-top:1px solid #ddd;overflow:hidden;margin-right:-1px}.tabulator .tabulator-header .tabulator-col .tabulator-header-filter{position:relative;box-sizing:border-box;margin-top:2px;width:100%;text-align:center}.tabulator .tabulator-header .tabulator-col .tabulator-header-filter textarea{height:auto!important}.tabulator .tabulator-header .tabulator-col .tabulator-header-filter svg{margin-top:3px}.tabulator .tabulator-header .tabulator-col .tabulator-header-filter input::-ms-clear{width:0;height:0}.tabulator .tabulator-header .tabulator-col.tabulator-sortable .tabulator-col-title{padding-right:25px}@media (hover:hover) and (pointer:fine){.tabulator .tabulator-header .tabulator-col.tabulator-sortable.tabulator-col-sorter-element:hover{cursor:pointer;background-color:#e6e6e6}}.tabulator .tabulator-header .tabulator-col.tabulator-sortable[aria-sort=none] .tabulator-col-content .tabulator-col-sorter{color:#bbb}@media (hover:hover) and (pointer:fine){.tabulator .tabulator-header .tabulator-col.tabulator-sortable[aria-sort=none] .tabulator-col-content .tabulator-col-sorter.tabulator-col-sorter-element .tabulator-arrow:hover{cursor:pointer;border-bottom:6px solid #555}}.tabulator .tabulator-header .tabulator-col.tabulator-sortable[aria-sort=none] .tabulator-col-content .tabulator-col-sorter .tabulator-arrow{border-top:none;border-bottom:6px solid #bbb}.tabulator .tabulator-header .tabulator-col.tabulator-sortable[aria-sort=ascending] .tabulator-col-content .tabulator-col-sorter{color:#666}@media (hover:hover) and (pointer:fine){.tabulator .tabulator-header .tabulator-col.tabulator-sortable[aria-sort=ascending] .tabulator-col-content .tabulator-col-sorter.tabulator-col-sorter-element .tabulator-arrow:hover{cursor:pointer;border-bottom:6px solid #555}}.tabulator .tabulator-header .tabulator-col.tabulator-sortable[aria-sort=ascending] .tabulator-col-content .tabulator-col-sorter .tabulator-arrow{border-top:none;border-bottom:6px solid #666}.tabulator .tabulator-header .tabulator-col.tabulator-sortable[aria-sort=descending] .tabulator-col-content .tabulator-col-sorter{color:#666}@media (hover:hover) and (pointer:fine){.tabulator .tabulator-header .tabulator-col.tabulator-sortable[aria-sort=descending] .tabulator-col-content .tabulator-col-sorter.tabulator-col-sorter-element .tabulator-arrow:hover{cursor:pointer;border-top:6px solid #555}}.tabulator .tabulator-header .tabulator-col.tabulator-sortable[aria-sort=descending] .tabulator-col-content .tabulator-col-sorter .tabulator-arrow{border-bottom:none;border-top:6px solid #666;color:#666}.tabulator .tabulator-header .tabulator-col.tabulator-col-vertical .tabulator-col-content .tabulator-col-title{writing-mode:vertical-rl;text-orientation:mixed;display:flex;align-items:center;justify-content:center}.tabulator .tabulator-header .tabulator-col.tabulator-col-vertical.tabulator-col-vertical-flip .tabulator-col-title{transform:rotate(180deg)}.tabulator .tabulator-header .tabulator-col.tabulator-col-vertical.tabulator-sortable .tabulator-col-title{padding-right:0;padding-top:20px}.tabulator .tabulator-header .tabulator-col.tabulator-col-vertical.tabulator-sortable.tabulator-col-vertical-flip .tabulator-col-title{padding-right:0;padding-bottom:20px}.tabulator .tabulator-header .tabulator-col.tabulator-col-vertical.tabulator-sortable .tabulator-col-sorter{justify-content:center;left:0;right:0;top:4px;bottom:auto}.tabulator .tabulator-header .tabulator-frozen{position:sticky;left:0;z-index:10}.tabulator .tabulator-header .tabulator-frozen.tabulator-frozen-left{border-right:2px solid #ddd}.tabulator .tabulator-header .tabulator-frozen.tabulator-frozen-right{border-left:2px solid #ddd}.tabulator .tabulator-header .tabulator-calcs-holder{box-sizing:border-box;background:#fff!important;border-top:1px solid #ddd;border-bottom:1px solid #ddd}.tabulator .tabulator-header .tabulator-calcs-holder .tabulator-row{background:#fff!important}.tabulator .tabulator-header .tabulator-calcs-holder .tabulator-row .tabulator-col-resize-handle,.tabulator .tabulator-header .tabulator-frozen-rows-holder:empty{display:none}.tabulator .tabulator-tableholder{position:relative;width:100%;white-space:nowrap;overflow:auto;-webkit-overflow-scrolling:touch}.tabulator .tabulator-tableholder:focus{outline:none}.tabulator .tabulator-tableholder .tabulator-placeholder{box-sizing:border-box;display:flex;align-items:center;justify-content:center;width:100%}.tabulator .tabulator-tableholder .tabulator-placeholder[tabulator-render-mode=virtual]{min-height:100%;min-width:100%}.tabulator .tabulator-tableholder .tabulator-placeholder .tabulator-placeholder-contents{display:inline-block;text-align:center;padding:10px;color:#ccc;font-weight:700;font-size:20px;white-space:normal}.tabulator .tabulator-tableholder .tabulator-table{position:relative;display:inline-block;background-color:#fff;white-space:nowrap;overflow:visible;color:#333}.tabulator .tabulator-tableholder .tabulator-table .tabulator-row.tabulator-calcs{font-weight:700;background:#f2f2f2!important}.tabulator .tabulator-tableholder .tabulator-table .tabulator-row.tabulator-calcs.tabulator-calcs-top{border-bottom:2px solid #ddd}.tabulator .tabulator-tableholder .tabulator-table .tabulator-row.tabulator-calcs.tabulator-calcs-bottom{border-top:2px solid #ddd}.tabulator .tabulator-footer{border-top:1px solid #999;background-color:#fff;color:#555;font-weight:700;white-space:nowrap;user-select:none;-moz-user-select:none;-khtml-user-select:none;-webkit-user-select:none;-o-user-select:none}.tabulator .tabulator-footer .tabulator-footer-contents{display:flex;flex-direction:row;align-items:center;justify-content:space-between;padding:5px 10px}.tabulator .tabulator-footer .tabulator-footer-contents:empty{display:none}.tabulator .tabulator-footer .tabulator-calcs-holder{box-sizing:border-box;width:100%;text-align:left;background:#fff!important;border-bottom:1px solid #ddd;border-top:1px solid #ddd;overflow:hidden}.tabulator .tabulator-footer .tabulator-calcs-holder .tabulator-row{display:inline-block;background:#fff!important}.tabulator .tabulator-footer .tabulator-calcs-holder .tabulator-row .tabulator-col-resize-handle{display:none}.tabulator .tabulator-footer .tabulator-calcs-holder:only-child{margin-bottom:-5px;border-bottom:none}.tabulator .tabulator-footer>*+.tabulator-page-counter{margin-left:10px}.tabulator .tabulator-footer .tabulator-page-counter{font-weight:400}.tabulator .tabulator-footer .tabulator-paginator{flex:1;text-align:right;color:#555;font-family:inherit;font-weight:inherit;font-size:inherit}.tabulator .tabulator-footer .tabulator-page-size{display:inline-block;margin:0 5px;padding:2px 5px;border:1px solid #aaa;border-radius:3px}.tabulator .tabulator-footer .tabulator-pages{margin:0 7px}.tabulator .tabulator-footer .tabulator-page{display:inline-block;margin:0 2px;padding:2px 5px;border:1px solid #aaa;border-radius:3px;background:hsla(0,0%,100%,.2)}.tabulator .tabulator-footer .tabulator-page.active{color:#d00}.tabulator .tabulator-footer .tabulator-page:disabled{opacity:.5}@media (hover:hover) and (pointer:fine){.tabulator .tabulator-footer .tabulator-page:not(.disabled):hover{cursor:pointer;background:rgba(0,0,0,.2);color:#fff}}.tabulator .tabulator-col-resize-handle{position:relative;display:inline-block;width:6px;margin-left:-3px;margin-right:-3px;z-index:10;vertical-align:middle}@media (hover:hover) and (pointer:fine){.tabulator .tabulator-col-resize-handle:hover{cursor:ew-resize}}.tabulator .tabulator-col-resize-handle:last-of-type{width:3px;margin-right:0}.tabulator .tabulator-alert{position:absolute;display:flex;align-items:center;top:0;left:0;z-index:100;height:100%;width:100%;background:rgba(0,0,0,.4);text-align:center}.tabulator .tabulator-alert .tabulator-alert-msg{display:inline-block;margin:0 auto;padding:10px 20px;border-radius:10px;background:#fff;font-weight:700;font-size:16px}.tabulator .tabulator-alert .tabulator-alert-msg.tabulator-alert-state-msg{border:4px solid #333;color:#000}.tabulator .tabulator-alert .tabulator-alert-msg.tabulator-alert-state-error{border:4px solid #d00;color:#590000}.tabulator-row{position:relative;box-sizing:border-box;min-height:22px}.tabulator-row,.tabulator-row.tabulator-row-even{background-color:#fff}@media (hover:hover) and (pointer:fine){.tabulator-row.tabulator-selectable:hover{background-color:#bbb;cursor:pointer}}.tabulator-row.tabulator-selected{background-color:#9abcea}@media (hover:hover) and (pointer:fine){.tabulator-row.tabulator-selected:hover{background-color:#769bcc;cursor:pointer}}.tabulator-row.tabulator-row-moving{border:1px solid #000;background:#fff}.tabulator-row.tabulator-moving{position:absolute;border-top:1px solid #ddd;border-bottom:1px solid #ddd;pointer-events:none;z-index:15}.tabulator-row .tabulator-row-resize-handle{position:absolute;right:0;bottom:0;left:0;height:5px}.tabulator-row .tabulator-row-resize-handle.prev{top:0;bottom:auto}@media (hover:hover) and (pointer:fine){.tabulator-row .tabulator-row-resize-handle:hover{cursor:ns-resize}}.tabulator-row .tabulator-responsive-collapse{box-sizing:border-box;padding:5px;border-top:1px solid #ddd;border-bottom:1px solid #ddd}.tabulator-row .tabulator-responsive-collapse:empty{display:none}.tabulator-row .tabulator-responsive-collapse table{font-size:14px}.tabulator-row .tabulator-responsive-collapse table tr td{position:relative}.tabulator-row .tabulator-responsive-collapse table tr td:first-of-type{padding-right:10px}.tabulator-row .tabulator-cell{display:inline-block;position:relative;box-sizing:border-box;padding:4px;border-right:1px solid #ddd;vertical-align:middle;white-space:nowrap;overflow:hidden;text-overflow:ellipsis}.tabulator-row .tabulator-cell.tabulator-frozen{display:inline-block;position:sticky;left:0;background-color:inherit;z-index:10}.tabulator-row .tabulator-cell.tabulator-frozen.tabulator-frozen-left{border-right:2px solid #ddd}.tabulator-row .tabulator-cell.tabulator-frozen.tabulator-frozen-right{border-left:2px solid #ddd}.tabulator-row .tabulator-cell.tabulator-editing{border:1px solid #1d68cd;outline:none;padding:0}.tabulator-row .tabulator-cell.tabulator-editing input,.tabulator-row .tabulator-cell.tabulator-editing select{border:1px;background:transparent;outline:none}.tabulator-row .tabulator-cell.tabulator-validation-fail{border:1px solid #d00}.tabulator-row .tabulator-cell.tabulator-validation-fail input,.tabulator-row .tabulator-cell.tabulator-validation-fail select{border:1px;background:transparent;color:#d00}.tabulator-row .tabulator-cell.tabulator-row-handle{display:inline-flex;align-items:center;justify-content:center;-moz-user-select:none;-khtml-user-select:none;-webkit-user-select:none;-o-user-select:none}.tabulator-row .tabulator-cell.tabulator-row-handle .tabulator-row-handle-box{width:80%}.tabulator-row .tabulator-cell.tabulator-row-handle .tabulator-row-handle-box .tabulator-row-handle-bar{width:100%;height:3px;margin-top:2px;background:#666}.tabulator-row .tabulator-cell .tabulator-data-tree-branch{display:inline-block;vertical-align:middle;height:9px;width:7px;margin-top:-9px;margin-right:5px;border-bottom-left-radius:1px;border-left:2px solid #ddd;border-bottom:2px solid #ddd}.tabulator-row .tabulator-cell .tabulator-data-tree-control{display:inline-flex;justify-content:center;align-items:center;vertical-align:middle;height:11px;width:11px;margin-right:5px;border:1px solid #333;border-radius:2px;background:rgba(0,0,0,.1);overflow:hidden}@media (hover:hover) and (pointer:fine){.tabulator-row .tabulator-cell .tabulator-data-tree-control:hover{cursor:pointer;background:rgba(0,0,0,.2)}}.tabulator-row .tabulator-cell .tabulator-data-tree-control .tabulator-data-tree-control-collapse{display:inline-block;position:relative;height:7px;width:1px;background:transparent}.tabulator-row .tabulator-cell .tabulator-data-tree-control .tabulator-data-tree-control-collapse:after{position:absolute;content:\\\"\\\";left:-3px;top:3px;height:1px;width:7px;background:#333}.tabulator-row .tabulator-cell .tabulator-data-tree-control .tabulator-data-tree-control-expand{display:inline-block;position:relative;height:7px;width:1px;background:#333}.tabulator-row .tabulator-cell .tabulator-data-tree-control .tabulator-data-tree-control-expand:after{position:absolute;content:\\\"\\\";left:-3px;top:3px;height:1px;width:7px;background:#333}.tabulator-row .tabulator-cell .tabulator-responsive-collapse-toggle{display:inline-flex;align-items:center;justify-content:center;-moz-user-select:none;-khtml-user-select:none;-webkit-user-select:none;-o-user-select:none;height:15px;width:15px;border-radius:20px;background:#666;color:#fff;font-weight:700;font-size:1.1em}@media (hover:hover) and (pointer:fine){.tabulator-row .tabulator-cell .tabulator-responsive-collapse-toggle:hover{opacity:.7;cursor:pointer}}.tabulator-row .tabulator-cell .tabulator-responsive-collapse-toggle.open .tabulator-responsive-collapse-toggle-close{display:initial}.tabulator-row .tabulator-cell .tabulator-responsive-collapse-toggle.open .tabulator-responsive-collapse-toggle-open{display:none}.tabulator-row .tabulator-cell .tabulator-responsive-collapse-toggle svg{stroke:#fff}.tabulator-row .tabulator-cell .tabulator-responsive-collapse-toggle .tabulator-responsive-collapse-toggle-close{display:none}.tabulator-row .tabulator-cell .tabulator-traffic-light{display:inline-block;height:14px;width:14px;border-radius:14px}.tabulator-row.tabulator-group{box-sizing:border-box;border-bottom:1px solid #999;border-right:1px solid #ddd;border-top:1px solid #999;padding:5px 5px 5px 10px;background:#ccc;font-weight:700;min-width:100%}@media (hover:hover) and (pointer:fine){.tabulator-row.tabulator-group:hover{cursor:pointer;background-color:rgba(0,0,0,.1)}}.tabulator-row.tabulator-group.tabulator-group-visible .tabulator-arrow{margin-right:10px;border-left:6px solid transparent;border-right:6px solid transparent;border-top:6px solid #666;border-bottom:0}.tabulator-row.tabulator-group.tabulator-group-level-1{padding-left:30px}.tabulator-row.tabulator-group.tabulator-group-level-2{padding-left:50px}.tabulator-row.tabulator-group.tabulator-group-level-3{padding-left:70px}.tabulator-row.tabulator-group.tabulator-group-level-4{padding-left:90px}.tabulator-row.tabulator-group.tabulator-group-level-5{padding-left:110px}.tabulator-row.tabulator-group .tabulator-group-toggle{display:inline-block}.tabulator-row.tabulator-group .tabulator-arrow{display:inline-block;width:0;height:0;margin-right:16px;border-top:6px solid transparent;border-bottom:6px solid transparent;border-right:0;border-left:6px solid #666;vertical-align:middle}.tabulator-row.tabulator-group span{margin-left:10px;color:#d00}.tabulator-popup-container{position:absolute;display:inline-block;box-sizing:border-box;background:#fff;border:1px solid #ddd;box-shadow:0 0 5px 0 rgba(0,0,0,.2);font-size:14px;overflow-y:auto;-webkit-overflow-scrolling:touch;z-index:10000}.tabulator-popup{padding:5px;border-radius:3px}.tabulator-tooltip{max-width:Min(500px,100%);padding:3px 5px;border-radius:2px;box-shadow:none;font-size:12px;pointer-events:none}.tabulator-menu .tabulator-menu-item{position:relative;box-sizing:border-box;padding:5px 10px;user-select:none}.tabulator-menu .tabulator-menu-item.tabulator-menu-item-disabled{opacity:.5}@media (hover:hover) and (pointer:fine){.tabulator-menu .tabulator-menu-item:not(.tabulator-menu-item-disabled):hover{cursor:pointer;background:#fff}}.tabulator-menu .tabulator-menu-item.tabulator-menu-item-submenu{padding-right:25px}.tabulator-menu .tabulator-menu-item.tabulator-menu-item-submenu:after{display:inline-block;position:absolute;top:calc(5px + .4em);right:10px;height:7px;width:7px;content:\\\"\\\";border-color:#ddd;border-style:solid;border-width:1px 1px 0 0;vertical-align:top;transform:rotate(45deg)}.tabulator-menu .tabulator-menu-separator{border-top:1px solid #ddd}.tabulator-edit-list{max-height:200px;font-size:14px;overflow-y:auto;-webkit-overflow-scrolling:touch}.tabulator-edit-list .tabulator-edit-list-item{padding:4px;color:#333;outline:none}.tabulator-edit-list .tabulator-edit-list-item.active{color:#fff;background:#1d68cd}.tabulator-edit-list .tabulator-edit-list-item.active.focused{outline:1px solid hsla(0,0%,100%,.5)}.tabulator-edit-list .tabulator-edit-list-item.focused{outline:1px solid #1d68cd}@media (hover:hover) and (pointer:fine){.tabulator-edit-list .tabulator-edit-list-item:hover{cursor:pointer;color:#fff;background:#1d68cd}}.tabulator-edit-list .tabulator-edit-list-placeholder{padding:4px;color:#333;text-align:center}.tabulator-edit-list .tabulator-edit-list-group{border-bottom:1px solid #ddd;padding:6px 4px 4px;color:#333;font-weight:700}.tabulator-edit-list .tabulator-edit-list-group.tabulator-edit-list-group-level-2,.tabulator-edit-list .tabulator-edit-list-item.tabulator-edit-list-group-level-2{padding-left:12px}.tabulator-edit-list .tabulator-edit-list-group.tabulator-edit-list-group-level-3,.tabulator-edit-list .tabulator-edit-list-item.tabulator-edit-list-group-level-3{padding-left:20px}.tabulator-edit-list .tabulator-edit-list-group.tabulator-edit-list-group-level-4,.tabulator-edit-list .tabulator-edit-list-item.tabulator-edit-list-group-level-4{padding-left:28px}.tabulator-edit-list .tabulator-edit-list-group.tabulator-edit-list-group-level-5,.tabulator-edit-list .tabulator-edit-list-item.tabulator-edit-list-group-level-5{padding-left:36px}.tabulator.tabulator-ltr{direction:ltr}.tabulator.tabulator-rtl{text-align:initial;direction:rtl}.tabulator.tabulator-rtl .tabulator-header .tabulator-col{text-align:initial;border-left:1px solid #ddd;border-right:initial}.tabulator.tabulator-rtl .tabulator-header .tabulator-col.tabulator-col-group .tabulator-col-group-cols{margin-right:0;margin-left:-1px}.tabulator.tabulator-rtl .tabulator-header .tabulator-col.tabulator-sortable .tabulator-col-title{padding-right:0;padding-left:25px}.tabulator.tabulator-rtl .tabulator-header .tabulator-col .tabulator-col-content .tabulator-col-sorter{left:8px;right:auto}.tabulator.tabulator-rtl .tabulator-row .tabulator-cell{border-right:initial;border-left:1px solid #ddd}.tabulator.tabulator-rtl .tabulator-row .tabulator-cell .tabulator-data-tree-branch{margin-right:0;margin-left:5px;border-bottom-left-radius:0;border-bottom-right-radius:1px;border-left:initial;border-right:2px solid #ddd}.tabulator.tabulator-rtl .tabulator-row .tabulator-cell .tabulator-data-tree-control{margin-right:0;margin-left:5px}.tabulator.tabulator-rtl .tabulator-row .tabulator-cell.tabulator-frozen.tabulator-frozen-left{border-left:2px solid #ddd}.tabulator.tabulator-rtl .tabulator-row .tabulator-cell.tabulator-frozen.tabulator-frozen-right{border-right:2px solid #ddd}.tabulator.tabulator-rtl .tabulator-row .tabulator-col-resize-handle:last-of-type{width:3px;margin-left:0;margin-right:-3px}.tabulator.tabulator-rtl .tabulator-footer .tabulator-calcs-holder{text-align:initial}.tabulator-print-fullscreen{position:absolute;top:0;bottom:0;left:0;right:0;z-index:10000}body.tabulator-print-fullscreen-hide>:not(.tabulator-print-fullscreen){display:none!important}.tabulator-print-table{border-collapse:collapse}.tabulator-print-table .tabulator-data-tree-branch{display:inline-block;vertical-align:middle;height:9px;width:7px;margin-top:-9px;margin-right:5px;border-bottom-left-radius:1px;border-left:2px solid #ddd;border-bottom:2px solid #ddd}.tabulator-print-table .tabulator-print-table-group{box-sizing:border-box;border-bottom:1px solid #999;border-right:1px solid #ddd;border-top:1px solid #999;padding:5px 5px 5px 10px;background:#ccc;font-weight:700;min-width:100%}@media (hover:hover) and (pointer:fine){.tabulator-print-table .tabulator-print-table-group:hover{cursor:pointer;background-color:rgba(0,0,0,.1)}}.tabulator-print-table .tabulator-print-table-group.tabulator-group-visible .tabulator-arrow{margin-right:10px;border-left:6px solid transparent;border-right:6px solid transparent;border-top:6px solid #666;border-bottom:0}.tabulator-print-table .tabulator-print-table-group.tabulator-group-level-1 td{padding-left:30px!important}.tabulator-print-table .tabulator-print-table-group.tabulator-group-level-2 td{padding-left:50px!important}.tabulator-print-table .tabulator-print-table-group.tabulator-group-level-3 td{padding-left:70px!important}.tabulator-print-table .tabulator-print-table-group.tabulator-group-level-4 td{padding-left:90px!important}.tabulator-print-table .tabulator-print-table-group.tabulator-group-level-5 td{padding-left:110px!important}.tabulator-print-table .tabulator-print-table-group .tabulator-group-toggle{display:inline-block}.tabulator-print-table .tabulator-print-table-group .tabulator-arrow{display:inline-block;width:0;height:0;margin-right:16px;border-top:6px solid transparent;border-bottom:6px solid transparent;border-right:0;border-left:6px solid #666;vertical-align:middle}.tabulator-print-table .tabulator-print-table-group span{color:#d00}.tabulator-print-table .tabulator-data-tree-control{display:inline-flex;justify-content:center;align-items:center;vertical-align:middle;height:11px;width:11px;margin-right:5px;border:1px solid #333;border-radius:2px;background:rgba(0,0,0,.1);overflow:hidden}@media (hover:hover) and (pointer:fine){.tabulator-print-table .tabulator-data-tree-control:hover{cursor:pointer;background:rgba(0,0,0,.2)}}.tabulator-print-table .tabulator-data-tree-control .tabulator-data-tree-control-collapse{display:inline-block;position:relative;height:7px;width:1px;background:transparent}.tabulator-print-table .tabulator-data-tree-control .tabulator-data-tree-control-collapse:after{position:absolute;content:\\\"\\\";left:-3px;top:3px;height:1px;width:7px;background:#333}.tabulator-print-table .tabulator-data-tree-control .tabulator-data-tree-control-expand{display:inline-block;position:relative;height:7px;width:1px;background:#333}.tabulator-print-table .tabulator-data-tree-control .tabulator-data-tree-control-expand:after{position:absolute;content:\\\"\\\";left:-3px;top:3px;height:1px;width:7px;background:#333}.tabulator{border:none;background-color:#fff}.tabulator .tabulator-header .tabulator-calcs-holder{background:#f2f2f2!important;border-bottom:1px solid #999}.tabulator .tabulator-header .tabulator-calcs-holder .tabulator-row{background:#f2f2f2!important}.tabulator .tabulator-tableholder .tabulator-placeholder span{color:#000}.tabulator .tabulator-footer .tabulator-calcs-holder{background:#f2f2f2!important;border-bottom:1px solid #fff}.tabulator .tabulator-footer .tabulator-calcs-holder .tabulator-row{background:#f2f2f2!important}.tabulator-row{border-bottom:1px solid #ddd}.tabulator-row .tabulator-cell:last-of-type{border-right:none}.tabulator-row.tabulator-group span{color:#666}.tabulator-print-table .tabulator-print-table-group span{margin-left:10px;color:#666}\\n/*# sourceMappingURL=tabulator_simple.min.css.map */\");\n    },    function(Bokeh) {\n      Bokeh.set_log_level(\"info\");\n    },\nfunction(Bokeh) {} // ensure no trailing comma for IE\n  ];\n\n  function run_inline_js() {\n    if ((root.Bokeh !== undefined) || (force === true)) {\n      for (var i = 0; i < inline_js.length; i++) {\n        inline_js[i].call(root, root.Bokeh);\n      }\n      // Cache old bokeh versions\n      if (Bokeh != undefined && !reloading) {\n\tvar NewBokeh = root.Bokeh;\n\tif (Bokeh.versions === undefined) {\n\t  Bokeh.versions = new Map();\n\t}\n\tif (NewBokeh.version !== Bokeh.version) {\n\t  Bokeh.versions.set(NewBokeh.version, NewBokeh)\n\t}\n\troot.Bokeh = Bokeh;\n      }} else if (Date.now() < root._bokeh_timeout) {\n      setTimeout(run_inline_js, 100);\n    } else if (!root._bokeh_failed_load) {\n      console.log(\"Bokeh: BokehJS failed to load within specified timeout.\");\n      root._bokeh_failed_load = true;\n    }\n    root._bokeh_is_initializing = false\n  }\n\n  function load_or_wait() {\n    // Implement a backoff loop that tries to ensure we do not load multiple\n    // versions of Bokeh and its dependencies at the same time.\n    // In recent versions we use the root._bokeh_is_initializing flag\n    // to determine whether there is an ongoing attempt to initialize\n    // bokeh, however for backward compatibility we also try to ensure\n    // that we do not start loading a newer (Panel>=1.0 and Bokeh>3) version\n    // before older versions are fully initialized.\n    if (root._bokeh_is_initializing && Date.now() > root._bokeh_timeout) {\n      root._bokeh_is_initializing = false;\n      root._bokeh_onload_callbacks = undefined;\n      console.log(\"Bokeh: BokehJS was loaded multiple times but one version failed to initialize.\");\n      load_or_wait();\n    } else if (root._bokeh_is_initializing || (typeof root._bokeh_is_initializing === \"undefined\" && root._bokeh_onload_callbacks !== undefined)) {\n      setTimeout(load_or_wait, 100);\n    } else {\n      Bokeh = root.Bokeh;\n      bokeh_loaded = Bokeh != null && (Bokeh.version === py_version || (Bokeh.versions !== undefined && Bokeh.versions.has(py_version)));\n      root._bokeh_is_initializing = true\n      root._bokeh_onload_callbacks = []\n      if (!reloading && (!bokeh_loaded || is_dev)) {\n\troot.Bokeh = undefined;\n      }\n      load_libs(css_urls, js_urls, js_modules, js_exports, function() {\n\tconsole.debug(\"Bokeh: BokehJS plotting callback run at\", now());\n\trun_inline_js();\n      });\n    }\n  }\n  // Give older versions of the autoload script a head-start to ensure\n  // they initialize before we start loading newer version.\n  setTimeout(load_or_wait, 100)\n}(window));",
            "application/vnd.holoviews_load.v0+json": ""
          },
          "metadata": {},
          "output_type": "display_data"
        },
        {
          "data": {
            "application/javascript": "\nif ((window.PyViz === undefined) || (window.PyViz instanceof HTMLElement)) {\n  window.PyViz = {comms: {}, comm_status:{}, kernels:{}, receivers: {}, plot_index: []}\n}\n\n\n    function JupyterCommManager() {\n    }\n\n    JupyterCommManager.prototype.register_target = function(plot_id, comm_id, msg_handler) {\n      if (window.comm_manager || ((window.Jupyter !== undefined) && (Jupyter.notebook.kernel != null))) {\n        var comm_manager = window.comm_manager || Jupyter.notebook.kernel.comm_manager;\n        comm_manager.register_target(comm_id, function(comm) {\n          comm.on_msg(msg_handler);\n        });\n      } else if ((plot_id in window.PyViz.kernels) && (window.PyViz.kernels[plot_id])) {\n        window.PyViz.kernels[plot_id].registerCommTarget(comm_id, function(comm) {\n          comm.onMsg = msg_handler;\n        });\n      } else if (typeof google != 'undefined' && google.colab.kernel != null) {\n        google.colab.kernel.comms.registerTarget(comm_id, (comm) => {\n          var messages = comm.messages[Symbol.asyncIterator]();\n          function processIteratorResult(result) {\n            var message = result.value;\n            console.log(message)\n            var content = {data: message.data, comm_id};\n            var buffers = []\n            for (var buffer of message.buffers || []) {\n              buffers.push(new DataView(buffer))\n            }\n            var metadata = message.metadata || {};\n            var msg = {content, buffers, metadata}\n            msg_handler(msg);\n            return messages.next().then(processIteratorResult);\n          }\n          return messages.next().then(processIteratorResult);\n        })\n      }\n    }\n\n    JupyterCommManager.prototype.get_client_comm = function(plot_id, comm_id, msg_handler) {\n      if (comm_id in window.PyViz.comms) {\n        return window.PyViz.comms[comm_id];\n      } else if (window.comm_manager || ((window.Jupyter !== undefined) && (Jupyter.notebook.kernel != null))) {\n        var comm_manager = window.comm_manager || Jupyter.notebook.kernel.comm_manager;\n        var comm = comm_manager.new_comm(comm_id, {}, {}, {}, comm_id);\n        if (msg_handler) {\n          comm.on_msg(msg_handler);\n        }\n      } else if ((plot_id in window.PyViz.kernels) && (window.PyViz.kernels[plot_id])) {\n        var comm = window.PyViz.kernels[plot_id].connectToComm(comm_id);\n        comm.open();\n        if (msg_handler) {\n          comm.onMsg = msg_handler;\n        }\n      } else if (typeof google != 'undefined' && google.colab.kernel != null) {\n        var comm_promise = google.colab.kernel.comms.open(comm_id)\n        comm_promise.then((comm) => {\n          window.PyViz.comms[comm_id] = comm;\n          if (msg_handler) {\n            var messages = comm.messages[Symbol.asyncIterator]();\n            function processIteratorResult(result) {\n              var message = result.value;\n              var content = {data: message.data};\n              var metadata = message.metadata || {comm_id};\n              var msg = {content, metadata}\n              msg_handler(msg);\n              return messages.next().then(processIteratorResult);\n            }\n            return messages.next().then(processIteratorResult);\n          }\n        }) \n        var sendClosure = (data, metadata, buffers, disposeOnDone) => {\n          return comm_promise.then((comm) => {\n            comm.send(data, metadata, buffers, disposeOnDone);\n          });\n        };\n        var comm = {\n          send: sendClosure\n        };\n      }\n      window.PyViz.comms[comm_id] = comm;\n      return comm;\n    }\n    window.PyViz.comm_manager = new JupyterCommManager();\n    \n\n\nvar JS_MIME_TYPE = 'application/javascript';\nvar HTML_MIME_TYPE = 'text/html';\nvar EXEC_MIME_TYPE = 'application/vnd.holoviews_exec.v0+json';\nvar CLASS_NAME = 'output';\n\n/**\n * Render data to the DOM node\n */\nfunction render(props, node) {\n  var div = document.createElement(\"div\");\n  var script = document.createElement(\"script\");\n  node.appendChild(div);\n  node.appendChild(script);\n}\n\n/**\n * Handle when a new output is added\n */\nfunction handle_add_output(event, handle) {\n  var output_area = handle.output_area;\n  var output = handle.output;\n  if ((output.data == undefined) || (!output.data.hasOwnProperty(EXEC_MIME_TYPE))) {\n    return\n  }\n  var id = output.metadata[EXEC_MIME_TYPE][\"id\"];\n  var toinsert = output_area.element.find(\".\" + CLASS_NAME.split(' ')[0]);\n  if (id !== undefined) {\n    var nchildren = toinsert.length;\n    var html_node = toinsert[nchildren-1].children[0];\n    html_node.innerHTML = output.data[HTML_MIME_TYPE];\n    var scripts = [];\n    var nodelist = html_node.querySelectorAll(\"script\");\n    for (var i in nodelist) {\n      if (nodelist.hasOwnProperty(i)) {\n        scripts.push(nodelist[i])\n      }\n    }\n\n    scripts.forEach( function (oldScript) {\n      var newScript = document.createElement(\"script\");\n      var attrs = [];\n      var nodemap = oldScript.attributes;\n      for (var j in nodemap) {\n        if (nodemap.hasOwnProperty(j)) {\n          attrs.push(nodemap[j])\n        }\n      }\n      attrs.forEach(function(attr) { newScript.setAttribute(attr.name, attr.value) });\n      newScript.appendChild(document.createTextNode(oldScript.innerHTML));\n      oldScript.parentNode.replaceChild(newScript, oldScript);\n    });\n    if (JS_MIME_TYPE in output.data) {\n      toinsert[nchildren-1].children[1].textContent = output.data[JS_MIME_TYPE];\n    }\n    output_area._hv_plot_id = id;\n    if ((window.Bokeh !== undefined) && (id in Bokeh.index)) {\n      window.PyViz.plot_index[id] = Bokeh.index[id];\n    } else {\n      window.PyViz.plot_index[id] = null;\n    }\n  } else if (output.metadata[EXEC_MIME_TYPE][\"server_id\"] !== undefined) {\n    var bk_div = document.createElement(\"div\");\n    bk_div.innerHTML = output.data[HTML_MIME_TYPE];\n    var script_attrs = bk_div.children[0].attributes;\n    for (var i = 0; i < script_attrs.length; i++) {\n      toinsert[toinsert.length - 1].childNodes[1].setAttribute(script_attrs[i].name, script_attrs[i].value);\n    }\n    // store reference to server id on output_area\n    output_area._bokeh_server_id = output.metadata[EXEC_MIME_TYPE][\"server_id\"];\n  }\n}\n\n/**\n * Handle when an output is cleared or removed\n */\nfunction handle_clear_output(event, handle) {\n  var id = handle.cell.output_area._hv_plot_id;\n  var server_id = handle.cell.output_area._bokeh_server_id;\n  if (((id === undefined) || !(id in PyViz.plot_index)) && (server_id !== undefined)) { return; }\n  var comm = window.PyViz.comm_manager.get_client_comm(\"hv-extension-comm\", \"hv-extension-comm\", function () {});\n  if (server_id !== null) {\n    comm.send({event_type: 'server_delete', 'id': server_id});\n    return;\n  } else if (comm !== null) {\n    comm.send({event_type: 'delete', 'id': id});\n  }\n  delete PyViz.plot_index[id];\n  if ((window.Bokeh !== undefined) & (id in window.Bokeh.index)) {\n    var doc = window.Bokeh.index[id].model.document\n    doc.clear();\n    const i = window.Bokeh.documents.indexOf(doc);\n    if (i > -1) {\n      window.Bokeh.documents.splice(i, 1);\n    }\n  }\n}\n\n/**\n * Handle kernel restart event\n */\nfunction handle_kernel_cleanup(event, handle) {\n  delete PyViz.comms[\"hv-extension-comm\"];\n  window.PyViz.plot_index = {}\n}\n\n/**\n * Handle update_display_data messages\n */\nfunction handle_update_output(event, handle) {\n  handle_clear_output(event, {cell: {output_area: handle.output_area}})\n  handle_add_output(event, handle)\n}\n\nfunction register_renderer(events, OutputArea) {\n  function append_mime(data, metadata, element) {\n    // create a DOM node to render to\n    var toinsert = this.create_output_subarea(\n    metadata,\n    CLASS_NAME,\n    EXEC_MIME_TYPE\n    );\n    this.keyboard_manager.register_events(toinsert);\n    // Render to node\n    var props = {data: data, metadata: metadata[EXEC_MIME_TYPE]};\n    render(props, toinsert[0]);\n    element.append(toinsert);\n    return toinsert\n  }\n\n  events.on('output_added.OutputArea', handle_add_output);\n  events.on('output_updated.OutputArea', handle_update_output);\n  events.on('clear_output.CodeCell', handle_clear_output);\n  events.on('delete.Cell', handle_clear_output);\n  events.on('kernel_ready.Kernel', handle_kernel_cleanup);\n\n  OutputArea.prototype.register_mime_type(EXEC_MIME_TYPE, append_mime, {\n    safe: true,\n    index: 0\n  });\n}\n\nif (window.Jupyter !== undefined) {\n  try {\n    var events = require('base/js/events');\n    var OutputArea = require('notebook/js/outputarea').OutputArea;\n    if (OutputArea.prototype.mime_types().indexOf(EXEC_MIME_TYPE) == -1) {\n      register_renderer(events, OutputArea);\n    }\n  } catch(err) {\n  }\n}\n",
            "application/vnd.holoviews_load.v0+json": ""
          },
          "metadata": {},
          "output_type": "display_data"
        },
        {
          "data": {
            "text/html": [
              "<style>*[data-root-id],\n",
              "*[data-root-id] > * {\n",
              "  box-sizing: border-box;\n",
              "  font-family: var(--jp-ui-font-family);\n",
              "  font-size: var(--jp-ui-font-size1);\n",
              "  color: var(--vscode-editor-foreground, var(--jp-ui-font-color1));\n",
              "}\n",
              "\n",
              "/* Override VSCode background color */\n",
              ".cell-output-ipywidget-background:has(\n",
              "    > .cell-output-ipywidget-background > .lm-Widget > *[data-root-id]\n",
              "  ),\n",
              ".cell-output-ipywidget-background:has(> .lm-Widget > *[data-root-id]) {\n",
              "  background-color: transparent !important;\n",
              "}\n",
              "</style>"
            ]
          },
          "metadata": {},
          "output_type": "display_data"
        },
        {
          "data": {
            "application/javascript": "(function(root) {\n  function now() {\n    return new Date();\n  }\n\n  var force = true;\n  var py_version = '3.2.1'.replace('rc', '-rc.').replace('.dev', '-dev.');\n  var is_dev = py_version.indexOf(\"+\") !== -1 || py_version.indexOf(\"-\") !== -1;\n  var reloading = true;\n  var Bokeh = root.Bokeh;\n  var bokeh_loaded = Bokeh != null && (Bokeh.version === py_version || (Bokeh.versions !== undefined && Bokeh.versions.has(py_version)));\n\n  if (typeof (root._bokeh_timeout) === \"undefined\" || force) {\n    root._bokeh_timeout = Date.now() + 5000;\n    root._bokeh_failed_load = false;\n  }\n\n  function run_callbacks() {\n    try {\n      root._bokeh_onload_callbacks.forEach(function(callback) {\n        if (callback != null)\n          callback();\n      });\n    } finally {\n      delete root._bokeh_onload_callbacks;\n    }\n    console.debug(\"Bokeh: all callbacks have finished\");\n  }\n\n  function load_libs(css_urls, js_urls, js_modules, js_exports, callback) {\n    if (css_urls == null) css_urls = [];\n    if (js_urls == null) js_urls = [];\n    if (js_modules == null) js_modules = [];\n    if (js_exports == null) js_exports = {};\n\n    root._bokeh_onload_callbacks.push(callback);\n\n    if (root._bokeh_is_loading > 0) {\n      console.debug(\"Bokeh: BokehJS is being loaded, scheduling callback at\", now());\n      return null;\n    }\n    if (js_urls.length === 0 && js_modules.length === 0 && Object.keys(js_exports).length === 0) {\n      run_callbacks();\n      return null;\n    }\n    if (!reloading) {\n      console.debug(\"Bokeh: BokehJS not loaded, scheduling load and callback at\", now());\n    }\n\n    function on_load() {\n      root._bokeh_is_loading--;\n      if (root._bokeh_is_loading === 0) {\n        console.debug(\"Bokeh: all BokehJS libraries/stylesheets loaded\");\n        run_callbacks()\n      }\n    }\n    window._bokeh_on_load = on_load\n\n    function on_error() {\n      console.error(\"failed to load \" + url);\n    }\n\n    var skip = [];\n    if (window.requirejs) {\n      window.requirejs.config({'packages': {}, 'paths': {'tabulator': 'https://cdn.jsdelivr.net/npm/tabulator-tables@5.5.0/dist/js/tabulator', 'moment': 'https://cdn.jsdelivr.net/npm/luxon/build/global/luxon.min', 'jspanel': 'https://cdn.jsdelivr.net/npm/jspanel4@4.12.0/dist/jspanel', 'jspanel-modal': 'https://cdn.jsdelivr.net/npm/jspanel4@4.12.0/dist/extensions/modal/jspanel.modal', 'jspanel-tooltip': 'https://cdn.jsdelivr.net/npm/jspanel4@4.12.0/dist/extensions/tooltip/jspanel.tooltip', 'jspanel-hint': 'https://cdn.jsdelivr.net/npm/jspanel4@4.12.0/dist/extensions/hint/jspanel.hint', 'jspanel-layout': 'https://cdn.jsdelivr.net/npm/jspanel4@4.12.0/dist/extensions/layout/jspanel.layout', 'jspanel-contextmenu': 'https://cdn.jsdelivr.net/npm/jspanel4@4.12.0/dist/extensions/contextmenu/jspanel.contextmenu', 'jspanel-dock': 'https://cdn.jsdelivr.net/npm/jspanel4@4.12.0/dist/extensions/dock/jspanel.dock', 'gridstack': 'https://cdn.jsdelivr.net/npm/gridstack@7.2.3/dist/gridstack-all', 'notyf': 'https://cdn.jsdelivr.net/npm/notyf@3/notyf.min'}, 'shim': {'jspanel': {'exports': 'jsPanel'}, 'gridstack': {'exports': 'GridStack'}}});\n      require([\"tabulator\"], function(Tabulator) {\n\twindow.Tabulator = Tabulator\n\ton_load()\n      })\n      require([\"moment\"], function(moment) {\n\twindow.moment = moment\n\ton_load()\n      })\n      require([\"jspanel\"], function(jsPanel) {\n\twindow.jsPanel = jsPanel\n\ton_load()\n      })\n      require([\"jspanel-modal\"], function() {\n\ton_load()\n      })\n      require([\"jspanel-tooltip\"], function() {\n\ton_load()\n      })\n      require([\"jspanel-hint\"], function() {\n\ton_load()\n      })\n      require([\"jspanel-layout\"], function() {\n\ton_load()\n      })\n      require([\"jspanel-contextmenu\"], function() {\n\ton_load()\n      })\n      require([\"jspanel-dock\"], function() {\n\ton_load()\n      })\n      require([\"gridstack\"], function(GridStack) {\n\twindow.GridStack = GridStack\n\ton_load()\n      })\n      require([\"notyf\"], function() {\n\ton_load()\n      })\n      root._bokeh_is_loading = css_urls.length + 11;\n    } else {\n      root._bokeh_is_loading = css_urls.length + js_urls.length + js_modules.length + Object.keys(js_exports).length;\n    }\n\n    var existing_stylesheets = []\n    var links = document.getElementsByTagName('link')\n    for (var i = 0; i < links.length; i++) {\n      var link = links[i]\n      if (link.href != null) {\n\texisting_stylesheets.push(link.href)\n      }\n    }\n    for (var i = 0; i < css_urls.length; i++) {\n      var url = css_urls[i];\n      if (existing_stylesheets.indexOf(url) !== -1) {\n\ton_load()\n\tcontinue;\n      }\n      const element = document.createElement(\"link\");\n      element.onload = on_load;\n      element.onerror = on_error;\n      element.rel = \"stylesheet\";\n      element.type = \"text/css\";\n      element.href = url;\n      console.debug(\"Bokeh: injecting link tag for BokehJS stylesheet: \", url);\n      document.body.appendChild(element);\n    }    if (((window['Tabulator'] !== undefined) && (!(window['Tabulator'] instanceof HTMLElement))) || window.requirejs) {\n      var urls = ['https://cdn.holoviz.org/panel/1.2.1/dist/bundled/datatabulator/tabulator-tables@5.5.0/dist/js/tabulator.js'];\n      for (var i = 0; i < urls.length; i++) {\n        skip.push(urls[i])\n      }\n    }    if (((window['moment'] !== undefined) && (!(window['moment'] instanceof HTMLElement))) || window.requirejs) {\n      var urls = ['https://cdn.holoviz.org/panel/1.2.1/dist/bundled/datatabulator/luxon/build/global/luxon.min.js'];\n      for (var i = 0; i < urls.length; i++) {\n        skip.push(urls[i])\n      }\n    }    if (((window['jsPanel'] !== undefined) && (!(window['jsPanel'] instanceof HTMLElement))) || window.requirejs) {\n      var urls = ['https://cdn.holoviz.org/panel/1.2.1/dist/bundled/floatpanel/jspanel4@4.12.0/dist/jspanel.js', 'https://cdn.holoviz.org/panel/1.2.1/dist/bundled/floatpanel/jspanel4@4.12.0/dist/extensions/modal/jspanel.modal.js', 'https://cdn.holoviz.org/panel/1.2.1/dist/bundled/floatpanel/jspanel4@4.12.0/dist/extensions/tooltip/jspanel.tooltip.js', 'https://cdn.holoviz.org/panel/1.2.1/dist/bundled/floatpanel/jspanel4@4.12.0/dist/extensions/hint/jspanel.hint.js', 'https://cdn.holoviz.org/panel/1.2.1/dist/bundled/floatpanel/jspanel4@4.12.0/dist/extensions/layout/jspanel.layout.js', 'https://cdn.holoviz.org/panel/1.2.1/dist/bundled/floatpanel/jspanel4@4.12.0/dist/extensions/contextmenu/jspanel.contextmenu.js', 'https://cdn.holoviz.org/panel/1.2.1/dist/bundled/floatpanel/jspanel4@4.12.0/dist/extensions/dock/jspanel.dock.js'];\n      for (var i = 0; i < urls.length; i++) {\n        skip.push(urls[i])\n      }\n    }    if (((window['GridStack'] !== undefined) && (!(window['GridStack'] instanceof HTMLElement))) || window.requirejs) {\n      var urls = ['https://cdn.holoviz.org/panel/1.2.1/dist/bundled/gridstack/gridstack@7.2.3/dist/gridstack-all.js'];\n      for (var i = 0; i < urls.length; i++) {\n        skip.push(urls[i])\n      }\n    }    if (((window['Notyf'] !== undefined) && (!(window['Notyf'] instanceof HTMLElement))) || window.requirejs) {\n      var urls = ['https://cdn.holoviz.org/panel/1.2.1/dist/bundled/notificationarea/notyf@3/notyf.min.js'];\n      for (var i = 0; i < urls.length; i++) {\n        skip.push(urls[i])\n      }\n    }    var existing_scripts = []\n    var scripts = document.getElementsByTagName('script')\n    for (var i = 0; i < scripts.length; i++) {\n      var script = scripts[i]\n      if (script.src != null) {\n\texisting_scripts.push(script.src)\n      }\n    }\n    for (var i = 0; i < js_urls.length; i++) {\n      var url = js_urls[i];\n      if (skip.indexOf(url) !== -1 || existing_scripts.indexOf(url) !== -1) {\n\tif (!window.requirejs) {\n\t  on_load();\n\t}\n\tcontinue;\n      }\n      var element = document.createElement('script');\n      element.onload = on_load;\n      element.onerror = on_error;\n      element.async = false;\n      element.src = url;\n      console.debug(\"Bokeh: injecting script tag for BokehJS library: \", url);\n      document.head.appendChild(element);\n    }\n    for (var i = 0; i < js_modules.length; i++) {\n      var url = js_modules[i];\n      if (skip.indexOf(url) !== -1 || existing_scripts.indexOf(url) !== -1) {\n\tif (!window.requirejs) {\n\t  on_load();\n\t}\n\tcontinue;\n      }\n      var element = document.createElement('script');\n      element.onload = on_load;\n      element.onerror = on_error;\n      element.async = false;\n      element.src = url;\n      element.type = \"module\";\n      console.debug(\"Bokeh: injecting script tag for BokehJS library: \", url);\n      document.head.appendChild(element);\n    }\n    for (const name in js_exports) {\n      var url = js_exports[name];\n      if (skip.indexOf(url) >= 0 || root[name] != null) {\n\tif (!window.requirejs) {\n\t  on_load();\n\t}\n\tcontinue;\n      }\n      var element = document.createElement('script');\n      element.onerror = on_error;\n      element.async = false;\n      element.type = \"module\";\n      console.debug(\"Bokeh: injecting script tag for BokehJS library: \", url);\n      element.textContent = `\n      import ${name} from \"${url}\"\n      window.${name} = ${name}\n      window._bokeh_on_load()\n      `\n      document.head.appendChild(element);\n    }\n    if (!js_urls.length && !js_modules.length) {\n      on_load()\n    }\n  };\n\n  function inject_raw_css(css) {\n    const element = document.createElement(\"style\");\n    element.appendChild(document.createTextNode(css));\n    document.body.appendChild(element);\n  }\n\n  var js_urls = [\"https://cdn.holoviz.org/panel/1.2.1/dist/bundled/datatabulator/tabulator-tables@5.5.0/dist/js/tabulator.js\", \"https://cdn.holoviz.org/panel/1.2.1/dist/bundled/datatabulator/luxon/build/global/luxon.min.js\"];\n  var js_modules = [];\n  var js_exports = {};\n  var css_urls = [\"https://cdn.holoviz.org/panel/1.2.1/dist/bundled/datatabulator/tabulator-tables@5.5.0/dist/css/tabulator_simple.min.css\"];\n  var inline_js = [    function(Bokeh) {\n      inject_raw_css(\".tabulator{position:relative;border:1px solid #999;font-size:14px;text-align:left;overflow:hidden;-webkit-transform:translateZ(0);-moz-transform:translateZ(0);-ms-transform:translateZ(0);-o-transform:translateZ(0);transform:translateZ(0)}.tabulator[tabulator-layout=fitDataFill] .tabulator-tableholder .tabulator-table{min-width:100%}.tabulator[tabulator-layout=fitDataTable]{display:inline-block}.tabulator.tabulator-block-select{user-select:none}.tabulator .tabulator-header{position:relative;box-sizing:border-box;width:100%;border-bottom:1px solid #999;background-color:#fff;color:#555;font-weight:700;white-space:nowrap;overflow:hidden;-moz-user-select:none;-khtml-user-select:none;-webkit-user-select:none;-o-user-select:none}.tabulator .tabulator-header.tabulator-header-hidden{display:none}.tabulator .tabulator-header .tabulator-header-contents{position:relative;overflow:hidden}.tabulator .tabulator-header .tabulator-header-contents .tabulator-headers{display:inline-block}.tabulator .tabulator-header .tabulator-col{display:inline-flex;position:relative;box-sizing:border-box;flex-direction:column;justify-content:flex-start;border-right:1px solid #ddd;background:#fff;text-align:left;vertical-align:bottom;overflow:hidden}.tabulator .tabulator-header .tabulator-col.tabulator-moving{position:absolute;border:1px solid #999;background:#e6e6e6;pointer-events:none}.tabulator .tabulator-header .tabulator-col .tabulator-col-content{box-sizing:border-box;position:relative;padding:4px}.tabulator .tabulator-header .tabulator-col .tabulator-col-content .tabulator-header-popup-button{padding:0 8px}.tabulator .tabulator-header .tabulator-col .tabulator-col-content .tabulator-header-popup-button:hover{cursor:pointer;opacity:.6}.tabulator .tabulator-header .tabulator-col .tabulator-col-content .tabulator-col-title-holder{position:relative}.tabulator .tabulator-header .tabulator-col .tabulator-col-content .tabulator-col-title{box-sizing:border-box;width:100%;white-space:nowrap;overflow:hidden;text-overflow:ellipsis;vertical-align:bottom}.tabulator .tabulator-header .tabulator-col .tabulator-col-content .tabulator-col-title.tabulator-col-title-wrap{white-space:normal;text-overflow:clip}.tabulator .tabulator-header .tabulator-col .tabulator-col-content .tabulator-col-title .tabulator-title-editor{box-sizing:border-box;width:100%;border:1px solid #999;padding:1px;background:#fff}.tabulator .tabulator-header .tabulator-col .tabulator-col-content .tabulator-col-title .tabulator-header-popup-button+.tabulator-title-editor{width:calc(100% - 22px)}.tabulator .tabulator-header .tabulator-col .tabulator-col-content .tabulator-col-sorter{display:flex;align-items:center;position:absolute;top:0;bottom:0;right:4px}.tabulator .tabulator-header .tabulator-col .tabulator-col-content .tabulator-col-sorter .tabulator-arrow{width:0;height:0;border-left:6px solid transparent;border-right:6px solid transparent;border-bottom:6px solid #bbb}.tabulator .tabulator-header .tabulator-col.tabulator-col-group .tabulator-col-group-cols{position:relative;display:flex;border-top:1px solid #ddd;overflow:hidden;margin-right:-1px}.tabulator .tabulator-header .tabulator-col .tabulator-header-filter{position:relative;box-sizing:border-box;margin-top:2px;width:100%;text-align:center}.tabulator .tabulator-header .tabulator-col .tabulator-header-filter textarea{height:auto!important}.tabulator .tabulator-header .tabulator-col .tabulator-header-filter svg{margin-top:3px}.tabulator .tabulator-header .tabulator-col .tabulator-header-filter input::-ms-clear{width:0;height:0}.tabulator .tabulator-header .tabulator-col.tabulator-sortable .tabulator-col-title{padding-right:25px}@media (hover:hover) and (pointer:fine){.tabulator .tabulator-header .tabulator-col.tabulator-sortable.tabulator-col-sorter-element:hover{cursor:pointer;background-color:#e6e6e6}}.tabulator .tabulator-header .tabulator-col.tabulator-sortable[aria-sort=none] .tabulator-col-content .tabulator-col-sorter{color:#bbb}@media (hover:hover) and (pointer:fine){.tabulator .tabulator-header .tabulator-col.tabulator-sortable[aria-sort=none] .tabulator-col-content .tabulator-col-sorter.tabulator-col-sorter-element .tabulator-arrow:hover{cursor:pointer;border-bottom:6px solid #555}}.tabulator .tabulator-header .tabulator-col.tabulator-sortable[aria-sort=none] .tabulator-col-content .tabulator-col-sorter .tabulator-arrow{border-top:none;border-bottom:6px solid #bbb}.tabulator .tabulator-header .tabulator-col.tabulator-sortable[aria-sort=ascending] .tabulator-col-content .tabulator-col-sorter{color:#666}@media (hover:hover) and (pointer:fine){.tabulator .tabulator-header .tabulator-col.tabulator-sortable[aria-sort=ascending] .tabulator-col-content .tabulator-col-sorter.tabulator-col-sorter-element .tabulator-arrow:hover{cursor:pointer;border-bottom:6px solid #555}}.tabulator .tabulator-header .tabulator-col.tabulator-sortable[aria-sort=ascending] .tabulator-col-content .tabulator-col-sorter .tabulator-arrow{border-top:none;border-bottom:6px solid #666}.tabulator .tabulator-header .tabulator-col.tabulator-sortable[aria-sort=descending] .tabulator-col-content .tabulator-col-sorter{color:#666}@media (hover:hover) and (pointer:fine){.tabulator .tabulator-header .tabulator-col.tabulator-sortable[aria-sort=descending] .tabulator-col-content .tabulator-col-sorter.tabulator-col-sorter-element .tabulator-arrow:hover{cursor:pointer;border-top:6px solid #555}}.tabulator .tabulator-header .tabulator-col.tabulator-sortable[aria-sort=descending] .tabulator-col-content .tabulator-col-sorter .tabulator-arrow{border-bottom:none;border-top:6px solid #666;color:#666}.tabulator .tabulator-header .tabulator-col.tabulator-col-vertical .tabulator-col-content .tabulator-col-title{writing-mode:vertical-rl;text-orientation:mixed;display:flex;align-items:center;justify-content:center}.tabulator .tabulator-header .tabulator-col.tabulator-col-vertical.tabulator-col-vertical-flip .tabulator-col-title{transform:rotate(180deg)}.tabulator .tabulator-header .tabulator-col.tabulator-col-vertical.tabulator-sortable .tabulator-col-title{padding-right:0;padding-top:20px}.tabulator .tabulator-header .tabulator-col.tabulator-col-vertical.tabulator-sortable.tabulator-col-vertical-flip .tabulator-col-title{padding-right:0;padding-bottom:20px}.tabulator .tabulator-header .tabulator-col.tabulator-col-vertical.tabulator-sortable .tabulator-col-sorter{justify-content:center;left:0;right:0;top:4px;bottom:auto}.tabulator .tabulator-header .tabulator-frozen{position:sticky;left:0;z-index:10}.tabulator .tabulator-header .tabulator-frozen.tabulator-frozen-left{border-right:2px solid #ddd}.tabulator .tabulator-header .tabulator-frozen.tabulator-frozen-right{border-left:2px solid #ddd}.tabulator .tabulator-header .tabulator-calcs-holder{box-sizing:border-box;background:#fff!important;border-top:1px solid #ddd;border-bottom:1px solid #ddd}.tabulator .tabulator-header .tabulator-calcs-holder .tabulator-row{background:#fff!important}.tabulator .tabulator-header .tabulator-calcs-holder .tabulator-row .tabulator-col-resize-handle,.tabulator .tabulator-header .tabulator-frozen-rows-holder:empty{display:none}.tabulator .tabulator-tableholder{position:relative;width:100%;white-space:nowrap;overflow:auto;-webkit-overflow-scrolling:touch}.tabulator .tabulator-tableholder:focus{outline:none}.tabulator .tabulator-tableholder .tabulator-placeholder{box-sizing:border-box;display:flex;align-items:center;justify-content:center;width:100%}.tabulator .tabulator-tableholder .tabulator-placeholder[tabulator-render-mode=virtual]{min-height:100%;min-width:100%}.tabulator .tabulator-tableholder .tabulator-placeholder .tabulator-placeholder-contents{display:inline-block;text-align:center;padding:10px;color:#ccc;font-weight:700;font-size:20px;white-space:normal}.tabulator .tabulator-tableholder .tabulator-table{position:relative;display:inline-block;background-color:#fff;white-space:nowrap;overflow:visible;color:#333}.tabulator .tabulator-tableholder .tabulator-table .tabulator-row.tabulator-calcs{font-weight:700;background:#f2f2f2!important}.tabulator .tabulator-tableholder .tabulator-table .tabulator-row.tabulator-calcs.tabulator-calcs-top{border-bottom:2px solid #ddd}.tabulator .tabulator-tableholder .tabulator-table .tabulator-row.tabulator-calcs.tabulator-calcs-bottom{border-top:2px solid #ddd}.tabulator .tabulator-footer{border-top:1px solid #999;background-color:#fff;color:#555;font-weight:700;white-space:nowrap;user-select:none;-moz-user-select:none;-khtml-user-select:none;-webkit-user-select:none;-o-user-select:none}.tabulator .tabulator-footer .tabulator-footer-contents{display:flex;flex-direction:row;align-items:center;justify-content:space-between;padding:5px 10px}.tabulator .tabulator-footer .tabulator-footer-contents:empty{display:none}.tabulator .tabulator-footer .tabulator-calcs-holder{box-sizing:border-box;width:100%;text-align:left;background:#fff!important;border-bottom:1px solid #ddd;border-top:1px solid #ddd;overflow:hidden}.tabulator .tabulator-footer .tabulator-calcs-holder .tabulator-row{display:inline-block;background:#fff!important}.tabulator .tabulator-footer .tabulator-calcs-holder .tabulator-row .tabulator-col-resize-handle{display:none}.tabulator .tabulator-footer .tabulator-calcs-holder:only-child{margin-bottom:-5px;border-bottom:none}.tabulator .tabulator-footer>*+.tabulator-page-counter{margin-left:10px}.tabulator .tabulator-footer .tabulator-page-counter{font-weight:400}.tabulator .tabulator-footer .tabulator-paginator{flex:1;text-align:right;color:#555;font-family:inherit;font-weight:inherit;font-size:inherit}.tabulator .tabulator-footer .tabulator-page-size{display:inline-block;margin:0 5px;padding:2px 5px;border:1px solid #aaa;border-radius:3px}.tabulator .tabulator-footer .tabulator-pages{margin:0 7px}.tabulator .tabulator-footer .tabulator-page{display:inline-block;margin:0 2px;padding:2px 5px;border:1px solid #aaa;border-radius:3px;background:hsla(0,0%,100%,.2)}.tabulator .tabulator-footer .tabulator-page.active{color:#d00}.tabulator .tabulator-footer .tabulator-page:disabled{opacity:.5}@media (hover:hover) and (pointer:fine){.tabulator .tabulator-footer .tabulator-page:not(.disabled):hover{cursor:pointer;background:rgba(0,0,0,.2);color:#fff}}.tabulator .tabulator-col-resize-handle{position:relative;display:inline-block;width:6px;margin-left:-3px;margin-right:-3px;z-index:10;vertical-align:middle}@media (hover:hover) and (pointer:fine){.tabulator .tabulator-col-resize-handle:hover{cursor:ew-resize}}.tabulator .tabulator-col-resize-handle:last-of-type{width:3px;margin-right:0}.tabulator .tabulator-alert{position:absolute;display:flex;align-items:center;top:0;left:0;z-index:100;height:100%;width:100%;background:rgba(0,0,0,.4);text-align:center}.tabulator .tabulator-alert .tabulator-alert-msg{display:inline-block;margin:0 auto;padding:10px 20px;border-radius:10px;background:#fff;font-weight:700;font-size:16px}.tabulator .tabulator-alert .tabulator-alert-msg.tabulator-alert-state-msg{border:4px solid #333;color:#000}.tabulator .tabulator-alert .tabulator-alert-msg.tabulator-alert-state-error{border:4px solid #d00;color:#590000}.tabulator-row{position:relative;box-sizing:border-box;min-height:22px}.tabulator-row,.tabulator-row.tabulator-row-even{background-color:#fff}@media (hover:hover) and (pointer:fine){.tabulator-row.tabulator-selectable:hover{background-color:#bbb;cursor:pointer}}.tabulator-row.tabulator-selected{background-color:#9abcea}@media (hover:hover) and (pointer:fine){.tabulator-row.tabulator-selected:hover{background-color:#769bcc;cursor:pointer}}.tabulator-row.tabulator-row-moving{border:1px solid #000;background:#fff}.tabulator-row.tabulator-moving{position:absolute;border-top:1px solid #ddd;border-bottom:1px solid #ddd;pointer-events:none;z-index:15}.tabulator-row .tabulator-row-resize-handle{position:absolute;right:0;bottom:0;left:0;height:5px}.tabulator-row .tabulator-row-resize-handle.prev{top:0;bottom:auto}@media (hover:hover) and (pointer:fine){.tabulator-row .tabulator-row-resize-handle:hover{cursor:ns-resize}}.tabulator-row .tabulator-responsive-collapse{box-sizing:border-box;padding:5px;border-top:1px solid #ddd;border-bottom:1px solid #ddd}.tabulator-row .tabulator-responsive-collapse:empty{display:none}.tabulator-row .tabulator-responsive-collapse table{font-size:14px}.tabulator-row .tabulator-responsive-collapse table tr td{position:relative}.tabulator-row .tabulator-responsive-collapse table tr td:first-of-type{padding-right:10px}.tabulator-row .tabulator-cell{display:inline-block;position:relative;box-sizing:border-box;padding:4px;border-right:1px solid #ddd;vertical-align:middle;white-space:nowrap;overflow:hidden;text-overflow:ellipsis}.tabulator-row .tabulator-cell.tabulator-frozen{display:inline-block;position:sticky;left:0;background-color:inherit;z-index:10}.tabulator-row .tabulator-cell.tabulator-frozen.tabulator-frozen-left{border-right:2px solid #ddd}.tabulator-row .tabulator-cell.tabulator-frozen.tabulator-frozen-right{border-left:2px solid #ddd}.tabulator-row .tabulator-cell.tabulator-editing{border:1px solid #1d68cd;outline:none;padding:0}.tabulator-row .tabulator-cell.tabulator-editing input,.tabulator-row .tabulator-cell.tabulator-editing select{border:1px;background:transparent;outline:none}.tabulator-row .tabulator-cell.tabulator-validation-fail{border:1px solid #d00}.tabulator-row .tabulator-cell.tabulator-validation-fail input,.tabulator-row .tabulator-cell.tabulator-validation-fail select{border:1px;background:transparent;color:#d00}.tabulator-row .tabulator-cell.tabulator-row-handle{display:inline-flex;align-items:center;justify-content:center;-moz-user-select:none;-khtml-user-select:none;-webkit-user-select:none;-o-user-select:none}.tabulator-row .tabulator-cell.tabulator-row-handle .tabulator-row-handle-box{width:80%}.tabulator-row .tabulator-cell.tabulator-row-handle .tabulator-row-handle-box .tabulator-row-handle-bar{width:100%;height:3px;margin-top:2px;background:#666}.tabulator-row .tabulator-cell .tabulator-data-tree-branch{display:inline-block;vertical-align:middle;height:9px;width:7px;margin-top:-9px;margin-right:5px;border-bottom-left-radius:1px;border-left:2px solid #ddd;border-bottom:2px solid #ddd}.tabulator-row .tabulator-cell .tabulator-data-tree-control{display:inline-flex;justify-content:center;align-items:center;vertical-align:middle;height:11px;width:11px;margin-right:5px;border:1px solid #333;border-radius:2px;background:rgba(0,0,0,.1);overflow:hidden}@media (hover:hover) and (pointer:fine){.tabulator-row .tabulator-cell .tabulator-data-tree-control:hover{cursor:pointer;background:rgba(0,0,0,.2)}}.tabulator-row .tabulator-cell .tabulator-data-tree-control .tabulator-data-tree-control-collapse{display:inline-block;position:relative;height:7px;width:1px;background:transparent}.tabulator-row .tabulator-cell .tabulator-data-tree-control .tabulator-data-tree-control-collapse:after{position:absolute;content:\\\"\\\";left:-3px;top:3px;height:1px;width:7px;background:#333}.tabulator-row .tabulator-cell .tabulator-data-tree-control .tabulator-data-tree-control-expand{display:inline-block;position:relative;height:7px;width:1px;background:#333}.tabulator-row .tabulator-cell .tabulator-data-tree-control .tabulator-data-tree-control-expand:after{position:absolute;content:\\\"\\\";left:-3px;top:3px;height:1px;width:7px;background:#333}.tabulator-row .tabulator-cell .tabulator-responsive-collapse-toggle{display:inline-flex;align-items:center;justify-content:center;-moz-user-select:none;-khtml-user-select:none;-webkit-user-select:none;-o-user-select:none;height:15px;width:15px;border-radius:20px;background:#666;color:#fff;font-weight:700;font-size:1.1em}@media (hover:hover) and (pointer:fine){.tabulator-row .tabulator-cell .tabulator-responsive-collapse-toggle:hover{opacity:.7;cursor:pointer}}.tabulator-row .tabulator-cell .tabulator-responsive-collapse-toggle.open .tabulator-responsive-collapse-toggle-close{display:initial}.tabulator-row .tabulator-cell .tabulator-responsive-collapse-toggle.open .tabulator-responsive-collapse-toggle-open{display:none}.tabulator-row .tabulator-cell .tabulator-responsive-collapse-toggle svg{stroke:#fff}.tabulator-row .tabulator-cell .tabulator-responsive-collapse-toggle .tabulator-responsive-collapse-toggle-close{display:none}.tabulator-row .tabulator-cell .tabulator-traffic-light{display:inline-block;height:14px;width:14px;border-radius:14px}.tabulator-row.tabulator-group{box-sizing:border-box;border-bottom:1px solid #999;border-right:1px solid #ddd;border-top:1px solid #999;padding:5px 5px 5px 10px;background:#ccc;font-weight:700;min-width:100%}@media (hover:hover) and (pointer:fine){.tabulator-row.tabulator-group:hover{cursor:pointer;background-color:rgba(0,0,0,.1)}}.tabulator-row.tabulator-group.tabulator-group-visible .tabulator-arrow{margin-right:10px;border-left:6px solid transparent;border-right:6px solid transparent;border-top:6px solid #666;border-bottom:0}.tabulator-row.tabulator-group.tabulator-group-level-1{padding-left:30px}.tabulator-row.tabulator-group.tabulator-group-level-2{padding-left:50px}.tabulator-row.tabulator-group.tabulator-group-level-3{padding-left:70px}.tabulator-row.tabulator-group.tabulator-group-level-4{padding-left:90px}.tabulator-row.tabulator-group.tabulator-group-level-5{padding-left:110px}.tabulator-row.tabulator-group .tabulator-group-toggle{display:inline-block}.tabulator-row.tabulator-group .tabulator-arrow{display:inline-block;width:0;height:0;margin-right:16px;border-top:6px solid transparent;border-bottom:6px solid transparent;border-right:0;border-left:6px solid #666;vertical-align:middle}.tabulator-row.tabulator-group span{margin-left:10px;color:#d00}.tabulator-popup-container{position:absolute;display:inline-block;box-sizing:border-box;background:#fff;border:1px solid #ddd;box-shadow:0 0 5px 0 rgba(0,0,0,.2);font-size:14px;overflow-y:auto;-webkit-overflow-scrolling:touch;z-index:10000}.tabulator-popup{padding:5px;border-radius:3px}.tabulator-tooltip{max-width:Min(500px,100%);padding:3px 5px;border-radius:2px;box-shadow:none;font-size:12px;pointer-events:none}.tabulator-menu .tabulator-menu-item{position:relative;box-sizing:border-box;padding:5px 10px;user-select:none}.tabulator-menu .tabulator-menu-item.tabulator-menu-item-disabled{opacity:.5}@media (hover:hover) and (pointer:fine){.tabulator-menu .tabulator-menu-item:not(.tabulator-menu-item-disabled):hover{cursor:pointer;background:#fff}}.tabulator-menu .tabulator-menu-item.tabulator-menu-item-submenu{padding-right:25px}.tabulator-menu .tabulator-menu-item.tabulator-menu-item-submenu:after{display:inline-block;position:absolute;top:calc(5px + .4em);right:10px;height:7px;width:7px;content:\\\"\\\";border-color:#ddd;border-style:solid;border-width:1px 1px 0 0;vertical-align:top;transform:rotate(45deg)}.tabulator-menu .tabulator-menu-separator{border-top:1px solid #ddd}.tabulator-edit-list{max-height:200px;font-size:14px;overflow-y:auto;-webkit-overflow-scrolling:touch}.tabulator-edit-list .tabulator-edit-list-item{padding:4px;color:#333;outline:none}.tabulator-edit-list .tabulator-edit-list-item.active{color:#fff;background:#1d68cd}.tabulator-edit-list .tabulator-edit-list-item.active.focused{outline:1px solid hsla(0,0%,100%,.5)}.tabulator-edit-list .tabulator-edit-list-item.focused{outline:1px solid #1d68cd}@media (hover:hover) and (pointer:fine){.tabulator-edit-list .tabulator-edit-list-item:hover{cursor:pointer;color:#fff;background:#1d68cd}}.tabulator-edit-list .tabulator-edit-list-placeholder{padding:4px;color:#333;text-align:center}.tabulator-edit-list .tabulator-edit-list-group{border-bottom:1px solid #ddd;padding:6px 4px 4px;color:#333;font-weight:700}.tabulator-edit-list .tabulator-edit-list-group.tabulator-edit-list-group-level-2,.tabulator-edit-list .tabulator-edit-list-item.tabulator-edit-list-group-level-2{padding-left:12px}.tabulator-edit-list .tabulator-edit-list-group.tabulator-edit-list-group-level-3,.tabulator-edit-list .tabulator-edit-list-item.tabulator-edit-list-group-level-3{padding-left:20px}.tabulator-edit-list .tabulator-edit-list-group.tabulator-edit-list-group-level-4,.tabulator-edit-list .tabulator-edit-list-item.tabulator-edit-list-group-level-4{padding-left:28px}.tabulator-edit-list .tabulator-edit-list-group.tabulator-edit-list-group-level-5,.tabulator-edit-list .tabulator-edit-list-item.tabulator-edit-list-group-level-5{padding-left:36px}.tabulator.tabulator-ltr{direction:ltr}.tabulator.tabulator-rtl{text-align:initial;direction:rtl}.tabulator.tabulator-rtl .tabulator-header .tabulator-col{text-align:initial;border-left:1px solid #ddd;border-right:initial}.tabulator.tabulator-rtl .tabulator-header .tabulator-col.tabulator-col-group .tabulator-col-group-cols{margin-right:0;margin-left:-1px}.tabulator.tabulator-rtl .tabulator-header .tabulator-col.tabulator-sortable .tabulator-col-title{padding-right:0;padding-left:25px}.tabulator.tabulator-rtl .tabulator-header .tabulator-col .tabulator-col-content .tabulator-col-sorter{left:8px;right:auto}.tabulator.tabulator-rtl .tabulator-row .tabulator-cell{border-right:initial;border-left:1px solid #ddd}.tabulator.tabulator-rtl .tabulator-row .tabulator-cell .tabulator-data-tree-branch{margin-right:0;margin-left:5px;border-bottom-left-radius:0;border-bottom-right-radius:1px;border-left:initial;border-right:2px solid #ddd}.tabulator.tabulator-rtl .tabulator-row .tabulator-cell .tabulator-data-tree-control{margin-right:0;margin-left:5px}.tabulator.tabulator-rtl .tabulator-row .tabulator-cell.tabulator-frozen.tabulator-frozen-left{border-left:2px solid #ddd}.tabulator.tabulator-rtl .tabulator-row .tabulator-cell.tabulator-frozen.tabulator-frozen-right{border-right:2px solid #ddd}.tabulator.tabulator-rtl .tabulator-row .tabulator-col-resize-handle:last-of-type{width:3px;margin-left:0;margin-right:-3px}.tabulator.tabulator-rtl .tabulator-footer .tabulator-calcs-holder{text-align:initial}.tabulator-print-fullscreen{position:absolute;top:0;bottom:0;left:0;right:0;z-index:10000}body.tabulator-print-fullscreen-hide>:not(.tabulator-print-fullscreen){display:none!important}.tabulator-print-table{border-collapse:collapse}.tabulator-print-table .tabulator-data-tree-branch{display:inline-block;vertical-align:middle;height:9px;width:7px;margin-top:-9px;margin-right:5px;border-bottom-left-radius:1px;border-left:2px solid #ddd;border-bottom:2px solid #ddd}.tabulator-print-table .tabulator-print-table-group{box-sizing:border-box;border-bottom:1px solid #999;border-right:1px solid #ddd;border-top:1px solid #999;padding:5px 5px 5px 10px;background:#ccc;font-weight:700;min-width:100%}@media (hover:hover) and (pointer:fine){.tabulator-print-table .tabulator-print-table-group:hover{cursor:pointer;background-color:rgba(0,0,0,.1)}}.tabulator-print-table .tabulator-print-table-group.tabulator-group-visible .tabulator-arrow{margin-right:10px;border-left:6px solid transparent;border-right:6px solid transparent;border-top:6px solid #666;border-bottom:0}.tabulator-print-table .tabulator-print-table-group.tabulator-group-level-1 td{padding-left:30px!important}.tabulator-print-table .tabulator-print-table-group.tabulator-group-level-2 td{padding-left:50px!important}.tabulator-print-table .tabulator-print-table-group.tabulator-group-level-3 td{padding-left:70px!important}.tabulator-print-table .tabulator-print-table-group.tabulator-group-level-4 td{padding-left:90px!important}.tabulator-print-table .tabulator-print-table-group.tabulator-group-level-5 td{padding-left:110px!important}.tabulator-print-table .tabulator-print-table-group .tabulator-group-toggle{display:inline-block}.tabulator-print-table .tabulator-print-table-group .tabulator-arrow{display:inline-block;width:0;height:0;margin-right:16px;border-top:6px solid transparent;border-bottom:6px solid transparent;border-right:0;border-left:6px solid #666;vertical-align:middle}.tabulator-print-table .tabulator-print-table-group span{color:#d00}.tabulator-print-table .tabulator-data-tree-control{display:inline-flex;justify-content:center;align-items:center;vertical-align:middle;height:11px;width:11px;margin-right:5px;border:1px solid #333;border-radius:2px;background:rgba(0,0,0,.1);overflow:hidden}@media (hover:hover) and (pointer:fine){.tabulator-print-table .tabulator-data-tree-control:hover{cursor:pointer;background:rgba(0,0,0,.2)}}.tabulator-print-table .tabulator-data-tree-control .tabulator-data-tree-control-collapse{display:inline-block;position:relative;height:7px;width:1px;background:transparent}.tabulator-print-table .tabulator-data-tree-control .tabulator-data-tree-control-collapse:after{position:absolute;content:\\\"\\\";left:-3px;top:3px;height:1px;width:7px;background:#333}.tabulator-print-table .tabulator-data-tree-control .tabulator-data-tree-control-expand{display:inline-block;position:relative;height:7px;width:1px;background:#333}.tabulator-print-table .tabulator-data-tree-control .tabulator-data-tree-control-expand:after{position:absolute;content:\\\"\\\";left:-3px;top:3px;height:1px;width:7px;background:#333}.tabulator{border:none;background-color:#fff}.tabulator .tabulator-header .tabulator-calcs-holder{background:#f2f2f2!important;border-bottom:1px solid #999}.tabulator .tabulator-header .tabulator-calcs-holder .tabulator-row{background:#f2f2f2!important}.tabulator .tabulator-tableholder .tabulator-placeholder span{color:#000}.tabulator .tabulator-footer .tabulator-calcs-holder{background:#f2f2f2!important;border-bottom:1px solid #fff}.tabulator .tabulator-footer .tabulator-calcs-holder .tabulator-row{background:#f2f2f2!important}.tabulator-row{border-bottom:1px solid #ddd}.tabulator-row .tabulator-cell:last-of-type{border-right:none}.tabulator-row.tabulator-group span{color:#666}.tabulator-print-table .tabulator-print-table-group span{margin-left:10px;color:#666}\\n/*# sourceMappingURL=tabulator_simple.min.css.map */\");\n    },    function(Bokeh) {\n      Bokeh.set_log_level(\"info\");\n    },\nfunction(Bokeh) {} // ensure no trailing comma for IE\n  ];\n\n  function run_inline_js() {\n    if ((root.Bokeh !== undefined) || (force === true)) {\n      for (var i = 0; i < inline_js.length; i++) {\n        inline_js[i].call(root, root.Bokeh);\n      }\n      // Cache old bokeh versions\n      if (Bokeh != undefined && !reloading) {\n\tvar NewBokeh = root.Bokeh;\n\tif (Bokeh.versions === undefined) {\n\t  Bokeh.versions = new Map();\n\t}\n\tif (NewBokeh.version !== Bokeh.version) {\n\t  Bokeh.versions.set(NewBokeh.version, NewBokeh)\n\t}\n\troot.Bokeh = Bokeh;\n      }} else if (Date.now() < root._bokeh_timeout) {\n      setTimeout(run_inline_js, 100);\n    } else if (!root._bokeh_failed_load) {\n      console.log(\"Bokeh: BokehJS failed to load within specified timeout.\");\n      root._bokeh_failed_load = true;\n    }\n    root._bokeh_is_initializing = false\n  }\n\n  function load_or_wait() {\n    // Implement a backoff loop that tries to ensure we do not load multiple\n    // versions of Bokeh and its dependencies at the same time.\n    // In recent versions we use the root._bokeh_is_initializing flag\n    // to determine whether there is an ongoing attempt to initialize\n    // bokeh, however for backward compatibility we also try to ensure\n    // that we do not start loading a newer (Panel>=1.0 and Bokeh>3) version\n    // before older versions are fully initialized.\n    if (root._bokeh_is_initializing && Date.now() > root._bokeh_timeout) {\n      root._bokeh_is_initializing = false;\n      root._bokeh_onload_callbacks = undefined;\n      console.log(\"Bokeh: BokehJS was loaded multiple times but one version failed to initialize.\");\n      load_or_wait();\n    } else if (root._bokeh_is_initializing || (typeof root._bokeh_is_initializing === \"undefined\" && root._bokeh_onload_callbacks !== undefined)) {\n      setTimeout(load_or_wait, 100);\n    } else {\n      Bokeh = root.Bokeh;\n      bokeh_loaded = Bokeh != null && (Bokeh.version === py_version || (Bokeh.versions !== undefined && Bokeh.versions.has(py_version)));\n      root._bokeh_is_initializing = true\n      root._bokeh_onload_callbacks = []\n      if (!reloading && (!bokeh_loaded || is_dev)) {\n\troot.Bokeh = undefined;\n      }\n      load_libs(css_urls, js_urls, js_modules, js_exports, function() {\n\tconsole.debug(\"Bokeh: BokehJS plotting callback run at\", now());\n\trun_inline_js();\n      });\n    }\n  }\n  // Give older versions of the autoload script a head-start to ensure\n  // they initialize before we start loading newer version.\n  setTimeout(load_or_wait, 100)\n}(window));",
            "application/vnd.holoviews_load.v0+json": ""
          },
          "metadata": {},
          "output_type": "display_data"
        },
        {
          "data": {
            "application/javascript": "\nif ((window.PyViz === undefined) || (window.PyViz instanceof HTMLElement)) {\n  window.PyViz = {comms: {}, comm_status:{}, kernels:{}, receivers: {}, plot_index: []}\n}\n\n\n    function JupyterCommManager() {\n    }\n\n    JupyterCommManager.prototype.register_target = function(plot_id, comm_id, msg_handler) {\n      if (window.comm_manager || ((window.Jupyter !== undefined) && (Jupyter.notebook.kernel != null))) {\n        var comm_manager = window.comm_manager || Jupyter.notebook.kernel.comm_manager;\n        comm_manager.register_target(comm_id, function(comm) {\n          comm.on_msg(msg_handler);\n        });\n      } else if ((plot_id in window.PyViz.kernels) && (window.PyViz.kernels[plot_id])) {\n        window.PyViz.kernels[plot_id].registerCommTarget(comm_id, function(comm) {\n          comm.onMsg = msg_handler;\n        });\n      } else if (typeof google != 'undefined' && google.colab.kernel != null) {\n        google.colab.kernel.comms.registerTarget(comm_id, (comm) => {\n          var messages = comm.messages[Symbol.asyncIterator]();\n          function processIteratorResult(result) {\n            var message = result.value;\n            console.log(message)\n            var content = {data: message.data, comm_id};\n            var buffers = []\n            for (var buffer of message.buffers || []) {\n              buffers.push(new DataView(buffer))\n            }\n            var metadata = message.metadata || {};\n            var msg = {content, buffers, metadata}\n            msg_handler(msg);\n            return messages.next().then(processIteratorResult);\n          }\n          return messages.next().then(processIteratorResult);\n        })\n      }\n    }\n\n    JupyterCommManager.prototype.get_client_comm = function(plot_id, comm_id, msg_handler) {\n      if (comm_id in window.PyViz.comms) {\n        return window.PyViz.comms[comm_id];\n      } else if (window.comm_manager || ((window.Jupyter !== undefined) && (Jupyter.notebook.kernel != null))) {\n        var comm_manager = window.comm_manager || Jupyter.notebook.kernel.comm_manager;\n        var comm = comm_manager.new_comm(comm_id, {}, {}, {}, comm_id);\n        if (msg_handler) {\n          comm.on_msg(msg_handler);\n        }\n      } else if ((plot_id in window.PyViz.kernels) && (window.PyViz.kernels[plot_id])) {\n        var comm = window.PyViz.kernels[plot_id].connectToComm(comm_id);\n        comm.open();\n        if (msg_handler) {\n          comm.onMsg = msg_handler;\n        }\n      } else if (typeof google != 'undefined' && google.colab.kernel != null) {\n        var comm_promise = google.colab.kernel.comms.open(comm_id)\n        comm_promise.then((comm) => {\n          window.PyViz.comms[comm_id] = comm;\n          if (msg_handler) {\n            var messages = comm.messages[Symbol.asyncIterator]();\n            function processIteratorResult(result) {\n              var message = result.value;\n              var content = {data: message.data};\n              var metadata = message.metadata || {comm_id};\n              var msg = {content, metadata}\n              msg_handler(msg);\n              return messages.next().then(processIteratorResult);\n            }\n            return messages.next().then(processIteratorResult);\n          }\n        }) \n        var sendClosure = (data, metadata, buffers, disposeOnDone) => {\n          return comm_promise.then((comm) => {\n            comm.send(data, metadata, buffers, disposeOnDone);\n          });\n        };\n        var comm = {\n          send: sendClosure\n        };\n      }\n      window.PyViz.comms[comm_id] = comm;\n      return comm;\n    }\n    window.PyViz.comm_manager = new JupyterCommManager();\n    \n\n\nvar JS_MIME_TYPE = 'application/javascript';\nvar HTML_MIME_TYPE = 'text/html';\nvar EXEC_MIME_TYPE = 'application/vnd.holoviews_exec.v0+json';\nvar CLASS_NAME = 'output';\n\n/**\n * Render data to the DOM node\n */\nfunction render(props, node) {\n  var div = document.createElement(\"div\");\n  var script = document.createElement(\"script\");\n  node.appendChild(div);\n  node.appendChild(script);\n}\n\n/**\n * Handle when a new output is added\n */\nfunction handle_add_output(event, handle) {\n  var output_area = handle.output_area;\n  var output = handle.output;\n  if ((output.data == undefined) || (!output.data.hasOwnProperty(EXEC_MIME_TYPE))) {\n    return\n  }\n  var id = output.metadata[EXEC_MIME_TYPE][\"id\"];\n  var toinsert = output_area.element.find(\".\" + CLASS_NAME.split(' ')[0]);\n  if (id !== undefined) {\n    var nchildren = toinsert.length;\n    var html_node = toinsert[nchildren-1].children[0];\n    html_node.innerHTML = output.data[HTML_MIME_TYPE];\n    var scripts = [];\n    var nodelist = html_node.querySelectorAll(\"script\");\n    for (var i in nodelist) {\n      if (nodelist.hasOwnProperty(i)) {\n        scripts.push(nodelist[i])\n      }\n    }\n\n    scripts.forEach( function (oldScript) {\n      var newScript = document.createElement(\"script\");\n      var attrs = [];\n      var nodemap = oldScript.attributes;\n      for (var j in nodemap) {\n        if (nodemap.hasOwnProperty(j)) {\n          attrs.push(nodemap[j])\n        }\n      }\n      attrs.forEach(function(attr) { newScript.setAttribute(attr.name, attr.value) });\n      newScript.appendChild(document.createTextNode(oldScript.innerHTML));\n      oldScript.parentNode.replaceChild(newScript, oldScript);\n    });\n    if (JS_MIME_TYPE in output.data) {\n      toinsert[nchildren-1].children[1].textContent = output.data[JS_MIME_TYPE];\n    }\n    output_area._hv_plot_id = id;\n    if ((window.Bokeh !== undefined) && (id in Bokeh.index)) {\n      window.PyViz.plot_index[id] = Bokeh.index[id];\n    } else {\n      window.PyViz.plot_index[id] = null;\n    }\n  } else if (output.metadata[EXEC_MIME_TYPE][\"server_id\"] !== undefined) {\n    var bk_div = document.createElement(\"div\");\n    bk_div.innerHTML = output.data[HTML_MIME_TYPE];\n    var script_attrs = bk_div.children[0].attributes;\n    for (var i = 0; i < script_attrs.length; i++) {\n      toinsert[toinsert.length - 1].childNodes[1].setAttribute(script_attrs[i].name, script_attrs[i].value);\n    }\n    // store reference to server id on output_area\n    output_area._bokeh_server_id = output.metadata[EXEC_MIME_TYPE][\"server_id\"];\n  }\n}\n\n/**\n * Handle when an output is cleared or removed\n */\nfunction handle_clear_output(event, handle) {\n  var id = handle.cell.output_area._hv_plot_id;\n  var server_id = handle.cell.output_area._bokeh_server_id;\n  if (((id === undefined) || !(id in PyViz.plot_index)) && (server_id !== undefined)) { return; }\n  var comm = window.PyViz.comm_manager.get_client_comm(\"hv-extension-comm\", \"hv-extension-comm\", function () {});\n  if (server_id !== null) {\n    comm.send({event_type: 'server_delete', 'id': server_id});\n    return;\n  } else if (comm !== null) {\n    comm.send({event_type: 'delete', 'id': id});\n  }\n  delete PyViz.plot_index[id];\n  if ((window.Bokeh !== undefined) & (id in window.Bokeh.index)) {\n    var doc = window.Bokeh.index[id].model.document\n    doc.clear();\n    const i = window.Bokeh.documents.indexOf(doc);\n    if (i > -1) {\n      window.Bokeh.documents.splice(i, 1);\n    }\n  }\n}\n\n/**\n * Handle kernel restart event\n */\nfunction handle_kernel_cleanup(event, handle) {\n  delete PyViz.comms[\"hv-extension-comm\"];\n  window.PyViz.plot_index = {}\n}\n\n/**\n * Handle update_display_data messages\n */\nfunction handle_update_output(event, handle) {\n  handle_clear_output(event, {cell: {output_area: handle.output_area}})\n  handle_add_output(event, handle)\n}\n\nfunction register_renderer(events, OutputArea) {\n  function append_mime(data, metadata, element) {\n    // create a DOM node to render to\n    var toinsert = this.create_output_subarea(\n    metadata,\n    CLASS_NAME,\n    EXEC_MIME_TYPE\n    );\n    this.keyboard_manager.register_events(toinsert);\n    // Render to node\n    var props = {data: data, metadata: metadata[EXEC_MIME_TYPE]};\n    render(props, toinsert[0]);\n    element.append(toinsert);\n    return toinsert\n  }\n\n  events.on('output_added.OutputArea', handle_add_output);\n  events.on('output_updated.OutputArea', handle_update_output);\n  events.on('clear_output.CodeCell', handle_clear_output);\n  events.on('delete.Cell', handle_clear_output);\n  events.on('kernel_ready.Kernel', handle_kernel_cleanup);\n\n  OutputArea.prototype.register_mime_type(EXEC_MIME_TYPE, append_mime, {\n    safe: true,\n    index: 0\n  });\n}\n\nif (window.Jupyter !== undefined) {\n  try {\n    var events = require('base/js/events');\n    var OutputArea = require('notebook/js/outputarea').OutputArea;\n    if (OutputArea.prototype.mime_types().indexOf(EXEC_MIME_TYPE) == -1) {\n      register_renderer(events, OutputArea);\n    }\n  } catch(err) {\n  }\n}\n",
            "application/vnd.holoviews_load.v0+json": ""
          },
          "metadata": {},
          "output_type": "display_data"
        },
        {
          "data": {
            "text/html": [
              "<style>*[data-root-id],\n",
              "*[data-root-id] > * {\n",
              "  box-sizing: border-box;\n",
              "  font-family: var(--jp-ui-font-family);\n",
              "  font-size: var(--jp-ui-font-size1);\n",
              "  color: var(--vscode-editor-foreground, var(--jp-ui-font-color1));\n",
              "}\n",
              "\n",
              "/* Override VSCode background color */\n",
              ".cell-output-ipywidget-background:has(\n",
              "    > .cell-output-ipywidget-background > .lm-Widget > *[data-root-id]\n",
              "  ),\n",
              ".cell-output-ipywidget-background:has(> .lm-Widget > *[data-root-id]) {\n",
              "  background-color: transparent !important;\n",
              "}\n",
              "</style>"
            ]
          },
          "metadata": {},
          "output_type": "display_data"
        }
      ],
      "source": [
        "#!pip install jupyter_bokeh\n",
        "import panel as pn\n",
        "\n",
        "pn.extension('tabulator', sizing_mode=\"stretch_width\")\n",
        "\n",
        "import hvplot.pandas\n",
        "import holoviews as hv\n",
        "\n",
        "hv.extension('bokeh')"
      ]
    },
    {
      "cell_type": "code",
      "execution_count": 23,
      "metadata": {
        "id": "5RPkhUiFb-Po"
      },
      "outputs": [],
      "source": [
        "choice = pn.widgets.ToggleGroup(\n",
        "    name='CHOICE',\n",
        "    options=['typhoon', 'shooting', 'wildfire', 'bombing', 'earthquake'],\n",
        "    value=['typhoon', 'shooting', 'wildfire', 'bombing', 'earthquake'],\n",
        "    button_type='success')\n",
        "choice\n",
        "\n",
        "idf = df_complete.interactive()"
      ]
    },
    {
      "cell_type": "code",
      "execution_count": 24,
      "metadata": {
        "colab": {
          "base_uri": "https://localhost:8080/",
          "height": 362
        },
        "id": "7Txr551MCH4h",
        "outputId": "68e42289-bc1b-4c55-f862-acda6cb0f367"
      },
      "outputs": [
        {
          "data": {
            "application/vnd.jupyter.widget-view+json": {
              "model_id": "380a2496a4a74d7d9b581520ab06dfda",
              "version_major": 2,
              "version_minor": 0
            },
            "text/plain": [
              "BokehModel(combine_events=True, render_bundle={'docs_json': {'3d4aa11e-7525-4491-8c2a-c3999c30e0b8': {'version…"
            ]
          },
          "execution_count": 24,
          "metadata": {},
          "output_type": "execute_result"
        }
      ],
      "source": [
        "idf.head()"
      ]
    },
    {
      "cell_type": "code",
      "execution_count": 25,
      "metadata": {
        "colab": {
          "base_uri": "https://localhost:8080/",
          "height": 99
        },
        "id": "EX2--f_wCsTx",
        "outputId": "1e236336-c4cb-46e3-e0f0-2a8f3c0dc261"
      },
      "outputs": [
        {
          "data": {
            "application/vnd.jupyter.widget-view+json": {
              "model_id": "69fc1ec3af38463bbe6e496d3ad4bb42",
              "version_major": 2,
              "version_minor": 0
            },
            "text/plain": [
              "BokehModel(combine_events=True, render_bundle={'docs_json': {'dee42de1-037a-4fa5-a34d-9e7e65aab6db': {'version…"
            ]
          },
          "execution_count": 25,
          "metadata": {},
          "output_type": "execute_result"
        }
      ],
      "source": [
        "idf.columns"
      ]
    },
    {
      "cell_type": "code",
      "execution_count": 27,
      "metadata": {
        "colab": {
          "base_uri": "https://localhost:8080/",
          "height": 137
        },
        "id": "tY5KvbVXJRvs",
        "outputId": "49e25c4a-9a58-4460-b6bd-9da791d1089a"
      },
      "outputs": [
        {
          "data": {
            "application/vnd.jupyter.widget-view+json": {
              "model_id": "2b62d59ae8ba4f83b3f4e5fbfe556f32",
              "version_major": 2,
              "version_minor": 0
            },
            "text/plain": [
              "BokehModel(combine_events=True, render_bundle={'docs_json': {'6c10ba80-9702-4a0a-a73f-01fc42332a72': {'version…"
            ]
          },
          "execution_count": 27,
          "metadata": {},
          "output_type": "execute_result"
        }
      ],
      "source": [
        "choice = pn.widgets.ToggleGroup(\n",
        "    name='CHOICE',\n",
        "    options=['typhoon', 'shooting', 'wildfire', 'bombing', 'earthquake'],\n",
        "    value=['typhoon', 'shooting', 'wildfire', 'bombing', 'earthquake'],\n",
        "    button_type='success')\n",
        "choice\n",
        "\n",
        "idf = df_complete.interactive()\n",
        "\n",
        "ipipeline = (\n",
        "    idf[idf.Event_Type.isin(choice)]  # Filtrer par event_type en fonction du choix utilisateur\n",
        "    .groupby(['date', 'Event_Type'])  # Garder la granularité par date et event_type\n",
        "    .agg({'num_tweets_perday' : 'unique',\n",
        "        'Number_of_Tweets_perEvent': 'unique',\n",
        "        'Number_of_Users_perEvent': 'unique',\n",
        "        'Nb_of_sub_event': 'unique',\n",
        "        'First_Tweet_Date': 'min',\n",
        "        'Last_Tweet_Date': 'max',\n",
        "        'Avg_Tweet_Frequency': 'unique'\n",
        "    })\n",
        "    .reset_index()\n",
        ")\n",
        "\n",
        "ipipeline.head()"
      ]
    },
    {
      "cell_type": "code",
      "execution_count": 30,
      "metadata": {
        "colab": {
          "base_uri": "https://localhost:8080/",
          "height": 193
        },
        "id": "MAlE0SqxFy8m",
        "outputId": "b283799b-a2d5-46be-d468-ec4cc8819a52"
      },
      "outputs": [
        {
          "data": {
            "application/vnd.jupyter.widget-view+json": {
              "model_id": "2f41f3a1f29a438d929e9334187c16b8",
              "version_major": 2,
              "version_minor": 0
            },
            "text/plain": [
              "BokehModel(combine_events=True, render_bundle={'docs_json': {'75ca18bc-822e-4515-820a-1379959570de': {'version…"
            ]
          },
          "execution_count": 30,
          "metadata": {},
          "output_type": "execute_result"
        }
      ],
      "source": [
        "itable = ipipeline.pipe(pn.widgets.Tabulator, pagination='remote', page_size=10, theme=\"default\")\n",
        "itable"
      ]
    },
    {
      "cell_type": "code",
      "execution_count": 31,
      "metadata": {
        "colab": {
          "base_uri": "https://localhost:8080/",
          "height": 77
        },
        "id": "rm1oKFh0GDfY",
        "outputId": "d7871afa-0c69-403e-b197-c14f6df9dcdb"
      },
      "outputs": [
        {
          "data": {
            "application/vnd.jupyter.widget-view+json": {
              "model_id": "6946b95a4679496a9dec7ed5f82032d3",
              "version_major": 2,
              "version_minor": 0
            },
            "text/plain": [
              "BokehModel(combine_events=True, render_bundle={'docs_json': {'d460314b-fa73-4238-868a-eab382d0b588': {'version…"
            ]
          },
          "execution_count": 31,
          "metadata": {},
          "output_type": "execute_result"
        }
      ],
      "source": [
        "\n",
        "\n",
        "import panel as pn\n",
        "\n",
        "# Nouvelle palette avec 2 couleurs ajoutées\n",
        "PALETTE = [\"#ff6f69\", \"#ffcc5c\", \"#88d8b0\", \"#6a5acd\", \"#ff6347\"]  # Ajout de deux nouvelles couleurs\n",
        "\n",
        "# Utilisation de pn.pane.HTML pour créer des blocs colorés avec les nouvelles couleurs\n",
        "pn.Row(\n",
        "    pn.pane.HTML(f'<div style=\"background-color:{PALETTE[0]}; height:50px; width:100%\"></div>'),\n",
        "    pn.pane.HTML(f'<div style=\"background-color:{PALETTE[1]}; height:50px; width:100%\"></div>'),\n",
        "    pn.pane.HTML(f'<div style=\"background-color:{PALETTE[2]}; height:50px; width:100%\"></div>'),\n",
        "    pn.pane.HTML(f'<div style=\"background-color:{PALETTE[3]}; height:50px; width:100%\"></div>'),  # Nouveau bloc avec la 4ème couleur\n",
        "    pn.pane.HTML(f'<div style=\"background-color:{PALETTE[4]}; height:50px; width:100%\"></div>')   # Nouveau bloc avec la 5ème couleur\n",
        ")"
      ]
    },
    {
      "cell_type": "code",
      "execution_count": 32,
      "metadata": {
        "colab": {
          "base_uri": "https://localhost:8080/",
          "height": 909
        },
        "id": "omX77BgYM5lc",
        "outputId": "ddca81d1-f306-4a12-cf93-327208119f30"
      },
      "outputs": [
        {
          "data": {
            "application/vnd.jupyter.widget-view+json": {
              "model_id": "f6a2bdde0a8b4168a672b5239aadda81",
              "version_major": 2,
              "version_minor": 0
            },
            "text/plain": [
              "BokehModel(combine_events=True, render_bundle={'docs_json': {'b86a4912-7afa-4951-85fe-7f4a442bdd57': {'version…"
            ]
          },
          "execution_count": 32,
          "metadata": {},
          "output_type": "execute_result"
        }
      ],
      "source": [
        "hvplot = ipipeline.hvplot(x='date',y='num_tweets_perday', by='Event_Type')\n",
        "hvplot"
      ]
    },
    {
      "cell_type": "markdown",
      "metadata": {},
      "source": [
        "Here is the table and the graph together as a Dashboard, at the scale of each event type : "
      ]
    },
    {
      "cell_type": "code",
      "execution_count": null,
      "metadata": {
        "colab": {
          "base_uri": "https://localhost:8080/",
          "height": 947
        },
        "id": "HogR5YjuPXtZ",
        "outputId": "8e14ff51-0cf1-4210-9336-cb0378d1031e"
      },
      "outputs": [
        {
          "data": {
            "application/vnd.jupyter.widget-view+json": {
              "model_id": "dd1a35a1df5143cba59c3d3d240efb6c",
              "version_major": 2,
              "version_minor": 0
            },
            "text/plain": [
              "BokehModel(combine_events=True, render_bundle={'docs_json': {'ad75ff54-f2a5-45a7-bd33-6e2e75d2231f': {'version…"
            ]
          },
          "execution_count": 34,
          "metadata": {},
          "output_type": "execute_result"
        }
      ],
      "source": [
        "import panel as pn\n",
        "import hvplot.pandas  # Pour les graphes interactifs\n",
        "import pandas as pd\n",
        "\n",
        "\n",
        "# Function to dynamically update the graph and table\n",
        "@pn.depends(choice, watch=True)\n",
        "def update_graph_and_table(choice):\n",
        "\n",
        "    # Creating the dynamic graph\n",
        "    hvplot_graph = ipipeline.hvplot(\n",
        "        x='date', y='num_tweets_perday', by='Event_Type',\n",
        "        kind='line', title='Nombre de Tweets par Jour et par Type d\\'Événement',\n",
        "        xlabel='Date', ylabel='Nombre de Tweets', line_width=2, responsive=True, height=500\n",
        "    )\n",
        "\n",
        "    # Creating the dynamic table with Tabulator\n",
        "    itable = ipipeline.pipe(pn.widgets.Tabulator, pagination='remote', page_size=10, theme='default')\n",
        "\n",
        "    # Returning the graph and table in a panel, wrapping hvplot_graph with pn.pane.HoloViews\n",
        "    return pn.Column(\n",
        "        pn.pane.HoloViews(hvplot_graph),  # Wrap hvplot_graph here\n",
        "        itable  # Display the table\n",
        "    )\n",
        "\n",
        "# ... (rest of your dashboard code)\n",
        "\n",
        "# Créer le layout Panel avec le widget et la mise à jour du graphique et de la table\n",
        "dashboard = pn.Column(\n",
        "\n",
        "    update_graph_and_table(choice)  # Graphique et table mis à jour dynamiquement\n",
        ")\n",
        "\n",
        "# Afficher le dashboard\n",
        "dashboard"
      ]
    },
    {
      "cell_type": "markdown",
      "metadata": {
        "id": "4uwfa_AFhE8Z"
      },
      "source": [
        "# 3. TWEET-level vector semantics\n",
        "\n",
        "In the following section, we will implement the functions to compute ththeese tweet-level vector semantics based on the word enbeddings method. At the tweet-level, we compute a global tweet representation by averaging the word embeddings for all the words in the tweet.\n",
        "\n",
        "As an illustration, we manually choose two tweets and visualize them. The relevant part of the tweet is the content which is accessible in the \"text\" attribut."
      ]
    },
    {
      "cell_type": "markdown",
      "metadata": {
        "id": "aXGxXIi69lOl"
      },
      "source": [
        "These functions compute the representation of each word and the average representation of each word within a wholde tweet, to study the tweet-level vector semantics.\n",
        "\n",
        "FONCTION TRES LONGUE QUI ARRIVE AVEC WORD TO VEC CA TOURNE LONGTEMPS"
      ]
    },
    {
      "cell_type": "code",
      "execution_count": null,
      "metadata": {},
      "outputs": [
        {
          "ename": "ImportError",
          "evalue": "dlopen(/Users/sarahbouchet/anaconda3/lib/python3.11/site-packages/scipy/sparse/linalg/_isolve/_iterative.cpython-311-darwin.so, 0x0002): Library not loaded: @rpath/libopenblas.0.dylib\n  Referenced from: <68B373BB-0E19-38F4-8A21-488037FB5BFB> /Users/sarahbouchet/anaconda3/lib/python3.11/site-packages/scipy/sparse/linalg/_isolve/_iterative.cpython-311-darwin.so\n  Reason: tried: '/Users/sarahbouchet/anaconda3/lib/python3.11/site-packages/scipy/sparse/linalg/_isolve/../../../../../../libopenblas.0.dylib' (no such file), '/Users/sarahbouchet/anaconda3/lib/python3.11/site-packages/scipy/sparse/linalg/_isolve/../../../../../../libopenblas.0.dylib' (no such file), '/Users/sarahbouchet/anaconda3/bin/../lib/libopenblas.0.dylib' (no such file), '/Users/sarahbouchet/anaconda3/bin/../lib/libopenblas.0.dylib' (no such file), '/usr/local/lib/libopenblas.0.dylib' (no such file), '/usr/lib/libopenblas.0.dylib' (no such file, not in dyld cache)",
          "output_type": "error",
          "traceback": [
            "\u001b[0;31m---------------------------------------------------------------------------\u001b[0m",
            "\u001b[0;31mImportError\u001b[0m                               Traceback (most recent call last)",
            "Cell \u001b[0;32mIn[11], line 19\u001b[0m\n\u001b[1;32m     16\u001b[0m \u001b[38;5;28;01mfrom\u001b[39;00m \u001b[38;5;21;01mcollections\u001b[39;00m \u001b[38;5;28;01mimport\u001b[39;00m Counter\n\u001b[1;32m     17\u001b[0m \u001b[38;5;28;01mimport\u001b[39;00m \u001b[38;5;21;01mmatplotlib\u001b[39;00m\u001b[38;5;21;01m.\u001b[39;00m\u001b[38;5;21;01mpyplot\u001b[39;00m \u001b[38;5;28;01mas\u001b[39;00m \u001b[38;5;21;01mplt\u001b[39;00m\n\u001b[0;32m---> 19\u001b[0m \u001b[38;5;28;01mfrom\u001b[39;00m \u001b[38;5;21;01msklearn\u001b[39;00m\u001b[38;5;21;01m.\u001b[39;00m\u001b[38;5;21;01mfeature_extraction\u001b[39;00m\u001b[38;5;21;01m.\u001b[39;00m\u001b[38;5;21;01mtext\u001b[39;00m \u001b[38;5;28;01mimport\u001b[39;00m TfidfVectorizer\n\u001b[1;32m     20\u001b[0m \u001b[38;5;28;01mfrom\u001b[39;00m \u001b[38;5;21;01msklearn\u001b[39;00m\u001b[38;5;21;01m.\u001b[39;00m\u001b[38;5;21;01mmetrics\u001b[39;00m\u001b[38;5;21;01m.\u001b[39;00m\u001b[38;5;21;01mpairwise\u001b[39;00m \u001b[38;5;28;01mimport\u001b[39;00m cosine_similarity\n\u001b[1;32m     21\u001b[0m \u001b[38;5;28;01mfrom\u001b[39;00m \u001b[38;5;21;01msklearn\u001b[39;00m\u001b[38;5;21;01m.\u001b[39;00m\u001b[38;5;21;01mmetrics\u001b[39;00m \u001b[38;5;28;01mimport\u001b[39;00m accuracy_score, precision_score, recall_score\n",
            "File \u001b[0;32m~/anaconda3/lib/python3.11/site-packages/sklearn/__init__.py:83\u001b[0m\n\u001b[1;32m     69\u001b[0m     \u001b[38;5;66;03m# We are not importing the rest of scikit-learn during the build\u001b[39;00m\n\u001b[1;32m     70\u001b[0m     \u001b[38;5;66;03m# process, as it may not be compiled yet\u001b[39;00m\n\u001b[1;32m     71\u001b[0m \u001b[38;5;28;01melse\u001b[39;00m:\n\u001b[0;32m   (...)\u001b[0m\n\u001b[1;32m     77\u001b[0m     \u001b[38;5;66;03m# later is linked to the OpenMP runtime to make it possible to introspect\u001b[39;00m\n\u001b[1;32m     78\u001b[0m     \u001b[38;5;66;03m# it and importing it first would fail if the OpenMP dll cannot be found.\u001b[39;00m\n\u001b[1;32m     79\u001b[0m     \u001b[38;5;28;01mfrom\u001b[39;00m \u001b[38;5;21;01m.\u001b[39;00m \u001b[38;5;28;01mimport\u001b[39;00m (\n\u001b[1;32m     80\u001b[0m         __check_build,  \u001b[38;5;66;03m# noqa: F401\u001b[39;00m\n\u001b[1;32m     81\u001b[0m         _distributor_init,  \u001b[38;5;66;03m# noqa: F401\u001b[39;00m\n\u001b[1;32m     82\u001b[0m     )\n\u001b[0;32m---> 83\u001b[0m     \u001b[38;5;28;01mfrom\u001b[39;00m \u001b[38;5;21;01m.\u001b[39;00m\u001b[38;5;21;01mbase\u001b[39;00m \u001b[38;5;28;01mimport\u001b[39;00m clone\n\u001b[1;32m     84\u001b[0m     \u001b[38;5;28;01mfrom\u001b[39;00m \u001b[38;5;21;01m.\u001b[39;00m\u001b[38;5;21;01mutils\u001b[39;00m\u001b[38;5;21;01m.\u001b[39;00m\u001b[38;5;21;01m_show_versions\u001b[39;00m \u001b[38;5;28;01mimport\u001b[39;00m show_versions\n\u001b[1;32m     86\u001b[0m     __all__ \u001b[38;5;241m=\u001b[39m [\n\u001b[1;32m     87\u001b[0m         \u001b[38;5;124m\"\u001b[39m\u001b[38;5;124mcalibration\u001b[39m\u001b[38;5;124m\"\u001b[39m,\n\u001b[1;32m     88\u001b[0m         \u001b[38;5;124m\"\u001b[39m\u001b[38;5;124mcluster\u001b[39m\u001b[38;5;124m\"\u001b[39m,\n\u001b[0;32m   (...)\u001b[0m\n\u001b[1;32m    129\u001b[0m         \u001b[38;5;124m\"\u001b[39m\u001b[38;5;124mshow_versions\u001b[39m\u001b[38;5;124m\"\u001b[39m,\n\u001b[1;32m    130\u001b[0m     ]\n",
            "File \u001b[0;32m~/anaconda3/lib/python3.11/site-packages/sklearn/base.py:19\u001b[0m\n\u001b[1;32m     17\u001b[0m \u001b[38;5;28;01mfrom\u001b[39;00m \u001b[38;5;21;01m.\u001b[39;00m\u001b[38;5;21;01m_config\u001b[39;00m \u001b[38;5;28;01mimport\u001b[39;00m config_context, get_config\n\u001b[1;32m     18\u001b[0m \u001b[38;5;28;01mfrom\u001b[39;00m \u001b[38;5;21;01m.\u001b[39;00m\u001b[38;5;21;01mexceptions\u001b[39;00m \u001b[38;5;28;01mimport\u001b[39;00m InconsistentVersionWarning\n\u001b[0;32m---> 19\u001b[0m \u001b[38;5;28;01mfrom\u001b[39;00m \u001b[38;5;21;01m.\u001b[39;00m\u001b[38;5;21;01mutils\u001b[39;00m \u001b[38;5;28;01mimport\u001b[39;00m _IS_32BIT\n\u001b[1;32m     20\u001b[0m \u001b[38;5;28;01mfrom\u001b[39;00m \u001b[38;5;21;01m.\u001b[39;00m\u001b[38;5;21;01mutils\u001b[39;00m\u001b[38;5;21;01m.\u001b[39;00m\u001b[38;5;21;01m_estimator_html_repr\u001b[39;00m \u001b[38;5;28;01mimport\u001b[39;00m estimator_html_repr\n\u001b[1;32m     21\u001b[0m \u001b[38;5;28;01mfrom\u001b[39;00m \u001b[38;5;21;01m.\u001b[39;00m\u001b[38;5;21;01mutils\u001b[39;00m\u001b[38;5;21;01m.\u001b[39;00m\u001b[38;5;21;01m_metadata_requests\u001b[39;00m \u001b[38;5;28;01mimport\u001b[39;00m _MetadataRequester\n",
            "File \u001b[0;32m~/anaconda3/lib/python3.11/site-packages/sklearn/utils/__init__.py:15\u001b[0m\n\u001b[1;32m     12\u001b[0m \u001b[38;5;28;01mfrom\u001b[39;00m \u001b[38;5;21;01mitertools\u001b[39;00m \u001b[38;5;28;01mimport\u001b[39;00m compress, islice\n\u001b[1;32m     14\u001b[0m \u001b[38;5;28;01mimport\u001b[39;00m \u001b[38;5;21;01mnumpy\u001b[39;00m \u001b[38;5;28;01mas\u001b[39;00m \u001b[38;5;21;01mnp\u001b[39;00m\n\u001b[0;32m---> 15\u001b[0m \u001b[38;5;28;01mfrom\u001b[39;00m \u001b[38;5;21;01mscipy\u001b[39;00m\u001b[38;5;21;01m.\u001b[39;00m\u001b[38;5;21;01msparse\u001b[39;00m \u001b[38;5;28;01mimport\u001b[39;00m issparse\n\u001b[1;32m     17\u001b[0m \u001b[38;5;28;01mfrom\u001b[39;00m \u001b[38;5;21;01m.\u001b[39;00m\u001b[38;5;21;01m.\u001b[39;00m \u001b[38;5;28;01mimport\u001b[39;00m get_config\n\u001b[1;32m     18\u001b[0m \u001b[38;5;28;01mfrom\u001b[39;00m \u001b[38;5;21;01m.\u001b[39;00m\u001b[38;5;21;01m.\u001b[39;00m\u001b[38;5;21;01mexceptions\u001b[39;00m \u001b[38;5;28;01mimport\u001b[39;00m DataConversionWarning\n",
            "File \u001b[0;32m~/anaconda3/lib/python3.11/site-packages/scipy/sparse/__init__.py:283\u001b[0m\n\u001b[1;32m    278\u001b[0m \u001b[38;5;28;01mfrom\u001b[39;00m \u001b[38;5;21;01m.\u001b[39;00m\u001b[38;5;21;01m_arrays\u001b[39;00m \u001b[38;5;28;01mimport\u001b[39;00m (\n\u001b[1;32m    279\u001b[0m     csr_array, csc_array, lil_array, dok_array, coo_array, dia_array, bsr_array\n\u001b[1;32m    280\u001b[0m )\n\u001b[1;32m    282\u001b[0m \u001b[38;5;66;03m# For backward compatibility with v0.19.\u001b[39;00m\n\u001b[0;32m--> 283\u001b[0m \u001b[38;5;28;01mfrom\u001b[39;00m \u001b[38;5;21;01m.\u001b[39;00m \u001b[38;5;28;01mimport\u001b[39;00m csgraph\n\u001b[1;32m    285\u001b[0m \u001b[38;5;66;03m# Deprecated namespaces, to be removed in v2.0.0\u001b[39;00m\n\u001b[1;32m    286\u001b[0m \u001b[38;5;28;01mfrom\u001b[39;00m \u001b[38;5;21;01m.\u001b[39;00m \u001b[38;5;28;01mimport\u001b[39;00m (\n\u001b[1;32m    287\u001b[0m     base, bsr, compressed, construct, coo, csc, csr, data, dia, dok, extract,\n\u001b[1;32m    288\u001b[0m     lil, sparsetools, sputils\n\u001b[1;32m    289\u001b[0m )\n",
            "File \u001b[0;32m~/anaconda3/lib/python3.11/site-packages/scipy/sparse/csgraph/__init__.py:185\u001b[0m\n\u001b[1;32m    157\u001b[0m __docformat__ \u001b[38;5;241m=\u001b[39m \u001b[38;5;124m\"\u001b[39m\u001b[38;5;124mrestructuredtext en\u001b[39m\u001b[38;5;124m\"\u001b[39m\n\u001b[1;32m    159\u001b[0m __all__ \u001b[38;5;241m=\u001b[39m [\u001b[38;5;124m'\u001b[39m\u001b[38;5;124mconnected_components\u001b[39m\u001b[38;5;124m'\u001b[39m,\n\u001b[1;32m    160\u001b[0m            \u001b[38;5;124m'\u001b[39m\u001b[38;5;124mlaplacian\u001b[39m\u001b[38;5;124m'\u001b[39m,\n\u001b[1;32m    161\u001b[0m            \u001b[38;5;124m'\u001b[39m\u001b[38;5;124mshortest_path\u001b[39m\u001b[38;5;124m'\u001b[39m,\n\u001b[0;32m   (...)\u001b[0m\n\u001b[1;32m    182\u001b[0m            \u001b[38;5;124m'\u001b[39m\u001b[38;5;124mcsgraph_to_masked\u001b[39m\u001b[38;5;124m'\u001b[39m,\n\u001b[1;32m    183\u001b[0m            \u001b[38;5;124m'\u001b[39m\u001b[38;5;124mNegativeCycleError\u001b[39m\u001b[38;5;124m'\u001b[39m]\n\u001b[0;32m--> 185\u001b[0m \u001b[38;5;28;01mfrom\u001b[39;00m \u001b[38;5;21;01m.\u001b[39;00m\u001b[38;5;21;01m_laplacian\u001b[39;00m \u001b[38;5;28;01mimport\u001b[39;00m laplacian\n\u001b[1;32m    186\u001b[0m \u001b[38;5;28;01mfrom\u001b[39;00m \u001b[38;5;21;01m.\u001b[39;00m\u001b[38;5;21;01m_shortest_path\u001b[39;00m \u001b[38;5;28;01mimport\u001b[39;00m (\n\u001b[1;32m    187\u001b[0m     shortest_path, floyd_warshall, dijkstra, bellman_ford, johnson,\n\u001b[1;32m    188\u001b[0m     NegativeCycleError\n\u001b[1;32m    189\u001b[0m )\n\u001b[1;32m    190\u001b[0m \u001b[38;5;28;01mfrom\u001b[39;00m \u001b[38;5;21;01m.\u001b[39;00m\u001b[38;5;21;01m_traversal\u001b[39;00m \u001b[38;5;28;01mimport\u001b[39;00m (\n\u001b[1;32m    191\u001b[0m     breadth_first_order, depth_first_order, breadth_first_tree,\n\u001b[1;32m    192\u001b[0m     depth_first_tree, connected_components\n\u001b[1;32m    193\u001b[0m )\n",
            "File \u001b[0;32m~/anaconda3/lib/python3.11/site-packages/scipy/sparse/csgraph/_laplacian.py:7\u001b[0m\n\u001b[1;32m      5\u001b[0m \u001b[38;5;28;01mimport\u001b[39;00m \u001b[38;5;21;01mnumpy\u001b[39;00m \u001b[38;5;28;01mas\u001b[39;00m \u001b[38;5;21;01mnp\u001b[39;00m\n\u001b[1;32m      6\u001b[0m \u001b[38;5;28;01mfrom\u001b[39;00m \u001b[38;5;21;01mscipy\u001b[39;00m\u001b[38;5;21;01m.\u001b[39;00m\u001b[38;5;21;01msparse\u001b[39;00m \u001b[38;5;28;01mimport\u001b[39;00m isspmatrix\n\u001b[0;32m----> 7\u001b[0m \u001b[38;5;28;01mfrom\u001b[39;00m \u001b[38;5;21;01mscipy\u001b[39;00m\u001b[38;5;21;01m.\u001b[39;00m\u001b[38;5;21;01msparse\u001b[39;00m\u001b[38;5;21;01m.\u001b[39;00m\u001b[38;5;21;01mlinalg\u001b[39;00m \u001b[38;5;28;01mimport\u001b[39;00m LinearOperator\n\u001b[1;32m     10\u001b[0m \u001b[38;5;66;03m###############################################################################\u001b[39;00m\n\u001b[1;32m     11\u001b[0m \u001b[38;5;66;03m# Graph laplacian\u001b[39;00m\n\u001b[1;32m     12\u001b[0m \u001b[38;5;28;01mdef\u001b[39;00m \u001b[38;5;21mlaplacian\u001b[39m(\n\u001b[1;32m     13\u001b[0m     csgraph,\n\u001b[1;32m     14\u001b[0m     normed\u001b[38;5;241m=\u001b[39m\u001b[38;5;28;01mFalse\u001b[39;00m,\n\u001b[0;32m   (...)\u001b[0m\n\u001b[1;32m     21\u001b[0m     symmetrized\u001b[38;5;241m=\u001b[39m\u001b[38;5;28;01mFalse\u001b[39;00m,\n\u001b[1;32m     22\u001b[0m ):\n",
            "File \u001b[0;32m~/anaconda3/lib/python3.11/site-packages/scipy/sparse/linalg/__init__.py:120\u001b[0m\n\u001b[1;32m      1\u001b[0m \u001b[38;5;124;03m\"\"\"\u001b[39;00m\n\u001b[1;32m      2\u001b[0m \u001b[38;5;124;03mSparse linear algebra (:mod:`scipy.sparse.linalg`)\u001b[39;00m\n\u001b[1;32m      3\u001b[0m \u001b[38;5;124;03m==================================================\u001b[39;00m\n\u001b[0;32m   (...)\u001b[0m\n\u001b[1;32m    117\u001b[0m \n\u001b[1;32m    118\u001b[0m \u001b[38;5;124;03m\"\"\"\u001b[39;00m\n\u001b[0;32m--> 120\u001b[0m \u001b[38;5;28;01mfrom\u001b[39;00m \u001b[38;5;21;01m.\u001b[39;00m\u001b[38;5;21;01m_isolve\u001b[39;00m \u001b[38;5;28;01mimport\u001b[39;00m \u001b[38;5;241m*\u001b[39m\n\u001b[1;32m    121\u001b[0m \u001b[38;5;28;01mfrom\u001b[39;00m \u001b[38;5;21;01m.\u001b[39;00m\u001b[38;5;21;01m_dsolve\u001b[39;00m \u001b[38;5;28;01mimport\u001b[39;00m \u001b[38;5;241m*\u001b[39m\n\u001b[1;32m    122\u001b[0m \u001b[38;5;28;01mfrom\u001b[39;00m \u001b[38;5;21;01m.\u001b[39;00m\u001b[38;5;21;01m_interface\u001b[39;00m \u001b[38;5;28;01mimport\u001b[39;00m \u001b[38;5;241m*\u001b[39m\n",
            "File \u001b[0;32m~/anaconda3/lib/python3.11/site-packages/scipy/sparse/linalg/_isolve/__init__.py:4\u001b[0m\n\u001b[1;32m      1\u001b[0m \u001b[38;5;124m\"\u001b[39m\u001b[38;5;124mIterative Solvers for Sparse Linear Systems\u001b[39m\u001b[38;5;124m\"\u001b[39m\n\u001b[1;32m      3\u001b[0m \u001b[38;5;66;03m#from info import __doc__\u001b[39;00m\n\u001b[0;32m----> 4\u001b[0m \u001b[38;5;28;01mfrom\u001b[39;00m \u001b[38;5;21;01m.\u001b[39;00m\u001b[38;5;21;01miterative\u001b[39;00m \u001b[38;5;28;01mimport\u001b[39;00m \u001b[38;5;241m*\u001b[39m\n\u001b[1;32m      5\u001b[0m \u001b[38;5;28;01mfrom\u001b[39;00m \u001b[38;5;21;01m.\u001b[39;00m\u001b[38;5;21;01mminres\u001b[39;00m \u001b[38;5;28;01mimport\u001b[39;00m minres\n\u001b[1;32m      6\u001b[0m \u001b[38;5;28;01mfrom\u001b[39;00m \u001b[38;5;21;01m.\u001b[39;00m\u001b[38;5;21;01mlgmres\u001b[39;00m \u001b[38;5;28;01mimport\u001b[39;00m lgmres\n",
            "File \u001b[0;32m~/anaconda3/lib/python3.11/site-packages/scipy/sparse/linalg/_isolve/iterative.py:9\u001b[0m\n\u001b[1;32m      6\u001b[0m \u001b[38;5;28;01mfrom\u001b[39;00m \u001b[38;5;21;01mtextwrap\u001b[39;00m \u001b[38;5;28;01mimport\u001b[39;00m dedent\n\u001b[1;32m      7\u001b[0m \u001b[38;5;28;01mimport\u001b[39;00m \u001b[38;5;21;01mnumpy\u001b[39;00m \u001b[38;5;28;01mas\u001b[39;00m \u001b[38;5;21;01mnp\u001b[39;00m\n\u001b[0;32m----> 9\u001b[0m \u001b[38;5;28;01mfrom\u001b[39;00m \u001b[38;5;21;01m.\u001b[39;00m \u001b[38;5;28;01mimport\u001b[39;00m _iterative\n\u001b[1;32m     11\u001b[0m \u001b[38;5;28;01mfrom\u001b[39;00m \u001b[38;5;21;01mscipy\u001b[39;00m\u001b[38;5;21;01m.\u001b[39;00m\u001b[38;5;21;01msparse\u001b[39;00m\u001b[38;5;21;01m.\u001b[39;00m\u001b[38;5;21;01mlinalg\u001b[39;00m\u001b[38;5;21;01m.\u001b[39;00m\u001b[38;5;21;01m_interface\u001b[39;00m \u001b[38;5;28;01mimport\u001b[39;00m LinearOperator\n\u001b[1;32m     12\u001b[0m \u001b[38;5;28;01mfrom\u001b[39;00m \u001b[38;5;21;01m.\u001b[39;00m\u001b[38;5;21;01mutils\u001b[39;00m \u001b[38;5;28;01mimport\u001b[39;00m make_system\n",
            "\u001b[0;31mImportError\u001b[0m: dlopen(/Users/sarahbouchet/anaconda3/lib/python3.11/site-packages/scipy/sparse/linalg/_isolve/_iterative.cpython-311-darwin.so, 0x0002): Library not loaded: @rpath/libopenblas.0.dylib\n  Referenced from: <68B373BB-0E19-38F4-8A21-488037FB5BFB> /Users/sarahbouchet/anaconda3/lib/python3.11/site-packages/scipy/sparse/linalg/_isolve/_iterative.cpython-311-darwin.so\n  Reason: tried: '/Users/sarahbouchet/anaconda3/lib/python3.11/site-packages/scipy/sparse/linalg/_isolve/../../../../../../libopenblas.0.dylib' (no such file), '/Users/sarahbouchet/anaconda3/lib/python3.11/site-packages/scipy/sparse/linalg/_isolve/../../../../../../libopenblas.0.dylib' (no such file), '/Users/sarahbouchet/anaconda3/bin/../lib/libopenblas.0.dylib' (no such file), '/Users/sarahbouchet/anaconda3/bin/../lib/libopenblas.0.dylib' (no such file), '/usr/local/lib/libopenblas.0.dylib' (no such file), '/usr/lib/libopenblas.0.dylib' (no such file, not in dyld cache)"
          ]
        }
      ],
      "source": [
        "# Some libraries to use later\n",
        "!pip install gensim\n",
        "!pip install scikit-learn matplotlib\n",
        "!pip install transformers torch\n",
        "!pip install datasets\n",
        "!pip install -U sentence-transformers\n",
        "!pip install -U accelerate\n",
        "!pip install hvplot\n",
        "!pip install datasets\n",
        "!pip install datasets\n",
        "\n",
        "\n",
        "# import datasets\n",
        "import numpy as np\n",
        "import pandas as pd\n",
        "from collections import Counter\n",
        "import matplotlib.pyplot as plt\n",
        "\n",
        "from sklearn.feature_extraction.text import TfidfVectorizer\n",
        "from sklearn.metrics.pairwise import cosine_similarity\n",
        "from sklearn.metrics import accuracy_score, precision_score, recall_score\n",
        "\n",
        "from sklearn.manifold import TSNE\n",
        "import gensim.downloader as api\n",
        "from nltk.tokenize import word_tokenize\n",
        "import nltk\n",
        "\n",
        "import torch\n",
        "from transformers import AutoTokenizer, AutoModel\n",
        "from datasets import Dataset\n",
        "from tqdm import tqdm\n",
        "from sentence_transformers import SentenceTransformer\n",
        "\n",
        "\n",
        "import pandas as pd\n",
        "import hvplot.pandas\n",
        "import panel as pn\n",
        "\n"
      ]
    },
    {
      "cell_type": "code",
      "execution_count": null,
      "metadata": {},
      "outputs": [
        {
          "name": "stdout",
          "output_type": "stream",
          "text": [
            "Collecting datasets\n",
            "  Obtaining dependency information for datasets from https://files.pythonhosted.org/packages/4c/37/22ef7675bef4ffe9577b937ddca2e22791534cbbe11c30714972a91532dc/datasets-3.3.2-py3-none-any.whl.metadata\n",
            "  Using cached datasets-3.3.2-py3-none-any.whl.metadata (19 kB)\n",
            "Requirement already satisfied: filelock in /Users/sarahbouchet/anaconda3/lib/python3.11/site-packages (from datasets) (3.9.0)\n",
            "Requirement already satisfied: numpy>=1.17 in /Users/sarahbouchet/anaconda3/lib/python3.11/site-packages (from datasets) (1.24.4)\n",
            "Collecting pyarrow>=15.0.0 (from datasets)\n",
            "  Using cached pyarrow-19.0.1.tar.gz (1.1 MB)\n",
            "  Installing build dependencies ... \u001b[?25ldone\n",
            "\u001b[?25h  Getting requirements to build wheel ... \u001b[?25ldone\n",
            "\u001b[?25h  Preparing metadata (pyproject.toml) ... \u001b[?25ldone\n",
            "\u001b[?25hRequirement already satisfied: dill<0.3.9,>=0.3.0 in /Users/sarahbouchet/anaconda3/lib/python3.11/site-packages (from datasets) (0.3.6)\n",
            "Requirement already satisfied: pandas in /Users/sarahbouchet/anaconda3/lib/python3.11/site-packages (from datasets) (1.5.3)\n",
            "Collecting requests>=2.32.2 (from datasets)\n",
            "  Obtaining dependency information for requests>=2.32.2 from https://files.pythonhosted.org/packages/f9/9b/335f9764261e915ed497fcdeb11df5dfd6f7bf257d4a6a2a686d80da4d54/requests-2.32.3-py3-none-any.whl.metadata\n",
            "  Using cached requests-2.32.3-py3-none-any.whl.metadata (4.6 kB)\n",
            "Collecting tqdm>=4.66.3 (from datasets)\n",
            "  Obtaining dependency information for tqdm>=4.66.3 from https://files.pythonhosted.org/packages/d0/30/dc54f88dd4a2b5dc8a0279bdd7270e735851848b762aeb1c1184ed1f6b14/tqdm-4.67.1-py3-none-any.whl.metadata\n",
            "  Using cached tqdm-4.67.1-py3-none-any.whl.metadata (57 kB)\n",
            "Collecting xxhash (from datasets)\n",
            "  Obtaining dependency information for xxhash from https://files.pythonhosted.org/packages/b8/c7/afed0f131fbda960ff15eee7f304fa0eeb2d58770fade99897984852ef23/xxhash-3.5.0-cp311-cp311-macosx_10_9_x86_64.whl.metadata\n",
            "  Using cached xxhash-3.5.0-cp311-cp311-macosx_10_9_x86_64.whl.metadata (12 kB)\n",
            "Collecting multiprocess<0.70.17 (from datasets)\n",
            "  Obtaining dependency information for multiprocess<0.70.17 from https://files.pythonhosted.org/packages/50/15/b56e50e8debaf439f44befec5b2af11db85f6e0f344c3113ae0be0593a91/multiprocess-0.70.16-py311-none-any.whl.metadata\n",
            "  Using cached multiprocess-0.70.16-py311-none-any.whl.metadata (7.2 kB)\n",
            "Collecting fsspec[http]<=2024.12.0,>=2023.1.0 (from datasets)\n",
            "  Obtaining dependency information for fsspec[http]<=2024.12.0,>=2023.1.0 from https://files.pythonhosted.org/packages/de/86/5486b0188d08aa643e127774a99bac51ffa6cf343e3deb0583956dca5b22/fsspec-2024.12.0-py3-none-any.whl.metadata\n",
            "  Using cached fsspec-2024.12.0-py3-none-any.whl.metadata (11 kB)\n",
            "Requirement already satisfied: aiohttp in /Users/sarahbouchet/anaconda3/lib/python3.11/site-packages (from datasets) (3.8.3)\n",
            "Requirement already satisfied: huggingface-hub>=0.24.0 in /Users/sarahbouchet/anaconda3/lib/python3.11/site-packages (from datasets) (0.29.1)\n",
            "Requirement already satisfied: packaging in /Users/sarahbouchet/anaconda3/lib/python3.11/site-packages (from datasets) (23.0)\n",
            "Requirement already satisfied: pyyaml>=5.1 in /Users/sarahbouchet/anaconda3/lib/python3.11/site-packages (from datasets) (6.0)\n",
            "Requirement already satisfied: attrs>=17.3.0 in /Users/sarahbouchet/anaconda3/lib/python3.11/site-packages (from aiohttp->datasets) (22.1.0)\n",
            "Requirement already satisfied: charset-normalizer<3.0,>=2.0 in /Users/sarahbouchet/anaconda3/lib/python3.11/site-packages (from aiohttp->datasets) (2.0.4)\n",
            "Requirement already satisfied: multidict<7.0,>=4.5 in /Users/sarahbouchet/anaconda3/lib/python3.11/site-packages (from aiohttp->datasets) (6.0.2)\n",
            "Requirement already satisfied: async-timeout<5.0,>=4.0.0a3 in /Users/sarahbouchet/anaconda3/lib/python3.11/site-packages (from aiohttp->datasets) (4.0.2)\n",
            "Requirement already satisfied: yarl<2.0,>=1.0 in /Users/sarahbouchet/anaconda3/lib/python3.11/site-packages (from aiohttp->datasets) (1.8.1)\n",
            "Requirement already satisfied: frozenlist>=1.1.1 in /Users/sarahbouchet/anaconda3/lib/python3.11/site-packages (from aiohttp->datasets) (1.3.3)\n",
            "Requirement already satisfied: aiosignal>=1.1.2 in /Users/sarahbouchet/anaconda3/lib/python3.11/site-packages (from aiohttp->datasets) (1.2.0)\n",
            "Requirement already satisfied: typing-extensions>=3.7.4.3 in /Users/sarahbouchet/anaconda3/lib/python3.11/site-packages (from huggingface-hub>=0.24.0->datasets) (4.12.2)\n",
            "Collecting dill<0.3.9,>=0.3.0 (from datasets)\n",
            "  Obtaining dependency information for dill<0.3.9,>=0.3.0 from https://files.pythonhosted.org/packages/c9/7a/cef76fd8438a42f96db64ddaa85280485a9c395e7df3db8158cfec1eee34/dill-0.3.8-py3-none-any.whl.metadata\n",
            "  Using cached dill-0.3.8-py3-none-any.whl.metadata (10 kB)\n",
            "Requirement already satisfied: idna<4,>=2.5 in /Users/sarahbouchet/anaconda3/lib/python3.11/site-packages (from requests>=2.32.2->datasets) (3.4)\n",
            "Requirement already satisfied: urllib3<3,>=1.21.1 in /Users/sarahbouchet/anaconda3/lib/python3.11/site-packages (from requests>=2.32.2->datasets) (1.26.16)\n",
            "Requirement already satisfied: certifi>=2017.4.17 in /Users/sarahbouchet/anaconda3/lib/python3.11/site-packages (from requests>=2.32.2->datasets) (2025.1.31)\n",
            "Requirement already satisfied: python-dateutil>=2.8.1 in /Users/sarahbouchet/anaconda3/lib/python3.11/site-packages (from pandas->datasets) (2.8.2)\n",
            "Requirement already satisfied: pytz>=2020.1 in /Users/sarahbouchet/anaconda3/lib/python3.11/site-packages (from pandas->datasets) (2022.7)\n",
            "Requirement already satisfied: six>=1.5 in /Users/sarahbouchet/anaconda3/lib/python3.11/site-packages (from python-dateutil>=2.8.1->pandas->datasets) (1.16.0)\n",
            "Using cached datasets-3.3.2-py3-none-any.whl (485 kB)\n",
            "Using cached multiprocess-0.70.16-py311-none-any.whl (143 kB)\n",
            "Using cached dill-0.3.8-py3-none-any.whl (116 kB)\n",
            "Using cached requests-2.32.3-py3-none-any.whl (64 kB)\n",
            "Using cached tqdm-4.67.1-py3-none-any.whl (78 kB)\n",
            "Using cached xxhash-3.5.0-cp311-cp311-macosx_10_9_x86_64.whl (31 kB)\n",
            "Using cached fsspec-2024.12.0-py3-none-any.whl (183 kB)\n",
            "Building wheels for collected packages: pyarrow\n",
            "  Building wheel for pyarrow (pyproject.toml) ... \u001b[?25lerror\n",
            "  \u001b[1;31merror\u001b[0m: \u001b[1msubprocess-exited-with-error\u001b[0m\n",
            "  \n",
            "  \u001b[31m×\u001b[0m \u001b[32mBuilding wheel for pyarrow \u001b[0m\u001b[1;32m(\u001b[0m\u001b[32mpyproject.toml\u001b[0m\u001b[1;32m)\u001b[0m did not run successfully.\n",
            "  \u001b[31m│\u001b[0m exit code: \u001b[1;36m1\u001b[0m\n",
            "  \u001b[31m╰─>\u001b[0m \u001b[31m[833 lines of output]\u001b[0m\n",
            "  \u001b[31m   \u001b[0m running bdist_wheel\n",
            "  \u001b[31m   \u001b[0m running build\n",
            "  \u001b[31m   \u001b[0m running build_py\n",
            "  \u001b[31m   \u001b[0m creating build/lib.macosx-10.9-x86_64-cpython-311/pyarrow\n",
            "  \u001b[31m   \u001b[0m copying pyarrow/orc.py -> build/lib.macosx-10.9-x86_64-cpython-311/pyarrow\n",
            "  \u001b[31m   \u001b[0m copying pyarrow/conftest.py -> build/lib.macosx-10.9-x86_64-cpython-311/pyarrow\n",
            "  \u001b[31m   \u001b[0m copying pyarrow/_generated_version.py -> build/lib.macosx-10.9-x86_64-cpython-311/pyarrow\n",
            "  \u001b[31m   \u001b[0m copying pyarrow/benchmark.py -> build/lib.macosx-10.9-x86_64-cpython-311/pyarrow\n",
            "  \u001b[31m   \u001b[0m copying pyarrow/_compute_docstrings.py -> build/lib.macosx-10.9-x86_64-cpython-311/pyarrow\n",
            "  \u001b[31m   \u001b[0m copying pyarrow/ipc.py -> build/lib.macosx-10.9-x86_64-cpython-311/pyarrow\n",
            "  \u001b[31m   \u001b[0m copying pyarrow/util.py -> build/lib.macosx-10.9-x86_64-cpython-311/pyarrow\n",
            "  \u001b[31m   \u001b[0m copying pyarrow/flight.py -> build/lib.macosx-10.9-x86_64-cpython-311/pyarrow\n",
            "  \u001b[31m   \u001b[0m copying pyarrow/cffi.py -> build/lib.macosx-10.9-x86_64-cpython-311/pyarrow\n",
            "  \u001b[31m   \u001b[0m copying pyarrow/substrait.py -> build/lib.macosx-10.9-x86_64-cpython-311/pyarrow\n",
            "  \u001b[31m   \u001b[0m copying pyarrow/__init__.py -> build/lib.macosx-10.9-x86_64-cpython-311/pyarrow\n",
            "  \u001b[31m   \u001b[0m copying pyarrow/types.py -> build/lib.macosx-10.9-x86_64-cpython-311/pyarrow\n",
            "  \u001b[31m   \u001b[0m copying pyarrow/dataset.py -> build/lib.macosx-10.9-x86_64-cpython-311/pyarrow\n",
            "  \u001b[31m   \u001b[0m copying pyarrow/cuda.py -> build/lib.macosx-10.9-x86_64-cpython-311/pyarrow\n",
            "  \u001b[31m   \u001b[0m copying pyarrow/feather.py -> build/lib.macosx-10.9-x86_64-cpython-311/pyarrow\n",
            "  \u001b[31m   \u001b[0m copying pyarrow/pandas_compat.py -> build/lib.macosx-10.9-x86_64-cpython-311/pyarrow\n",
            "  \u001b[31m   \u001b[0m copying pyarrow/fs.py -> build/lib.macosx-10.9-x86_64-cpython-311/pyarrow\n",
            "  \u001b[31m   \u001b[0m copying pyarrow/acero.py -> build/lib.macosx-10.9-x86_64-cpython-311/pyarrow\n",
            "  \u001b[31m   \u001b[0m copying pyarrow/csv.py -> build/lib.macosx-10.9-x86_64-cpython-311/pyarrow\n",
            "  \u001b[31m   \u001b[0m copying pyarrow/jvm.py -> build/lib.macosx-10.9-x86_64-cpython-311/pyarrow\n",
            "  \u001b[31m   \u001b[0m copying pyarrow/json.py -> build/lib.macosx-10.9-x86_64-cpython-311/pyarrow\n",
            "  \u001b[31m   \u001b[0m copying pyarrow/compute.py -> build/lib.macosx-10.9-x86_64-cpython-311/pyarrow\n",
            "  \u001b[31m   \u001b[0m running egg_info\n",
            "  \u001b[31m   \u001b[0m writing pyarrow.egg-info/PKG-INFO\n",
            "  \u001b[31m   \u001b[0m writing dependency_links to pyarrow.egg-info/dependency_links.txt\n",
            "  \u001b[31m   \u001b[0m writing requirements to pyarrow.egg-info/requires.txt\n",
            "  \u001b[31m   \u001b[0m writing top-level names to pyarrow.egg-info/top_level.txt\n",
            "  \u001b[31m   \u001b[0m ERROR setuptools_scm._file_finders.git listing git files failed - pretending there aren't any\n",
            "  \u001b[31m   \u001b[0m reading manifest file 'pyarrow.egg-info/SOURCES.txt'\n",
            "  \u001b[31m   \u001b[0m reading manifest template 'MANIFEST.in'\n",
            "  \u001b[31m   \u001b[0m warning: no files found matching '../LICENSE.txt'\n",
            "  \u001b[31m   \u001b[0m warning: no files found matching '../NOTICE.txt'\n",
            "  \u001b[31m   \u001b[0m warning: no previously-included files matching '*.so' found anywhere in distribution\n",
            "  \u001b[31m   \u001b[0m warning: no previously-included files matching '*.pyc' found anywhere in distribution\n",
            "  \u001b[31m   \u001b[0m warning: no previously-included files matching '*~' found anywhere in distribution\n",
            "  \u001b[31m   \u001b[0m warning: no previously-included files matching '#*' found anywhere in distribution\n",
            "  \u001b[31m   \u001b[0m warning: no previously-included files matching '.git*' found anywhere in distribution\n",
            "  \u001b[31m   \u001b[0m warning: no previously-included files matching '.DS_Store' found anywhere in distribution\n",
            "  \u001b[31m   \u001b[0m no previously-included directories found matching '.asv'\n",
            "  \u001b[31m   \u001b[0m writing manifest file 'pyarrow.egg-info/SOURCES.txt'\n",
            "  \u001b[31m   \u001b[0m /private/var/folders/00/6_k5gtjs44j43gmr99ht1d980000gn/T/pip-build-env-oefvu04r/overlay/lib/python3.11/site-packages/setuptools/command/build_py.py:212: _Warning: Package 'pyarrow.includes' is absent from the `packages` configuration.\n",
            "  \u001b[31m   \u001b[0m !!\n",
            "  \u001b[31m   \u001b[0m \n",
            "  \u001b[31m   \u001b[0m         ********************************************************************************\n",
            "  \u001b[31m   \u001b[0m         ############################\n",
            "  \u001b[31m   \u001b[0m         # Package would be ignored #\n",
            "  \u001b[31m   \u001b[0m         ############################\n",
            "  \u001b[31m   \u001b[0m         Python recognizes 'pyarrow.includes' as an importable package[^1],\n",
            "  \u001b[31m   \u001b[0m         but it is absent from setuptools' `packages` configuration.\n",
            "  \u001b[31m   \u001b[0m \n",
            "  \u001b[31m   \u001b[0m         This leads to an ambiguous overall configuration. If you want to distribute this\n",
            "  \u001b[31m   \u001b[0m         package, please make sure that 'pyarrow.includes' is explicitly added\n",
            "  \u001b[31m   \u001b[0m         to the `packages` configuration field.\n",
            "  \u001b[31m   \u001b[0m \n",
            "  \u001b[31m   \u001b[0m         Alternatively, you can also rely on setuptools' discovery methods\n",
            "  \u001b[31m   \u001b[0m         (for example by using `find_namespace_packages(...)`/`find_namespace:`\n",
            "  \u001b[31m   \u001b[0m         instead of `find_packages(...)`/`find:`).\n",
            "  \u001b[31m   \u001b[0m \n",
            "  \u001b[31m   \u001b[0m         You can read more about \"package discovery\" on setuptools documentation page:\n",
            "  \u001b[31m   \u001b[0m \n",
            "  \u001b[31m   \u001b[0m         - https://setuptools.pypa.io/en/latest/userguide/package_discovery.html\n",
            "  \u001b[31m   \u001b[0m \n",
            "  \u001b[31m   \u001b[0m         If you don't want 'pyarrow.includes' to be distributed and are\n",
            "  \u001b[31m   \u001b[0m         already explicitly excluding 'pyarrow.includes' via\n",
            "  \u001b[31m   \u001b[0m         `find_namespace_packages(...)/find_namespace` or `find_packages(...)/find`,\n",
            "  \u001b[31m   \u001b[0m         you can try to use `exclude_package_data`, or `include-package-data=False` in\n",
            "  \u001b[31m   \u001b[0m         combination with a more fine grained `package-data` configuration.\n",
            "  \u001b[31m   \u001b[0m \n",
            "  \u001b[31m   \u001b[0m         You can read more about \"package data files\" on setuptools documentation page:\n",
            "  \u001b[31m   \u001b[0m \n",
            "  \u001b[31m   \u001b[0m         - https://setuptools.pypa.io/en/latest/userguide/datafiles.html\n",
            "  \u001b[31m   \u001b[0m \n",
            "  \u001b[31m   \u001b[0m \n",
            "  \u001b[31m   \u001b[0m         [^1]: For Python, any directory (with suitable naming) can be imported,\n",
            "  \u001b[31m   \u001b[0m               even if it does not contain any `.py` files.\n",
            "  \u001b[31m   \u001b[0m               On the other hand, currently there is no concept of package data\n",
            "  \u001b[31m   \u001b[0m               directory, all directories are treated like packages.\n",
            "  \u001b[31m   \u001b[0m         ********************************************************************************\n",
            "  \u001b[31m   \u001b[0m \n",
            "  \u001b[31m   \u001b[0m !!\n",
            "  \u001b[31m   \u001b[0m   check.warn(importable)\n",
            "  \u001b[31m   \u001b[0m /private/var/folders/00/6_k5gtjs44j43gmr99ht1d980000gn/T/pip-build-env-oefvu04r/overlay/lib/python3.11/site-packages/setuptools/command/build_py.py:212: _Warning: Package 'pyarrow.interchange' is absent from the `packages` configuration.\n",
            "  \u001b[31m   \u001b[0m !!\n",
            "  \u001b[31m   \u001b[0m \n",
            "  \u001b[31m   \u001b[0m         ********************************************************************************\n",
            "  \u001b[31m   \u001b[0m         ############################\n",
            "  \u001b[31m   \u001b[0m         # Package would be ignored #\n",
            "  \u001b[31m   \u001b[0m         ############################\n",
            "  \u001b[31m   \u001b[0m         Python recognizes 'pyarrow.interchange' as an importable package[^1],\n",
            "  \u001b[31m   \u001b[0m         but it is absent from setuptools' `packages` configuration.\n",
            "  \u001b[31m   \u001b[0m \n",
            "  \u001b[31m   \u001b[0m         This leads to an ambiguous overall configuration. If you want to distribute this\n",
            "  \u001b[31m   \u001b[0m         package, please make sure that 'pyarrow.interchange' is explicitly added\n",
            "  \u001b[31m   \u001b[0m         to the `packages` configuration field.\n",
            "  \u001b[31m   \u001b[0m \n",
            "  \u001b[31m   \u001b[0m         Alternatively, you can also rely on setuptools' discovery methods\n",
            "  \u001b[31m   \u001b[0m         (for example by using `find_namespace_packages(...)`/`find_namespace:`\n",
            "  \u001b[31m   \u001b[0m         instead of `find_packages(...)`/`find:`).\n",
            "  \u001b[31m   \u001b[0m \n",
            "  \u001b[31m   \u001b[0m         You can read more about \"package discovery\" on setuptools documentation page:\n",
            "  \u001b[31m   \u001b[0m \n",
            "  \u001b[31m   \u001b[0m         - https://setuptools.pypa.io/en/latest/userguide/package_discovery.html\n",
            "  \u001b[31m   \u001b[0m \n",
            "  \u001b[31m   \u001b[0m         If you don't want 'pyarrow.interchange' to be distributed and are\n",
            "  \u001b[31m   \u001b[0m         already explicitly excluding 'pyarrow.interchange' via\n",
            "  \u001b[31m   \u001b[0m         `find_namespace_packages(...)/find_namespace` or `find_packages(...)/find`,\n",
            "  \u001b[31m   \u001b[0m         you can try to use `exclude_package_data`, or `include-package-data=False` in\n",
            "  \u001b[31m   \u001b[0m         combination with a more fine grained `package-data` configuration.\n",
            "  \u001b[31m   \u001b[0m \n",
            "  \u001b[31m   \u001b[0m         You can read more about \"package data files\" on setuptools documentation page:\n",
            "  \u001b[31m   \u001b[0m \n",
            "  \u001b[31m   \u001b[0m         - https://setuptools.pypa.io/en/latest/userguide/datafiles.html\n",
            "  \u001b[31m   \u001b[0m \n",
            "  \u001b[31m   \u001b[0m \n",
            "  \u001b[31m   \u001b[0m         [^1]: For Python, any directory (with suitable naming) can be imported,\n",
            "  \u001b[31m   \u001b[0m               even if it does not contain any `.py` files.\n",
            "  \u001b[31m   \u001b[0m               On the other hand, currently there is no concept of package data\n",
            "  \u001b[31m   \u001b[0m               directory, all directories are treated like packages.\n",
            "  \u001b[31m   \u001b[0m         ********************************************************************************\n",
            "  \u001b[31m   \u001b[0m \n",
            "  \u001b[31m   \u001b[0m !!\n",
            "  \u001b[31m   \u001b[0m   check.warn(importable)\n",
            "  \u001b[31m   \u001b[0m /private/var/folders/00/6_k5gtjs44j43gmr99ht1d980000gn/T/pip-build-env-oefvu04r/overlay/lib/python3.11/site-packages/setuptools/command/build_py.py:212: _Warning: Package 'pyarrow.parquet' is absent from the `packages` configuration.\n",
            "  \u001b[31m   \u001b[0m !!\n",
            "  \u001b[31m   \u001b[0m \n",
            "  \u001b[31m   \u001b[0m         ********************************************************************************\n",
            "  \u001b[31m   \u001b[0m         ############################\n",
            "  \u001b[31m   \u001b[0m         # Package would be ignored #\n",
            "  \u001b[31m   \u001b[0m         ############################\n",
            "  \u001b[31m   \u001b[0m         Python recognizes 'pyarrow.parquet' as an importable package[^1],\n",
            "  \u001b[31m   \u001b[0m         but it is absent from setuptools' `packages` configuration.\n",
            "  \u001b[31m   \u001b[0m \n",
            "  \u001b[31m   \u001b[0m         This leads to an ambiguous overall configuration. If you want to distribute this\n",
            "  \u001b[31m   \u001b[0m         package, please make sure that 'pyarrow.parquet' is explicitly added\n",
            "  \u001b[31m   \u001b[0m         to the `packages` configuration field.\n",
            "  \u001b[31m   \u001b[0m \n",
            "  \u001b[31m   \u001b[0m         Alternatively, you can also rely on setuptools' discovery methods\n",
            "  \u001b[31m   \u001b[0m         (for example by using `find_namespace_packages(...)`/`find_namespace:`\n",
            "  \u001b[31m   \u001b[0m         instead of `find_packages(...)`/`find:`).\n",
            "  \u001b[31m   \u001b[0m \n",
            "  \u001b[31m   \u001b[0m         You can read more about \"package discovery\" on setuptools documentation page:\n",
            "  \u001b[31m   \u001b[0m \n",
            "  \u001b[31m   \u001b[0m         - https://setuptools.pypa.io/en/latest/userguide/package_discovery.html\n",
            "  \u001b[31m   \u001b[0m \n",
            "  \u001b[31m   \u001b[0m         If you don't want 'pyarrow.parquet' to be distributed and are\n",
            "  \u001b[31m   \u001b[0m         already explicitly excluding 'pyarrow.parquet' via\n",
            "  \u001b[31m   \u001b[0m         `find_namespace_packages(...)/find_namespace` or `find_packages(...)/find`,\n",
            "  \u001b[31m   \u001b[0m         you can try to use `exclude_package_data`, or `include-package-data=False` in\n",
            "  \u001b[31m   \u001b[0m         combination with a more fine grained `package-data` configuration.\n",
            "  \u001b[31m   \u001b[0m \n",
            "  \u001b[31m   \u001b[0m         You can read more about \"package data files\" on setuptools documentation page:\n",
            "  \u001b[31m   \u001b[0m \n",
            "  \u001b[31m   \u001b[0m         - https://setuptools.pypa.io/en/latest/userguide/datafiles.html\n",
            "  \u001b[31m   \u001b[0m \n",
            "  \u001b[31m   \u001b[0m \n",
            "  \u001b[31m   \u001b[0m         [^1]: For Python, any directory (with suitable naming) can be imported,\n",
            "  \u001b[31m   \u001b[0m               even if it does not contain any `.py` files.\n",
            "  \u001b[31m   \u001b[0m               On the other hand, currently there is no concept of package data\n",
            "  \u001b[31m   \u001b[0m               directory, all directories are treated like packages.\n",
            "  \u001b[31m   \u001b[0m         ********************************************************************************\n",
            "  \u001b[31m   \u001b[0m \n",
            "  \u001b[31m   \u001b[0m !!\n",
            "  \u001b[31m   \u001b[0m   check.warn(importable)\n",
            "  \u001b[31m   \u001b[0m /private/var/folders/00/6_k5gtjs44j43gmr99ht1d980000gn/T/pip-build-env-oefvu04r/overlay/lib/python3.11/site-packages/setuptools/command/build_py.py:212: _Warning: Package 'pyarrow.src.arrow.python' is absent from the `packages` configuration.\n",
            "  \u001b[31m   \u001b[0m !!\n",
            "  \u001b[31m   \u001b[0m \n",
            "  \u001b[31m   \u001b[0m         ********************************************************************************\n",
            "  \u001b[31m   \u001b[0m         ############################\n",
            "  \u001b[31m   \u001b[0m         # Package would be ignored #\n",
            "  \u001b[31m   \u001b[0m         ############################\n",
            "  \u001b[31m   \u001b[0m         Python recognizes 'pyarrow.src.arrow.python' as an importable package[^1],\n",
            "  \u001b[31m   \u001b[0m         but it is absent from setuptools' `packages` configuration.\n",
            "  \u001b[31m   \u001b[0m \n",
            "  \u001b[31m   \u001b[0m         This leads to an ambiguous overall configuration. If you want to distribute this\n",
            "  \u001b[31m   \u001b[0m         package, please make sure that 'pyarrow.src.arrow.python' is explicitly added\n",
            "  \u001b[31m   \u001b[0m         to the `packages` configuration field.\n",
            "  \u001b[31m   \u001b[0m \n",
            "  \u001b[31m   \u001b[0m         Alternatively, you can also rely on setuptools' discovery methods\n",
            "  \u001b[31m   \u001b[0m         (for example by using `find_namespace_packages(...)`/`find_namespace:`\n",
            "  \u001b[31m   \u001b[0m         instead of `find_packages(...)`/`find:`).\n",
            "  \u001b[31m   \u001b[0m \n",
            "  \u001b[31m   \u001b[0m         You can read more about \"package discovery\" on setuptools documentation page:\n",
            "  \u001b[31m   \u001b[0m \n",
            "  \u001b[31m   \u001b[0m         - https://setuptools.pypa.io/en/latest/userguide/package_discovery.html\n",
            "  \u001b[31m   \u001b[0m \n",
            "  \u001b[31m   \u001b[0m         If you don't want 'pyarrow.src.arrow.python' to be distributed and are\n",
            "  \u001b[31m   \u001b[0m         already explicitly excluding 'pyarrow.src.arrow.python' via\n",
            "  \u001b[31m   \u001b[0m         `find_namespace_packages(...)/find_namespace` or `find_packages(...)/find`,\n",
            "  \u001b[31m   \u001b[0m         you can try to use `exclude_package_data`, or `include-package-data=False` in\n",
            "  \u001b[31m   \u001b[0m         combination with a more fine grained `package-data` configuration.\n",
            "  \u001b[31m   \u001b[0m \n",
            "  \u001b[31m   \u001b[0m         You can read more about \"package data files\" on setuptools documentation page:\n",
            "  \u001b[31m   \u001b[0m \n",
            "  \u001b[31m   \u001b[0m         - https://setuptools.pypa.io/en/latest/userguide/datafiles.html\n",
            "  \u001b[31m   \u001b[0m \n",
            "  \u001b[31m   \u001b[0m \n",
            "  \u001b[31m   \u001b[0m         [^1]: For Python, any directory (with suitable naming) can be imported,\n",
            "  \u001b[31m   \u001b[0m               even if it does not contain any `.py` files.\n",
            "  \u001b[31m   \u001b[0m               On the other hand, currently there is no concept of package data\n",
            "  \u001b[31m   \u001b[0m               directory, all directories are treated like packages.\n",
            "  \u001b[31m   \u001b[0m         ********************************************************************************\n",
            "  \u001b[31m   \u001b[0m \n",
            "  \u001b[31m   \u001b[0m !!\n",
            "  \u001b[31m   \u001b[0m   check.warn(importable)\n",
            "  \u001b[31m   \u001b[0m /private/var/folders/00/6_k5gtjs44j43gmr99ht1d980000gn/T/pip-build-env-oefvu04r/overlay/lib/python3.11/site-packages/setuptools/command/build_py.py:212: _Warning: Package 'pyarrow.src.arrow.python.vendored' is absent from the `packages` configuration.\n",
            "  \u001b[31m   \u001b[0m !!\n",
            "  \u001b[31m   \u001b[0m \n",
            "  \u001b[31m   \u001b[0m         ********************************************************************************\n",
            "  \u001b[31m   \u001b[0m         ############################\n",
            "  \u001b[31m   \u001b[0m         # Package would be ignored #\n",
            "  \u001b[31m   \u001b[0m         ############################\n",
            "  \u001b[31m   \u001b[0m         Python recognizes 'pyarrow.src.arrow.python.vendored' as an importable package[^1],\n",
            "  \u001b[31m   \u001b[0m         but it is absent from setuptools' `packages` configuration.\n",
            "  \u001b[31m   \u001b[0m \n",
            "  \u001b[31m   \u001b[0m         This leads to an ambiguous overall configuration. If you want to distribute this\n",
            "  \u001b[31m   \u001b[0m         package, please make sure that 'pyarrow.src.arrow.python.vendored' is explicitly added\n",
            "  \u001b[31m   \u001b[0m         to the `packages` configuration field.\n",
            "  \u001b[31m   \u001b[0m \n",
            "  \u001b[31m   \u001b[0m         Alternatively, you can also rely on setuptools' discovery methods\n",
            "  \u001b[31m   \u001b[0m         (for example by using `find_namespace_packages(...)`/`find_namespace:`\n",
            "  \u001b[31m   \u001b[0m         instead of `find_packages(...)`/`find:`).\n",
            "  \u001b[31m   \u001b[0m \n",
            "  \u001b[31m   \u001b[0m         You can read more about \"package discovery\" on setuptools documentation page:\n",
            "  \u001b[31m   \u001b[0m \n",
            "  \u001b[31m   \u001b[0m         - https://setuptools.pypa.io/en/latest/userguide/package_discovery.html\n",
            "  \u001b[31m   \u001b[0m \n",
            "  \u001b[31m   \u001b[0m         If you don't want 'pyarrow.src.arrow.python.vendored' to be distributed and are\n",
            "  \u001b[31m   \u001b[0m         already explicitly excluding 'pyarrow.src.arrow.python.vendored' via\n",
            "  \u001b[31m   \u001b[0m         `find_namespace_packages(...)/find_namespace` or `find_packages(...)/find`,\n",
            "  \u001b[31m   \u001b[0m         you can try to use `exclude_package_data`, or `include-package-data=False` in\n",
            "  \u001b[31m   \u001b[0m         combination with a more fine grained `package-data` configuration.\n",
            "  \u001b[31m   \u001b[0m \n",
            "  \u001b[31m   \u001b[0m         You can read more about \"package data files\" on setuptools documentation page:\n",
            "  \u001b[31m   \u001b[0m \n",
            "  \u001b[31m   \u001b[0m         - https://setuptools.pypa.io/en/latest/userguide/datafiles.html\n",
            "  \u001b[31m   \u001b[0m \n",
            "  \u001b[31m   \u001b[0m \n",
            "  \u001b[31m   \u001b[0m         [^1]: For Python, any directory (with suitable naming) can be imported,\n",
            "  \u001b[31m   \u001b[0m               even if it does not contain any `.py` files.\n",
            "  \u001b[31m   \u001b[0m               On the other hand, currently there is no concept of package data\n",
            "  \u001b[31m   \u001b[0m               directory, all directories are treated like packages.\n",
            "  \u001b[31m   \u001b[0m         ********************************************************************************\n",
            "  \u001b[31m   \u001b[0m \n",
            "  \u001b[31m   \u001b[0m !!\n",
            "  \u001b[31m   \u001b[0m   check.warn(importable)\n",
            "  \u001b[31m   \u001b[0m /private/var/folders/00/6_k5gtjs44j43gmr99ht1d980000gn/T/pip-build-env-oefvu04r/overlay/lib/python3.11/site-packages/setuptools/command/build_py.py:212: _Warning: Package 'pyarrow.tests' is absent from the `packages` configuration.\n",
            "  \u001b[31m   \u001b[0m !!\n",
            "  \u001b[31m   \u001b[0m \n",
            "  \u001b[31m   \u001b[0m         ********************************************************************************\n",
            "  \u001b[31m   \u001b[0m         ############################\n",
            "  \u001b[31m   \u001b[0m         # Package would be ignored #\n",
            "  \u001b[31m   \u001b[0m         ############################\n",
            "  \u001b[31m   \u001b[0m         Python recognizes 'pyarrow.tests' as an importable package[^1],\n",
            "  \u001b[31m   \u001b[0m         but it is absent from setuptools' `packages` configuration.\n",
            "  \u001b[31m   \u001b[0m \n",
            "  \u001b[31m   \u001b[0m         This leads to an ambiguous overall configuration. If you want to distribute this\n",
            "  \u001b[31m   \u001b[0m         package, please make sure that 'pyarrow.tests' is explicitly added\n",
            "  \u001b[31m   \u001b[0m         to the `packages` configuration field.\n",
            "  \u001b[31m   \u001b[0m \n",
            "  \u001b[31m   \u001b[0m         Alternatively, you can also rely on setuptools' discovery methods\n",
            "  \u001b[31m   \u001b[0m         (for example by using `find_namespace_packages(...)`/`find_namespace:`\n",
            "  \u001b[31m   \u001b[0m         instead of `find_packages(...)`/`find:`).\n",
            "  \u001b[31m   \u001b[0m \n",
            "  \u001b[31m   \u001b[0m         You can read more about \"package discovery\" on setuptools documentation page:\n",
            "  \u001b[31m   \u001b[0m \n",
            "  \u001b[31m   \u001b[0m         - https://setuptools.pypa.io/en/latest/userguide/package_discovery.html\n",
            "  \u001b[31m   \u001b[0m \n",
            "  \u001b[31m   \u001b[0m         If you don't want 'pyarrow.tests' to be distributed and are\n",
            "  \u001b[31m   \u001b[0m         already explicitly excluding 'pyarrow.tests' via\n",
            "  \u001b[31m   \u001b[0m         `find_namespace_packages(...)/find_namespace` or `find_packages(...)/find`,\n",
            "  \u001b[31m   \u001b[0m         you can try to use `exclude_package_data`, or `include-package-data=False` in\n",
            "  \u001b[31m   \u001b[0m         combination with a more fine grained `package-data` configuration.\n",
            "  \u001b[31m   \u001b[0m \n",
            "  \u001b[31m   \u001b[0m         You can read more about \"package data files\" on setuptools documentation page:\n",
            "  \u001b[31m   \u001b[0m \n",
            "  \u001b[31m   \u001b[0m         - https://setuptools.pypa.io/en/latest/userguide/datafiles.html\n",
            "  \u001b[31m   \u001b[0m \n",
            "  \u001b[31m   \u001b[0m \n",
            "  \u001b[31m   \u001b[0m         [^1]: For Python, any directory (with suitable naming) can be imported,\n",
            "  \u001b[31m   \u001b[0m               even if it does not contain any `.py` files.\n",
            "  \u001b[31m   \u001b[0m               On the other hand, currently there is no concept of package data\n",
            "  \u001b[31m   \u001b[0m               directory, all directories are treated like packages.\n",
            "  \u001b[31m   \u001b[0m         ********************************************************************************\n",
            "  \u001b[31m   \u001b[0m \n",
            "  \u001b[31m   \u001b[0m !!\n",
            "  \u001b[31m   \u001b[0m   check.warn(importable)\n",
            "  \u001b[31m   \u001b[0m /private/var/folders/00/6_k5gtjs44j43gmr99ht1d980000gn/T/pip-build-env-oefvu04r/overlay/lib/python3.11/site-packages/setuptools/command/build_py.py:212: _Warning: Package 'pyarrow.tests.data.feather' is absent from the `packages` configuration.\n",
            "  \u001b[31m   \u001b[0m !!\n",
            "  \u001b[31m   \u001b[0m \n",
            "  \u001b[31m   \u001b[0m         ********************************************************************************\n",
            "  \u001b[31m   \u001b[0m         ############################\n",
            "  \u001b[31m   \u001b[0m         # Package would be ignored #\n",
            "  \u001b[31m   \u001b[0m         ############################\n",
            "  \u001b[31m   \u001b[0m         Python recognizes 'pyarrow.tests.data.feather' as an importable package[^1],\n",
            "  \u001b[31m   \u001b[0m         but it is absent from setuptools' `packages` configuration.\n",
            "  \u001b[31m   \u001b[0m \n",
            "  \u001b[31m   \u001b[0m         This leads to an ambiguous overall configuration. If you want to distribute this\n",
            "  \u001b[31m   \u001b[0m         package, please make sure that 'pyarrow.tests.data.feather' is explicitly added\n",
            "  \u001b[31m   \u001b[0m         to the `packages` configuration field.\n",
            "  \u001b[31m   \u001b[0m \n",
            "  \u001b[31m   \u001b[0m         Alternatively, you can also rely on setuptools' discovery methods\n",
            "  \u001b[31m   \u001b[0m         (for example by using `find_namespace_packages(...)`/`find_namespace:`\n",
            "  \u001b[31m   \u001b[0m         instead of `find_packages(...)`/`find:`).\n",
            "  \u001b[31m   \u001b[0m \n",
            "  \u001b[31m   \u001b[0m         You can read more about \"package discovery\" on setuptools documentation page:\n",
            "  \u001b[31m   \u001b[0m \n",
            "  \u001b[31m   \u001b[0m         - https://setuptools.pypa.io/en/latest/userguide/package_discovery.html\n",
            "  \u001b[31m   \u001b[0m \n",
            "  \u001b[31m   \u001b[0m         If you don't want 'pyarrow.tests.data.feather' to be distributed and are\n",
            "  \u001b[31m   \u001b[0m         already explicitly excluding 'pyarrow.tests.data.feather' via\n",
            "  \u001b[31m   \u001b[0m         `find_namespace_packages(...)/find_namespace` or `find_packages(...)/find`,\n",
            "  \u001b[31m   \u001b[0m         you can try to use `exclude_package_data`, or `include-package-data=False` in\n",
            "  \u001b[31m   \u001b[0m         combination with a more fine grained `package-data` configuration.\n",
            "  \u001b[31m   \u001b[0m \n",
            "  \u001b[31m   \u001b[0m         You can read more about \"package data files\" on setuptools documentation page:\n",
            "  \u001b[31m   \u001b[0m \n",
            "  \u001b[31m   \u001b[0m         - https://setuptools.pypa.io/en/latest/userguide/datafiles.html\n",
            "  \u001b[31m   \u001b[0m \n",
            "  \u001b[31m   \u001b[0m \n",
            "  \u001b[31m   \u001b[0m         [^1]: For Python, any directory (with suitable naming) can be imported,\n",
            "  \u001b[31m   \u001b[0m               even if it does not contain any `.py` files.\n",
            "  \u001b[31m   \u001b[0m               On the other hand, currently there is no concept of package data\n",
            "  \u001b[31m   \u001b[0m               directory, all directories are treated like packages.\n",
            "  \u001b[31m   \u001b[0m         ********************************************************************************\n",
            "  \u001b[31m   \u001b[0m \n",
            "  \u001b[31m   \u001b[0m !!\n",
            "  \u001b[31m   \u001b[0m   check.warn(importable)\n",
            "  \u001b[31m   \u001b[0m /private/var/folders/00/6_k5gtjs44j43gmr99ht1d980000gn/T/pip-build-env-oefvu04r/overlay/lib/python3.11/site-packages/setuptools/command/build_py.py:212: _Warning: Package 'pyarrow.tests.data.orc' is absent from the `packages` configuration.\n",
            "  \u001b[31m   \u001b[0m !!\n",
            "  \u001b[31m   \u001b[0m \n",
            "  \u001b[31m   \u001b[0m         ********************************************************************************\n",
            "  \u001b[31m   \u001b[0m         ############################\n",
            "  \u001b[31m   \u001b[0m         # Package would be ignored #\n",
            "  \u001b[31m   \u001b[0m         ############################\n",
            "  \u001b[31m   \u001b[0m         Python recognizes 'pyarrow.tests.data.orc' as an importable package[^1],\n",
            "  \u001b[31m   \u001b[0m         but it is absent from setuptools' `packages` configuration.\n",
            "  \u001b[31m   \u001b[0m \n",
            "  \u001b[31m   \u001b[0m         This leads to an ambiguous overall configuration. If you want to distribute this\n",
            "  \u001b[31m   \u001b[0m         package, please make sure that 'pyarrow.tests.data.orc' is explicitly added\n",
            "  \u001b[31m   \u001b[0m         to the `packages` configuration field.\n",
            "  \u001b[31m   \u001b[0m \n",
            "  \u001b[31m   \u001b[0m         Alternatively, you can also rely on setuptools' discovery methods\n",
            "  \u001b[31m   \u001b[0m         (for example by using `find_namespace_packages(...)`/`find_namespace:`\n",
            "  \u001b[31m   \u001b[0m         instead of `find_packages(...)`/`find:`).\n",
            "  \u001b[31m   \u001b[0m \n",
            "  \u001b[31m   \u001b[0m         You can read more about \"package discovery\" on setuptools documentation page:\n",
            "  \u001b[31m   \u001b[0m \n",
            "  \u001b[31m   \u001b[0m         - https://setuptools.pypa.io/en/latest/userguide/package_discovery.html\n",
            "  \u001b[31m   \u001b[0m \n",
            "  \u001b[31m   \u001b[0m         If you don't want 'pyarrow.tests.data.orc' to be distributed and are\n",
            "  \u001b[31m   \u001b[0m         already explicitly excluding 'pyarrow.tests.data.orc' via\n",
            "  \u001b[31m   \u001b[0m         `find_namespace_packages(...)/find_namespace` or `find_packages(...)/find`,\n",
            "  \u001b[31m   \u001b[0m         you can try to use `exclude_package_data`, or `include-package-data=False` in\n",
            "  \u001b[31m   \u001b[0m         combination with a more fine grained `package-data` configuration.\n",
            "  \u001b[31m   \u001b[0m \n",
            "  \u001b[31m   \u001b[0m         You can read more about \"package data files\" on setuptools documentation page:\n",
            "  \u001b[31m   \u001b[0m \n",
            "  \u001b[31m   \u001b[0m         - https://setuptools.pypa.io/en/latest/userguide/datafiles.html\n",
            "  \u001b[31m   \u001b[0m \n",
            "  \u001b[31m   \u001b[0m \n",
            "  \u001b[31m   \u001b[0m         [^1]: For Python, any directory (with suitable naming) can be imported,\n",
            "  \u001b[31m   \u001b[0m               even if it does not contain any `.py` files.\n",
            "  \u001b[31m   \u001b[0m               On the other hand, currently there is no concept of package data\n",
            "  \u001b[31m   \u001b[0m               directory, all directories are treated like packages.\n",
            "  \u001b[31m   \u001b[0m         ********************************************************************************\n",
            "  \u001b[31m   \u001b[0m \n",
            "  \u001b[31m   \u001b[0m !!\n",
            "  \u001b[31m   \u001b[0m   check.warn(importable)\n",
            "  \u001b[31m   \u001b[0m /private/var/folders/00/6_k5gtjs44j43gmr99ht1d980000gn/T/pip-build-env-oefvu04r/overlay/lib/python3.11/site-packages/setuptools/command/build_py.py:212: _Warning: Package 'pyarrow.tests.data.parquet' is absent from the `packages` configuration.\n",
            "  \u001b[31m   \u001b[0m !!\n",
            "  \u001b[31m   \u001b[0m \n",
            "  \u001b[31m   \u001b[0m         ********************************************************************************\n",
            "  \u001b[31m   \u001b[0m         ############################\n",
            "  \u001b[31m   \u001b[0m         # Package would be ignored #\n",
            "  \u001b[31m   \u001b[0m         ############################\n",
            "  \u001b[31m   \u001b[0m         Python recognizes 'pyarrow.tests.data.parquet' as an importable package[^1],\n",
            "  \u001b[31m   \u001b[0m         but it is absent from setuptools' `packages` configuration.\n",
            "  \u001b[31m   \u001b[0m \n",
            "  \u001b[31m   \u001b[0m         This leads to an ambiguous overall configuration. If you want to distribute this\n",
            "  \u001b[31m   \u001b[0m         package, please make sure that 'pyarrow.tests.data.parquet' is explicitly added\n",
            "  \u001b[31m   \u001b[0m         to the `packages` configuration field.\n",
            "  \u001b[31m   \u001b[0m \n",
            "  \u001b[31m   \u001b[0m         Alternatively, you can also rely on setuptools' discovery methods\n",
            "  \u001b[31m   \u001b[0m         (for example by using `find_namespace_packages(...)`/`find_namespace:`\n",
            "  \u001b[31m   \u001b[0m         instead of `find_packages(...)`/`find:`).\n",
            "  \u001b[31m   \u001b[0m \n",
            "  \u001b[31m   \u001b[0m         You can read more about \"package discovery\" on setuptools documentation page:\n",
            "  \u001b[31m   \u001b[0m \n",
            "  \u001b[31m   \u001b[0m         - https://setuptools.pypa.io/en/latest/userguide/package_discovery.html\n",
            "  \u001b[31m   \u001b[0m \n",
            "  \u001b[31m   \u001b[0m         If you don't want 'pyarrow.tests.data.parquet' to be distributed and are\n",
            "  \u001b[31m   \u001b[0m         already explicitly excluding 'pyarrow.tests.data.parquet' via\n",
            "  \u001b[31m   \u001b[0m         `find_namespace_packages(...)/find_namespace` or `find_packages(...)/find`,\n",
            "  \u001b[31m   \u001b[0m         you can try to use `exclude_package_data`, or `include-package-data=False` in\n",
            "  \u001b[31m   \u001b[0m         combination with a more fine grained `package-data` configuration.\n",
            "  \u001b[31m   \u001b[0m \n",
            "  \u001b[31m   \u001b[0m         You can read more about \"package data files\" on setuptools documentation page:\n",
            "  \u001b[31m   \u001b[0m \n",
            "  \u001b[31m   \u001b[0m         - https://setuptools.pypa.io/en/latest/userguide/datafiles.html\n",
            "  \u001b[31m   \u001b[0m \n",
            "  \u001b[31m   \u001b[0m \n",
            "  \u001b[31m   \u001b[0m         [^1]: For Python, any directory (with suitable naming) can be imported,\n",
            "  \u001b[31m   \u001b[0m               even if it does not contain any `.py` files.\n",
            "  \u001b[31m   \u001b[0m               On the other hand, currently there is no concept of package data\n",
            "  \u001b[31m   \u001b[0m               directory, all directories are treated like packages.\n",
            "  \u001b[31m   \u001b[0m         ********************************************************************************\n",
            "  \u001b[31m   \u001b[0m \n",
            "  \u001b[31m   \u001b[0m !!\n",
            "  \u001b[31m   \u001b[0m   check.warn(importable)\n",
            "  \u001b[31m   \u001b[0m /private/var/folders/00/6_k5gtjs44j43gmr99ht1d980000gn/T/pip-build-env-oefvu04r/overlay/lib/python3.11/site-packages/setuptools/command/build_py.py:212: _Warning: Package 'pyarrow.tests.interchange' is absent from the `packages` configuration.\n",
            "  \u001b[31m   \u001b[0m !!\n",
            "  \u001b[31m   \u001b[0m \n",
            "  \u001b[31m   \u001b[0m         ********************************************************************************\n",
            "  \u001b[31m   \u001b[0m         ############################\n",
            "  \u001b[31m   \u001b[0m         # Package would be ignored #\n",
            "  \u001b[31m   \u001b[0m         ############################\n",
            "  \u001b[31m   \u001b[0m         Python recognizes 'pyarrow.tests.interchange' as an importable package[^1],\n",
            "  \u001b[31m   \u001b[0m         but it is absent from setuptools' `packages` configuration.\n",
            "  \u001b[31m   \u001b[0m \n",
            "  \u001b[31m   \u001b[0m         This leads to an ambiguous overall configuration. If you want to distribute this\n",
            "  \u001b[31m   \u001b[0m         package, please make sure that 'pyarrow.tests.interchange' is explicitly added\n",
            "  \u001b[31m   \u001b[0m         to the `packages` configuration field.\n",
            "  \u001b[31m   \u001b[0m \n",
            "  \u001b[31m   \u001b[0m         Alternatively, you can also rely on setuptools' discovery methods\n",
            "  \u001b[31m   \u001b[0m         (for example by using `find_namespace_packages(...)`/`find_namespace:`\n",
            "  \u001b[31m   \u001b[0m         instead of `find_packages(...)`/`find:`).\n",
            "  \u001b[31m   \u001b[0m \n",
            "  \u001b[31m   \u001b[0m         You can read more about \"package discovery\" on setuptools documentation page:\n",
            "  \u001b[31m   \u001b[0m \n",
            "  \u001b[31m   \u001b[0m         - https://setuptools.pypa.io/en/latest/userguide/package_discovery.html\n",
            "  \u001b[31m   \u001b[0m \n",
            "  \u001b[31m   \u001b[0m         If you don't want 'pyarrow.tests.interchange' to be distributed and are\n",
            "  \u001b[31m   \u001b[0m         already explicitly excluding 'pyarrow.tests.interchange' via\n",
            "  \u001b[31m   \u001b[0m         `find_namespace_packages(...)/find_namespace` or `find_packages(...)/find`,\n",
            "  \u001b[31m   \u001b[0m         you can try to use `exclude_package_data`, or `include-package-data=False` in\n",
            "  \u001b[31m   \u001b[0m         combination with a more fine grained `package-data` configuration.\n",
            "  \u001b[31m   \u001b[0m \n",
            "  \u001b[31m   \u001b[0m         You can read more about \"package data files\" on setuptools documentation page:\n",
            "  \u001b[31m   \u001b[0m \n",
            "  \u001b[31m   \u001b[0m         - https://setuptools.pypa.io/en/latest/userguide/datafiles.html\n",
            "  \u001b[31m   \u001b[0m \n",
            "  \u001b[31m   \u001b[0m \n",
            "  \u001b[31m   \u001b[0m         [^1]: For Python, any directory (with suitable naming) can be imported,\n",
            "  \u001b[31m   \u001b[0m               even if it does not contain any `.py` files.\n",
            "  \u001b[31m   \u001b[0m               On the other hand, currently there is no concept of package data\n",
            "  \u001b[31m   \u001b[0m               directory, all directories are treated like packages.\n",
            "  \u001b[31m   \u001b[0m         ********************************************************************************\n",
            "  \u001b[31m   \u001b[0m \n",
            "  \u001b[31m   \u001b[0m !!\n",
            "  \u001b[31m   \u001b[0m   check.warn(importable)\n",
            "  \u001b[31m   \u001b[0m /private/var/folders/00/6_k5gtjs44j43gmr99ht1d980000gn/T/pip-build-env-oefvu04r/overlay/lib/python3.11/site-packages/setuptools/command/build_py.py:212: _Warning: Package 'pyarrow.tests.parquet' is absent from the `packages` configuration.\n",
            "  \u001b[31m   \u001b[0m !!\n",
            "  \u001b[31m   \u001b[0m \n",
            "  \u001b[31m   \u001b[0m         ********************************************************************************\n",
            "  \u001b[31m   \u001b[0m         ############################\n",
            "  \u001b[31m   \u001b[0m         # Package would be ignored #\n",
            "  \u001b[31m   \u001b[0m         ############################\n",
            "  \u001b[31m   \u001b[0m         Python recognizes 'pyarrow.tests.parquet' as an importable package[^1],\n",
            "  \u001b[31m   \u001b[0m         but it is absent from setuptools' `packages` configuration.\n",
            "  \u001b[31m   \u001b[0m \n",
            "  \u001b[31m   \u001b[0m         This leads to an ambiguous overall configuration. If you want to distribute this\n",
            "  \u001b[31m   \u001b[0m         package, please make sure that 'pyarrow.tests.parquet' is explicitly added\n",
            "  \u001b[31m   \u001b[0m         to the `packages` configuration field.\n",
            "  \u001b[31m   \u001b[0m \n",
            "  \u001b[31m   \u001b[0m         Alternatively, you can also rely on setuptools' discovery methods\n",
            "  \u001b[31m   \u001b[0m         (for example by using `find_namespace_packages(...)`/`find_namespace:`\n",
            "  \u001b[31m   \u001b[0m         instead of `find_packages(...)`/`find:`).\n",
            "  \u001b[31m   \u001b[0m \n",
            "  \u001b[31m   \u001b[0m         You can read more about \"package discovery\" on setuptools documentation page:\n",
            "  \u001b[31m   \u001b[0m \n",
            "  \u001b[31m   \u001b[0m         - https://setuptools.pypa.io/en/latest/userguide/package_discovery.html\n",
            "  \u001b[31m   \u001b[0m \n",
            "  \u001b[31m   \u001b[0m         If you don't want 'pyarrow.tests.parquet' to be distributed and are\n",
            "  \u001b[31m   \u001b[0m         already explicitly excluding 'pyarrow.tests.parquet' via\n",
            "  \u001b[31m   \u001b[0m         `find_namespace_packages(...)/find_namespace` or `find_packages(...)/find`,\n",
            "  \u001b[31m   \u001b[0m         you can try to use `exclude_package_data`, or `include-package-data=False` in\n",
            "  \u001b[31m   \u001b[0m         combination with a more fine grained `package-data` configuration.\n",
            "  \u001b[31m   \u001b[0m \n",
            "  \u001b[31m   \u001b[0m         You can read more about \"package data files\" on setuptools documentation page:\n",
            "  \u001b[31m   \u001b[0m \n",
            "  \u001b[31m   \u001b[0m         - https://setuptools.pypa.io/en/latest/userguide/datafiles.html\n",
            "  \u001b[31m   \u001b[0m \n",
            "  \u001b[31m   \u001b[0m \n",
            "  \u001b[31m   \u001b[0m         [^1]: For Python, any directory (with suitable naming) can be imported,\n",
            "  \u001b[31m   \u001b[0m               even if it does not contain any `.py` files.\n",
            "  \u001b[31m   \u001b[0m               On the other hand, currently there is no concept of package data\n",
            "  \u001b[31m   \u001b[0m               directory, all directories are treated like packages.\n",
            "  \u001b[31m   \u001b[0m         ********************************************************************************\n",
            "  \u001b[31m   \u001b[0m \n",
            "  \u001b[31m   \u001b[0m !!\n",
            "  \u001b[31m   \u001b[0m   check.warn(importable)\n",
            "  \u001b[31m   \u001b[0m /private/var/folders/00/6_k5gtjs44j43gmr99ht1d980000gn/T/pip-build-env-oefvu04r/overlay/lib/python3.11/site-packages/setuptools/command/build_py.py:212: _Warning: Package 'pyarrow.vendored' is absent from the `packages` configuration.\n",
            "  \u001b[31m   \u001b[0m !!\n",
            "  \u001b[31m   \u001b[0m \n",
            "  \u001b[31m   \u001b[0m         ********************************************************************************\n",
            "  \u001b[31m   \u001b[0m         ############################\n",
            "  \u001b[31m   \u001b[0m         # Package would be ignored #\n",
            "  \u001b[31m   \u001b[0m         ############################\n",
            "  \u001b[31m   \u001b[0m         Python recognizes 'pyarrow.vendored' as an importable package[^1],\n",
            "  \u001b[31m   \u001b[0m         but it is absent from setuptools' `packages` configuration.\n",
            "  \u001b[31m   \u001b[0m \n",
            "  \u001b[31m   \u001b[0m         This leads to an ambiguous overall configuration. If you want to distribute this\n",
            "  \u001b[31m   \u001b[0m         package, please make sure that 'pyarrow.vendored' is explicitly added\n",
            "  \u001b[31m   \u001b[0m         to the `packages` configuration field.\n",
            "  \u001b[31m   \u001b[0m \n",
            "  \u001b[31m   \u001b[0m         Alternatively, you can also rely on setuptools' discovery methods\n",
            "  \u001b[31m   \u001b[0m         (for example by using `find_namespace_packages(...)`/`find_namespace:`\n",
            "  \u001b[31m   \u001b[0m         instead of `find_packages(...)`/`find:`).\n",
            "  \u001b[31m   \u001b[0m \n",
            "  \u001b[31m   \u001b[0m         You can read more about \"package discovery\" on setuptools documentation page:\n",
            "  \u001b[31m   \u001b[0m \n",
            "  \u001b[31m   \u001b[0m         - https://setuptools.pypa.io/en/latest/userguide/package_discovery.html\n",
            "  \u001b[31m   \u001b[0m \n",
            "  \u001b[31m   \u001b[0m         If you don't want 'pyarrow.vendored' to be distributed and are\n",
            "  \u001b[31m   \u001b[0m         already explicitly excluding 'pyarrow.vendored' via\n",
            "  \u001b[31m   \u001b[0m         `find_namespace_packages(...)/find_namespace` or `find_packages(...)/find`,\n",
            "  \u001b[31m   \u001b[0m         you can try to use `exclude_package_data`, or `include-package-data=False` in\n",
            "  \u001b[31m   \u001b[0m         combination with a more fine grained `package-data` configuration.\n",
            "  \u001b[31m   \u001b[0m \n",
            "  \u001b[31m   \u001b[0m         You can read more about \"package data files\" on setuptools documentation page:\n",
            "  \u001b[31m   \u001b[0m \n",
            "  \u001b[31m   \u001b[0m         - https://setuptools.pypa.io/en/latest/userguide/datafiles.html\n",
            "  \u001b[31m   \u001b[0m \n",
            "  \u001b[31m   \u001b[0m \n",
            "  \u001b[31m   \u001b[0m         [^1]: For Python, any directory (with suitable naming) can be imported,\n",
            "  \u001b[31m   \u001b[0m               even if it does not contain any `.py` files.\n",
            "  \u001b[31m   \u001b[0m               On the other hand, currently there is no concept of package data\n",
            "  \u001b[31m   \u001b[0m               directory, all directories are treated like packages.\n",
            "  \u001b[31m   \u001b[0m         ********************************************************************************\n",
            "  \u001b[31m   \u001b[0m \n",
            "  \u001b[31m   \u001b[0m !!\n",
            "  \u001b[31m   \u001b[0m   check.warn(importable)\n",
            "  \u001b[31m   \u001b[0m copying pyarrow/__init__.pxd -> build/lib.macosx-10.9-x86_64-cpython-311/pyarrow\n",
            "  \u001b[31m   \u001b[0m copying pyarrow/_acero.pxd -> build/lib.macosx-10.9-x86_64-cpython-311/pyarrow\n",
            "  \u001b[31m   \u001b[0m copying pyarrow/_acero.pyx -> build/lib.macosx-10.9-x86_64-cpython-311/pyarrow\n",
            "  \u001b[31m   \u001b[0m copying pyarrow/_azurefs.pyx -> build/lib.macosx-10.9-x86_64-cpython-311/pyarrow\n",
            "  \u001b[31m   \u001b[0m copying pyarrow/_compute.pxd -> build/lib.macosx-10.9-x86_64-cpython-311/pyarrow\n",
            "  \u001b[31m   \u001b[0m copying pyarrow/_compute.pyx -> build/lib.macosx-10.9-x86_64-cpython-311/pyarrow\n",
            "  \u001b[31m   \u001b[0m copying pyarrow/_csv.pxd -> build/lib.macosx-10.9-x86_64-cpython-311/pyarrow\n",
            "  \u001b[31m   \u001b[0m copying pyarrow/_csv.pyx -> build/lib.macosx-10.9-x86_64-cpython-311/pyarrow\n",
            "  \u001b[31m   \u001b[0m copying pyarrow/_cuda.pxd -> build/lib.macosx-10.9-x86_64-cpython-311/pyarrow\n",
            "  \u001b[31m   \u001b[0m copying pyarrow/_cuda.pyx -> build/lib.macosx-10.9-x86_64-cpython-311/pyarrow\n",
            "  \u001b[31m   \u001b[0m copying pyarrow/_dataset.pxd -> build/lib.macosx-10.9-x86_64-cpython-311/pyarrow\n",
            "  \u001b[31m   \u001b[0m copying pyarrow/_dataset.pyx -> build/lib.macosx-10.9-x86_64-cpython-311/pyarrow\n",
            "  \u001b[31m   \u001b[0m copying pyarrow/_dataset_orc.pyx -> build/lib.macosx-10.9-x86_64-cpython-311/pyarrow\n",
            "  \u001b[31m   \u001b[0m copying pyarrow/_dataset_parquet.pxd -> build/lib.macosx-10.9-x86_64-cpython-311/pyarrow\n",
            "  \u001b[31m   \u001b[0m copying pyarrow/_dataset_parquet.pyx -> build/lib.macosx-10.9-x86_64-cpython-311/pyarrow\n",
            "  \u001b[31m   \u001b[0m copying pyarrow/_dataset_parquet_encryption.pyx -> build/lib.macosx-10.9-x86_64-cpython-311/pyarrow\n",
            "  \u001b[31m   \u001b[0m copying pyarrow/_dlpack.pxi -> build/lib.macosx-10.9-x86_64-cpython-311/pyarrow\n",
            "  \u001b[31m   \u001b[0m copying pyarrow/_feather.pyx -> build/lib.macosx-10.9-x86_64-cpython-311/pyarrow\n",
            "  \u001b[31m   \u001b[0m copying pyarrow/_flight.pyx -> build/lib.macosx-10.9-x86_64-cpython-311/pyarrow\n",
            "  \u001b[31m   \u001b[0m copying pyarrow/_fs.pxd -> build/lib.macosx-10.9-x86_64-cpython-311/pyarrow\n",
            "  \u001b[31m   \u001b[0m copying pyarrow/_fs.pyx -> build/lib.macosx-10.9-x86_64-cpython-311/pyarrow\n",
            "  \u001b[31m   \u001b[0m copying pyarrow/_gcsfs.pyx -> build/lib.macosx-10.9-x86_64-cpython-311/pyarrow\n",
            "  \u001b[31m   \u001b[0m copying pyarrow/_hdfs.pyx -> build/lib.macosx-10.9-x86_64-cpython-311/pyarrow\n",
            "  \u001b[31m   \u001b[0m copying pyarrow/_json.pxd -> build/lib.macosx-10.9-x86_64-cpython-311/pyarrow\n",
            "  \u001b[31m   \u001b[0m copying pyarrow/_json.pyx -> build/lib.macosx-10.9-x86_64-cpython-311/pyarrow\n",
            "  \u001b[31m   \u001b[0m copying pyarrow/_orc.pxd -> build/lib.macosx-10.9-x86_64-cpython-311/pyarrow\n",
            "  \u001b[31m   \u001b[0m copying pyarrow/_orc.pyx -> build/lib.macosx-10.9-x86_64-cpython-311/pyarrow\n",
            "  \u001b[31m   \u001b[0m copying pyarrow/_parquet.pxd -> build/lib.macosx-10.9-x86_64-cpython-311/pyarrow\n",
            "  \u001b[31m   \u001b[0m copying pyarrow/_parquet.pyx -> build/lib.macosx-10.9-x86_64-cpython-311/pyarrow\n",
            "  \u001b[31m   \u001b[0m copying pyarrow/_parquet_encryption.pxd -> build/lib.macosx-10.9-x86_64-cpython-311/pyarrow\n",
            "  \u001b[31m   \u001b[0m copying pyarrow/_parquet_encryption.pyx -> build/lib.macosx-10.9-x86_64-cpython-311/pyarrow\n",
            "  \u001b[31m   \u001b[0m copying pyarrow/_pyarrow_cpp_tests.pxd -> build/lib.macosx-10.9-x86_64-cpython-311/pyarrow\n",
            "  \u001b[31m   \u001b[0m copying pyarrow/_pyarrow_cpp_tests.pyx -> build/lib.macosx-10.9-x86_64-cpython-311/pyarrow\n",
            "  \u001b[31m   \u001b[0m copying pyarrow/_s3fs.pyx -> build/lib.macosx-10.9-x86_64-cpython-311/pyarrow\n",
            "  \u001b[31m   \u001b[0m copying pyarrow/_substrait.pyx -> build/lib.macosx-10.9-x86_64-cpython-311/pyarrow\n",
            "  \u001b[31m   \u001b[0m copying pyarrow/array.pxi -> build/lib.macosx-10.9-x86_64-cpython-311/pyarrow\n",
            "  \u001b[31m   \u001b[0m copying pyarrow/benchmark.pxi -> build/lib.macosx-10.9-x86_64-cpython-311/pyarrow\n",
            "  \u001b[31m   \u001b[0m copying pyarrow/builder.pxi -> build/lib.macosx-10.9-x86_64-cpython-311/pyarrow\n",
            "  \u001b[31m   \u001b[0m copying pyarrow/compat.pxi -> build/lib.macosx-10.9-x86_64-cpython-311/pyarrow\n",
            "  \u001b[31m   \u001b[0m copying pyarrow/config.pxi -> build/lib.macosx-10.9-x86_64-cpython-311/pyarrow\n",
            "  \u001b[31m   \u001b[0m copying pyarrow/device.pxi -> build/lib.macosx-10.9-x86_64-cpython-311/pyarrow\n",
            "  \u001b[31m   \u001b[0m copying pyarrow/error.pxi -> build/lib.macosx-10.9-x86_64-cpython-311/pyarrow\n",
            "  \u001b[31m   \u001b[0m copying pyarrow/gandiva.pyx -> build/lib.macosx-10.9-x86_64-cpython-311/pyarrow\n",
            "  \u001b[31m   \u001b[0m copying pyarrow/io.pxi -> build/lib.macosx-10.9-x86_64-cpython-311/pyarrow\n",
            "  \u001b[31m   \u001b[0m copying pyarrow/ipc.pxi -> build/lib.macosx-10.9-x86_64-cpython-311/pyarrow\n",
            "  \u001b[31m   \u001b[0m copying pyarrow/lib.pxd -> build/lib.macosx-10.9-x86_64-cpython-311/pyarrow\n",
            "  \u001b[31m   \u001b[0m copying pyarrow/lib.pyx -> build/lib.macosx-10.9-x86_64-cpython-311/pyarrow\n",
            "  \u001b[31m   \u001b[0m copying pyarrow/memory.pxi -> build/lib.macosx-10.9-x86_64-cpython-311/pyarrow\n",
            "  \u001b[31m   \u001b[0m copying pyarrow/pandas-shim.pxi -> build/lib.macosx-10.9-x86_64-cpython-311/pyarrow\n",
            "  \u001b[31m   \u001b[0m copying pyarrow/public-api.pxi -> build/lib.macosx-10.9-x86_64-cpython-311/pyarrow\n",
            "  \u001b[31m   \u001b[0m copying pyarrow/scalar.pxi -> build/lib.macosx-10.9-x86_64-cpython-311/pyarrow\n",
            "  \u001b[31m   \u001b[0m copying pyarrow/table.pxi -> build/lib.macosx-10.9-x86_64-cpython-311/pyarrow\n",
            "  \u001b[31m   \u001b[0m copying pyarrow/tensor.pxi -> build/lib.macosx-10.9-x86_64-cpython-311/pyarrow\n",
            "  \u001b[31m   \u001b[0m copying pyarrow/types.pxi -> build/lib.macosx-10.9-x86_64-cpython-311/pyarrow\n",
            "  \u001b[31m   \u001b[0m creating build/lib.macosx-10.9-x86_64-cpython-311/pyarrow/includes\n",
            "  \u001b[31m   \u001b[0m copying pyarrow/includes/__init__.pxd -> build/lib.macosx-10.9-x86_64-cpython-311/pyarrow/includes\n",
            "  \u001b[31m   \u001b[0m copying pyarrow/includes/common.pxd -> build/lib.macosx-10.9-x86_64-cpython-311/pyarrow/includes\n",
            "  \u001b[31m   \u001b[0m copying pyarrow/includes/libarrow.pxd -> build/lib.macosx-10.9-x86_64-cpython-311/pyarrow/includes\n",
            "  \u001b[31m   \u001b[0m copying pyarrow/includes/libarrow_acero.pxd -> build/lib.macosx-10.9-x86_64-cpython-311/pyarrow/includes\n",
            "  \u001b[31m   \u001b[0m copying pyarrow/includes/libarrow_cuda.pxd -> build/lib.macosx-10.9-x86_64-cpython-311/pyarrow/includes\n",
            "  \u001b[31m   \u001b[0m copying pyarrow/includes/libarrow_dataset.pxd -> build/lib.macosx-10.9-x86_64-cpython-311/pyarrow/includes\n",
            "  \u001b[31m   \u001b[0m copying pyarrow/includes/libarrow_dataset_parquet.pxd -> build/lib.macosx-10.9-x86_64-cpython-311/pyarrow/includes\n",
            "  \u001b[31m   \u001b[0m copying pyarrow/includes/libarrow_feather.pxd -> build/lib.macosx-10.9-x86_64-cpython-311/pyarrow/includes\n",
            "  \u001b[31m   \u001b[0m copying pyarrow/includes/libarrow_flight.pxd -> build/lib.macosx-10.9-x86_64-cpython-311/pyarrow/includes\n",
            "  \u001b[31m   \u001b[0m copying pyarrow/includes/libarrow_fs.pxd -> build/lib.macosx-10.9-x86_64-cpython-311/pyarrow/includes\n",
            "  \u001b[31m   \u001b[0m copying pyarrow/includes/libarrow_python.pxd -> build/lib.macosx-10.9-x86_64-cpython-311/pyarrow/includes\n",
            "  \u001b[31m   \u001b[0m copying pyarrow/includes/libarrow_substrait.pxd -> build/lib.macosx-10.9-x86_64-cpython-311/pyarrow/includes\n",
            "  \u001b[31m   \u001b[0m copying pyarrow/includes/libgandiva.pxd -> build/lib.macosx-10.9-x86_64-cpython-311/pyarrow/includes\n",
            "  \u001b[31m   \u001b[0m copying pyarrow/includes/libparquet_encryption.pxd -> build/lib.macosx-10.9-x86_64-cpython-311/pyarrow/includes\n",
            "  \u001b[31m   \u001b[0m creating build/lib.macosx-10.9-x86_64-cpython-311/pyarrow/interchange\n",
            "  \u001b[31m   \u001b[0m copying pyarrow/interchange/__init__.py -> build/lib.macosx-10.9-x86_64-cpython-311/pyarrow/interchange\n",
            "  \u001b[31m   \u001b[0m copying pyarrow/interchange/buffer.py -> build/lib.macosx-10.9-x86_64-cpython-311/pyarrow/interchange\n",
            "  \u001b[31m   \u001b[0m copying pyarrow/interchange/column.py -> build/lib.macosx-10.9-x86_64-cpython-311/pyarrow/interchange\n",
            "  \u001b[31m   \u001b[0m copying pyarrow/interchange/dataframe.py -> build/lib.macosx-10.9-x86_64-cpython-311/pyarrow/interchange\n",
            "  \u001b[31m   \u001b[0m copying pyarrow/interchange/from_dataframe.py -> build/lib.macosx-10.9-x86_64-cpython-311/pyarrow/interchange\n",
            "  \u001b[31m   \u001b[0m creating build/lib.macosx-10.9-x86_64-cpython-311/pyarrow/parquet\n",
            "  \u001b[31m   \u001b[0m copying pyarrow/parquet/__init__.py -> build/lib.macosx-10.9-x86_64-cpython-311/pyarrow/parquet\n",
            "  \u001b[31m   \u001b[0m copying pyarrow/parquet/core.py -> build/lib.macosx-10.9-x86_64-cpython-311/pyarrow/parquet\n",
            "  \u001b[31m   \u001b[0m copying pyarrow/parquet/encryption.py -> build/lib.macosx-10.9-x86_64-cpython-311/pyarrow/parquet\n",
            "  \u001b[31m   \u001b[0m creating build/lib.macosx-10.9-x86_64-cpython-311/pyarrow/src/arrow/python\n",
            "  \u001b[31m   \u001b[0m copying pyarrow/src/arrow/python/CMakeLists.txt -> build/lib.macosx-10.9-x86_64-cpython-311/pyarrow/src/arrow/python\n",
            "  \u001b[31m   \u001b[0m copying pyarrow/src/arrow/python/api.h -> build/lib.macosx-10.9-x86_64-cpython-311/pyarrow/src/arrow/python\n",
            "  \u001b[31m   \u001b[0m copying pyarrow/src/arrow/python/arrow_to_pandas.cc -> build/lib.macosx-10.9-x86_64-cpython-311/pyarrow/src/arrow/python\n",
            "  \u001b[31m   \u001b[0m copying pyarrow/src/arrow/python/arrow_to_pandas.h -> build/lib.macosx-10.9-x86_64-cpython-311/pyarrow/src/arrow/python\n",
            "  \u001b[31m   \u001b[0m copying pyarrow/src/arrow/python/arrow_to_python_internal.h -> build/lib.macosx-10.9-x86_64-cpython-311/pyarrow/src/arrow/python\n",
            "  \u001b[31m   \u001b[0m copying pyarrow/src/arrow/python/async.h -> build/lib.macosx-10.9-x86_64-cpython-311/pyarrow/src/arrow/python\n",
            "  \u001b[31m   \u001b[0m copying pyarrow/src/arrow/python/benchmark.cc -> build/lib.macosx-10.9-x86_64-cpython-311/pyarrow/src/arrow/python\n",
            "  \u001b[31m   \u001b[0m copying pyarrow/src/arrow/python/benchmark.h -> build/lib.macosx-10.9-x86_64-cpython-311/pyarrow/src/arrow/python\n",
            "  \u001b[31m   \u001b[0m copying pyarrow/src/arrow/python/common.cc -> build/lib.macosx-10.9-x86_64-cpython-311/pyarrow/src/arrow/python\n",
            "  \u001b[31m   \u001b[0m copying pyarrow/src/arrow/python/common.h -> build/lib.macosx-10.9-x86_64-cpython-311/pyarrow/src/arrow/python\n",
            "  \u001b[31m   \u001b[0m copying pyarrow/src/arrow/python/csv.cc -> build/lib.macosx-10.9-x86_64-cpython-311/pyarrow/src/arrow/python\n",
            "  \u001b[31m   \u001b[0m copying pyarrow/src/arrow/python/csv.h -> build/lib.macosx-10.9-x86_64-cpython-311/pyarrow/src/arrow/python\n",
            "  \u001b[31m   \u001b[0m copying pyarrow/src/arrow/python/datetime.cc -> build/lib.macosx-10.9-x86_64-cpython-311/pyarrow/src/arrow/python\n",
            "  \u001b[31m   \u001b[0m copying pyarrow/src/arrow/python/datetime.h -> build/lib.macosx-10.9-x86_64-cpython-311/pyarrow/src/arrow/python\n",
            "  \u001b[31m   \u001b[0m copying pyarrow/src/arrow/python/decimal.cc -> build/lib.macosx-10.9-x86_64-cpython-311/pyarrow/src/arrow/python\n",
            "  \u001b[31m   \u001b[0m copying pyarrow/src/arrow/python/decimal.h -> build/lib.macosx-10.9-x86_64-cpython-311/pyarrow/src/arrow/python\n",
            "  \u001b[31m   \u001b[0m copying pyarrow/src/arrow/python/deserialize.cc -> build/lib.macosx-10.9-x86_64-cpython-311/pyarrow/src/arrow/python\n",
            "  \u001b[31m   \u001b[0m copying pyarrow/src/arrow/python/deserialize.h -> build/lib.macosx-10.9-x86_64-cpython-311/pyarrow/src/arrow/python\n",
            "  \u001b[31m   \u001b[0m copying pyarrow/src/arrow/python/extension_type.cc -> build/lib.macosx-10.9-x86_64-cpython-311/pyarrow/src/arrow/python\n",
            "  \u001b[31m   \u001b[0m copying pyarrow/src/arrow/python/extension_type.h -> build/lib.macosx-10.9-x86_64-cpython-311/pyarrow/src/arrow/python\n",
            "  \u001b[31m   \u001b[0m copying pyarrow/src/arrow/python/filesystem.cc -> build/lib.macosx-10.9-x86_64-cpython-311/pyarrow/src/arrow/python\n",
            "  \u001b[31m   \u001b[0m copying pyarrow/src/arrow/python/filesystem.h -> build/lib.macosx-10.9-x86_64-cpython-311/pyarrow/src/arrow/python\n",
            "  \u001b[31m   \u001b[0m copying pyarrow/src/arrow/python/flight.cc -> build/lib.macosx-10.9-x86_64-cpython-311/pyarrow/src/arrow/python\n",
            "  \u001b[31m   \u001b[0m copying pyarrow/src/arrow/python/flight.h -> build/lib.macosx-10.9-x86_64-cpython-311/pyarrow/src/arrow/python\n",
            "  \u001b[31m   \u001b[0m copying pyarrow/src/arrow/python/gdb.cc -> build/lib.macosx-10.9-x86_64-cpython-311/pyarrow/src/arrow/python\n",
            "  \u001b[31m   \u001b[0m copying pyarrow/src/arrow/python/gdb.h -> build/lib.macosx-10.9-x86_64-cpython-311/pyarrow/src/arrow/python\n",
            "  \u001b[31m   \u001b[0m copying pyarrow/src/arrow/python/helpers.cc -> build/lib.macosx-10.9-x86_64-cpython-311/pyarrow/src/arrow/python\n",
            "  \u001b[31m   \u001b[0m copying pyarrow/src/arrow/python/helpers.h -> build/lib.macosx-10.9-x86_64-cpython-311/pyarrow/src/arrow/python\n",
            "  \u001b[31m   \u001b[0m copying pyarrow/src/arrow/python/inference.cc -> build/lib.macosx-10.9-x86_64-cpython-311/pyarrow/src/arrow/python\n",
            "  \u001b[31m   \u001b[0m copying pyarrow/src/arrow/python/inference.h -> build/lib.macosx-10.9-x86_64-cpython-311/pyarrow/src/arrow/python\n",
            "  \u001b[31m   \u001b[0m copying pyarrow/src/arrow/python/io.cc -> build/lib.macosx-10.9-x86_64-cpython-311/pyarrow/src/arrow/python\n",
            "  \u001b[31m   \u001b[0m copying pyarrow/src/arrow/python/io.h -> build/lib.macosx-10.9-x86_64-cpython-311/pyarrow/src/arrow/python\n",
            "  \u001b[31m   \u001b[0m copying pyarrow/src/arrow/python/ipc.cc -> build/lib.macosx-10.9-x86_64-cpython-311/pyarrow/src/arrow/python\n",
            "  \u001b[31m   \u001b[0m copying pyarrow/src/arrow/python/ipc.h -> build/lib.macosx-10.9-x86_64-cpython-311/pyarrow/src/arrow/python\n",
            "  \u001b[31m   \u001b[0m copying pyarrow/src/arrow/python/iterators.h -> build/lib.macosx-10.9-x86_64-cpython-311/pyarrow/src/arrow/python\n",
            "  \u001b[31m   \u001b[0m copying pyarrow/src/arrow/python/numpy_convert.cc -> build/lib.macosx-10.9-x86_64-cpython-311/pyarrow/src/arrow/python\n",
            "  \u001b[31m   \u001b[0m copying pyarrow/src/arrow/python/numpy_convert.h -> build/lib.macosx-10.9-x86_64-cpython-311/pyarrow/src/arrow/python\n",
            "  \u001b[31m   \u001b[0m copying pyarrow/src/arrow/python/numpy_init.cc -> build/lib.macosx-10.9-x86_64-cpython-311/pyarrow/src/arrow/python\n",
            "  \u001b[31m   \u001b[0m copying pyarrow/src/arrow/python/numpy_init.h -> build/lib.macosx-10.9-x86_64-cpython-311/pyarrow/src/arrow/python\n",
            "  \u001b[31m   \u001b[0m copying pyarrow/src/arrow/python/numpy_internal.h -> build/lib.macosx-10.9-x86_64-cpython-311/pyarrow/src/arrow/python\n",
            "  \u001b[31m   \u001b[0m copying pyarrow/src/arrow/python/numpy_interop.h -> build/lib.macosx-10.9-x86_64-cpython-311/pyarrow/src/arrow/python\n",
            "  \u001b[31m   \u001b[0m copying pyarrow/src/arrow/python/numpy_to_arrow.cc -> build/lib.macosx-10.9-x86_64-cpython-311/pyarrow/src/arrow/python\n",
            "  \u001b[31m   \u001b[0m copying pyarrow/src/arrow/python/numpy_to_arrow.h -> build/lib.macosx-10.9-x86_64-cpython-311/pyarrow/src/arrow/python\n",
            "  \u001b[31m   \u001b[0m copying pyarrow/src/arrow/python/parquet_encryption.cc -> build/lib.macosx-10.9-x86_64-cpython-311/pyarrow/src/arrow/python\n",
            "  \u001b[31m   \u001b[0m copying pyarrow/src/arrow/python/parquet_encryption.h -> build/lib.macosx-10.9-x86_64-cpython-311/pyarrow/src/arrow/python\n",
            "  \u001b[31m   \u001b[0m copying pyarrow/src/arrow/python/pch.h -> build/lib.macosx-10.9-x86_64-cpython-311/pyarrow/src/arrow/python\n",
            "  \u001b[31m   \u001b[0m copying pyarrow/src/arrow/python/platform.h -> build/lib.macosx-10.9-x86_64-cpython-311/pyarrow/src/arrow/python\n",
            "  \u001b[31m   \u001b[0m copying pyarrow/src/arrow/python/pyarrow.cc -> build/lib.macosx-10.9-x86_64-cpython-311/pyarrow/src/arrow/python\n",
            "  \u001b[31m   \u001b[0m copying pyarrow/src/arrow/python/pyarrow.h -> build/lib.macosx-10.9-x86_64-cpython-311/pyarrow/src/arrow/python\n",
            "  \u001b[31m   \u001b[0m copying pyarrow/src/arrow/python/pyarrow_api.h -> build/lib.macosx-10.9-x86_64-cpython-311/pyarrow/src/arrow/python\n",
            "  \u001b[31m   \u001b[0m copying pyarrow/src/arrow/python/pyarrow_lib.h -> build/lib.macosx-10.9-x86_64-cpython-311/pyarrow/src/arrow/python\n",
            "  \u001b[31m   \u001b[0m copying pyarrow/src/arrow/python/python_test.cc -> build/lib.macosx-10.9-x86_64-cpython-311/pyarrow/src/arrow/python\n",
            "  \u001b[31m   \u001b[0m copying pyarrow/src/arrow/python/python_test.h -> build/lib.macosx-10.9-x86_64-cpython-311/pyarrow/src/arrow/python\n",
            "  \u001b[31m   \u001b[0m copying pyarrow/src/arrow/python/python_to_arrow.cc -> build/lib.macosx-10.9-x86_64-cpython-311/pyarrow/src/arrow/python\n",
            "  \u001b[31m   \u001b[0m copying pyarrow/src/arrow/python/python_to_arrow.h -> build/lib.macosx-10.9-x86_64-cpython-311/pyarrow/src/arrow/python\n",
            "  \u001b[31m   \u001b[0m copying pyarrow/src/arrow/python/serialize.cc -> build/lib.macosx-10.9-x86_64-cpython-311/pyarrow/src/arrow/python\n",
            "  \u001b[31m   \u001b[0m copying pyarrow/src/arrow/python/serialize.h -> build/lib.macosx-10.9-x86_64-cpython-311/pyarrow/src/arrow/python\n",
            "  \u001b[31m   \u001b[0m copying pyarrow/src/arrow/python/type_traits.h -> build/lib.macosx-10.9-x86_64-cpython-311/pyarrow/src/arrow/python\n",
            "  \u001b[31m   \u001b[0m copying pyarrow/src/arrow/python/udf.cc -> build/lib.macosx-10.9-x86_64-cpython-311/pyarrow/src/arrow/python\n",
            "  \u001b[31m   \u001b[0m copying pyarrow/src/arrow/python/udf.h -> build/lib.macosx-10.9-x86_64-cpython-311/pyarrow/src/arrow/python\n",
            "  \u001b[31m   \u001b[0m copying pyarrow/src/arrow/python/visibility.h -> build/lib.macosx-10.9-x86_64-cpython-311/pyarrow/src/arrow/python\n",
            "  \u001b[31m   \u001b[0m creating build/lib.macosx-10.9-x86_64-cpython-311/pyarrow/src/arrow/python/vendored\n",
            "  \u001b[31m   \u001b[0m copying pyarrow/src/arrow/python/vendored/CMakeLists.txt -> build/lib.macosx-10.9-x86_64-cpython-311/pyarrow/src/arrow/python/vendored\n",
            "  \u001b[31m   \u001b[0m copying pyarrow/src/arrow/python/vendored/pythoncapi_compat.h -> build/lib.macosx-10.9-x86_64-cpython-311/pyarrow/src/arrow/python/vendored\n",
            "  \u001b[31m   \u001b[0m creating build/lib.macosx-10.9-x86_64-cpython-311/pyarrow/tests\n",
            "  \u001b[31m   \u001b[0m copying pyarrow/tests/__init__.py -> build/lib.macosx-10.9-x86_64-cpython-311/pyarrow/tests\n",
            "  \u001b[31m   \u001b[0m copying pyarrow/tests/arrow_16597.py -> build/lib.macosx-10.9-x86_64-cpython-311/pyarrow/tests\n",
            "  \u001b[31m   \u001b[0m copying pyarrow/tests/arrow_39313.py -> build/lib.macosx-10.9-x86_64-cpython-311/pyarrow/tests\n",
            "  \u001b[31m   \u001b[0m copying pyarrow/tests/arrow_7980.py -> build/lib.macosx-10.9-x86_64-cpython-311/pyarrow/tests\n",
            "  \u001b[31m   \u001b[0m copying pyarrow/tests/bound_function_visit_strings.pyx -> build/lib.macosx-10.9-x86_64-cpython-311/pyarrow/tests\n",
            "  \u001b[31m   \u001b[0m copying pyarrow/tests/conftest.py -> build/lib.macosx-10.9-x86_64-cpython-311/pyarrow/tests\n",
            "  \u001b[31m   \u001b[0m copying pyarrow/tests/extensions.pyx -> build/lib.macosx-10.9-x86_64-cpython-311/pyarrow/tests\n",
            "  \u001b[31m   \u001b[0m copying pyarrow/tests/pandas_examples.py -> build/lib.macosx-10.9-x86_64-cpython-311/pyarrow/tests\n",
            "  \u001b[31m   \u001b[0m copying pyarrow/tests/pandas_threaded_import.py -> build/lib.macosx-10.9-x86_64-cpython-311/pyarrow/tests\n",
            "  \u001b[31m   \u001b[0m copying pyarrow/tests/pyarrow_cython_example.pyx -> build/lib.macosx-10.9-x86_64-cpython-311/pyarrow/tests\n",
            "  \u001b[31m   \u001b[0m copying pyarrow/tests/read_record_batch.py -> build/lib.macosx-10.9-x86_64-cpython-311/pyarrow/tests\n",
            "  \u001b[31m   \u001b[0m copying pyarrow/tests/strategies.py -> build/lib.macosx-10.9-x86_64-cpython-311/pyarrow/tests\n",
            "  \u001b[31m   \u001b[0m copying pyarrow/tests/test_acero.py -> build/lib.macosx-10.9-x86_64-cpython-311/pyarrow/tests\n",
            "  \u001b[31m   \u001b[0m copying pyarrow/tests/test_adhoc_memory_leak.py -> build/lib.macosx-10.9-x86_64-cpython-311/pyarrow/tests\n",
            "  \u001b[31m   \u001b[0m copying pyarrow/tests/test_array.py -> build/lib.macosx-10.9-x86_64-cpython-311/pyarrow/tests\n",
            "  \u001b[31m   \u001b[0m copying pyarrow/tests/test_builder.py -> build/lib.macosx-10.9-x86_64-cpython-311/pyarrow/tests\n",
            "  \u001b[31m   \u001b[0m copying pyarrow/tests/test_cffi.py -> build/lib.macosx-10.9-x86_64-cpython-311/pyarrow/tests\n",
            "  \u001b[31m   \u001b[0m copying pyarrow/tests/test_compute.py -> build/lib.macosx-10.9-x86_64-cpython-311/pyarrow/tests\n",
            "  \u001b[31m   \u001b[0m copying pyarrow/tests/test_convert_builtin.py -> build/lib.macosx-10.9-x86_64-cpython-311/pyarrow/tests\n",
            "  \u001b[31m   \u001b[0m copying pyarrow/tests/test_cpp_internals.py -> build/lib.macosx-10.9-x86_64-cpython-311/pyarrow/tests\n",
            "  \u001b[31m   \u001b[0m copying pyarrow/tests/test_csv.py -> build/lib.macosx-10.9-x86_64-cpython-311/pyarrow/tests\n",
            "  \u001b[31m   \u001b[0m copying pyarrow/tests/test_cuda.py -> build/lib.macosx-10.9-x86_64-cpython-311/pyarrow/tests\n",
            "  \u001b[31m   \u001b[0m copying pyarrow/tests/test_cuda_numba_interop.py -> build/lib.macosx-10.9-x86_64-cpython-311/pyarrow/tests\n",
            "  \u001b[31m   \u001b[0m copying pyarrow/tests/test_cython.py -> build/lib.macosx-10.9-x86_64-cpython-311/pyarrow/tests\n",
            "  \u001b[31m   \u001b[0m copying pyarrow/tests/test_dataset.py -> build/lib.macosx-10.9-x86_64-cpython-311/pyarrow/tests\n",
            "  \u001b[31m   \u001b[0m copying pyarrow/tests/test_dataset_encryption.py -> build/lib.macosx-10.9-x86_64-cpython-311/pyarrow/tests\n",
            "  \u001b[31m   \u001b[0m copying pyarrow/tests/test_deprecations.py -> build/lib.macosx-10.9-x86_64-cpython-311/pyarrow/tests\n",
            "  \u001b[31m   \u001b[0m copying pyarrow/tests/test_device.py -> build/lib.macosx-10.9-x86_64-cpython-311/pyarrow/tests\n",
            "  \u001b[31m   \u001b[0m copying pyarrow/tests/test_dlpack.py -> build/lib.macosx-10.9-x86_64-cpython-311/pyarrow/tests\n",
            "  \u001b[31m   \u001b[0m copying pyarrow/tests/test_exec_plan.py -> build/lib.macosx-10.9-x86_64-cpython-311/pyarrow/tests\n",
            "  \u001b[31m   \u001b[0m copying pyarrow/tests/test_extension_type.py -> build/lib.macosx-10.9-x86_64-cpython-311/pyarrow/tests\n",
            "  \u001b[31m   \u001b[0m copying pyarrow/tests/test_feather.py -> build/lib.macosx-10.9-x86_64-cpython-311/pyarrow/tests\n",
            "  \u001b[31m   \u001b[0m copying pyarrow/tests/test_flight.py -> build/lib.macosx-10.9-x86_64-cpython-311/pyarrow/tests\n",
            "  \u001b[31m   \u001b[0m copying pyarrow/tests/test_flight_async.py -> build/lib.macosx-10.9-x86_64-cpython-311/pyarrow/tests\n",
            "  \u001b[31m   \u001b[0m copying pyarrow/tests/test_fs.py -> build/lib.macosx-10.9-x86_64-cpython-311/pyarrow/tests\n",
            "  \u001b[31m   \u001b[0m copying pyarrow/tests/test_gandiva.py -> build/lib.macosx-10.9-x86_64-cpython-311/pyarrow/tests\n",
            "  \u001b[31m   \u001b[0m copying pyarrow/tests/test_gdb.py -> build/lib.macosx-10.9-x86_64-cpython-311/pyarrow/tests\n",
            "  \u001b[31m   \u001b[0m copying pyarrow/tests/test_io.py -> build/lib.macosx-10.9-x86_64-cpython-311/pyarrow/tests\n",
            "  \u001b[31m   \u001b[0m copying pyarrow/tests/test_ipc.py -> build/lib.macosx-10.9-x86_64-cpython-311/pyarrow/tests\n",
            "  \u001b[31m   \u001b[0m copying pyarrow/tests/test_json.py -> build/lib.macosx-10.9-x86_64-cpython-311/pyarrow/tests\n",
            "  \u001b[31m   \u001b[0m copying pyarrow/tests/test_jvm.py -> build/lib.macosx-10.9-x86_64-cpython-311/pyarrow/tests\n",
            "  \u001b[31m   \u001b[0m copying pyarrow/tests/test_memory.py -> build/lib.macosx-10.9-x86_64-cpython-311/pyarrow/tests\n",
            "  \u001b[31m   \u001b[0m copying pyarrow/tests/test_misc.py -> build/lib.macosx-10.9-x86_64-cpython-311/pyarrow/tests\n",
            "  \u001b[31m   \u001b[0m copying pyarrow/tests/test_orc.py -> build/lib.macosx-10.9-x86_64-cpython-311/pyarrow/tests\n",
            "  \u001b[31m   \u001b[0m copying pyarrow/tests/test_pandas.py -> build/lib.macosx-10.9-x86_64-cpython-311/pyarrow/tests\n",
            "  \u001b[31m   \u001b[0m copying pyarrow/tests/test_scalars.py -> build/lib.macosx-10.9-x86_64-cpython-311/pyarrow/tests\n",
            "  \u001b[31m   \u001b[0m copying pyarrow/tests/test_schema.py -> build/lib.macosx-10.9-x86_64-cpython-311/pyarrow/tests\n",
            "  \u001b[31m   \u001b[0m copying pyarrow/tests/test_sparse_tensor.py -> build/lib.macosx-10.9-x86_64-cpython-311/pyarrow/tests\n",
            "  \u001b[31m   \u001b[0m copying pyarrow/tests/test_strategies.py -> build/lib.macosx-10.9-x86_64-cpython-311/pyarrow/tests\n",
            "  \u001b[31m   \u001b[0m copying pyarrow/tests/test_substrait.py -> build/lib.macosx-10.9-x86_64-cpython-311/pyarrow/tests\n",
            "  \u001b[31m   \u001b[0m copying pyarrow/tests/test_table.py -> build/lib.macosx-10.9-x86_64-cpython-311/pyarrow/tests\n",
            "  \u001b[31m   \u001b[0m copying pyarrow/tests/test_tensor.py -> build/lib.macosx-10.9-x86_64-cpython-311/pyarrow/tests\n",
            "  \u001b[31m   \u001b[0m copying pyarrow/tests/test_types.py -> build/lib.macosx-10.9-x86_64-cpython-311/pyarrow/tests\n",
            "  \u001b[31m   \u001b[0m copying pyarrow/tests/test_udf.py -> build/lib.macosx-10.9-x86_64-cpython-311/pyarrow/tests\n",
            "  \u001b[31m   \u001b[0m copying pyarrow/tests/test_util.py -> build/lib.macosx-10.9-x86_64-cpython-311/pyarrow/tests\n",
            "  \u001b[31m   \u001b[0m copying pyarrow/tests/test_without_numpy.py -> build/lib.macosx-10.9-x86_64-cpython-311/pyarrow/tests\n",
            "  \u001b[31m   \u001b[0m copying pyarrow/tests/util.py -> build/lib.macosx-10.9-x86_64-cpython-311/pyarrow/tests\n",
            "  \u001b[31m   \u001b[0m copying pyarrow/tests/wsgi_examples.py -> build/lib.macosx-10.9-x86_64-cpython-311/pyarrow/tests\n",
            "  \u001b[31m   \u001b[0m creating build/lib.macosx-10.9-x86_64-cpython-311/pyarrow/tests/data/feather\n",
            "  \u001b[31m   \u001b[0m copying pyarrow/tests/data/feather/v0.17.0.version.2-compression.lz4.feather -> build/lib.macosx-10.9-x86_64-cpython-311/pyarrow/tests/data/feather\n",
            "  \u001b[31m   \u001b[0m creating build/lib.macosx-10.9-x86_64-cpython-311/pyarrow/tests/data/orc\n",
            "  \u001b[31m   \u001b[0m copying pyarrow/tests/data/orc/README.md -> build/lib.macosx-10.9-x86_64-cpython-311/pyarrow/tests/data/orc\n",
            "  \u001b[31m   \u001b[0m copying pyarrow/tests/data/orc/TestOrcFile.emptyFile.jsn.gz -> build/lib.macosx-10.9-x86_64-cpython-311/pyarrow/tests/data/orc\n",
            "  \u001b[31m   \u001b[0m copying pyarrow/tests/data/orc/TestOrcFile.emptyFile.orc -> build/lib.macosx-10.9-x86_64-cpython-311/pyarrow/tests/data/orc\n",
            "  \u001b[31m   \u001b[0m copying pyarrow/tests/data/orc/TestOrcFile.test1.jsn.gz -> build/lib.macosx-10.9-x86_64-cpython-311/pyarrow/tests/data/orc\n",
            "  \u001b[31m   \u001b[0m copying pyarrow/tests/data/orc/TestOrcFile.test1.orc -> build/lib.macosx-10.9-x86_64-cpython-311/pyarrow/tests/data/orc\n",
            "  \u001b[31m   \u001b[0m copying pyarrow/tests/data/orc/TestOrcFile.testDate1900.jsn.gz -> build/lib.macosx-10.9-x86_64-cpython-311/pyarrow/tests/data/orc\n",
            "  \u001b[31m   \u001b[0m copying pyarrow/tests/data/orc/TestOrcFile.testDate1900.orc -> build/lib.macosx-10.9-x86_64-cpython-311/pyarrow/tests/data/orc\n",
            "  \u001b[31m   \u001b[0m copying pyarrow/tests/data/orc/decimal.jsn.gz -> build/lib.macosx-10.9-x86_64-cpython-311/pyarrow/tests/data/orc\n",
            "  \u001b[31m   \u001b[0m copying pyarrow/tests/data/orc/decimal.orc -> build/lib.macosx-10.9-x86_64-cpython-311/pyarrow/tests/data/orc\n",
            "  \u001b[31m   \u001b[0m creating build/lib.macosx-10.9-x86_64-cpython-311/pyarrow/tests/data/parquet\n",
            "  \u001b[31m   \u001b[0m copying pyarrow/tests/data/parquet/v0.7.1.all-named-index.parquet -> build/lib.macosx-10.9-x86_64-cpython-311/pyarrow/tests/data/parquet\n",
            "  \u001b[31m   \u001b[0m copying pyarrow/tests/data/parquet/v0.7.1.column-metadata-handling.parquet -> build/lib.macosx-10.9-x86_64-cpython-311/pyarrow/tests/data/parquet\n",
            "  \u001b[31m   \u001b[0m copying pyarrow/tests/data/parquet/v0.7.1.parquet -> build/lib.macosx-10.9-x86_64-cpython-311/pyarrow/tests/data/parquet\n",
            "  \u001b[31m   \u001b[0m copying pyarrow/tests/data/parquet/v0.7.1.some-named-index.parquet -> build/lib.macosx-10.9-x86_64-cpython-311/pyarrow/tests/data/parquet\n",
            "  \u001b[31m   \u001b[0m creating build/lib.macosx-10.9-x86_64-cpython-311/pyarrow/tests/interchange\n",
            "  \u001b[31m   \u001b[0m copying pyarrow/tests/interchange/__init__.py -> build/lib.macosx-10.9-x86_64-cpython-311/pyarrow/tests/interchange\n",
            "  \u001b[31m   \u001b[0m copying pyarrow/tests/interchange/test_conversion.py -> build/lib.macosx-10.9-x86_64-cpython-311/pyarrow/tests/interchange\n",
            "  \u001b[31m   \u001b[0m copying pyarrow/tests/interchange/test_interchange_spec.py -> build/lib.macosx-10.9-x86_64-cpython-311/pyarrow/tests/interchange\n",
            "  \u001b[31m   \u001b[0m creating build/lib.macosx-10.9-x86_64-cpython-311/pyarrow/tests/parquet\n",
            "  \u001b[31m   \u001b[0m copying pyarrow/tests/parquet/__init__.py -> build/lib.macosx-10.9-x86_64-cpython-311/pyarrow/tests/parquet\n",
            "  \u001b[31m   \u001b[0m copying pyarrow/tests/parquet/common.py -> build/lib.macosx-10.9-x86_64-cpython-311/pyarrow/tests/parquet\n",
            "  \u001b[31m   \u001b[0m copying pyarrow/tests/parquet/conftest.py -> build/lib.macosx-10.9-x86_64-cpython-311/pyarrow/tests/parquet\n",
            "  \u001b[31m   \u001b[0m copying pyarrow/tests/parquet/encryption.py -> build/lib.macosx-10.9-x86_64-cpython-311/pyarrow/tests/parquet\n",
            "  \u001b[31m   \u001b[0m copying pyarrow/tests/parquet/test_basic.py -> build/lib.macosx-10.9-x86_64-cpython-311/pyarrow/tests/parquet\n",
            "  \u001b[31m   \u001b[0m copying pyarrow/tests/parquet/test_compliant_nested_type.py -> build/lib.macosx-10.9-x86_64-cpython-311/pyarrow/tests/parquet\n",
            "  \u001b[31m   \u001b[0m copying pyarrow/tests/parquet/test_data_types.py -> build/lib.macosx-10.9-x86_64-cpython-311/pyarrow/tests/parquet\n",
            "  \u001b[31m   \u001b[0m copying pyarrow/tests/parquet/test_dataset.py -> build/lib.macosx-10.9-x86_64-cpython-311/pyarrow/tests/parquet\n",
            "  \u001b[31m   \u001b[0m copying pyarrow/tests/parquet/test_datetime.py -> build/lib.macosx-10.9-x86_64-cpython-311/pyarrow/tests/parquet\n",
            "  \u001b[31m   \u001b[0m copying pyarrow/tests/parquet/test_encryption.py -> build/lib.macosx-10.9-x86_64-cpython-311/pyarrow/tests/parquet\n",
            "  \u001b[31m   \u001b[0m copying pyarrow/tests/parquet/test_metadata.py -> build/lib.macosx-10.9-x86_64-cpython-311/pyarrow/tests/parquet\n",
            "  \u001b[31m   \u001b[0m copying pyarrow/tests/parquet/test_pandas.py -> build/lib.macosx-10.9-x86_64-cpython-311/pyarrow/tests/parquet\n",
            "  \u001b[31m   \u001b[0m copying pyarrow/tests/parquet/test_parquet_file.py -> build/lib.macosx-10.9-x86_64-cpython-311/pyarrow/tests/parquet\n",
            "  \u001b[31m   \u001b[0m copying pyarrow/tests/parquet/test_parquet_writer.py -> build/lib.macosx-10.9-x86_64-cpython-311/pyarrow/tests/parquet\n",
            "  \u001b[31m   \u001b[0m creating build/lib.macosx-10.9-x86_64-cpython-311/pyarrow/vendored\n",
            "  \u001b[31m   \u001b[0m copying pyarrow/vendored/__init__.py -> build/lib.macosx-10.9-x86_64-cpython-311/pyarrow/vendored\n",
            "  \u001b[31m   \u001b[0m copying pyarrow/vendored/docscrape.py -> build/lib.macosx-10.9-x86_64-cpython-311/pyarrow/vendored\n",
            "  \u001b[31m   \u001b[0m copying pyarrow/vendored/version.py -> build/lib.macosx-10.9-x86_64-cpython-311/pyarrow/vendored\n",
            "  \u001b[31m   \u001b[0m running build_ext\n",
            "  \u001b[31m   \u001b[0m creating /private/var/folders/00/6_k5gtjs44j43gmr99ht1d980000gn/T/pip-install-gn3jllil/pyarrow_ecd0d0fbd06f4c98963e9158805ea655/build/temp.macosx-10.9-x86_64-cpython-311\n",
            "  \u001b[31m   \u001b[0m -- Running cmake for PyArrow\n",
            "  \u001b[31m   \u001b[0m cmake -DCMAKE_INSTALL_PREFIX=/private/var/folders/00/6_k5gtjs44j43gmr99ht1d980000gn/T/pip-install-gn3jllil/pyarrow_ecd0d0fbd06f4c98963e9158805ea655/build/lib.macosx-10.9-x86_64-cpython-311/pyarrow -DPYTHON_EXECUTABLE=/Users/sarahbouchet/anaconda3/bin/python -DPython3_EXECUTABLE=/Users/sarahbouchet/anaconda3/bin/python -DPYARROW_CXXFLAGS= -DPYARROW_BUNDLE_ARROW_CPP=off -DPYARROW_BUNDLE_CYTHON_CPP=off -DPYARROW_GENERATE_COVERAGE=off -DCMAKE_BUILD_TYPE=release /private/var/folders/00/6_k5gtjs44j43gmr99ht1d980000gn/T/pip-install-gn3jllil/pyarrow_ecd0d0fbd06f4c98963e9158805ea655\n",
            "  \u001b[31m   \u001b[0m -- The C compiler identification is AppleClang 12.0.0.12000032\n",
            "  \u001b[31m   \u001b[0m -- The CXX compiler identification is AppleClang 12.0.0.12000032\n",
            "  \u001b[31m   \u001b[0m -- Detecting C compiler ABI info\n",
            "  \u001b[31m   \u001b[0m -- Detecting C compiler ABI info - done\n",
            "  \u001b[31m   \u001b[0m -- Check for working C compiler: /Library/Developer/CommandLineTools/usr/bin/cc - skipped\n",
            "  \u001b[31m   \u001b[0m -- Detecting C compile features\n",
            "  \u001b[31m   \u001b[0m -- Detecting C compile features - done\n",
            "  \u001b[31m   \u001b[0m -- Detecting CXX compiler ABI info\n",
            "  \u001b[31m   \u001b[0m -- Detecting CXX compiler ABI info - done\n",
            "  \u001b[31m   \u001b[0m -- Check for working CXX compiler: /Library/Developer/CommandLineTools/usr/bin/c++ - skipped\n",
            "  \u001b[31m   \u001b[0m -- Detecting CXX compile features\n",
            "  \u001b[31m   \u001b[0m -- Detecting CXX compile features - done\n",
            "  \u001b[31m   \u001b[0m -- System processor: x86_64\n",
            "  \u001b[31m   \u001b[0m -- Performing Test CXX_SUPPORTS_SSE4_2\n",
            "  \u001b[31m   \u001b[0m -- Performing Test CXX_SUPPORTS_SSE4_2 - Success\n",
            "  \u001b[31m   \u001b[0m -- Performing Test CXX_SUPPORTS_AVX2\n",
            "  \u001b[31m   \u001b[0m -- Performing Test CXX_SUPPORTS_AVX2 - Success\n",
            "  \u001b[31m   \u001b[0m -- Performing Test CXX_SUPPORTS_AVX512\n",
            "  \u001b[31m   \u001b[0m -- Performing Test CXX_SUPPORTS_AVX512 - Success\n",
            "  \u001b[31m   \u001b[0m -- Arrow build warning level: PRODUCTION\n",
            "  \u001b[31m   \u001b[0m -- Build Type: RELEASE\n",
            "  \u001b[31m   \u001b[0m -- CMAKE_C_FLAGS:  -Wall -Wno-unknown-warning-option -Wno-pass-failed -msse4.2  -Qunused-arguments -fcolor-diagnostics  -fno-omit-frame-pointer -Wno-unused-variable -Wno-maybe-uninitialized -Wno-parentheses-equality -Wno-constant-logical-operand -Wno-missing-declarations -Wno-sometimes-uninitialized -Wno-return-type-c-linkage\n",
            "  \u001b[31m   \u001b[0m -- CMAKE_CXX_FLAGS:  -fno-aligned-new  -Wall -Wno-unknown-warning-option -Wno-pass-failed -msse4.2  -Qunused-arguments -fcolor-diagnostics  -fno-omit-frame-pointer -Wno-unused-variable -Wno-maybe-uninitialized -Wno-parentheses-equality -Wno-constant-logical-operand -Wno-missing-declarations -Wno-sometimes-uninitialized -Wno-return-type-c-linkage\n",
            "  \u001b[31m   \u001b[0m -- Generator: Unix Makefiles\n",
            "  \u001b[31m   \u001b[0m -- Build output directory: /private/var/folders/00/6_k5gtjs44j43gmr99ht1d980000gn/T/pip-install-gn3jllil/pyarrow_ecd0d0fbd06f4c98963e9158805ea655/build/temp.macosx-10.9-x86_64-cpython-311/release\n",
            "  \u001b[31m   \u001b[0m -- Found Python3: /Users/sarahbouchet/anaconda3/bin/python (found version \"3.11.4\") found components: Interpreter Development.Module NumPy\n",
            "  \u001b[31m   \u001b[0m -- Found Python3Alt: /Users/sarahbouchet/anaconda3/bin/python\n",
            "  \u001b[31m   \u001b[0m -- Found NumPy version: 2.2.3\n",
            "  \u001b[31m   \u001b[0m -- NumPy include dir: /private/var/folders/00/6_k5gtjs44j43gmr99ht1d980000gn/T/pip-build-env-oefvu04r/overlay/lib/python3.11/site-packages/numpy/_core/include\n",
            "  \u001b[31m   \u001b[0m -- Found Cython version: 3.0.12\n",
            "  \u001b[31m   \u001b[0m -- Arrow version: 11.0.0\n",
            "  \u001b[31m   \u001b[0m -- Found the Arrow shared library: /Users/sarahbouchet/anaconda3/lib/libarrow.1100.0.0.dylib\n",
            "  \u001b[31m   \u001b[0m -- Found the Arrow import library: ARROW_IMPORT_LIB-NOTFOUND\n",
            "  \u001b[31m   \u001b[0m -- Found the Arrow static library:\n",
            "  \u001b[31m   \u001b[0m -- Building PyArrow with Dataset\n",
            "  \u001b[31m   \u001b[0m -- Parquet version: 11.0.0\n",
            "  \u001b[31m   \u001b[0m -- Found the Parquet shared library: /Users/sarahbouchet/anaconda3/lib/libparquet.1100.0.0.dylib\n",
            "  \u001b[31m   \u001b[0m -- Found the Parquet import library: PARQUET_IMPORT_LIB-NOTFOUND\n",
            "  \u001b[31m   \u001b[0m -- Found the Parquet static library:\n",
            "  \u001b[31m   \u001b[0m -- ArrowDataset version: 11.0.0\n",
            "  \u001b[31m   \u001b[0m -- Found the ArrowDataset shared library: /Users/sarahbouchet/anaconda3/lib/libarrow_dataset.1100.0.0.dylib\n",
            "  \u001b[31m   \u001b[0m -- Found the ArrowDataset import library: ARROW_DATASET_IMPORT_LIB-NOTFOUND\n",
            "  \u001b[31m   \u001b[0m -- Found the ArrowDataset static library:\n",
            "  \u001b[31m   \u001b[0m -- Building PyArrow with Acero\n",
            "  \u001b[31m   \u001b[0m \u001b[31mCMake Error at CMakeLists.txt:426 (message):\n",
            "  \u001b[31m   \u001b[0m   You must build Arrow C++ with ARROW_ACERO=ON\n",
            "  \u001b[31m   \u001b[0m \n",
            "  \u001b[31m   \u001b[0m \u001b[0m\n",
            "  \u001b[31m   \u001b[0m -- Configuring incomplete, errors occurred!\n",
            "  \u001b[31m   \u001b[0m error: command '/usr/local/bin/cmake' failed with exit code 1\n",
            "  \u001b[31m   \u001b[0m \u001b[31m[end of output]\u001b[0m\n",
            "  \n",
            "  \u001b[1;35mnote\u001b[0m: This error originates from a subprocess, and is likely not a problem with pip.\n",
            "\u001b[?25h\u001b[31m  ERROR: Failed building wheel for pyarrow\u001b[0m\u001b[31m\n",
            "\u001b[0mFailed to build pyarrow\n",
            "\u001b[31mERROR: Could not build wheels for pyarrow, which is required to install pyproject.toml-based projects\u001b[0m\u001b[31m\n",
            "\u001b[0m"
          ]
        }
      ],
      "source": [
        "\n"
      ]
    },
    {
      "cell_type": "markdown",
      "metadata": {},
      "source": [
        "These functions compute the representation of each word and the average representation of each word within a wholde tweet, to study the tweet-level vector semantics."
      ]
    },
    {
      "cell_type": "code",
      "execution_count": null,
      "metadata": {},
      "outputs": [],
      "source": [
        "def get_word_embeddings():\n",
        "  # Download and load a pre-trained Word2Vec model\n",
        "  nltk.download('punkt_tab')\n",
        "  model = api.load(\"word2vec-google-news-300\")\n",
        "  return model\n",
        "\n",
        "def get_tweet_word_embedding(doc, model):\n",
        "    def preprocess_text(text):\n",
        "      return word_tokenize(text.lower())\n",
        "\n",
        "    words = preprocess_text(doc)\n",
        "    word_vectors = []\n",
        "    for word in words:\n",
        "        if word in model:\n",
        "            word_vectors.append(model[word])\n",
        "\n",
        "    if len(word_vectors) == 0:\n",
        "        return np.zeros(model.vector_size)\n",
        "\n",
        "    document_embedding = np.mean(word_vectors, axis=0)\n",
        "    return document_embedding\n",
        "w2v_model = get_word_embeddings()\n",
        "\n",
        "# This function converts each tweet to a vector :\n",
        "\n",
        "tweet_embeddings = []\n",
        "\n",
        "# Iterate over the nodes of type 'Tweet'\n",
        "for tweet_node, tweet_data in graph.nodes(data=True):\n",
        "    if tweet_data.get(\"labels\") == \":Tweet\" and 'text' in tweet_data:  # Assuming 'text' key holds tweet content\n",
        "        tweet_text = tweet_data['text']  # Extract the text of the tweet\n",
        "        tweet_vector = get_tweet_word_embedding(tweet_text, w2v_model)  # Get the embedding\n",
        "        tweet_embeddings.append(tweet_vector)  # Append the vector representation\n",
        "\n",
        "# You now have `tweet_embeddings` which is a list of vectors representing the tweets\n",
        "\n",
        "# Now, let's convert them into a DataFrame or further processing\n",
        "tweet_embeddings_df = pd.DataFrame(tweet_embeddings)  # Create DataFrame for analysis\n",
        "\n",
        "\n",
        "# Perform t-SNE to reduce dimensions to 2D\n",
        "tsne_w2v = TSNE(perplexity=15, n_components=2, init='pca', n_iter=1000, random_state=42)\n",
        "w2v_2d = tsne_w2v.fit_transform(np.array(tweet_embeddings))  # Transpose to work with word vectors\n"
      ]
    },
    {
      "cell_type": "markdown",
      "metadata": {},
      "source": [
        "Visual representation just for two tweets (without the aggregation by Topic Event ==> a discuter) : "
      ]
    },
    {
      "cell_type": "code",
      "execution_count": null,
      "metadata": {},
      "outputs": [],
      "source": [
        "def plot_doc_points(q1, q2, vis_2d):\n",
        "    # Plot representation of each word\n",
        "    plt.figure(figsize=(12, 8))\n",
        "\n",
        "    # Access the first element of q1 (index 0)\n",
        "    x, y = vis_2d[q1[0], 0], vis_2d[q1[0], 1]\n",
        "    plt.scatter(x, y, color='blue', s=50)\n",
        "    plt.text(x + 0.1, y + 0.1, \"doc1\", fontsize=10) # Change label to \"doc1\"\n",
        "\n",
        "    x, y = vis_2d[q2[0], 0], vis_2d[q2[0], 1]  # Access the first element of q2 (index 0)\n",
        "    plt.scatter(x, y, color='red', s=50)\n",
        "    plt.text(x + 0.1, y + 0.1, \"doc2\", fontsize=10) # Change label to \"doc2\"\n",
        "\n",
        "\n",
        "    plt.title(\"Documents Representations\", fontsize=14)\n",
        "    plt.xlabel(\"t-SNE X\", fontsize=12)\n",
        "    plt.ylabel(\"t-SNE Y\", fontsize=12)\n",
        "    plt.grid(True)\n",
        "    plt.show()\n",
        "\n",
        "#we are plotting tweet at index 0 and tweet at index 20\n",
        "q1 = 0\n",
        "q2 = 20\n",
        "\n",
        "plot_doc_points([q1], [q2], w2v_2d)"
      ]
    },
    {
      "cell_type": "markdown",
      "metadata": {},
      "source": [
        "To be more precise, we can directly group the tweets given the event type they talk about, and apply the same methodology on the tweet group. The visualisation will be at the event type scale now."
      ]
    },
    {
      "cell_type": "code",
      "execution_count": null,
      "metadata": {},
      "outputs": [],
      "source": [
        "# creation of the data : \n",
        "event_types = []\n",
        "\n",
        "for tweet_node, tweet_data in graph.nodes(data=True):\n",
        "    if tweet_data.get(\"labels\") == \":Tweet\" and 'eventType' in tweet_data:\n",
        "        event_type = tweet_data['eventType']  # Récupérer uniquement le type d'événement\n",
        "        event_types.append(event_type)\n",
        "\n",
        "event_types_df = pd.DataFrame({'eventType': event_types})\n",
        "event_types_df.head()\n",
        "\n",
        "len(event_types_df)\n",
        "\n",
        "len(tweet_embeddings_df)\n",
        "tweet_embeddings_df = pd.DataFrame(tweet_embeddings)\n",
        "tweet_embeddings_df['eventType'] = event_types\n",
        "\n",
        "tweet_embeddings_df.head()"
      ]
    },
    {
      "cell_type": "code",
      "execution_count": null,
      "metadata": {},
      "outputs": [],
      "source": [
        "### Visualisation by Event type (si on aggrége avant)\n",
        "w2v_2d_df = pd.DataFrame(w2v_2d)\n",
        "w2v_2d_df['eventType'] = event_types\n",
        "\n",
        "w2v_2d_df.head()\n",
        "\n",
        "# Créer un DataFrame avec les coordonnées 2D et les types d'événements\n",
        "w2v_2d_df = pd.DataFrame(w2v_2d, columns=[\"x\", \"y\"])\n",
        "w2v_2d_df[\"eventType\"] = event_types\n",
        "\n",
        "# Création du widget de filtrage\n",
        "event_filter = pn.widgets.Select(name=\"Event Type\", options=list(w2v_2d_df[\"eventType\"].unique()))\n",
        "\n",
        "# Fonction de mise à jour du graphique\n",
        "@pn.depends(event_filter)\n",
        "def update_plot(eventType):\n",
        "    filtered_df = w2v_2d_df[w2v_2d_df[\"eventType\"] == eventType]\n",
        "    return filtered_df.hvplot.scatter(\n",
        "        x=\"x\", y=\"y\",\n",
        "        title=f\"Tweet Embeddings pour {eventType}\",\n",
        "        xlabel=\"t-SNE X\", ylabel=\"t-SNE Y\",\n",
        "        size=50, hover_cols=[\"eventType\"], color=\"blue\"\n",
        "    )\n",
        "\n",
        "# Création du dashboard interactif\n",
        "dashboard = pn.Column(event_filter, update_plot)\n",
        "\n",
        "# Affichage interactif dans le notebook avec .servable() pour que le panel soit rendu correctement\n",
        "dashboard.servable()\n"
      ]
    },
    {
      "cell_type": "code",
      "execution_count": null,
      "metadata": {},
      "outputs": [],
      "source": []
    }
  ],
  "metadata": {
    "colab": {
      "provenance": []
    },
    "kernelspec": {
      "display_name": "base",
      "language": "python",
      "name": "python3"
    },
    "language_info": {
      "codemirror_mode": {
        "name": "ipython",
        "version": 3
      },
      "file_extension": ".py",
      "mimetype": "text/x-python",
      "name": "python",
      "nbconvert_exporter": "python",
      "pygments_lexer": "ipython3",
      "version": "3.11.4"
    }
  },
  "nbformat": 4,
  "nbformat_minor": 0
}
