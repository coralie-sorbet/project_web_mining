{
 "cells": [
  {
   "cell_type": "code",
   "execution_count": 2,
   "metadata": {},
   "outputs": [],
   "source": [
    "%matplotlib inline\n",
    "\n",
    "import networkx as nx\n",
    "from networkx.algorithms import community\n",
    "import pandas as pd\n",
    "import seaborn as sns\n",
    "from scipy import stats\n",
    "import matplotlib.pyplot as plt"
   ]
  },
  {
   "cell_type": "code",
   "execution_count": 3,
   "metadata": {},
   "outputs": [],
   "source": [
    "# !pip install gensim\n",
    "# !pip install datasets\n",
    "# !pip install scikit-learn matplotlib\n",
    "# !pip install transformers torch\n",
    "# !pip install nltk"
   ]
  },
  {
   "cell_type": "code",
   "execution_count": 1,
   "metadata": {},
   "outputs": [],
   "source": [
    "import nltk\n",
    "from nltk.tokenize import sent_tokenize\n",
    "from sklearn.manifold import TSNE\n",
    "import gensim.downloader as api\n",
    "import datasets\n",
    "from nltk.tokenize import word_tokenize\n",
    "import numpy as np"
   ]
  },
  {
   "cell_type": "code",
   "execution_count": 4,
   "metadata": {},
   "outputs": [],
   "source": [
    "graph = nx.read_graphml(\"database\\Everything\\database_formated_for_NetworkX.graphml\")"
   ]
  },
  {
   "cell_type": "code",
   "execution_count": 5,
   "metadata": {},
   "outputs": [
    {
     "name": "stdout",
     "output_type": "stream",
     "text": [
      "Number of nodes: 109627\n",
      "Number of edges: 311654\n",
      "Nodes: [('n0', {'labels': ':Event', 'id': 'fireColorado2012', 'trecisid': 'TRECIS-CTIT-H-001', 'eventType': 'wildfire'}), ('n1', {'labels': ':Event', 'id': 'costaRicaEarthquake2012', 'trecisid': 'TRECIS-CTIT-H-002', 'eventType': 'earthquake'}), ('n2', {'labels': ':Event', 'id': 'floodColorado2013', 'eventType': 'flood', 'trecisid': 'TRECIS-CTIT-H-003'}), ('n3', {'labels': ':Event', 'id': 'typhoonPablo2012', 'trecisid': 'TRECIS-CTIT-H-004', 'eventType': 'typhoon'}), ('n4', {'labels': ':Event', 'id': 'laAirportShooting2013', 'trecisid': 'TRECIS-CTIT-H-005', 'eventType': 'shooting'})]\n",
      "Edges: [('n582', 'n0', {'label': 'IS_ABOUT'}), ('n582', 'n99813', {'label': 'HAS_HASHTAG'}), ('n582', 'n100609', {'label': 'HAS_HASHTAG'}), ('n582', 'n562', {'label': 'HAS_CATEGORY'}), ('n583', 'n0', {'label': 'IS_ABOUT'})]\n"
     ]
    }
   ],
   "source": [
    "print(f\"Number of nodes: {graph.number_of_nodes()}\")\n",
    "print(f\"Number of edges: {graph.number_of_edges()}\")\n",
    "\n",
    "# Print some nodes with attributes\n",
    "print(\"Nodes:\", list(graph.nodes(data=True))[:5])  # Show first 5 nodes\n",
    "\n",
    "# Print some edges with attributes\n",
    "print(\"Edges:\", list(graph.edges(data=True))[:5])  # Show first 5 edges\n"
   ]
  },
  {
   "cell_type": "code",
   "execution_count": 6,
   "metadata": {},
   "outputs": [
    {
     "name": "stdout",
     "output_type": "stream",
     "text": [
      "Sample Tweets: ['#colorado. Told you its #amazing http://t.co/6z0Qq7qe', 'RT @northfortynews: Tanker helicopter heads up to Paradise Park to drop water on #HighParkFire. http://t.co/7atRS5cy', '#Evacuation center Cache La Poudre Middle School 3515 West County Road 54G in Laporte. #Colorado #Wildfire', \"20F degrees cooler tomorrow in North Central &amp; Northeastern #Colorado. Highs in the mid and upper 70'S. #HighParkFire #COwx #Heat #Coolbreak\", 'FEMA has authorized the use of federal funds to help with firefighting costs for the #HighParkFire. http://t.co/whxlpPEP']\n"
     ]
    }
   ],
   "source": [
    "# Extract tweet texts from nodes (assuming 'text' is the attribute storing the tweet)\n",
    "tweets = [data['text'] for _, data in graph.nodes(data=True) if 'text' in data]\n",
    "\n",
    "# Display some extracted tweets\n",
    "print(\"Sample Tweets:\", tweets[:5])"
   ]
  },
  {
   "cell_type": "markdown",
   "metadata": {},
   "source": [
    "##  Word-embeddings (dense vector semantics)\n",
    "\n",
    "We use word-embeddings to perform opinion mining, following a similar pipeline as before but with modifications to steps ``b) and c)``.\n",
    "\n",
    "\n",
    "**Step b) Compute Positive and Negative Barycenters**\n",
    "\n",
    "Instead of computing sentiment scores for each word, we calculate a ``positive`` ($b^{+}$) and a ``negative`` ($b^{-}$) barycenters using the SentiWordnet lexicon:\n",
    "\n",
    "1. Retrieve all available synsets from SentiWordNet using the ``all_senti_synsets`` function\n",
    "2. For each synset, compute its positive and negative scores to classify it as either positive or negative.\n",
    "3. Retrieve the word embedding for the synset's associated word.\n",
    "4. Maintain two separate lists of word embeddings: one for positive words and one for negative words.\n",
    "5.  Compute the positive and negative [barycenters](https://fr.wikipedia.org/wiki/Barycentre) ($b^{+}$, $b^{-}$) as the weighted averages (sentiment score) of their respective word embeddings.\n",
    "\n",
    "**Step c) Aggregate Scores**\n",
    "\n",
    "To determine the opinion of a sentence:\n",
    "\n",
    "1. Compute a vector semantic $v(sentence)$ for the sentence as in the previous PW.\n",
    "2. Compute two distances, a positive distance, $d^{+}_{sentence} = dist(v(sentence), b^{+})$, and a negative distance, $d^{-}_{sentence} = dist(v(sentence), b^{-})$.\n",
    "3. Then, the sentence is positive if $d^{+} \\lt d^{-}$, or negative otherwise.\n",
    "\n",
    "This method uses the barycenters to establish a reference for positive and negative sentiments, allowing us to assess the sentence's sentiment based on its proximity to these references.\n"
   ]
  },
  {
   "cell_type": "markdown",
   "metadata": {},
   "source": [
    "---\n",
    "\n",
    "# **📌 Steps in Word Embedding Analysis**\n",
    "1️⃣ Extract tweet texts from the graph.  \n",
    "2️⃣ Clean and preprocess the text.  \n",
    "3️⃣ Train or load a word embedding model (Word2Vec, GloVe, BERT, etc.).  \n",
    "4️⃣ Visualize and analyze the embeddings.  \n",
    "\n",
    "---\n",
    "\n",
    "# **✅ 1️⃣ Extract Tweet Texts from the Graph**\n",
    "Since the dataset is structured as a **graph**, each **tweet** is a **node**. We need to:\n",
    "- Identify **nodes representing tweets**.\n",
    "- Extract the **text** associated with each tweet.\n",
    "\n",
    "\n",
    "---\n",
    "\n",
    "# **✅ 2️⃣ Preprocess the Text Data**\n",
    "Before applying embeddings, we need to **clean** the tweets:\n",
    "- Remove URLs, mentions (@user), hashtags, and punctuation.\n",
    "- Convert to lowercase.\n",
    "- Remove stopwords.\n",
    "- Apply **tokenization** and **lemmatization**.\n",
    "\n",
    "\n",
    "# **✅ 3️⃣ Train or Use Word Embeddings**\n",
    "\n",
    "---\n",
    "\n",
    "# **✅ 4️⃣ Visualizing the Embeddings**\n",
    "### **Reduce Dimensionality (PCA or t-SNE)**\n",
    "\n",
    "\n"
   ]
  },
  {
   "cell_type": "code",
   "execution_count": 7,
   "metadata": {},
   "outputs": [
    {
     "name": "stderr",
     "output_type": "stream",
     "text": [
      "[nltk_data] Downloading package punkt_tab to\n",
      "[nltk_data]     C:\\Users\\coral\\AppData\\Roaming\\nltk_data...\n",
      "[nltk_data]   Unzipping tokenizers\\punkt_tab.zip.\n"
     ]
    },
    {
     "data": {
      "text/plain": [
       "True"
      ]
     },
     "execution_count": 7,
     "metadata": {},
     "output_type": "execute_result"
    }
   ],
   "source": [
    "nltk.download('punkt_tab')"
   ]
  },
  {
   "cell_type": "code",
   "execution_count": 10,
   "metadata": {},
   "outputs": [
    {
     "name": "stderr",
     "output_type": "stream",
     "text": [
      "[nltk_data] Downloading package stopwords to\n",
      "[nltk_data]     C:\\Users\\coral\\AppData\\Roaming\\nltk_data...\n",
      "[nltk_data]   Package stopwords is already up-to-date!\n",
      "[nltk_data] Downloading package punkt to\n",
      "[nltk_data]     C:\\Users\\coral\\AppData\\Roaming\\nltk_data...\n",
      "[nltk_data]   Package punkt is already up-to-date!\n",
      "[nltk_data] Downloading package wordnet to\n",
      "[nltk_data]     C:\\Users\\coral\\AppData\\Roaming\\nltk_data...\n",
      "[nltk_data]   Package wordnet is already up-to-date!\n"
     ]
    },
    {
     "name": "stdout",
     "output_type": "stream",
     "text": [
      "Cleaned Tweets: ['told', 'rt tanker helicopter head paradise park drop water', 'center cache la poudre middle school west county road g laporte', 'f degree cooler tomorrow north central amp northeastern high mid upper', 'fema authorized use federal fund help firefighting cost']\n"
     ]
    }
   ],
   "source": [
    "#Data preprocessing\n",
    "import re\n",
    "import nltk\n",
    "from nltk.corpus import stopwords\n",
    "from nltk.tokenize import word_tokenize\n",
    "from nltk.stem import WordNetLemmatizer\n",
    "\n",
    "# Download necessary NLTK resources\n",
    "nltk.download('stopwords')\n",
    "nltk.download('punkt')\n",
    "nltk.download('wordnet')\n",
    "\n",
    "# Initialize lemmatizer and stopwords\n",
    "lemmatizer = WordNetLemmatizer()\n",
    "stop_words = set(stopwords.words(\"english\"))\n",
    "\n",
    "def clean_tweet(tweet):\n",
    "    tweet = re.sub(r\"http\\S+|www\\S+\", '', tweet)  # Remove URLs\n",
    "    tweet = re.sub(r'@\\w+|#\\w+', '', tweet)  # Remove mentions and hashtags\n",
    "    tweet = re.sub(r'[^a-zA-Z\\s]', '', tweet)  # Remove punctuation and numbers\n",
    "    tweet = tweet.lower()  # Convert to lowercase\n",
    "    tokens = word_tokenize(tweet)  # Tokenize\n",
    "    tokens = [lemmatizer.lemmatize(word) for word in tokens if word not in stop_words]  # Lemmatize & remove stopwords\n",
    "    return \" \".join(tokens)\n",
    "\n",
    "# Apply cleaning to all tweets\n",
    "cleaned_tweets = [clean_tweet(tweet) for tweet in tweets]\n",
    "\n",
    "# Display some cleaned tweets\n",
    "print(\"Cleaned Tweets:\", cleaned_tweets[:5])"
   ]
  },
  {
   "cell_type": "markdown",
   "metadata": {},
   "source": [
    "✅ 3️⃣ Train or Use Word Embeddings"
   ]
  },
  {
   "cell_type": "code",
   "execution_count": null,
   "metadata": {},
   "outputs": [
    {
     "name": "stdout",
     "output_type": "stream",
     "text": [
      "[('wildfire', 0.8293876647949219), ('crushing', 0.779681921005249), ('spring', 0.7335232496261597), ('boulder', 0.7315326929092407), ('lake', 0.7304045557975769), ('collins', 0.7211542725563049), ('road', 0.711025059223175), ('confidence', 0.7072490453720093), ('tansey', 0.7036121487617493), ('pike', 0.6967212557792664)]\n"
     ]
    }
   ],
   "source": [
    "#Option 1: Train Word2Vec on the Tweets\n",
    "from gensim.models import Word2Vec\n",
    "\n",
    "# Tokenize tweets (split into words)\n",
    "tokenized_tweets = [tweet.split() for tweet in cleaned_tweets]\n",
    "\n",
    "# Train Word2Vec model\n",
    "word2vec_model = Word2Vec(sentences=tokenized_tweets, vector_size=100, window=5, min_count=2, workers=4)\n",
    "\n",
    "# Example: Find words similar to \"fire\"\n",
    "print(word2vec_model.wv.most_similar(\"fire\"))\n"
   ]
  },
  {
   "cell_type": "code",
   "execution_count": 12,
   "metadata": {},
   "outputs": [
    {
     "name": "stdout",
     "output_type": "stream",
     "text": [
      "[==================================================] 100.0% 128.1/128.1MB downloaded\n",
      "[('quake', 0.9480070471763611), ('tsunami', 0.8075350522994995), ('temblor', 0.790282666683197), ('magnitude', 0.7707369327545166), ('earthquakes', 0.7257688641548157), ('disaster', 0.7229210138320923), ('aftershock', 0.7178043127059937), ('tremor', 0.7131491303443909), ('tsunamis', 0.7090720534324646), ('quakes', 0.7071856260299683)]\n"
     ]
    }
   ],
   "source": [
    "#Option 2: Use Pretrained GloVe Embeddings\n",
    "import gensim.downloader as api\n",
    "\n",
    "# Load pre-trained GloVe vectors (100D)\n",
    "glove_model = api.load(\"glove-wiki-gigaword-100\")\n",
    "\n",
    "# Example: Find similar words to \"earthquake\"\n",
    "print(glove_model.most_similar(\"earthquake\"))\n"
   ]
  },
  {
   "cell_type": "markdown",
   "metadata": {},
   "source": [
    "✅ 4️⃣ Visualizing the Embeddings\n",
    "Reduce Dimensionality (PCA or t-SNE)"
   ]
  },
  {
   "cell_type": "code",
   "execution_count": 17,
   "metadata": {},
   "outputs": [
    {
     "data": {
      "image/png": "[encoded data removed]",
      "text/plain": [
       "<Figure size 640x480 with 1 Axes>"
      ]
     },
     "metadata": {},
     "output_type": "display_data"
    }
   ],
   "source": [
    "from sklearn.decomposition import PCA\n",
    "import matplotlib.pyplot as plt\n",
    "\n",
    "# Reduce dimensions of word embeddings\n",
    "words = [\"fire\", \"earthquake\", \"flood\", \"help\", \"evacuation\",'typhoon', 'shooting', 'wildfire', 'bombing', 'earthquake', 'flood']\n",
    "word_vectors = [word2vec_model.wv[word] for word in words]\n",
    "\n",
    "pca = PCA(n_components=2)\n",
    "word_vectors_pca = pca.fit_transform(word_vectors)\n",
    "\n",
    "plt.scatter(word_vectors_pca[:, 0], word_vectors_pca[:, 1])\n",
    "for i, word in enumerate(words):\n",
    "    plt.annotate(word, (word_vectors_pca[i, 0], word_vectors_pca[i, 1]))\n",
    "plt.title(\"Word Embeddings Visualization (PCA)\")\n",
    "plt.show()\n"
   ]
  },
  {
   "cell_type": "markdown",
   "metadata": {},
   "source": [
    "✅ 5️⃣ Applying Embeddings to Your Project"
   ]
  },
  {
   "cell_type": "code",
   "execution_count": 15,
   "metadata": {},
   "outputs": [
    {
     "name": "stdout",
     "output_type": "stream",
     "text": [
      "Tweet Clusters: [2 0 4 3 1]\n"
     ]
    }
   ],
   "source": [
    "from sklearn.cluster import KMeans\n",
    "#Clustering Tweets Based on Meaning\n",
    "# Cluster tweets using their embeddings\n",
    "num_clusters = 5\n",
    "kmeans = KMeans(n_clusters=num_clusters, random_state=42)\n",
    "tweet_clusters = kmeans.fit_predict(word_vectors)\n",
    "\n",
    "# Print cluster assignments for the first 5 tweets\n",
    "print(\"Tweet Clusters:\", tweet_clusters[:5])\n"
   ]
  },
  {
   "cell_type": "code",
   "execution_count": 16,
   "metadata": {},
   "outputs": [
    {
     "name": "stdout",
     "output_type": "stream",
     "text": [
      "Tweet: told\n",
      "Most Similar Tweet: fema authorized use federal fund help firefighting cost\n"
     ]
    }
   ],
   "source": [
    "#Finding Similar Tweets for Search\n",
    "from sklearn.metrics.pairwise import cosine_similarity\n",
    "\n",
    "# Compute similarity between tweets\n",
    "similarity_matrix = cosine_similarity(word_vectors)\n",
    "\n",
    "# Find most similar tweet to tweet 0\n",
    "most_similar_idx = similarity_matrix[0].argsort()[-2]  # Exclude itself\n",
    "print(\"Tweet:\", cleaned_tweets[0])\n",
    "print(\"Most Similar Tweet:\", cleaned_tweets[most_similar_idx])\n"
   ]
  }
 ],
 "metadata": {
  "kernelspec": {
   "display_name": "python_M2",
   "language": "python",
   "name": "python3"
  },
  "language_info": {
   "codemirror_mode": {
    "name": "ipython",
    "version": 3
   },
   "file_extension": ".py",
   "mimetype": "text/x-python",
   "name": "python",
   "nbconvert_exporter": "python",
   "pygments_lexer": "ipython3",
   "version": "3.10.14"
  }
 },
 "nbformat": 4,
 "nbformat_minor": 2
}
